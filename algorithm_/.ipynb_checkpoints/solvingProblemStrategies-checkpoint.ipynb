{
 "cells": [
  {
   "cell_type": "markdown",
   "metadata": {},
   "source": [
    "# 원칙: 15분 보면 해답을 보자"
   ]
  },
  {
   "cell_type": "markdown",
   "metadata": {},
   "source": [
    "## 록페스티벌. FESTIVAL\n",
    "p7. 180321_20:25"
   ]
  },
  {
   "cell_type": "code",
   "execution_count": 8,
   "metadata": {
    "collapsed": true
   },
   "outputs": [],
   "source": [
    "n= 6\n",
    "L= 3\n",
    "cost= '1 2 3 1 2 3'\n",
    "cost= list(map(int, cost.split(' ')))"
   ]
  },
  {
   "cell_type": "code",
   "execution_count": 9,
   "metadata": {},
   "outputs": [
    {
     "data": {
      "text/plain": [
       "[1, 2, 3, 1, 2, 3]"
      ]
     },
     "execution_count": 9,
     "metadata": {},
     "output_type": "execute_result"
    }
   ],
   "source": [
    "cost"
   ]
  },
  {
   "cell_type": "code",
   "execution_count": 26,
   "metadata": {},
   "outputs": [
    {
     "name": "stdout",
     "output_type": "stream",
     "text": [
      "6\n",
      "9\n",
      "12\n"
     ]
    },
    {
     "data": {
      "text/plain": [
       "12"
      ]
     },
     "execution_count": 26,
     "metadata": {},
     "output_type": "execute_result"
    }
   ],
   "source": [
    "# for j in range(n-L):\n",
    "#     s= 0\n",
    "#     for i,cnt in zip(cost,range(n)):\n",
    "#         s+= i+j\n",
    "#         if cnt==L-1:\n",
    "#             print(s)\n",
    "#             break\n",
    "# s"
   ]
  },
  {
   "cell_type": "code",
   "execution_count": 29,
   "metadata": {},
   "outputs": [
    {
     "name": "stdout",
     "output_type": "stream",
     "text": [
      "0123\n",
      "0123\n",
      "0123\n"
     ]
    }
   ],
   "source": [
    "# for _ in range(L):\n",
    "#     for i in range(n-L+1):\n",
    "#         print(i,end=\"\")\n",
    "#         for j in range()\n",
    "#     print()"
   ]
  },
  {
   "cell_type": "code",
   "execution_count": 33,
   "metadata": {},
   "outputs": [
    {
     "data": {
      "text/plain": [
       "[1, 2, 3, 1, 2, 3]"
      ]
     },
     "execution_count": 33,
     "metadata": {},
     "output_type": "execute_result"
    }
   ],
   "source": [
    "cost"
   ]
  },
  {
   "cell_type": "code",
   "execution_count": 45,
   "metadata": {},
   "outputs": [
    {
     "name": "stdout",
     "output_type": "stream",
     "text": [
      "0\n",
      "i+j 0 j 0\n",
      "i+j 1 j 1\n",
      "i+j 2 j 2\n",
      "s: [6, 0, 0, 0]\n",
      "1\n",
      "i+j 1 j 0\n",
      "i+j 2 j 1\n",
      "i+j 3 j 2\n",
      "s: [6, 6, 0, 0]\n",
      "2\n",
      "i+j 2 j 0\n",
      "i+j 3 j 1\n",
      "i+j 4 j 2\n",
      "s: [6, 6, 6, 0]\n",
      "3\n",
      "i+j 3 j 0\n",
      "i+j 4 j 1\n",
      "i+j 5 j 2\n",
      "s: [6, 6, 6, 6]\n"
     ]
    },
    {
     "data": {
      "text/plain": [
       "6"
      ]
     },
     "execution_count": 45,
     "metadata": {},
     "output_type": "execute_result"
    }
   ],
   "source": [
    "s=[0 for _ in range(n-L+1)]\n",
    "for i in range(n-L+1):\n",
    "    print(i)\n",
    "    for j in range(L):\n",
    "        print('i+j',i+j,'j',j)\n",
    "        s[i]+= cost[i+j]\n",
    "    print('s:',s)\n",
    "\n",
    "min(s)"
   ]
  },
  {
   "cell_type": "code",
   "execution_count": 11,
   "metadata": {
    "collapsed": true
   },
   "outputs": [],
   "source": [
    "def cost_min(n,L,cost):\n",
    "    cost= list(map(int, cost.split(' ')))\n",
    "    s=[0 for _ in range(n-L+1)]\n",
    "    for i in range(n-L+1):\n",
    "        #print(i)\n",
    "        for j in range(L):\n",
    "            #print('i+j',i+j,'j',j)\n",
    "            s[i]+= cost[i+j]\n",
    "        #print('s:',s)\n",
    "    return min(s)/L"
   ]
  },
  {
   "cell_type": "code",
   "execution_count": 12,
   "metadata": {},
   "outputs": [
    {
     "data": {
      "text/plain": [
       "2.0"
      ]
     },
     "execution_count": 12,
     "metadata": {},
     "output_type": "execute_result"
    }
   ],
   "source": [
    "n= 6\n",
    "L= 3\n",
    "cost= '1 2 3 1 2 3'\n",
    "\n",
    "cost_min(n,L,cost)"
   ]
  },
  {
   "cell_type": "code",
   "execution_count": 3,
   "metadata": {},
   "outputs": [
    {
     "data": {
      "text/plain": [
       "0.5"
      ]
     },
     "execution_count": 3,
     "metadata": {},
     "output_type": "execute_result"
    }
   ],
   "source": [
    "n= 6; L=2\n",
    "cost= '1 2 3 1 2 3'\n",
    "\n",
    "cost_min(n,L,cost)"
   ]
  },
  {
   "cell_type": "code",
   "execution_count": 3,
   "metadata": {},
   "outputs": [
    {
     "data": {
      "text/plain": [
       "2.0"
      ]
     },
     "execution_count": 3,
     "metadata": {},
     "output_type": "execute_result"
    }
   ],
   "source": [
    "n=7; L=5\n",
    "cost= '4 5 6 1 2 3 2'\n",
    "\n",
    "cost_min(n,L,cost)"
   ]
  },
  {
   "cell_type": "code",
   "execution_count": 19,
   "metadata": {},
   "outputs": [
    {
     "name": "stdout",
     "output_type": "stream",
     "text": [
      "2\n",
      "6 3\n",
      "1 2 3 1 2 3\n"
     ]
    },
    {
     "data": {
      "text/plain": [
       "2.0"
      ]
     },
     "execution_count": 19,
     "metadata": {},
     "output_type": "execute_result"
    }
   ],
   "source": [
    "# n, L= '6 3'\n",
    "# cost= '1 2 3 1 2 3'\n",
    "C= int(input())\n",
    "n, L=input().split(' ')\n",
    "n= int(n)\n",
    "L= int(L)\n",
    "cost= input()\n",
    "\n",
    "cost_min(n,L,cost)"
   ]
  },
  {
   "cell_type": "markdown",
   "metadata": {},
   "source": [
    "#### 인자 하나 더 있음! 테스트 케이스 수 C"
   ]
  },
  {
   "cell_type": "code",
   "execution_count": 4,
   "metadata": {},
   "outputs": [],
   "source": [
    "C= 1\n",
    "\n",
    "for _ in range(C):\n",
    "    cost_min(n,L,cost)"
   ]
  },
  {
   "cell_type": "markdown",
   "metadata": {},
   "source": [
    "## 문제 2개\n",
    "1. 문제 이해를 잘 못함. 섭외팀이 L=3 개라고 3일만 빌리지는 X\n",
    "2. 입력값 처리 방법??"
   ]
  },
  {
   "cell_type": "markdown",
   "metadata": {},
   "source": [
    "#### for문이 너무 많아진다. array로 해결할 방법?\n",
    "list엔 뭐 없더라"
   ]
  },
  {
   "cell_type": "code",
   "execution_count": 43,
   "metadata": {
    "collapsed": true
   },
   "outputs": [],
   "source": [
    "import numpy as np"
   ]
  },
  {
   "cell_type": "code",
   "execution_count": 59,
   "metadata": {},
   "outputs": [
    {
     "data": {
      "text/plain": [
       "array([1, 2, 3, 1, 2, 3])"
      ]
     },
     "execution_count": 59,
     "metadata": {},
     "output_type": "execute_result"
    }
   ],
   "source": [
    "a= '1 2 3 1 2 3'\n",
    "a= np.array(list(map(int,a.split(' '))))\n",
    "a"
   ]
  },
  {
   "cell_type": "code",
   "execution_count": 60,
   "metadata": {},
   "outputs": [
    {
     "data": {
      "text/plain": [
       "2.0"
      ]
     },
     "execution_count": 60,
     "metadata": {},
     "output_type": "execute_result"
    }
   ],
   "source": [
    "i= 0\n",
    "a[i:len(a)].mean()"
   ]
  },
  {
   "cell_type": "code",
   "execution_count": 61,
   "metadata": {},
   "outputs": [
    {
     "name": "stdout",
     "output_type": "stream",
     "text": [
      "[1 2 3 1 2 3]\n",
      "2.0\n",
      "[2 3 1 2 3]\n",
      "2.2\n",
      "[3 1 2 3]\n",
      "2.25\n",
      "[1 2 3]\n",
      "2.0\n"
     ]
    }
   ],
   "source": [
    "n= 6\n",
    "L= 3\n",
    "for i in range(n-L+1):\n",
    "    print(a[i:len(a)])\n",
    "    print(a[i:len(a)].mean())"
   ]
  },
  {
   "cell_type": "code",
   "execution_count": null,
   "metadata": {
    "collapsed": true
   },
   "outputs": [],
   "source": []
  }
 ],
 "metadata": {
  "kernelspec": {
   "display_name": "Python 3",
   "language": "python",
   "name": "python3"
  },
  "language_info": {
   "codemirror_mode": {
    "name": "ipython",
    "version": 3
   },
   "file_extension": ".py",
   "mimetype": "text/x-python",
   "name": "python",
   "nbconvert_exporter": "python",
   "pygments_lexer": "ipython3",
   "version": "3.6.3"
  }
 },
 "nbformat": 4,
 "nbformat_minor": 2
}
