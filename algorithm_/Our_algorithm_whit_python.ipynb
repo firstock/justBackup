{
 "cells": [
  {
   "cell_type": "markdown",
   "metadata": {},
   "source": [
    "## 모두의 알고리즘 with 파이썬"
   ]
  },
  {
   "cell_type": "markdown",
   "metadata": {},
   "source": [
    "##### 선택 정렬 알고리즘- 일반적\n",
    "O - - - -, _ O - - -, _ _ O - - 찾으면서 해당위치값이랑 최솟값 위치 바꿈"
   ]
  },
  {
   "cell_type": "code",
   "execution_count": 4,
   "metadata": {},
   "outputs": [
    {
     "data": {
      "text/plain": [
       "[5, 4, 3, 2, 1]"
      ]
     },
     "execution_count": 4,
     "metadata": {},
     "output_type": "execute_result"
    }
   ],
   "source": [
    "li= [3,2,5,1,4]\n",
    "cnt_li= len(li)\n",
    "\n",
    "for i in range(0, cnt_li-1):\n",
    "    for j in range(i+1, cnt_li):\n",
    "        if li[i] < li[j]:\n",
    "            li[i], li[j]= li[j], li[i]\n",
    "\n",
    "li"
   ]
  },
  {
   "cell_type": "code",
   "execution_count": 5,
   "metadata": {},
   "outputs": [
    {
     "data": {
      "text/plain": [
       "[1, 2, 3, 4, 5]"
      ]
     },
     "execution_count": 5,
     "metadata": {},
     "output_type": "execute_result"
    }
   ],
   "source": [
    "li= [3,2,5,1,4]\n",
    "cnt_li= len(li)\n",
    "\n",
    "for i in range(0, cnt_li-1):\n",
    "    for j in range(i+1, cnt_li):\n",
    "        if li[i] > li[j]:\n",
    "            li[i], li[j]= li[j], li[i]\n",
    "\n",
    "li"
   ]
  },
  {
   "cell_type": "code",
   "execution_count": 7,
   "metadata": {},
   "outputs": [
    {
     "data": {
      "text/plain": [
       "[1, 9, 10, 14, 15, 19, 20, 21, 23, 27]"
      ]
     },
     "execution_count": 7,
     "metadata": {},
     "output_type": "execute_result"
    }
   ],
   "source": [
    "import random\n",
    "\n",
    "li= random.sample(range(1,30),10)\n",
    "cnt_li= len(li)\n",
    "\n",
    "for i in range(0, cnt_li-1):\n",
    "    for j in range(i+1, cnt_li):\n",
    "        if li[i] > li[j]:\n",
    "            li[i], li[j]= li[j], li[i]\n",
    "\n",
    "li"
   ]
  },
  {
   "cell_type": "code",
   "execution_count": null,
   "metadata": {
    "collapsed": true
   },
   "outputs": [],
   "source": []
  },
  {
   "cell_type": "code",
   "execution_count": 9,
   "metadata": {
    "collapsed": true
   },
   "outputs": [],
   "source": [
    "def selectSort1(list1):\n",
    "    cnt_li= len(list1)\n",
    "\n",
    "    for i in range(0, cnt_li-1):\n",
    "        for j in range(i+1, cnt_li):\n",
    "            if list1[i] > list1[j]:\n",
    "                list1[i], list1[j]= list1[j], list1[i]\n",
    "    return(list1)"
   ]
  },
  {
   "cell_type": "code",
   "execution_count": 10,
   "metadata": {},
   "outputs": [
    {
     "data": {
      "text/plain": [
       "[3, 4, 7, 8, 11, 12, 14, 21, 24, 28]"
      ]
     },
     "execution_count": 10,
     "metadata": {},
     "output_type": "execute_result"
    }
   ],
   "source": [
    "import random\n",
    "li= random.sample(range(1,30),10)\n",
    "\n",
    "selectSort1(li)"
   ]
  },
  {
   "cell_type": "code",
   "execution_count": null,
   "metadata": {
    "collapsed": true
   },
   "outputs": [],
   "source": []
  },
  {
   "cell_type": "markdown",
   "metadata": {
    "collapsed": true
   },
   "source": [
    "##### 삽입정렬- 일반적\n",
    "머리가 달려서 이해가 안 되면 일단 치고, print 끼워넣어서 보자"
   ]
  },
  {
   "cell_type": "code",
   "execution_count": 15,
   "metadata": {},
   "outputs": [],
   "source": [
    "def ins_sort(a):\n",
    "    n= len(a)\n",
    "    for i in range(1,n):\n",
    "        key= a[i]\n",
    "        j= i-1\n",
    "        print(\"i_wb:\",i,\"j_wb:\",j)\n",
    "        while j>= 0 and a[j]> key:\n",
    "            print(\"i_wi:\",i,\"j_wi:\",j)\n",
    "            a[j+1]= a[j]\n",
    "            j-= 1\n",
    "            print(\"i_wE:\",i,\"j_wE:\",j)\n",
    "        a[j+1]= key\n",
    "        print(\"key\",key,\", a:\",a)"
   ]
  },
  {
   "cell_type": "code",
   "execution_count": 16,
   "metadata": {},
   "outputs": [
    {
     "name": "stdout",
     "output_type": "stream",
     "text": [
      "[2, 4, 5, 1, 3]\n",
      "i_wb: 1 j_wb: 0\n",
      "key 4 , a: [2, 4, 5, 1, 3]\n",
      "i_wb: 2 j_wb: 1\n",
      "key 5 , a: [2, 4, 5, 1, 3]\n",
      "i_wb: 3 j_wb: 2\n",
      "i_wi: 3 j_wi: 2\n",
      "i_wE: 3 j_wE: 1\n",
      "i_wi: 3 j_wi: 1\n",
      "i_wE: 3 j_wE: 0\n",
      "i_wi: 3 j_wi: 0\n",
      "i_wE: 3 j_wE: -1\n",
      "key 1 , a: [1, 2, 4, 5, 3]\n",
      "i_wb: 4 j_wb: 3\n",
      "i_wi: 4 j_wi: 3\n",
      "i_wE: 4 j_wE: 2\n",
      "i_wi: 4 j_wi: 2\n",
      "i_wE: 4 j_wE: 1\n",
      "key 3 , a: [1, 2, 3, 4, 5]\n",
      "[1, 2, 3, 4, 5]\n"
     ]
    }
   ],
   "source": [
    "d= [2,4,5,1,3]\n",
    "print(d)\n",
    "ins_sort(d)\n",
    "print(d)"
   ]
  },
  {
   "cell_type": "code",
   "execution_count": null,
   "metadata": {},
   "outputs": [],
   "source": []
  }
 ],
 "metadata": {
  "kernelspec": {
   "display_name": "Python 3",
   "language": "python",
   "name": "python3"
  },
  "language_info": {
   "codemirror_mode": {
    "name": "ipython",
    "version": 3
   },
   "file_extension": ".py",
   "mimetype": "text/x-python",
   "name": "python",
   "nbconvert_exporter": "python",
   "pygments_lexer": "ipython3",
   "version": "3.6.4"
  }
 },
 "nbformat": 4,
 "nbformat_minor": 2
}
