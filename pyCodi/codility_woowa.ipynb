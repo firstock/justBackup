{
 "cells": [
  {
   "cell_type": "markdown",
   "metadata": {},
   "source": [
    "# 1"
   ]
  },
  {
   "cell_type": "code",
   "execution_count": 107,
   "metadata": {},
   "outputs": [],
   "source": [
    "S= \"13 DUP 4 POP 5 DUP + DUP + -\""
   ]
  },
  {
   "cell_type": "code",
   "execution_count": 108,
   "metadata": {},
   "outputs": [],
   "source": [
    "S= \"3 DUP 5 - -\""
   ]
  },
  {
   "cell_type": "code",
   "execution_count": 114,
   "metadata": {},
   "outputs": [],
   "source": [
    "S= \"5 6 + -\""
   ]
  },
  {
   "cell_type": "code",
   "execution_count": 6,
   "metadata": {},
   "outputs": [
    {
     "data": {
      "text/plain": [
       "['13', 'DUP', '4', 'POP', '5', 'DUP', '+', 'DUP', '+', '-']"
      ]
     },
     "execution_count": 6,
     "metadata": {},
     "output_type": "execute_result"
    }
   ],
   "source": [
    "Sspls= S.split(\" \")\n",
    "Sspls"
   ]
  },
  {
   "cell_type": "code",
   "execution_count": 119,
   "metadata": {},
   "outputs": [],
   "source": [
    "def solution(S):\n",
    "    stack1= []\n",
    "    Sspls= S.split(\" \")\n",
    "    idx= 0\n",
    "\n",
    "    #print(Sspls)\n",
    "    try:\n",
    "        for Sspl in Sspls:\n",
    "            #print('before\\t',idx, Sspl,'\\t', stack1)\n",
    "            if Sspl.isdigit():\n",
    "                stack1.append(int(Sspl))\n",
    "                idx+= 1\n",
    "            if '+'== Sspl:\n",
    "                sum1= stack1[-2]+stack1[-1]\n",
    "                stack1= stack1[:-2]\n",
    "                stack1.append(sum1)\n",
    "                idx-= 1\n",
    "            elif '-'== Sspl:\n",
    "                minus1= stack1[-1]-stack1[-2]\n",
    "                stack1= stack1[:-2]\n",
    "                stack1.append(minus1)\n",
    "                idx-= 1\n",
    "                if stack1[-1] <0:\n",
    "                    return -1\n",
    "            elif 'DUP'== Sspl:\n",
    "                dup1= stack1[idx-1]\n",
    "                stack1.append(dup1)\n",
    "                idx+= 1\n",
    "            elif 'POP'== Sspl:\n",
    "                stack1= stack1[:-1]\n",
    "                idx-= 1\n",
    "\n",
    "            #print('after\\t',idx, Sspl,'\\t', stack1)\n",
    "\n",
    "        #print(stack1)\n",
    "        return stack1[-1]\n",
    "    except IndexError:\n",
    "        return -1"
   ]
  },
  {
   "cell_type": "code",
   "execution_count": 120,
   "metadata": {},
   "outputs": [
    {
     "data": {
      "text/plain": [
       "-1"
      ]
     },
     "execution_count": 120,
     "metadata": {},
     "output_type": "execute_result"
    }
   ],
   "source": [
    "solution(S)"
   ]
  },
  {
   "cell_type": "code",
   "execution_count": 118,
   "metadata": {},
   "outputs": [
    {
     "name": "stdout",
     "output_type": "stream",
     "text": [
      "['5', '6', '+', '-']\n",
      "before\t 0 5 \t []\n",
      "after\t 1 5 \t [5]\n",
      "before\t 1 6 \t [5]\n",
      "after\t 2 6 \t [5, 6]\n",
      "before\t 2 + \t [5, 6]\n",
      "after\t 1 + \t [11]\n",
      "before\t 1 - \t [11]\n",
      "-1\n"
     ]
    }
   ],
   "source": [
    "stack1= []\n",
    "Sspls= S.split(\" \")\n",
    "idx= 0\n",
    "\n",
    "print(Sspls)\n",
    "\n",
    "try:\n",
    "    for Sspl in Sspls:\n",
    "        print('before\\t',idx, Sspl,'\\t', stack1)\n",
    "        if Sspl.isdigit():\n",
    "            stack1.append(int(Sspl))\n",
    "            idx+= 1\n",
    "        if '+'== Sspl:\n",
    "            sum1= stack1[-2]+stack1[-1]\n",
    "            stack1= stack1[:-2]\n",
    "            stack1.append(sum1)\n",
    "            idx-= 1\n",
    "        elif '-'== Sspl:\n",
    "            minus1= stack1[-1]-stack1[-2]\n",
    "            stack1= stack1[:-2]\n",
    "            stack1.append(minus1)\n",
    "            idx-= 1\n",
    "            if stack1[-1] <0:\n",
    "                pass\n",
    "                #return -1\n",
    "        elif 'DUP'== Sspl:\n",
    "            dup1= stack1[idx-1]\n",
    "            stack1.append(dup1)\n",
    "            idx+= 1\n",
    "        elif 'POP'== Sspl:\n",
    "            stack1= stack1[:-1]\n",
    "            idx-= 1\n",
    "\n",
    "        print('after\\t',idx, Sspl,'\\t', stack1)\n",
    "\n",
    "    print(stack1[-1])\n",
    "    #return stack1[-1]\n",
    "except IndexError:\n",
    "    print(-1)"
   ]
  },
  {
   "cell_type": "code",
   "execution_count": 88,
   "metadata": {},
   "outputs": [
    {
     "name": "stdout",
     "output_type": "stream",
     "text": [
      "+ [13, 13, 5]\n",
      "+ [13, 13, 5]\n"
     ]
    }
   ],
   "source": [
    "for Sspl in Sspls:\n",
    "    if '+'== Sspl:\n",
    "        print(Sspl, stack1)"
   ]
  },
  {
   "cell_type": "code",
   "execution_count": 70,
   "metadata": {},
   "outputs": [
    {
     "data": {
      "text/plain": [
       "[13, 13, 5]"
      ]
     },
     "execution_count": 70,
     "metadata": {},
     "output_type": "execute_result"
    }
   ],
   "source": [
    "stack1"
   ]
  },
  {
   "cell_type": "code",
   "execution_count": 40,
   "metadata": {},
   "outputs": [
    {
     "data": {
      "text/plain": [
       "18"
      ]
     },
     "execution_count": 40,
     "metadata": {},
     "output_type": "execute_result"
    }
   ],
   "source": [
    "sum1= stack1[-2]+ stack1[-1]; sum1"
   ]
  },
  {
   "cell_type": "code",
   "execution_count": 54,
   "metadata": {},
   "outputs": [
    {
     "name": "stdout",
     "output_type": "stream",
     "text": [
      "[13, 13, 5]\n"
     ]
    }
   ],
   "source": [
    "stack1[:-2].append(stack1[2])\n",
    "print(stack1)"
   ]
  },
  {
   "cell_type": "code",
   "execution_count": 64,
   "metadata": {},
   "outputs": [],
   "source": [
    "stack1= stack1[:-2]\n",
    "stack1.append(sum1)"
   ]
  },
  {
   "cell_type": "code",
   "execution_count": 65,
   "metadata": {
    "scrolled": true
   },
   "outputs": [
    {
     "data": {
      "text/plain": [
       "[13, 18]"
      ]
     },
     "execution_count": 65,
     "metadata": {},
     "output_type": "execute_result"
    }
   ],
   "source": [
    "stack1"
   ]
  },
  {
   "cell_type": "markdown",
   "metadata": {},
   "source": [
    "---"
   ]
  },
  {
   "cell_type": "markdown",
   "metadata": {},
   "source": [
    "# 2"
   ]
  },
  {
   "cell_type": "markdown",
   "metadata": {},
   "source": [
    "0-9 < T < J < Q < K < A"
   ]
  },
  {
   "cell_type": "code",
   "execution_count": 157,
   "metadata": {},
   "outputs": [],
   "source": [
    "def solution(A, B):\n",
    "    point= dict({})\n",
    "\n",
    "    for i in range(10):\n",
    "        point[str(i)]= i\n",
    "    point['T']= 10\n",
    "    point['J']= 11\n",
    "    point['Q']= 12\n",
    "    point['K']= 13\n",
    "    point['A']= 14\n",
    "    \n",
    "    aWin= 0\n",
    "    for a,b in zip(A,B):\n",
    "        #print(a,point[a],'\\t',b,point[b])\n",
    "        if point[a] > point[b]:\n",
    "           aWin+= 1\n",
    "\n",
    "    return aWin"
   ]
  },
  {
   "cell_type": "code",
   "execution_count": 159,
   "metadata": {},
   "outputs": [],
   "source": [
    "A= \"A586QK\"\n",
    "B= \"JJ653K\""
   ]
  },
  {
   "cell_type": "code",
   "execution_count": 128,
   "metadata": {},
   "outputs": [],
   "source": [
    "A= \"23A84Q\"\n",
    "B= \"JJ653K\""
   ]
  },
  {
   "cell_type": "code",
   "execution_count": 161,
   "metadata": {},
   "outputs": [
    {
     "data": {
      "text/plain": [
       "4"
      ]
     },
     "execution_count": 161,
     "metadata": {},
     "output_type": "execute_result"
    }
   ],
   "source": [
    "solution(A,B)"
   ]
  },
  {
   "cell_type": "code",
   "execution_count": null,
   "metadata": {},
   "outputs": [],
   "source": []
  },
  {
   "cell_type": "code",
   "execution_count": 139,
   "metadata": {},
   "outputs": [],
   "source": [
    "point= dict({})\n",
    "\n",
    "for i in range(10):\n",
    "    point[str(i)]= i\n",
    "point['T']= 10\n",
    "point['J']= 11\n",
    "point['Q']= 12\n",
    "point['K']= 13\n",
    "point['A']= 14"
   ]
  },
  {
   "cell_type": "code",
   "execution_count": 140,
   "metadata": {},
   "outputs": [
    {
     "data": {
      "text/plain": [
       "{'0': 0,\n",
       " '1': 1,\n",
       " '2': 2,\n",
       " '3': 3,\n",
       " '4': 4,\n",
       " '5': 5,\n",
       " '6': 6,\n",
       " '7': 7,\n",
       " '8': 8,\n",
       " '9': 9,\n",
       " 'A': 14,\n",
       " 'J': 11,\n",
       " 'K': 13,\n",
       " 'Q': 12,\n",
       " 'T': 10}"
      ]
     },
     "execution_count": 140,
     "metadata": {},
     "output_type": "execute_result"
    }
   ],
   "source": [
    "point"
   ]
  },
  {
   "cell_type": "code",
   "execution_count": 128,
   "metadata": {},
   "outputs": [],
   "source": [
    "A= \"23A84Q\"\n",
    "B= \"JJ653K\""
   ]
  },
  {
   "cell_type": "code",
   "execution_count": 156,
   "metadata": {},
   "outputs": [],
   "source": [
    "# list(''.join(A))"
   ]
  },
  {
   "cell_type": "code",
   "execution_count": 150,
   "metadata": {},
   "outputs": [
    {
     "name": "stdout",
     "output_type": "stream",
     "text": [
      "2 2 \t J 11\n",
      "3 3 \t J 11\n",
      "A 14 \t 6 6\n",
      "8 8 \t 5 5\n",
      "4 4 \t 3 3\n",
      "Q 12 \t K 13\n",
      "3\n"
     ]
    }
   ],
   "source": [
    "aWin= 0\n",
    "for a,b in zip(A,B):\n",
    "    #print(a,point[a],'\\t',b,point[b])\n",
    "    if point[a] > point[b]:\n",
    "       aWin+= 1\n",
    "    \n",
    "print(aWin)"
   ]
  },
  {
   "cell_type": "code",
   "execution_count": null,
   "metadata": {},
   "outputs": [],
   "source": []
  },
  {
   "cell_type": "markdown",
   "metadata": {},
   "source": [
    "# 3\n",
    "3번은 query 전용 문제. 시간은 꽤 충분했으나, 결국 내가 몰라서 못 품"
   ]
  },
  {
   "cell_type": "code",
   "execution_count": null,
   "metadata": {},
   "outputs": [],
   "source": []
  }
 ],
 "metadata": {
  "kernelspec": {
   "display_name": "Python 3",
   "language": "python",
   "name": "python3"
  },
  "language_info": {
   "codemirror_mode": {
    "name": "ipython",
    "version": 3
   },
   "file_extension": ".py",
   "mimetype": "text/x-python",
   "name": "python",
   "nbconvert_exporter": "python",
   "pygments_lexer": "ipython3",
   "version": "3.6.4"
  }
 },
 "nbformat": 4,
 "nbformat_minor": 2
}
