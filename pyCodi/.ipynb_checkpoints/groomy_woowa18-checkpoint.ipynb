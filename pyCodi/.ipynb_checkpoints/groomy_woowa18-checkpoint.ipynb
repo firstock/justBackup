{
 "cells": [
  {
   "cell_type": "markdown",
   "metadata": {},
   "source": [
    "## goorm\n",
    "user_input= input()\n",
    "print(\"블라블라\"+ user_input)"
   ]
  },
  {
   "cell_type": "markdown",
   "metadata": {},
   "source": [
    "#### Caution\n",
    "input() 으로 받으면 str으로 처리됨"
   ]
  },
  {
   "cell_type": "markdown",
   "metadata": {},
   "source": [
    "### 예제1: 약수구하기\n",
    "양의 정수를 입력 받고 그 수의 약수를 모두 출력하는 프로그램을 작성하십시오."
   ]
  },
  {
   "cell_type": "code",
   "execution_count": 41,
   "metadata": {
    "scrolled": true
   },
   "outputs": [
    {
     "name": "stdout",
     "output_type": "stream",
     "text": [
      "{32, 1}\n",
      "{32, 1, 2, 16}\n",
      "{32, 1, 2, 4, 8, 16}\n"
     ]
    }
   ],
   "source": [
    "#n= int(input())\n",
    "n= 32\n",
    "submul= set({})\n",
    "for i in range(1,n):\n",
    "    if (i*i <= n) and (0== n%i):\n",
    "        submul.add(i)\n",
    "        submul.add(n//i)"
   ]
  },
  {
   "cell_type": "code",
   "execution_count": 43,
   "metadata": {},
   "outputs": [
    {
     "name": "stdout",
     "output_type": "stream",
     "text": [
      "1 2 4 8 16 32 "
     ]
    }
   ],
   "source": [
    "submul= sorted(submul)\n",
    "for sm in submul:\n",
    "    print(sm, end=\" \")"
   ]
  },
  {
   "cell_type": "code",
   "execution_count": null,
   "metadata": {},
   "outputs": [],
   "source": []
  },
  {
   "cell_type": "code",
   "execution_count": null,
   "metadata": {},
   "outputs": [],
   "source": [
    "## 제출코드\n",
    "n = int(input())\n",
    "submul= set({})\n",
    "for i in range(1,n):\n",
    "    if (i*i <= n) and (0== n%i):\n",
    "        submul.add(i)\n",
    "        submul.add(n//i)\n",
    "\n",
    "submul= sorted(submul)\n",
    "for sm in submul:\n",
    "    print(sm, end=\" \")"
   ]
  },
  {
   "cell_type": "markdown",
   "metadata": {},
   "source": [
    "### 예제2: 16진수\n",
    "입력받은 10진수를 16진수로 출력"
   ]
  },
  {
   "cell_type": "markdown",
   "metadata": {},
   "source": [
    "### 예제3: 윤년_Leap Year\n",
    "1. 서력기원으로 연수가 4로 나누어 떨어지는 해는 윤년으로 한다.(2004년, 2008년, 2012년, 2016년, 2020년…)\n",
    "2. 이 중에서 100으로 나누어 떨어지는 해는 평년으로 한다.(1900년, 2100년, 2200년, 2300년…)\n",
    "3. 그중에 400으로 나누어 떨어지는 해는 윤년으로 둔다.(1600년, 2000년, 2400년 …)\n",
    "- 입력: 연도(양수)\n",
    "- 출력\n",
    "    - 윤년일경우 Leap Year\n",
    "    - 평년일경우 Not Leap Year"
   ]
  },
  {
   "cell_type": "markdown",
   "metadata": {},
   "source": [
    "---"
   ]
  },
  {
   "cell_type": "markdown",
   "metadata": {},
   "source": [
    "### 3. 새로운 광고상품\n",
    "세 사각형 겹침"
   ]
  },
  {
   "attachments": {
    "image.png": {
     "image/png": "[encoded data removed]"
    }
   },
   "cell_type": "markdown",
   "metadata": {},
   "source": [
    "![image.png](attachment:image.png)"
   ]
  },
  {
   "cell_type": "code",
   "execution_count": 78,
   "metadata": {},
   "outputs": [],
   "source": [
    "input1= \"700 400 1600 1100 0 400 1100 900 900 0 1800 650\""
   ]
  },
  {
   "cell_type": "code",
   "execution_count": 79,
   "metadata": {},
   "outputs": [],
   "source": [
    "x1,y1,x2,y2, x3,y3,x4,y4, x5,y5,x6,y6= map(int,input1.split())"
   ]
  },
  {
   "cell_type": "code",
   "execution_count": 80,
   "metadata": {},
   "outputs": [],
   "source": [
    "# x=[0,0,0,0,0,0,0]\n",
    "# y=[0,0,0,0,0,0,0]"
   ]
  },
  {
   "cell_type": "code",
   "execution_count": 81,
   "metadata": {},
   "outputs": [],
   "source": [
    "# x[1],y[1],x[2],y[2], x[3],y[3],x[4],y[4], x[5],y[5],x[6],y[6]= map(int,input1.split())"
   ]
  },
  {
   "cell_type": "code",
   "execution_count": 82,
   "metadata": {},
   "outputs": [],
   "source": [
    "# 제출용\n",
    "# x1,y1,x2,y2, x3,y3,x4,y4, x5,y5,x6,y6= map(int,input().split())"
   ]
  },
  {
   "cell_type": "code",
   "execution_count": 83,
   "metadata": {},
   "outputs": [],
   "source": [
    "absArea= lambda s: -s if s<0 else s"
   ]
  },
  {
   "cell_type": "code",
   "execution_count": 84,
   "metadata": {
    "scrolled": true
   },
   "outputs": [
    {
     "data": {
      "text/plain": [
       "1"
      ]
     },
     "execution_count": 84,
     "metadata": {},
     "output_type": "execute_result"
    }
   ],
   "source": [
    "absArea(-1)"
   ]
  },
  {
   "cell_type": "markdown",
   "metadata": {},
   "source": [
    "- squa12_UMB_LMR\n",
    "- squa13_UMB_LMR\n",
    "- squa23_UMB_LMR"
   ]
  },
  {
   "cell_type": "code",
   "execution_count": 88,
   "metadata": {},
   "outputs": [],
   "source": [
    "_12= 0\n",
    "_13= 1\n",
    "_23= 2"
   ]
  },
  {
   "cell_type": "code",
   "execution_count": 89,
   "metadata": {},
   "outputs": [],
   "source": [
    "squa_U_= [0,0,0]\n",
    "squa_M_= [0,0,0]\n",
    "squa_B_= [0,0,0]\n",
    "squa__L= [0,0,0]\n",
    "squa__M= [0,0,0]\n",
    "squa__R= [0,0,0]"
   ]
  },
  {
   "cell_type": "code",
   "execution_count": 94,
   "metadata": {},
   "outputs": [],
   "source": [
    "squa_1= absArea((x2-x1)*(y2-y1))"
   ]
  },
  {
   "cell_type": "code",
   "execution_count": 92,
   "metadata": {},
   "outputs": [],
   "source": [
    "squa_U_[_12]= absArea((y2 - y3))\n",
    "squa_M_[_12]= absArea((y3 - y4))\n",
    "squa_B_[_12]= absArea((y1 - y4))\n",
    "squa__L[_12]= absArea((x1 - x4))\n",
    "squa__M[_12]= absArea((x3 - x4))\n",
    "squa__R[_12]= absArea((x2 - x3))\n",
    "\n",
    "squa_U_[_13]= absArea((y2 - y5))\n",
    "squa_M_[_13]= absArea((y5 - y6))\n",
    "squa_B_[_13]= absArea((y1 - y6))\n",
    "squa__L[_13]= absArea((x1 - x6))\n",
    "squa__M[_13]= absArea((x5 - x6))\n",
    "squa__R[_13]= absArea((x2 - x5))\n",
    "\n",
    "squa_U_[_23]= absArea((y4 - y5))\n",
    "squa_M_[_23]= absArea((y5 - y6))\n",
    "squa_B_[_23]= absArea((y3 - y6))\n",
    "squa__L[_23]= absArea((x3 - x6))\n",
    "squa__M[_23]= absArea((x5 - x6))\n",
    "squa__R[_23]= absArea((x4 - x5))"
   ]
  },
  {
   "cell_type": "code",
   "execution_count": 93,
   "metadata": {},
   "outputs": [
    {
     "name": "stdout",
     "output_type": "stream",
     "text": [
      "700 500 500 400 1100 1600 1100 650 250 1100 900 700 900 650 250 1800 900 200\n"
     ]
    }
   ],
   "source": [
    "print(squa_U_[_12], squa_M_[_12], squa_B_[_12], squa__L[_12], squa__M[_12], squa__R[_12], squa_U_[_13], squa_M_[_13], squa_B_[_13], squa__L[_13], squa__M[_13], squa__R[_13], squa_U_[_23], squa_M_[_23], squa_B_[_23], squa__L[_23], squa__M[_23], squa__R[_23])"
   ]
  },
  {
   "cell_type": "markdown",
   "metadata": {},
   "source": [
    "#### 위치 판별"
   ]
  },
  {
   "cell_type": "code",
   "execution_count": null,
   "metadata": {},
   "outputs": [],
   "source": [
    "def "
   ]
  },
  {
   "cell_type": "code",
   "execution_count": null,
   "metadata": {},
   "outputs": [],
   "source": []
  }
 ],
 "metadata": {
  "kernelspec": {
   "display_name": "Python 3",
   "language": "python",
   "name": "python3"
  },
  "language_info": {
   "codemirror_mode": {
    "name": "ipython",
    "version": 3
   },
   "file_extension": ".py",
   "mimetype": "text/x-python",
   "name": "python",
   "nbconvert_exporter": "python",
   "pygments_lexer": "ipython3",
   "version": "3.6.4"
  }
 },
 "nbformat": 4,
 "nbformat_minor": 2
}
