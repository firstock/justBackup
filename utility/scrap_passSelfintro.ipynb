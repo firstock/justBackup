{
 "cells": [
  {
   "cell_type": "markdown",
   "metadata": {},
   "source": [
    "### 타깃\n",
    "- 사람인 합소서 http://www.saramin.co.kr/zf_user/public-recruit/coverletter-list/page/337?company_nm=\n",
    "    - 337페이지. 1~336_20개씩, 337_18개. 총 6738개\n",
    "- 시작안함. 잡코리아 합소서 http://www.jobkorea.co.kr/starter/passassay/"
   ]
  },
  {
   "cell_type": "markdown",
   "metadata": {},
   "source": [
    "#### Ref\n",
    "[selenium attribute](https://stackoverflow.com/questions/30324760/how-to-get-attribute-of-element-from-selenium?utm_medium=organic&utm_source=google_rich_qa&utm_campaign=google_rich_qa)"
   ]
  },
  {
   "cell_type": "code",
   "execution_count": 1,
   "metadata": {
    "collapsed": true
   },
   "outputs": [],
   "source": [
    "# coding: utf-8\n",
    "from selenium import webdriver\n",
    "from selenium.webdriver.common.by import By\n",
    "from selenium.webdriver.common.keys import Keys\n",
    "\n",
    "from selenium.webdriver.support.ui import WebDriverWait\n",
    "from selenium.webdriver.support import expected_conditions as EC\n",
    "\n",
    "import os.path\n",
    "from os import rename\n",
    "from os import listdir\n",
    "\n",
    "import time"
   ]
  },
  {
   "cell_type": "code",
   "execution_count": 2,
   "metadata": {
    "collapsed": true
   },
   "outputs": [],
   "source": [
    "# 인자: 여러개 동시에 띄울걸 감안해서?\n",
    "def startWeb(numPage=1):\n",
    "    \"\"\"\n",
    "    @return driver\n",
    "    \"\"\"\n",
    "    driver= webdriver.Chrome('lib/chromedriver.exe')\n",
    "    url= \"http://www.saramin.co.kr/zf_user/public-recruit/coverletter-list/page/\"+str(numPage)+\"?company_nm=\"\n",
    "    driver.get(url)\n",
    "    \n",
    "    return driver"
   ]
  },
  {
   "cell_type": "markdown",
   "metadata": {},
   "source": [
    "#### 링크 얻기"
   ]
  },
  {
   "cell_type": "code",
   "execution_count": 3,
   "metadata": {
    "collapsed": true
   },
   "outputs": [],
   "source": [
    "def movePage(numPage):\n",
    "    url= \"http://www.saramin.co.kr/zf_user/public-recruit/coverletter-list/page/\"+str(numPage)+\"?company_nm=\"\n",
    "    driver.get(url)\n",
    "    try:\n",
    "        element= WebDriverWait(driver, 10).until(\n",
    "            # is coming a content?\n",
    "            EC.presence_of_element_located((By.XPATH, '//h2'))\n",
    "        )\n",
    "    except Exception as e:\n",
    "        print('error',e)"
   ]
  },
  {
   "cell_type": "code",
   "execution_count": 4,
   "metadata": {
    "collapsed": true
   },
   "outputs": [],
   "source": [
    "def saveLink(dict_pass):\n",
    "    elements= driver.find_elements_by_xpath('//h2')\n",
    "    #dict_pass= dict([])\n",
    "    for element in elements:\n",
    "        dict_pass[element.text]= element.find_element_by_xpath('a').get_attribute('href')\n",
    "        #print(i, element.text)\n",
    "        #print(element.find_element_by_xpath('a').get_attribute('href'))\n",
    "    return dict_pass"
   ]
  },
  {
   "cell_type": "markdown",
   "metadata": {},
   "source": [
    "#### 각 링크의 내용"
   ]
  },
  {
   "cell_type": "code",
   "execution_count": 85,
   "metadata": {
    "collapsed": true
   },
   "outputs": [],
   "source": [
    "def movePageLink(link):\n",
    "    driver.get(link)\n",
    "    try:\n",
    "        element= WebDriverWait(driver, 10).until(\n",
    "            # is coming a content?\n",
    "            EC.presence_of_element_located((By.XPATH, '//li'))\n",
    "        )\n",
    "    except Exception as e:\n",
    "        print('error',e)"
   ]
  },
  {
   "cell_type": "code",
   "execution_count": 127,
   "metadata": {
    "collapsed": true
   },
   "outputs": [],
   "source": [
    "def getContent():\n",
    "    \"\"\"\n",
    "    @return element_txt, element_duty\n",
    "    @except 지원분야가 써있지 않은 페이지?\n",
    "    \"\"\"\n",
    "    try:\n",
    "        elementCon= WebDriverWait(driver, 3).until(\n",
    "            # is coming a content?\n",
    "            EC.presence_of_element_located((By.XPATH, '//div[@class=\"box_ty3\"]'))\n",
    "        )\n",
    "        element_txt= elementCon.text\n",
    "    except Exception as e:\n",
    "        print('error',e)\n",
    "        \n",
    "    try:\n",
    "        elementDu= WebDriverWait(driver, 1).until(\n",
    "            # is coming a content?\n",
    "            EC.presence_of_element_located((By.XPATH, '//span[@class=\"tag_apply\"]'))\n",
    "        )\n",
    "        element_duty= elementDu.text\n",
    "    except Exception as e:\n",
    "        element_duty= '지원분야 공통'\n",
    "        pass\n",
    "    \n",
    "    #element_txt= driver.find_element_by_xpath('//div[@class=\"box_ty3\"]').text\n",
    "    #element_duty= driver.find_element_by_xpath('//span[@class=\"tag_apply\"]').text\n",
    "    \n",
    "    return element_txt, element_duty"
   ]
  },
  {
   "cell_type": "markdown",
   "metadata": {},
   "source": [
    "##### 예외\n",
    "http://www.saramin.co.kr/zf_user/public-recruit/coverletter?real_seq=24479"
   ]
  },
  {
   "cell_type": "markdown",
   "metadata": {},
   "source": [
    "###### 세션 종료, 자원반납"
   ]
  },
  {
   "cell_type": "code",
   "execution_count": 131,
   "metadata": {
    "collapsed": true
   },
   "outputs": [],
   "source": [
    "driver.close()\n",
    "driver.quit()"
   ]
  },
  {
   "cell_type": "markdown",
   "metadata": {},
   "source": [
    "### 실행_한줄test"
   ]
  },
  {
   "cell_type": "code",
   "execution_count": 70,
   "metadata": {
    "collapsed": true
   },
   "outputs": [],
   "source": [
    "driver= startWeb()"
   ]
  },
  {
   "cell_type": "code",
   "execution_count": 71,
   "metadata": {},
   "outputs": [],
   "source": [
    "numPage= 1\n",
    "movePage(numPage)"
   ]
  },
  {
   "cell_type": "code",
   "execution_count": 15,
   "metadata": {
    "scrolled": true
   },
   "outputs": [],
   "source": [
    "dict_pass= dict([])\n",
    "dictLinks_te= saveLink(dict_pass)\n",
    "print(len(dictLinks_te))\n",
    "dictLinks_te"
   ]
  },
  {
   "cell_type": "markdown",
   "metadata": {},
   "source": [
    "## 실행- 링크얻기_완료"
   ]
  },
  {
   "cell_type": "code",
   "execution_count": 50,
   "metadata": {
    "scrolled": false
   },
   "outputs": [
    {
     "name": "stdout",
     "output_type": "stream",
     "text": [
      "337\n"
     ]
    }
   ],
   "source": [
    "# numPages= range(1,338)\n",
    "# dictLinks= dict([])\n",
    "\n",
    "# for numPage in numPages:\n",
    "#     print(numPage)\n",
    "#     movePage(numPage)\n",
    "#     dictLinks= saveLink(dictLinks)\n",
    " \n",
    "# dictLinks\n",
    "\n",
    "# driver.close()\n",
    "# driver.quit()"
   ]
  },
  {
   "cell_type": "markdown",
   "metadata": {},
   "source": [
    "### 저장\n",
    "- [dictionary to csv](https://stackoverflow.com/questions/8685809/python-writing-a-dictionary-to-a-csv-file-with-one-line-for-every-key-value?utm_medium=organic&utm_source=google_rich_qa&utm_campaign=google_rich_qa)\n",
    "    - [writerow one line feed](https://stackoverflow.com/questions/3191528/csv-in-python-adding-an-extra-carriage-return?utm_medium=organic&utm_source=google_rich_qa&utm_campaign=google_rich_qa)"
   ]
  },
  {
   "cell_type": "markdown",
   "metadata": {},
   "source": [
    "###### 저장 성공"
   ]
  },
  {
   "cell_type": "code",
   "execution_count": 65,
   "metadata": {
    "collapsed": true
   },
   "outputs": [],
   "source": [
    "# import csv\n",
    "\n",
    "# with open('data/passLink.csv', 'w', newline='') as csv_file:\n",
    "#     writer = csv.writer(csv_file)\n",
    "#     for key, value in dictLinks.items():\n",
    "#         writer.writerow([key, value])"
   ]
  },
  {
   "cell_type": "markdown",
   "metadata": {},
   "source": [
    "### 읽기 (실행 안 해봄)"
   ]
  },
  {
   "cell_type": "code",
   "execution_count": 104,
   "metadata": {
    "collapsed": true
   },
   "outputs": [],
   "source": [
    "with open('data/passLink.csv', 'r') as csv_file:\n",
    "    reader = csv.reader(csv_file)\n",
    "    dickLinksRead = dict(reader)"
   ]
  },
  {
   "cell_type": "code",
   "execution_count": 105,
   "metadata": {},
   "outputs": [
    {
     "data": {
      "text/plain": [
       "6306"
      ]
     },
     "execution_count": 105,
     "metadata": {},
     "output_type": "execute_result"
    }
   ],
   "source": [
    "len(dickLinksRead)"
   ]
  },
  {
   "cell_type": "markdown",
   "metadata": {},
   "source": [
    "### 실행- 내용얻기_test"
   ]
  },
  {
   "cell_type": "code",
   "execution_count": 125,
   "metadata": {
    "collapsed": true
   },
   "outputs": [],
   "source": [
    "driver= startWeb()"
   ]
  },
  {
   "cell_type": "markdown",
   "metadata": {},
   "source": [
    "#### 링크에서 각 값 따오기-> dict에 넣기"
   ]
  },
  {
   "cell_type": "code",
   "execution_count": 129,
   "metadata": {
    "scrolled": true
   },
   "outputs": [
    {
     "name": "stdout",
     "output_type": "stream",
     "text": [
      "76\n"
     ]
    }
   ],
   "source": [
    "dictContents= dict([])\n",
    "\n",
    "for i, (toJob, link) in enumerate(dickLinksRead.items()):\n",
    "    #if (76== i):# | (1==i):\n",
    "    print(i)#, toJob, link)\n",
    "    movePageLink(link)\n",
    "    selfintro, duty= getContent()\n",
    "    dictContents[toJob+' '+duty]= selfintro\n"
   ]
  },
  {
   "cell_type": "code",
   "execution_count": 130,
   "metadata": {},
   "outputs": [
    {
     "data": {
      "text/plain": [
       "{'2017년 하반기 삼성전자 DS 합격자 자기소개서 05 지원분야 공통': '1. 삼성전자를 지원한 이유와 입사 후 회사에서 이루고 싶은 꿈을 기술하십시오.(700자 이내)\\n미래지향적인 환경안전 분석가\\n저는 미래의 산업발전과 친환경 경영의 균형을 맞추는 삼성전자의 환경전문가로 최선의 선택을 하고 싶습니다. ‘현재에 최선을 다하라.’라는 말이 있지만, 미래에 대한 준비 없는 최선은 차선이라고 생각하기 때문입니다.\\n삼성전자 DS부문은 DRAM, NAND Flash 제품 등 초미세 공정 기술을 적용하여 차별화된 제품의 생산을 확보하며 전세계 메모리 시장의 선두자리를 지키고 있습니다. 첨단 산업의 진취적인 성장과 더불어, 온실가스 원단위 감축계획 등 미래를 준비하는 친환경정책을 구현하고 있습니다. 저는 환경공학적 전문지식과 경험을 바탕으로 메모리사업부 제품성장을 뒷받침 하는 힘이 되고 싶습니다. 이를 위해 두 가지 역량을 키웠습니다.\\n첫째, 환경 전문가가 되기 위해 분석기술과 예측기술 모두 습득하였습니다. 기초분석실험을 수행하고, 나아가 ‘환경’이란 큰 틀 안에 정책, 경제, 예측모델링 등 다방면의 전문지식을 공부했습니다. 기후변화에 따른 환경 이슈 및 화평법 관련 정책 방향을 정확히 파악하고 있습니다.\\n둘째, R, SPSS 및 Coding기술 등 데이터 분석력을 갖추었습니다. 공정과정 및 화학사고로 유출될 수 있는 유해물질 노출량을 시뮬레이션을 통해 예측하고 혹시 모를 피해 상황에 대처할 줄 아는 관리자가 되겠습니다.\\n글자수 651자   |   1563Byte\\n접기'}"
      ]
     },
     "execution_count": 130,
     "metadata": {},
     "output_type": "execute_result"
    }
   ],
   "source": [
    "dictContents"
   ]
  },
  {
   "cell_type": "code",
   "execution_count": null,
   "metadata": {
    "collapsed": true
   },
   "outputs": [],
   "source": []
  },
  {
   "cell_type": "code",
   "execution_count": null,
   "metadata": {
    "collapsed": true
   },
   "outputs": [],
   "source": []
  },
  {
   "cell_type": "code",
   "execution_count": null,
   "metadata": {
    "collapsed": true
   },
   "outputs": [],
   "source": []
  },
  {
   "cell_type": "code",
   "execution_count": null,
   "metadata": {
    "collapsed": true
   },
   "outputs": [],
   "source": [
    "# dictContents= dict([])\n",
    "\n",
    "# for i, (toJob, link) in enumerate(dickLinksRead.items()):\n",
    "#     #if (0== i) | (1==i):\n",
    "#     #print(i, toJob, link)\n",
    "#     movePageLink(link)\n",
    "#     selfintro= getContent()\n",
    "#     dictContents[toJob]= selfintro\n",
    "    "
   ]
  },
  {
   "cell_type": "markdown",
   "metadata": {},
   "source": [
    "#### 확인- 432개 건너뜀 혹은 중복"
   ]
  },
  {
   "cell_type": "code",
   "execution_count": 52,
   "metadata": {},
   "outputs": [
    {
     "name": "stdout",
     "output_type": "stream",
     "text": [
      "6306\n",
      "6306\n"
     ]
    }
   ],
   "source": [
    "print(len(dictSaveLink))\n",
    "print(len(dictLinks))"
   ]
  },
  {
   "cell_type": "markdown",
   "metadata": {},
   "source": [
    "- [dictionary to JSON](https://stackoverflow.com/questions/7100125/storing-python-dictionaries?utm_medium=organic&utm_source=google_rich_qa&utm_campaign=google_rich_qa)"
   ]
  },
  {
   "cell_type": "code",
   "execution_count": 63,
   "metadata": {
    "collapsed": true
   },
   "outputs": [],
   "source": [
    "# import json\n",
    "\n",
    "# with open('data/passLink.json', 'w', encoding='cp949') as fp:\n",
    "#     json.dump(dictLinks, fp)"
   ]
  },
  {
   "cell_type": "code",
   "execution_count": 64,
   "metadata": {
    "collapsed": true
   },
   "outputs": [],
   "source": [
    "# for i, (key, value) in enumerate(dictLinks.items()):\n",
    "#     print(i,key,value)"
   ]
  }
 ],
 "metadata": {
  "kernelspec": {
   "display_name": "Python 3",
   "language": "python",
   "name": "python3"
  },
  "language_info": {
   "codemirror_mode": {
    "name": "ipython",
    "version": 3
   },
   "file_extension": ".py",
   "mimetype": "text/x-python",
   "name": "python",
   "nbconvert_exporter": "python",
   "pygments_lexer": "ipython3",
   "version": "3.6.3"
  }
 },
 "nbformat": 4,
 "nbformat_minor": 2
}
