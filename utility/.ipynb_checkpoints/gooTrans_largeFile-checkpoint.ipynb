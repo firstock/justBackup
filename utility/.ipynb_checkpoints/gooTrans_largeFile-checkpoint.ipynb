{
 "cells": [
  {
   "cell_type": "code",
   "execution_count": 1,
   "metadata": {},
   "outputs": [],
   "source": [
    "from googletrans import Translator"
   ]
  },
  {
   "cell_type": "code",
   "execution_count": 2,
   "metadata": {},
   "outputs": [],
   "source": [
    "translator= Translator(service_urls=[\n",
    "    'translate.google.com',\n",
    "    'translate.google.co.kr',\n",
    "])"
   ]
  },
  {
   "cell_type": "code",
   "execution_count": 3,
   "metadata": {},
   "outputs": [
    {
     "name": "stdout",
     "output_type": "stream",
     "text": [
      "long long sentense => 긴 긴 문장\n"
     ]
    }
   ],
   "source": [
    "translations= translator.translate(['long long sentense'], dest='ko')\n",
    "for tr in translations:\n",
    "    print(tr.origin, '=>', tr.text)"
   ]
  },
  {
   "cell_type": "code",
   "execution_count": 5,
   "metadata": {},
   "outputs": [
    {
     "name": "stdout",
     "output_type": "stream",
     "text": [
      "D:\\github\\justBackup\\utility\\data\n",
      " D 드라이브의 볼륨: New Volume\n",
      " 볼륨 일련 번호: 16AC-7728\n",
      "\n",
      " D:\\github\\justBackup\\utility\\data 디렉터리\n",
      "\n",
      "2018-07-20  오후 03:10    <DIR>          .\n",
      "2018-07-20  오후 03:10    <DIR>          ..\n",
      "2018-07-11  오후 02:20           372,576 59105__daveincamas__splash2.wav\n",
      "2018-07-20  오후 03:11           393,583 oreilly_GraphDatabases_neo4j.txt\n",
      "               2개 파일             766,159 바이트\n",
      "               2개 디렉터리  960,865,697,792 바이트 남음\n",
      "D:\\github\\justBackup\\utility\n"
     ]
    }
   ],
   "source": [
    "%cd data\n",
    "%ls\n",
    "%cd .."
   ]
  },
  {
   "cell_type": "code",
   "execution_count": null,
   "metadata": {},
   "outputs": [],
   "source": [
    "with open('data/oreilly_GraphDatabases_neo4j.txt') as f:\n",
    "    content = f.readlines()\n",
    "#content = [x for x in content]"
   ]
  }
 ],
 "metadata": {
  "kernelspec": {
   "display_name": "Python 3",
   "language": "python",
   "name": "python3"
  },
  "language_info": {
   "codemirror_mode": {
    "name": "ipython",
    "version": 3
   },
   "file_extension": ".py",
   "mimetype": "text/x-python",
   "name": "python",
   "nbconvert_exporter": "python",
   "pygments_lexer": "ipython3",
   "version": "3.6.5"
  }
 },
 "nbformat": 4,
 "nbformat_minor": 2
}
