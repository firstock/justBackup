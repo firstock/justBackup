{
 "cells": [
  {
   "cell_type": "markdown",
   "metadata": {},
   "source": [
    "### 타깃\n",
    "- 사람인 합소서 http://www.saramin.co.kr/zf_user/public-recruit/coverletter-list/page/337?company_nm=\n",
    "    - 337페이지. 1~336_20개씩, 337_18개. 총 6738개\n",
    "- 시작안함. 잡코리아 합소서 http://www.jobkorea.co.kr/starter/passassay/"
   ]
  },
  {
   "cell_type": "markdown",
   "metadata": {},
   "source": [
    "#### Ref\n",
    "[selenium attribute](https://stackoverflow.com/questions/30324760/how-to-get-attribute-of-element-from-selenium?utm_medium=organic&utm_source=google_rich_qa&utm_campaign=google_rich_qa)"
   ]
  },
  {
   "cell_type": "code",
   "execution_count": 134,
   "metadata": {
    "collapsed": true
   },
   "outputs": [],
   "source": [
    "# coding: utf-8\n",
    "from selenium import webdriver\n",
    "from selenium.webdriver.common.by import By\n",
    "from selenium.webdriver.common.keys import Keys\n",
    "\n",
    "from selenium.webdriver.support.ui import WebDriverWait\n",
    "from selenium.webdriver.support import expected_conditions as EC\n",
    "\n",
    "import os.path\n",
    "from os import rename\n",
    "from os import listdir\n",
    "\n",
    "import time\n",
    "import csv"
   ]
  },
  {
   "cell_type": "code",
   "execution_count": 2,
   "metadata": {
    "collapsed": true
   },
   "outputs": [],
   "source": [
    "# 인자: 여러개 동시에 띄울걸 감안해서?\n",
    "def startWeb(numPage=1):\n",
    "    \"\"\"\n",
    "    @return driver\n",
    "    \"\"\"\n",
    "    driver= webdriver.Chrome('lib/chromedriver.exe')\n",
    "    url= \"http://www.saramin.co.kr/zf_user/public-recruit/coverletter-list/page/\"+str(numPage)+\"?company_nm=\"\n",
    "    driver.get(url)\n",
    "    \n",
    "    return driver"
   ]
  },
  {
   "cell_type": "markdown",
   "metadata": {},
   "source": [
    "#### 링크 얻기"
   ]
  },
  {
   "cell_type": "code",
   "execution_count": 3,
   "metadata": {
    "collapsed": true
   },
   "outputs": [],
   "source": [
    "def movePage(numPage):\n",
    "    url= \"http://www.saramin.co.kr/zf_user/public-recruit/coverletter-list/page/\"+str(numPage)+\"?company_nm=\"\n",
    "    driver.get(url)\n",
    "    try:\n",
    "        element= WebDriverWait(driver, 10).until(\n",
    "            # is coming a content?\n",
    "            EC.presence_of_element_located((By.XPATH, '//h2'))\n",
    "        )\n",
    "    except Exception as e:\n",
    "        print('error',e)"
   ]
  },
  {
   "cell_type": "code",
   "execution_count": 4,
   "metadata": {
    "collapsed": true
   },
   "outputs": [],
   "source": [
    "def saveLink(dict_pass):\n",
    "    elements= driver.find_elements_by_xpath('//h2')\n",
    "    #dict_pass= dict([])\n",
    "    for element in elements:\n",
    "        dict_pass[element.text]= element.find_element_by_xpath('a').get_attribute('href')\n",
    "        #print(i, element.text)\n",
    "        #print(element.find_element_by_xpath('a').get_attribute('href'))\n",
    "    return dict_pass"
   ]
  },
  {
   "cell_type": "markdown",
   "metadata": {},
   "source": [
    "#### 각 링크의 내용"
   ]
  },
  {
   "cell_type": "code",
   "execution_count": 85,
   "metadata": {
    "collapsed": true
   },
   "outputs": [],
   "source": [
    "def movePageLink(link):\n",
    "    driver.get(link)\n",
    "    try:\n",
    "        element= WebDriverWait(driver, 10).until(\n",
    "            # is coming a content?\n",
    "            EC.presence_of_element_located((By.XPATH, '//li'))\n",
    "        )\n",
    "    except Exception as e:\n",
    "        print('error',e)"
   ]
  },
  {
   "cell_type": "code",
   "execution_count": 127,
   "metadata": {
    "collapsed": true
   },
   "outputs": [],
   "source": [
    "def getContent():\n",
    "    \"\"\"\n",
    "    @return element_txt, element_duty\n",
    "    @except 지원분야가 써있지 않은 페이지?\n",
    "    \"\"\"\n",
    "    try:\n",
    "        elementCon= WebDriverWait(driver, 3).until(\n",
    "            # is coming a content?\n",
    "            EC.presence_of_element_located((By.XPATH, '//div[@class=\"box_ty3\"]'))\n",
    "        )\n",
    "        element_txt= elementCon.text\n",
    "    except Exception as e:\n",
    "        print('error',e)\n",
    "        \n",
    "    try:\n",
    "        elementDu= WebDriverWait(driver, 1).until(\n",
    "            # is coming a content?\n",
    "            EC.presence_of_element_located((By.XPATH, '//span[@class=\"tag_apply\"]'))\n",
    "        )\n",
    "        element_duty= elementDu.text\n",
    "    except Exception as e:\n",
    "        element_duty= '지원분야 공통'\n",
    "        pass\n",
    "    \n",
    "    #element_txt= driver.find_element_by_xpath('//div[@class=\"box_ty3\"]').text\n",
    "    #element_duty= driver.find_element_by_xpath('//span[@class=\"tag_apply\"]').text\n",
    "    \n",
    "    return element_txt, element_duty"
   ]
  },
  {
   "cell_type": "markdown",
   "metadata": {},
   "source": [
    "##### 예외\n",
    "http://www.saramin.co.kr/zf_user/public-recruit/coverletter?real_seq=24479"
   ]
  },
  {
   "cell_type": "markdown",
   "metadata": {},
   "source": [
    "###### 세션 종료, 자원반납"
   ]
  },
  {
   "cell_type": "code",
   "execution_count": 131,
   "metadata": {
    "collapsed": true
   },
   "outputs": [],
   "source": [
    "driver.close()\n",
    "driver.quit()"
   ]
  },
  {
   "cell_type": "markdown",
   "metadata": {},
   "source": [
    "### 실행_한줄test"
   ]
  },
  {
   "cell_type": "code",
   "execution_count": 70,
   "metadata": {
    "collapsed": true
   },
   "outputs": [],
   "source": [
    "driver= startWeb()"
   ]
  },
  {
   "cell_type": "code",
   "execution_count": 71,
   "metadata": {},
   "outputs": [],
   "source": [
    "numPage= 1\n",
    "movePage(numPage)"
   ]
  },
  {
   "cell_type": "code",
   "execution_count": 15,
   "metadata": {
    "scrolled": true
   },
   "outputs": [],
   "source": [
    "dict_pass= dict([])\n",
    "dictLinks_te= saveLink(dict_pass)\n",
    "print(len(dictLinks_te))\n",
    "dictLinks_te"
   ]
  },
  {
   "cell_type": "markdown",
   "metadata": {},
   "source": [
    "## 실행- 링크얻기_완료"
   ]
  },
  {
   "cell_type": "code",
   "execution_count": 50,
   "metadata": {
    "scrolled": false
   },
   "outputs": [
    {
     "name": "stdout",
     "output_type": "stream",
     "text": [
      "337\n"
     ]
    }
   ],
   "source": [
    "# numPages= range(1,338)\n",
    "# dictLinks= dict([])\n",
    "\n",
    "# for numPage in numPages:\n",
    "#     print(numPage)\n",
    "#     movePage(numPage)\n",
    "#     dictLinks= saveLink(dictLinks)\n",
    " \n",
    "# dictLinks\n",
    "\n",
    "# driver.close()\n",
    "# driver.quit()"
   ]
  },
  {
   "cell_type": "markdown",
   "metadata": {},
   "source": [
    "### 저장\n",
    "- [dictionary to csv](https://stackoverflow.com/questions/8685809/python-writing-a-dictionary-to-a-csv-file-with-one-line-for-every-key-value?utm_medium=organic&utm_source=google_rich_qa&utm_campaign=google_rich_qa)\n",
    "    - [writerow one line feed](https://stackoverflow.com/questions/3191528/csv-in-python-adding-an-extra-carriage-return?utm_medium=organic&utm_source=google_rich_qa&utm_campaign=google_rich_qa)"
   ]
  },
  {
   "cell_type": "markdown",
   "metadata": {},
   "source": [
    "###### 저장 성공"
   ]
  },
  {
   "cell_type": "code",
   "execution_count": 65,
   "metadata": {
    "collapsed": true
   },
   "outputs": [],
   "source": [
    "# import csv\n",
    "\n",
    "# with open('data/passLink.csv', 'w', newline='') as csv_file:\n",
    "#     writer = csv.writer(csv_file)\n",
    "#     for key, value in dictLinks.items():\n",
    "#         writer.writerow([key, value])"
   ]
  },
  {
   "cell_type": "markdown",
   "metadata": {},
   "source": [
    "### 읽기"
   ]
  },
  {
   "cell_type": "code",
   "execution_count": 104,
   "metadata": {
    "collapsed": true
   },
   "outputs": [],
   "source": [
    "with open('data/passLink.csv', 'r') as csv_file:\n",
    "    reader = csv.reader(csv_file)\n",
    "    dickLinksRead = dict(reader)"
   ]
  },
  {
   "cell_type": "code",
   "execution_count": 105,
   "metadata": {},
   "outputs": [
    {
     "data": {
      "text/plain": [
       "6306"
      ]
     },
     "execution_count": 105,
     "metadata": {},
     "output_type": "execute_result"
    }
   ],
   "source": [
    "len(dickLinksRead)"
   ]
  },
  {
   "cell_type": "markdown",
   "metadata": {},
   "source": [
    "# 실행- 내용얻기_test"
   ]
  },
  {
   "cell_type": "code",
   "execution_count": 132,
   "metadata": {
    "collapsed": true
   },
   "outputs": [],
   "source": [
    "driver= startWeb()"
   ]
  },
  {
   "cell_type": "markdown",
   "metadata": {},
   "source": [
    "#### 링크에서 각 값 따오기-> dict에 넣기"
   ]
  },
  {
   "cell_type": "code",
   "execution_count": 133,
   "metadata": {
    "scrolled": true
   },
   "outputs": [
    {
     "name": "stdout",
     "output_type": "stream",
     "text": [
      "0\n",
      "1\n",
      "2\n",
      "3\n",
      "4\n",
      "5\n",
      "6\n",
      "7\n",
      "8\n",
      "9\n",
      "10\n",
      "11\n",
      "12\n",
      "13\n",
      "14\n",
      "15\n",
      "16\n",
      "17\n",
      "18\n",
      "19\n",
      "20\n",
      "21\n",
      "22\n",
      "23\n",
      "24\n",
      "25\n",
      "26\n",
      "27\n",
      "28\n",
      "29\n",
      "30\n",
      "31\n",
      "32\n",
      "33\n",
      "34\n",
      "35\n",
      "36\n",
      "37\n",
      "38\n",
      "39\n",
      "40\n",
      "41\n",
      "42\n",
      "43\n",
      "44\n",
      "45\n",
      "46\n",
      "47\n",
      "48\n",
      "49\n",
      "50\n",
      "51\n",
      "52\n",
      "53\n",
      "54\n",
      "55\n",
      "56\n",
      "57\n",
      "58\n",
      "59\n",
      "60\n",
      "61\n",
      "62\n",
      "63\n",
      "64\n",
      "65\n",
      "66\n",
      "67\n",
      "68\n",
      "69\n",
      "70\n",
      "71\n",
      "72\n",
      "73\n",
      "74\n",
      "75\n",
      "76\n",
      "77\n",
      "78\n",
      "79\n",
      "80\n",
      "81\n",
      "82\n",
      "83\n",
      "84\n",
      "85\n",
      "86\n",
      "87\n",
      "88\n",
      "89\n",
      "90\n",
      "91\n",
      "92\n",
      "93\n",
      "94\n",
      "95\n",
      "96\n",
      "97\n",
      "98\n",
      "99\n",
      "100\n",
      "101\n",
      "102\n",
      "103\n",
      "104\n",
      "105\n",
      "106\n",
      "107\n",
      "108\n",
      "109\n",
      "110\n",
      "111\n",
      "112\n",
      "113\n",
      "114\n",
      "115\n",
      "116\n",
      "117\n",
      "118\n",
      "119\n",
      "120\n",
      "121\n",
      "122\n",
      "123\n",
      "124\n",
      "125\n",
      "126\n",
      "127\n",
      "128\n",
      "129\n",
      "130\n",
      "131\n",
      "132\n",
      "133\n",
      "134\n",
      "135\n",
      "136\n",
      "137\n",
      "138\n",
      "139\n",
      "140\n",
      "141\n",
      "142\n",
      "143\n",
      "144\n",
      "145\n",
      "146\n",
      "147\n",
      "148\n",
      "149\n",
      "150\n",
      "151\n",
      "152\n",
      "153\n",
      "154\n",
      "155\n",
      "156\n",
      "157\n",
      "158\n",
      "159\n",
      "160\n",
      "161\n",
      "162\n",
      "163\n"
     ]
    },
    {
     "ename": "KeyboardInterrupt",
     "evalue": "",
     "output_type": "error",
     "traceback": [
      "\u001b[1;31m---------------------------------------------------------------------------\u001b[0m",
      "\u001b[1;31mKeyboardInterrupt\u001b[0m                         Traceback (most recent call last)",
      "\u001b[1;32m<ipython-input-133-8045c4acc379>\u001b[0m in \u001b[0;36m<module>\u001b[1;34m()\u001b[0m\n\u001b[0;32m      4\u001b[0m     \u001b[1;31m#if (76== i):# | (1==i):\u001b[0m\u001b[1;33m\u001b[0m\u001b[1;33m\u001b[0m\u001b[0m\n\u001b[0;32m      5\u001b[0m     \u001b[0mprint\u001b[0m\u001b[1;33m(\u001b[0m\u001b[0mi\u001b[0m\u001b[1;33m)\u001b[0m\u001b[1;31m#, toJob, link)\u001b[0m\u001b[1;33m\u001b[0m\u001b[0m\n\u001b[1;32m----> 6\u001b[1;33m     \u001b[0mmovePageLink\u001b[0m\u001b[1;33m(\u001b[0m\u001b[0mlink\u001b[0m\u001b[1;33m)\u001b[0m\u001b[1;33m\u001b[0m\u001b[0m\n\u001b[0m\u001b[0;32m      7\u001b[0m     \u001b[0mselfintro\u001b[0m\u001b[1;33m,\u001b[0m \u001b[0mduty\u001b[0m\u001b[1;33m=\u001b[0m \u001b[0mgetContent\u001b[0m\u001b[1;33m(\u001b[0m\u001b[1;33m)\u001b[0m\u001b[1;33m\u001b[0m\u001b[0m\n\u001b[0;32m      8\u001b[0m     \u001b[0mdictContents\u001b[0m\u001b[1;33m[\u001b[0m\u001b[0mtoJob\u001b[0m\u001b[1;33m+\u001b[0m\u001b[1;34m' '\u001b[0m\u001b[1;33m+\u001b[0m\u001b[0mduty\u001b[0m\u001b[1;33m]\u001b[0m\u001b[1;33m=\u001b[0m \u001b[0mselfintro\u001b[0m\u001b[1;33m\u001b[0m\u001b[0m\n",
      "\u001b[1;32m<ipython-input-85-c322b3e7b851>\u001b[0m in \u001b[0;36mmovePageLink\u001b[1;34m(link)\u001b[0m\n\u001b[0;32m      1\u001b[0m \u001b[1;32mdef\u001b[0m \u001b[0mmovePageLink\u001b[0m\u001b[1;33m(\u001b[0m\u001b[0mlink\u001b[0m\u001b[1;33m)\u001b[0m\u001b[1;33m:\u001b[0m\u001b[1;33m\u001b[0m\u001b[0m\n\u001b[1;32m----> 2\u001b[1;33m     \u001b[0mdriver\u001b[0m\u001b[1;33m.\u001b[0m\u001b[0mget\u001b[0m\u001b[1;33m(\u001b[0m\u001b[0mlink\u001b[0m\u001b[1;33m)\u001b[0m\u001b[1;33m\u001b[0m\u001b[0m\n\u001b[0m\u001b[0;32m      3\u001b[0m     \u001b[1;32mtry\u001b[0m\u001b[1;33m:\u001b[0m\u001b[1;33m\u001b[0m\u001b[0m\n\u001b[0;32m      4\u001b[0m         element= WebDriverWait(driver, 10).until(\n\u001b[0;32m      5\u001b[0m             \u001b[1;31m# is coming a content?\u001b[0m\u001b[1;33m\u001b[0m\u001b[1;33m\u001b[0m\u001b[0m\n",
      "\u001b[1;32m~\\Anaconda3\\lib\\site-packages\\selenium\\webdriver\\remote\\webdriver.py\u001b[0m in \u001b[0;36mget\u001b[1;34m(self, url)\u001b[0m\n\u001b[0;32m    322\u001b[0m         \u001b[0mLoads\u001b[0m \u001b[0ma\u001b[0m \u001b[0mweb\u001b[0m \u001b[0mpage\u001b[0m \u001b[1;32min\u001b[0m \u001b[0mthe\u001b[0m \u001b[0mcurrent\u001b[0m \u001b[0mbrowser\u001b[0m \u001b[0msession\u001b[0m\u001b[1;33m.\u001b[0m\u001b[1;33m\u001b[0m\u001b[0m\n\u001b[0;32m    323\u001b[0m         \"\"\"\n\u001b[1;32m--> 324\u001b[1;33m         \u001b[0mself\u001b[0m\u001b[1;33m.\u001b[0m\u001b[0mexecute\u001b[0m\u001b[1;33m(\u001b[0m\u001b[0mCommand\u001b[0m\u001b[1;33m.\u001b[0m\u001b[0mGET\u001b[0m\u001b[1;33m,\u001b[0m \u001b[1;33m{\u001b[0m\u001b[1;34m'url'\u001b[0m\u001b[1;33m:\u001b[0m \u001b[0murl\u001b[0m\u001b[1;33m}\u001b[0m\u001b[1;33m)\u001b[0m\u001b[1;33m\u001b[0m\u001b[0m\n\u001b[0m\u001b[0;32m    325\u001b[0m \u001b[1;33m\u001b[0m\u001b[0m\n\u001b[0;32m    326\u001b[0m     \u001b[1;33m@\u001b[0m\u001b[0mproperty\u001b[0m\u001b[1;33m\u001b[0m\u001b[0m\n",
      "\u001b[1;32m~\\Anaconda3\\lib\\site-packages\\selenium\\webdriver\\remote\\webdriver.py\u001b[0m in \u001b[0;36mexecute\u001b[1;34m(self, driver_command, params)\u001b[0m\n\u001b[0;32m    308\u001b[0m \u001b[1;33m\u001b[0m\u001b[0m\n\u001b[0;32m    309\u001b[0m         \u001b[0mparams\u001b[0m \u001b[1;33m=\u001b[0m \u001b[0mself\u001b[0m\u001b[1;33m.\u001b[0m\u001b[0m_wrap_value\u001b[0m\u001b[1;33m(\u001b[0m\u001b[0mparams\u001b[0m\u001b[1;33m)\u001b[0m\u001b[1;33m\u001b[0m\u001b[0m\n\u001b[1;32m--> 310\u001b[1;33m         \u001b[0mresponse\u001b[0m \u001b[1;33m=\u001b[0m \u001b[0mself\u001b[0m\u001b[1;33m.\u001b[0m\u001b[0mcommand_executor\u001b[0m\u001b[1;33m.\u001b[0m\u001b[0mexecute\u001b[0m\u001b[1;33m(\u001b[0m\u001b[0mdriver_command\u001b[0m\u001b[1;33m,\u001b[0m \u001b[0mparams\u001b[0m\u001b[1;33m)\u001b[0m\u001b[1;33m\u001b[0m\u001b[0m\n\u001b[0m\u001b[0;32m    311\u001b[0m         \u001b[1;32mif\u001b[0m \u001b[0mresponse\u001b[0m\u001b[1;33m:\u001b[0m\u001b[1;33m\u001b[0m\u001b[0m\n\u001b[0;32m    312\u001b[0m             \u001b[0mself\u001b[0m\u001b[1;33m.\u001b[0m\u001b[0merror_handler\u001b[0m\u001b[1;33m.\u001b[0m\u001b[0mcheck_response\u001b[0m\u001b[1;33m(\u001b[0m\u001b[0mresponse\u001b[0m\u001b[1;33m)\u001b[0m\u001b[1;33m\u001b[0m\u001b[0m\n",
      "\u001b[1;32m~\\Anaconda3\\lib\\site-packages\\selenium\\webdriver\\remote\\remote_connection.py\u001b[0m in \u001b[0;36mexecute\u001b[1;34m(self, command, params)\u001b[0m\n\u001b[0;32m    464\u001b[0m         \u001b[0mdata\u001b[0m \u001b[1;33m=\u001b[0m \u001b[0mutils\u001b[0m\u001b[1;33m.\u001b[0m\u001b[0mdump_json\u001b[0m\u001b[1;33m(\u001b[0m\u001b[0mparams\u001b[0m\u001b[1;33m)\u001b[0m\u001b[1;33m\u001b[0m\u001b[0m\n\u001b[0;32m    465\u001b[0m         \u001b[0murl\u001b[0m \u001b[1;33m=\u001b[0m \u001b[1;34m'%s%s'\u001b[0m \u001b[1;33m%\u001b[0m \u001b[1;33m(\u001b[0m\u001b[0mself\u001b[0m\u001b[1;33m.\u001b[0m\u001b[0m_url\u001b[0m\u001b[1;33m,\u001b[0m \u001b[0mpath\u001b[0m\u001b[1;33m)\u001b[0m\u001b[1;33m\u001b[0m\u001b[0m\n\u001b[1;32m--> 466\u001b[1;33m         \u001b[1;32mreturn\u001b[0m \u001b[0mself\u001b[0m\u001b[1;33m.\u001b[0m\u001b[0m_request\u001b[0m\u001b[1;33m(\u001b[0m\u001b[0mcommand_info\u001b[0m\u001b[1;33m[\u001b[0m\u001b[1;36m0\u001b[0m\u001b[1;33m]\u001b[0m\u001b[1;33m,\u001b[0m \u001b[0murl\u001b[0m\u001b[1;33m,\u001b[0m \u001b[0mbody\u001b[0m\u001b[1;33m=\u001b[0m\u001b[0mdata\u001b[0m\u001b[1;33m)\u001b[0m\u001b[1;33m\u001b[0m\u001b[0m\n\u001b[0m\u001b[0;32m    467\u001b[0m \u001b[1;33m\u001b[0m\u001b[0m\n\u001b[0;32m    468\u001b[0m     \u001b[1;32mdef\u001b[0m \u001b[0m_request\u001b[0m\u001b[1;33m(\u001b[0m\u001b[0mself\u001b[0m\u001b[1;33m,\u001b[0m \u001b[0mmethod\u001b[0m\u001b[1;33m,\u001b[0m \u001b[0murl\u001b[0m\u001b[1;33m,\u001b[0m \u001b[0mbody\u001b[0m\u001b[1;33m=\u001b[0m\u001b[1;32mNone\u001b[0m\u001b[1;33m)\u001b[0m\u001b[1;33m:\u001b[0m\u001b[1;33m\u001b[0m\u001b[0m\n",
      "\u001b[1;32m~\\Anaconda3\\lib\\site-packages\\selenium\\webdriver\\remote\\remote_connection.py\u001b[0m in \u001b[0;36m_request\u001b[1;34m(self, method, url, body)\u001b[0m\n\u001b[0;32m    488\u001b[0m             \u001b[1;32mtry\u001b[0m\u001b[1;33m:\u001b[0m\u001b[1;33m\u001b[0m\u001b[0m\n\u001b[0;32m    489\u001b[0m                 \u001b[0mself\u001b[0m\u001b[1;33m.\u001b[0m\u001b[0m_conn\u001b[0m\u001b[1;33m.\u001b[0m\u001b[0mrequest\u001b[0m\u001b[1;33m(\u001b[0m\u001b[0mmethod\u001b[0m\u001b[1;33m,\u001b[0m \u001b[0mparsed_url\u001b[0m\u001b[1;33m.\u001b[0m\u001b[0mpath\u001b[0m\u001b[1;33m,\u001b[0m \u001b[0mbody\u001b[0m\u001b[1;33m,\u001b[0m \u001b[0mheaders\u001b[0m\u001b[1;33m)\u001b[0m\u001b[1;33m\u001b[0m\u001b[0m\n\u001b[1;32m--> 490\u001b[1;33m                 \u001b[0mresp\u001b[0m \u001b[1;33m=\u001b[0m \u001b[0mself\u001b[0m\u001b[1;33m.\u001b[0m\u001b[0m_conn\u001b[0m\u001b[1;33m.\u001b[0m\u001b[0mgetresponse\u001b[0m\u001b[1;33m(\u001b[0m\u001b[1;33m)\u001b[0m\u001b[1;33m\u001b[0m\u001b[0m\n\u001b[0m\u001b[0;32m    491\u001b[0m             \u001b[1;32mexcept\u001b[0m \u001b[1;33m(\u001b[0m\u001b[0mhttplib\u001b[0m\u001b[1;33m.\u001b[0m\u001b[0mHTTPException\u001b[0m\u001b[1;33m,\u001b[0m \u001b[0msocket\u001b[0m\u001b[1;33m.\u001b[0m\u001b[0merror\u001b[0m\u001b[1;33m)\u001b[0m\u001b[1;33m:\u001b[0m\u001b[1;33m\u001b[0m\u001b[0m\n\u001b[0;32m    492\u001b[0m                 \u001b[0mself\u001b[0m\u001b[1;33m.\u001b[0m\u001b[0m_conn\u001b[0m\u001b[1;33m.\u001b[0m\u001b[0mclose\u001b[0m\u001b[1;33m(\u001b[0m\u001b[1;33m)\u001b[0m\u001b[1;33m\u001b[0m\u001b[0m\n",
      "\u001b[1;32m~\\Anaconda3\\lib\\http\\client.py\u001b[0m in \u001b[0;36mgetresponse\u001b[1;34m(self)\u001b[0m\n\u001b[0;32m   1329\u001b[0m         \u001b[1;32mtry\u001b[0m\u001b[1;33m:\u001b[0m\u001b[1;33m\u001b[0m\u001b[0m\n\u001b[0;32m   1330\u001b[0m             \u001b[1;32mtry\u001b[0m\u001b[1;33m:\u001b[0m\u001b[1;33m\u001b[0m\u001b[0m\n\u001b[1;32m-> 1331\u001b[1;33m                 \u001b[0mresponse\u001b[0m\u001b[1;33m.\u001b[0m\u001b[0mbegin\u001b[0m\u001b[1;33m(\u001b[0m\u001b[1;33m)\u001b[0m\u001b[1;33m\u001b[0m\u001b[0m\n\u001b[0m\u001b[0;32m   1332\u001b[0m             \u001b[1;32mexcept\u001b[0m \u001b[0mConnectionError\u001b[0m\u001b[1;33m:\u001b[0m\u001b[1;33m\u001b[0m\u001b[0m\n\u001b[0;32m   1333\u001b[0m                 \u001b[0mself\u001b[0m\u001b[1;33m.\u001b[0m\u001b[0mclose\u001b[0m\u001b[1;33m(\u001b[0m\u001b[1;33m)\u001b[0m\u001b[1;33m\u001b[0m\u001b[0m\n",
      "\u001b[1;32m~\\Anaconda3\\lib\\http\\client.py\u001b[0m in \u001b[0;36mbegin\u001b[1;34m(self)\u001b[0m\n\u001b[0;32m    295\u001b[0m         \u001b[1;31m# read until we get a non-100 response\u001b[0m\u001b[1;33m\u001b[0m\u001b[1;33m\u001b[0m\u001b[0m\n\u001b[0;32m    296\u001b[0m         \u001b[1;32mwhile\u001b[0m \u001b[1;32mTrue\u001b[0m\u001b[1;33m:\u001b[0m\u001b[1;33m\u001b[0m\u001b[0m\n\u001b[1;32m--> 297\u001b[1;33m             \u001b[0mversion\u001b[0m\u001b[1;33m,\u001b[0m \u001b[0mstatus\u001b[0m\u001b[1;33m,\u001b[0m \u001b[0mreason\u001b[0m \u001b[1;33m=\u001b[0m \u001b[0mself\u001b[0m\u001b[1;33m.\u001b[0m\u001b[0m_read_status\u001b[0m\u001b[1;33m(\u001b[0m\u001b[1;33m)\u001b[0m\u001b[1;33m\u001b[0m\u001b[0m\n\u001b[0m\u001b[0;32m    298\u001b[0m             \u001b[1;32mif\u001b[0m \u001b[0mstatus\u001b[0m \u001b[1;33m!=\u001b[0m \u001b[0mCONTINUE\u001b[0m\u001b[1;33m:\u001b[0m\u001b[1;33m\u001b[0m\u001b[0m\n\u001b[0;32m    299\u001b[0m                 \u001b[1;32mbreak\u001b[0m\u001b[1;33m\u001b[0m\u001b[0m\n",
      "\u001b[1;32m~\\Anaconda3\\lib\\http\\client.py\u001b[0m in \u001b[0;36m_read_status\u001b[1;34m(self)\u001b[0m\n\u001b[0;32m    256\u001b[0m \u001b[1;33m\u001b[0m\u001b[0m\n\u001b[0;32m    257\u001b[0m     \u001b[1;32mdef\u001b[0m \u001b[0m_read_status\u001b[0m\u001b[1;33m(\u001b[0m\u001b[0mself\u001b[0m\u001b[1;33m)\u001b[0m\u001b[1;33m:\u001b[0m\u001b[1;33m\u001b[0m\u001b[0m\n\u001b[1;32m--> 258\u001b[1;33m         \u001b[0mline\u001b[0m \u001b[1;33m=\u001b[0m \u001b[0mstr\u001b[0m\u001b[1;33m(\u001b[0m\u001b[0mself\u001b[0m\u001b[1;33m.\u001b[0m\u001b[0mfp\u001b[0m\u001b[1;33m.\u001b[0m\u001b[0mreadline\u001b[0m\u001b[1;33m(\u001b[0m\u001b[0m_MAXLINE\u001b[0m \u001b[1;33m+\u001b[0m \u001b[1;36m1\u001b[0m\u001b[1;33m)\u001b[0m\u001b[1;33m,\u001b[0m \u001b[1;34m\"iso-8859-1\"\u001b[0m\u001b[1;33m)\u001b[0m\u001b[1;33m\u001b[0m\u001b[0m\n\u001b[0m\u001b[0;32m    259\u001b[0m         \u001b[1;32mif\u001b[0m \u001b[0mlen\u001b[0m\u001b[1;33m(\u001b[0m\u001b[0mline\u001b[0m\u001b[1;33m)\u001b[0m \u001b[1;33m>\u001b[0m \u001b[0m_MAXLINE\u001b[0m\u001b[1;33m:\u001b[0m\u001b[1;33m\u001b[0m\u001b[0m\n\u001b[0;32m    260\u001b[0m             \u001b[1;32mraise\u001b[0m \u001b[0mLineTooLong\u001b[0m\u001b[1;33m(\u001b[0m\u001b[1;34m\"status line\"\u001b[0m\u001b[1;33m)\u001b[0m\u001b[1;33m\u001b[0m\u001b[0m\n",
      "\u001b[1;32m~\\Anaconda3\\lib\\socket.py\u001b[0m in \u001b[0;36mreadinto\u001b[1;34m(self, b)\u001b[0m\n\u001b[0;32m    584\u001b[0m         \u001b[1;32mwhile\u001b[0m \u001b[1;32mTrue\u001b[0m\u001b[1;33m:\u001b[0m\u001b[1;33m\u001b[0m\u001b[0m\n\u001b[0;32m    585\u001b[0m             \u001b[1;32mtry\u001b[0m\u001b[1;33m:\u001b[0m\u001b[1;33m\u001b[0m\u001b[0m\n\u001b[1;32m--> 586\u001b[1;33m                 \u001b[1;32mreturn\u001b[0m \u001b[0mself\u001b[0m\u001b[1;33m.\u001b[0m\u001b[0m_sock\u001b[0m\u001b[1;33m.\u001b[0m\u001b[0mrecv_into\u001b[0m\u001b[1;33m(\u001b[0m\u001b[0mb\u001b[0m\u001b[1;33m)\u001b[0m\u001b[1;33m\u001b[0m\u001b[0m\n\u001b[0m\u001b[0;32m    587\u001b[0m             \u001b[1;32mexcept\u001b[0m \u001b[0mtimeout\u001b[0m\u001b[1;33m:\u001b[0m\u001b[1;33m\u001b[0m\u001b[0m\n\u001b[0;32m    588\u001b[0m                 \u001b[0mself\u001b[0m\u001b[1;33m.\u001b[0m\u001b[0m_timeout_occurred\u001b[0m \u001b[1;33m=\u001b[0m \u001b[1;32mTrue\u001b[0m\u001b[1;33m\u001b[0m\u001b[0m\n",
      "\u001b[1;31mKeyboardInterrupt\u001b[0m: "
     ]
    }
   ],
   "source": [
    "dictContents= dict([])\n",
    "\n",
    "for i, (toJob, link) in enumerate(dickLinksRead.items()):\n",
    "    #if (76== i):# | (1==i):\n",
    "    print(i)#, toJob, link)\n",
    "    movePageLink(link)\n",
    "    selfintro, duty= getContent()\n",
    "    dictContents[toJob+' '+duty]= selfintro\n"
   ]
  },
  {
   "cell_type": "code",
   "execution_count": 130,
   "metadata": {},
   "outputs": [
    {
     "data": {
      "text/plain": [
       "{'2017년 하반기 삼성전자 DS 합격자 자기소개서 05 지원분야 공통': '1. 삼성전자를 지원한 이유와 입사 후 회사에서 이루고 싶은 꿈을 기술하십시오.(700자 이내)\\n미래지향적인 환경안전 분석가\\n저는 미래의 산업발전과 친환경 경영의 균형을 맞추는 삼성전자의 환경전문가로 최선의 선택을 하고 싶습니다. ‘현재에 최선을 다하라.’라는 말이 있지만, 미래에 대한 준비 없는 최선은 차선이라고 생각하기 때문입니다.\\n삼성전자 DS부문은 DRAM, NAND Flash 제품 등 초미세 공정 기술을 적용하여 차별화된 제품의 생산을 확보하며 전세계 메모리 시장의 선두자리를 지키고 있습니다. 첨단 산업의 진취적인 성장과 더불어, 온실가스 원단위 감축계획 등 미래를 준비하는 친환경정책을 구현하고 있습니다. 저는 환경공학적 전문지식과 경험을 바탕으로 메모리사업부 제품성장을 뒷받침 하는 힘이 되고 싶습니다. 이를 위해 두 가지 역량을 키웠습니다.\\n첫째, 환경 전문가가 되기 위해 분석기술과 예측기술 모두 습득하였습니다. 기초분석실험을 수행하고, 나아가 ‘환경’이란 큰 틀 안에 정책, 경제, 예측모델링 등 다방면의 전문지식을 공부했습니다. 기후변화에 따른 환경 이슈 및 화평법 관련 정책 방향을 정확히 파악하고 있습니다.\\n둘째, R, SPSS 및 Coding기술 등 데이터 분석력을 갖추었습니다. 공정과정 및 화학사고로 유출될 수 있는 유해물질 노출량을 시뮬레이션을 통해 예측하고 혹시 모를 피해 상황에 대처할 줄 아는 관리자가 되겠습니다.\\n글자수 651자   |   1563Byte\\n접기'}"
      ]
     },
     "execution_count": 130,
     "metadata": {},
     "output_type": "execute_result"
    }
   ],
   "source": [
    "dictContents"
   ]
  },
  {
   "cell_type": "code",
   "execution_count": null,
   "metadata": {
    "collapsed": true
   },
   "outputs": [],
   "source": []
  },
  {
   "cell_type": "code",
   "execution_count": 138,
   "metadata": {},
   "outputs": [
    {
     "data": {
      "text/plain": [
       "{'2017년 하반기 BGF리테일 합격자 자기소개서 01 지원분야 | 영업관리': '1. BGF리테일에 지원하게 된 동기와 입사 후 포부에 대하여 기술하시오.\\n[미래 가능성]\\n편의점은 더이상 단순한 슈퍼가 아닙니다. 현재 편의점은 각종 음식과 생필품 등을 제공하는 등 국민의 삶에 큰 편의를 제공하고 있습니다. 또한 편의점은 변화하는 라이프스타일의 변화에 발맞춰 여러 가지 시도를 할 수 있는 무궁무진한 가능성을 가진 산업이라고 생각합니다, BGF리테일에 입사하여 수많은 가능성을 실현시키며 BGF와 함께 성장하고 싶어 지원하게 되었습니다.\\n[SC로의 꿈]\\n저의 첫 아르바이트는 편의점이었습니다. 마케팅적 지식이 전혀 없었던 당시에 저는 당연히 기존에 인기 있던 제품은 잘 팔리고 기존부터 인기가 없던 제품은 잘 팔리지 않을 것으로 생각했습니다. 그런데 물품의 인기만이 판매량을 좌지우지하는 것은 아니라는 것을 깨닫게 되었습니다. 잘 팔리지 않는 물품을 눈높이에 딱 맞는 진열대에 올려놓으니 인기 상품 못지않게 팔려나가는 것을 보고 충격을 받았습니다. 또한, SC의 능력이 점포의 매출에 큰 영향을 끼칠 수 있다는 생각과 함께 영업의 매력을 알게 되었습니다.\\n[입사 후 계획]\\n초년기에는 선배 직원분들을 관찰하고 조언을 구하여 효율적인 점포 운영 노하우를 배우고 직접적인 점포 운영을 통해 저만의 노하우를 만들어 낼 것입니다. 이후에는 점포 운영 경험을 기반으로 가맹주님들의 효율적인 점포 운영을 위해 조언을 드리고 가맹주님들과 소비자들의 목소리에 귀를 기울이며 상생을 추구하는 BGF리테일의 이념을 실천할 것입니다. 그 후에는 점주님들에게 선호도 1위의 SC가 되겠습니다. 많은 점주분들이 초기에 어려움을 겪는다고 들었습니다. 저는 저만의 업무일지를 쓸 계획입니다. 사고 발생 경위와 해결 과정 등을 적어 놓고, 점주님들이 어려워하실 때마다 업무일지를 보며 조언해주는 그런 SC가 되겠습니다.\\n글자수 863자   |   2099Byte\\n접기',\n",
       " '2017년 하반기 CJ대한통운 합격자 자기소개서 01 지원분야 | HRD·HRM': '1. 여러분께서 CJ대한통운을 선택하게 된 지원동기와 물류사업에 관심을 가지게 된 계기에 대해서 구체적으로 작성해주세요.(1,000자 아내)\\n항상 최고의 서비스를 통해 가치를 수 있는 기업에 들어가고 싶었습니다. 그래야 사회 소속 원으로써 사람들에게 기여할 수 있다는 자부심이 들기 때문입니다. 저는 모든 역량을 쏟아 회사에 바치고 그 회사가 발전하여, 세상이 더 좋아질 수 있다면, 무엇보다도 기쁠 것이라고 생각합니다. 그리고 CJ 대한통운의 경영 이념 중에 ‘최적의 SCM을 디자인하여 고객의 자산을 약속된 시간 안에 안전하고 편리하게 전달하는 세상을 만든다.’라는 것을 보았고, 항상 제가 생각하던 이상적인 회사와 적합하다고 생각하여 지원하게 되었습니다.\\n대한민국은 옛날부터 물류 산업의 비중이 큰 국가였습니다. 우리가 일상적으로 편의점이나 마트를 통해 물건을 구입할 수 있는 것은, 물류의 발전과 거기에 기여한 물류 회사의 공이 크다고 생각합니다. 앞으로도 물류 산업의 중요성은 점점 더 커져갈 것으로 전망되며, CJ대한 통운 역시 우리나라뿐만 아니라 세계로 뻗어나가 글로벌 기업으로 커져나갈 것을 의심치 않습니다.\\n최고의 기업에 속해서 저도 최선을 다해 배우겠습니다. CJ 대한통운이 발전하는 것에 발맞춰 저도 인사 직무에서 최고의 전문가가 될 수 있도록 꾸준한 자기계발을 이루겠습니다. 대한통운이 우리나라 물류 산업을 이끄는 것처럼, 제가 가진 역량을 통해 대한통운 발전에 이바지 할 수 있는 사원이 되고 싶습니다. 앞으로도 CJ 대한통운이 국내 물류 No.1 기업의 자리를 유지할 수 있도록, 제가 가진 모든 지식과 경험을 활용하겠습니다.\\n글자수 734자   |   1782Byte\\n접기',\n",
       " '2017년 하반기 CJ올리브네트웍스 합격자 자기소개서 01 지원분야 | 게임기획': \"1. 여러분이 올리브영에 지원한 동기는 무엇인가요? ① 올리브영이 아니면 안되는 이유, ② 해당 직무에 관심을 갖게된 계기, ③ 입사 후 포부를 포함하여 구체적으로 작성해 주세요.(1,000자 이내)\\n[올리브영 내 마음속에 저장]\\n\\n타 H&B스토어가 아닌 올리브영을 선택한 이유는 “우수한 브랜드 발굴력” 때문입니다. 이는 올리브영만의 경쟁력이자 성장원동력이라고 생각하여 입사를 지원하였습니다. 소비자들은 자신이 원하는 브랜드 혹은 특정제품을 판매하는 스토어를 방문하기 때문에 트렌드에 최적화된 상품을 발굴하는 것이 중요합니다. 올리브영은 '원스탑 라이프스타일 플랫폼' 이라는 차별화된 브랜드 정체성과 메디힐, 웨이크메이크, 파파레서피 등 트렌드를 선도하는 제품을 발굴하는 능력이 뛰어납니다. 이처럼 '타 스토어와의 차별화' 라는 과제를 잘 풀어나가고 있는 올리브영은 성장 가능성이 높다고 생각합니다.\\n\\n학부시절 의류매장에서 판매사원으로 일하며 MD직무에 관심을 가지게 되었습니다. 고객응대업무를 하며 고객을 직접 만나는 일이 많았고 현장관리에 대한 중요성을 배울 수 있었습니다. 나아가 직접 소비재를 유통하며 상품을 개발해보고 싶다는 꿈이 생겼고, 더 다양한 제품으로 고객과 소통하고자 MD직무에 지원하였습니다.\\n\\n[이거 사러 올리브영 왔어요]\\n\\n올리브영에만 있는, 올리브영다운 상품 개발 및 관리를 통해 더욱 많은 소비자들의 구매를 이끌어내는 것이 목표입니다. 이를 실현하기 위한 2가지를 말씀드리겠습니다.\\n\\n첫째, 입사 후 상품의 작은 디테일까지 꼼꼼히 살피며 기본기를 다지는 것부터 시작하겠습니다. 소매유통업인 올리브영에서는 디테일이 가장 중요하다고 생각합니다. 트렌드를 파악하는 것은 물론, 담당상품에 대해 아주 작은 부분까지 세밀하게 챙기겠습니다. 상품이 어떻게 소싱이 되고, 재고관리가 되는지, 점포에서 어떻게 판매가 되는지 등 세세한 부분까지 챙겨 성공적으로 상품을 매장에 녹이는 MD가 되겠습니다.\\n둘째, 다양한 목소리에 귀를 기울이겠습니다. 사소한 대화, 작은 아이디어 에서도 대박상품이 나올 수 있다 생각합니다. 고객의 피드백, 동료들간의 대화 등 매장 안 모든 소리에 귀를 기울이고 그 안에서 배울점을 찾아 올리브영에만 있는, 올리브영다운 상품을 개발하겠습니다.\\n글자수 1002자   |   2468Byte\\n접기\",\n",
       " '2017년 하반기 CJ올리브네트웍스 합격자 자기소개서 02 지원분야 | HRD·HRM': '1. 여러분이 올리브영에 지원한 동기는 무엇인가요? ① 올리브영이 아니면 안되는 이유, ② 해당 직무에 관심을 갖게된 계기, ③ 입사 후 포부를 포함하여 구체적으로 작성해 주세요.(1,000자 이내)\\n1. 1등 헬스앤뷰티스토어 올리브영\\n\\n올리브영은 국내 시장 점유율이 73%를 차지할 만큼 절대적인 유통 수를 확보한 기업입니다. 또한, 겟한세일과 같이 20~30대를 겨냥한 이벤트를 진행하고 최고의 매출과 시장 점유율을 보여주는 것을 통해 고객층이 두텁다는 것을 알 수 있습니다. 또한, 올리브영은 2014년부터 꾸준히 점포 수와 시장 점유율이 증가하고 있습니다. 시장에서 확고한 입지와 성장을 보여주는 올리브영을 선택하지 않을 이유는 없다고 생각합니다.\\n\\n2. 회사의 성공을 키우는 인사\\n\\n최고의 성과를 내는 올리브영에 필요한 것은 성과를 지속해서 낼 수 있도록 뒷받침이 되는 인사 제도와 교육이라고 생각합니다. 직원들이 가장 효율적으로 업무를 진행할 수 있는 조건을 고민하고 직무를 제대로 수행할 수 있는 능력을 갖추게 하기 위한 교육을 마련하면 성과를 극대화할 수 있다고 확신합니다. 특히, 무조건 파격적인 인사 제도를 강행하는 것이 아니라 회사와 직원들 모두에게 합리적인 제도를 만들어 회사의 경영 성과를 높이고 싶습니다. 또한, 직원들이 직무 수행에 전문성을 갖추고 자기계발을 통해 보람을 느낄 수 있는 교육 지원 서비스를 마련하여 일하기 즐겁고 유익한 회사로 만들고 싶은 마음에 인사 직무에 관심을 갖게 되었습니다.\\n\\n3. 인공지능을 결합한 인사\\n\\n객관적인 평가는 채용, 교육, 승진, 보상 등 모든 인사 업무에 필수적인 요소입니다. 저는 인공지능을 활용한 인사에 관한 책을 읽고 이를 적용하고 싶다는 포부가 생겼습니다. 인공지능을 활용한다면 채용의 경우 학교, 성적보다는 직무에 맞는 능력과 성향을 객관적으로 측정하는 프로그램을 활용하여 지표를 마련할 수 있습니다. 또한, 직원들의 성과를 체계적으로 관리 및 평가하는 것을 통해 업무에 대한 동기부여를 끌어낼 수 있습니다. 교육 또한 Adaptive Learning 프로그램을 통해 개개인의 능력에 맞는 교육 서비스를 제공함으로써 효율적인 직무 훈련이 가능한 환경을 마련하고 싶습니다.\\n글자수 979자   |   2350Byte\\n접기',\n",
       " '2017년 하반기 CJ제일제당 합격자 자기소개서 01 지원분야 | 마케팅전략·기획': '1. CJ제일제당과 해당 직무에 지원한 동기는 무엇인가요? ① CJ제일제당이어야만 하는 이유, ② 지원 직무에 관심을 갖게 된 계기, ③ 입사 후 성장 목표를 반드시 포함하여 구체적으로 작성해 주세요. (1,000자 이내)\\n\"좋아하는 일을 할 수 있는 직장\"\\n\\n저는 직장을 선택하는 데 있어서 그 일을 즐기면서 할 수 있을지 고민하고, 기업의 미래 성장성이 높은지 고려합니다. 먼저 CJ제일제당 식품마케팅은 제가 즐기면서 일할 수 있는 직장입니다. 저는 자취를 5년 이상하면서 요리를 즐기고, 홍콩 교환학생 때에는 기숙사에서 같이 요리를 즐기던 외국인 친구들과 국제 음식대회에 출전하여 한식을 만들어 판매하기도 했습니다. 홍콩인 팀원들과 상의해 맞춤형 한식과 홍보를 진행해서 저희 팀은 50만 원의 수익과 인기상이라는 결실을 맺었습니다. 따라서 제가 좋아하는 식품 산업에서 소비자가 원하는 것을 준비하는 일을 한다면 재미있게 일할 수 있을 것이라 확신합니다.\\n\\n\\n\\n\"비전을 함께 공유하는 기업\"\\n\\n식품 업계에서 CJ제일제당은 가장 성장성이 보이는 기업입니다. 국내 식품 산업은 1~2인 가구를 중심으로 소비 방식이 개편되면서 가정 간편식 시장과 편의점 시장이 성장하고 있습니다. 이러한 경영환경 속에서 CJ제일제당은 \\'햇반 컵반\\', \\'고메 냉장 간편식\\' 등을 출시해 고객들에게 맛있고 간편한 한 끼를 제공하고 있습니다. 또한 한식 세계화 경영철학을 바탕으로 해외 진출에 박차를 가하여 K-FOOD를 알리고 있습니다. 이러한 끊임없이 도전하는 모습이 글로벌 인재로 성장하고자 하는 제 비전과 같으며, CJ제일제당과 함께 성장하고 싶습니다.\\n\\n\\n\\n\"국내를 넘어 글로벌 마케터로 성장하고자 합니다!\"\\n\\n입사 후에는 식품 마케터로 성장하기 위해 다음과 같은 단기적, 장기적 성장 목표를 성취하고자 합니다. 단기적으로는 다양한 유통 현장에서 경험을 쌓으며 트렌드에 촉을 세우고, 식품 산업, 유통업, 그리고 소비자에 대해 지식을 쌓는 것입니다. OOO 마케팅 인턴을 하며 깨달은 것은 현장에서 고객과 시장에 대한 이해가 제대로 돼 있어야 개선과 혁신을 이끌 수 있다는 것이었습니다. 국내에서 노하우를 쌓은 후 제가 13년을 살았던 OO에서 제품과 브랜드 발굴을 통해 우리나라 식문화를 전파하는 마케터가 되는 것이 비전입니다.\\n글자수 1006자   |   2406Byte\\n접기',\n",
       " '2017년 하반기 CJ제일제당 합격자 자기소개서 02 지원분야 | 생산관리·품질관리': '1. CJ제일제당과 해당 직무에 지원한 동기는 무엇인가요? ① CJ제일제당이어야만 하는 이유, ② 지원 직무에 관심을 갖게 된 계기, ③ 입사 후 성장 목표를 반드시 포함하여 구체적으로 작성해 주세요. (1,000자 이내)\\n[설탕에서 음식까지]\\n인간에게 필요한 3가지 절대요소, 의식주 중에 없어도 살아갈 수 있는 ‘의, 주’ 보다 불가피한 ‘식’이 가장 중요하다고 생각합니다. 그렇게 때문에 식품 제조업은 인류적으로 튼튼한 사업기반이 마련되어있는 셈이고, CJ제일제당은 이런 인류기반적인 산업인 가공식품 시장의 가장 큰 비중을 차지하고 있는 굴지의 1위 이자, 튼튼한 회사입니다.\\n축구선수들이 자신의 발전과 미래를 위해 국내리그보다 더 비전있고 우수한 유럽리그로 진출하는 이치처럼, 그 분야 최고가 되려면 최고의 리그에서 동고동락하며 경쟁해야 한다고 생각합니다. 그렇기 때문에 저 역시 최고의 생산관리자의 꿈을 실현시키기 위해 제일 우수한 무대인 CJ제일제당에서 전문성을 키워, 회사와 더불어 승승장구하고 싶어서 지원했습니다.\\n\\n[꼭 맞는 옷을 입기위한 준비]\\n저는 화공학도로서 다양한 직무의 선택성이 있었지만, 그 중 내가 가장 잘 할 수 있고 즐기면서 할 수 있는 일이 무엇인가 생각해 보았을 때, 고민없이 생산관리직무가 제 성향에 꼭 들어 맞다고 판단하였고 필요한 역량을 쌓아왔습니다.\\n생산관리자는 원활한 생산계획 수립을 위해 타부서와의 원활한 소통 능력과 현장에 대한 적응력 및 문제해결능력이 필요합니다. 저는 컨테이너 상하역 작업, 제철소 및 OO공단 케이블 작업 등의 많은 현장 아르바이트를 통해 현장의 적응력을 얻었고, 다수의 동아리 활동에서 주요직책을 수행하며, 소통과 문제해결능력을 얻었습니다. 또한, 생산관리자는 창의, 도전적인 자세로 공정을 개선하여, 공정 효율을 끌어올려야 하는 역할도 있습니다. 저는 창업 및 학술 동아리 활동을 하며, 다수의 공모전에서 적극적인 아이디어 제안을 통해 몇몇 대회에서 참여하고 수상하는 과정에서 창의력을 기르고 입증하였습니다. 마지막으로, 위험물 산업기사와 산업안전기사 필기를 취득하며, 생산관리자로서 생산팀의 생산능력과 회사 자산을 보호, 유지하기 위한 안전관리 역량을 습득했습니다.\\n이렇게 준비된 역량으로 인정받는 생산관리자로 발전하고 싶습니다.\\n글자수 1006자   |   2470Byte\\n접기',\n",
       " '2017년 하반기 DB하이텍 합격자 자기소개서 01 지원분야 | 생산관리·품질관리': '1. 자신이 가진 열정을 발휘하여 성취감을 느꼈던 경험을 기술하십시오 [ 650자 이내]\\n[나에게 꿈을 선사해준 OO대 반도체 공동연구소]\\n반도체에 대한 관심과 좀 더 많은 경험을 쌓기 위해 OO대 반도체 공정교육을 신청했습니다. 석·박사, 그리고 교수님까지 반도체 단위공정에 대해 심도 있게 교육해주셨고, 이후 Fab에 들어가 실습을 진행했습니다.\\n\\n[처음으로 방진복을 입고 Fab에 들어가다.]\\n가장 기억에 남는 실습은 포토실습입니다. 실습을 진행하기 위해 방진복을 처음으로 입어보았습니다. 비록 눈밖에 보이지 않았지만, 방진복을 입고 에어샤워를 받는 제 모습을 보면서 가슴이 벅차올랐고 반도체 제조공장에서 일하고 싶다는 생각이 들었습니다.\\n포토공정에서는 웨이퍼에 장미무늬를 새기는 실습을 진행했습니다. 실험을 진행하면서 실제 공정에 투입돼서 nano scale의 패턴들을 바라본다면 어떨까, 그 과정에서 발생한 불량, 패턴 개선 등을 진행한다면 어떨까 등 공정과정에서 발생할 수 있는 문제들과 그 문제를 해결하고 싶은 마음이 들었습니다.\\n\\n실습을 통해 반도체 생산공장에 입사하고 싶은 꿈이 생겼고, 시설환경분야에 입사 후 전공을 살려 공장 인프라구축에 많은 기여를 할 수 있다고 생각했습니다. 이후에도 반도체 도서, 온라인 강의를 통해 꾸준히 반도체에 대해 학습 중이고 동부하이텍에 입사하기 위해 한걸음, 한걸음 노력하고 있습니다.\\n글자수 643자   |   1554Byte\\n접기',\n",
       " '2017년 하반기 GS리테일 합격자 자기소개서 01 지원분야 | 영업관리': '1. 지원동기 및 열정에 대하여.\\n[경영주분들을 위해 헌신하겠습니다.]\\n\\n저는 맡은 바에 강한 책임감을 느끼고 조직의 목표달성을 위해 묵묵히 희생, 헌신하는 사람입니다. 경영주분들과 끈끈한 협업을 통해 점포의 성과를 끌어낼 자신이 있어 GS리테일 영업 직무에 도전했습니다.\\n\\n201X년 겨울 OO으로 파견된 봉사단 A팀의 의무지원을 맡았습니다. 고된 주택건축 현장과 낯선 환경 때문에 팀원들의 건강이 신경 쓰였습니다. 특히 여성 팀원들이 걱정되어 매일 따뜻한 물과 비타민B를 챙겨주었고 아침 일찍 제일 먼저 일어나 필요한 의약품을 챙겼습니다. 저녁에는 숙소를 일일이 방문해 팀원들의 상태를 살폈습니다. 그 결과 A팀은 유일하게 20명 전원이 낙오자 없이 마무리할 수 있었습니다. 팀이 모두 무사히 돌아왔다는 점과 제일 열심히 해준 사람으로 저를 뽑아준 팀원들을 보며 큰 만족감을 느꼈습니다. 입사 후 이런 희생과 헌신으로 경영주분들의 든든한 후원자가 되겠습니다.\\n글자수 466자   |   1124Byte\\n접기',\n",
       " '2017년 하반기 GS리테일 합격자 자기소개서 02 지원분야 | 영업관리': '1. 지원동기 및 열정에 대하여.\\n[CVS계의 신화를 이룬 소통 정신]\\n커뮤니케이션학도로서 성공한 리더들의 스피치 방법과 소통 리더십에 대해 배우면서 가장 흥미로웠던 점은 협업과 소통능력에 따라 기업의 성패가 좌우된다는 점이었습니다. 기업문제 중 70퍼센트가 소통의 장애로 발생하는 만큼, 동서고금을 막론하고 ‘소통’은 성공을 이끄는 핵심요소라고 생각합니다. 올바른 소통은 조직 내 화합을 도모하고, 기업이 추구하는 목표를 향해 ‘일로매진’할 수 있게 하기 때문입니다. GS리테일은 네 일, 내 일이 아닌 ‘우리’의 일이라는 공감대를 만들기 위해 파트너사와의 동반성장 세미나와 유어스데이 같은 프로그램을 진행하고, 식목일 나무심기와 같은 행사를 통해 고객의 목소리에 귀 기울이고 있습니다. 지위고하를 막론하고 어떤 일이든 함께 고민하며 해결책을 찾는 것이 소통의 핵심이라고 생각합니다. 이러한 정신을 이어받아 GS리테일에서 영업 인재로 성장하고 싶습니다.\\n글자수 460자   |   1136Byte\\n접기',\n",
       " '2017년 하반기 GS리테일 합격자 자기소개서 03 지원분야 | 영업관리': '1. 지원동기 및 열정에 대하여.\\n대학생시절 아르바이트로 집 앞의 GS슈퍼마켓에서 2달간 아르바이트를 했었습니다. 공산품을 담당하여 매일 들어오는 물품들을 받아 창고에 넣어두고, 비워진 물품들을 매대에 채우는 등 매장의 전반적인 물건들을 관리하였습니다. 편의점 아르바이트와는 차원이 달랐고 체계적인 관리에 놀라웠습니다. 아침미팅을 통해 하루를 시작하기에 앞서 동기를 유발하고, 각 담당자분들과 계약직분들과의 끈끈한 유대감도 느낄 수 있었습니다. 또한 각 파트의 담당자분들의 일에 대한 자부심과 만족도가 높았습니다. 2달간의 짧은 경험이었지만, GS슈퍼마켓에서의 아르바이트는 저에게 유통업에 대한 전반적인 흐름을 일깨워 주었고, 이러한 경험을 살려 GS리테일에 입사 후 매장의 유통흐름을 분석하고 철저한 관리를 통하여 고객에게 신뢰를 주는 매장을 만들고 싶습니다. 또한 매장내 직원들과의 신뢰감을 형성하여 내/외부적으로 강한매장을 만들고 싶습니다.\\n글자수 454자   |   1134Byte\\n접기',\n",
       " '2017년 하반기 GS리테일 합격자 자기소개서 04 지원분야 | 해외마케팅': '1. 지원동기 및 열정에 대하여. (799바이트)\\nGS리테일은 변화에 대응 가능한 다양한 경영/판매방침, 경험과 자산을 겸비했습니다. 특히 FF 전담 연구소를 통한 최신 동향 제품 개발과 도전은 업계 내 압도적인 경쟁력을 보여줍니다. 과감한 투자와 도전으로 발전하는 GS리테일의 모습은 미래 성장을 증명하기에 귀사에 지원했습니다.\\n[f(열정) = 신뢰]\\n“저희 아이는 OO보러 여기만 와요.” GS25 OOO점에서 근무하며 가장 보람찬 순간이었습니다. 주인의식과 고객을 향한 열정으로 신임을 얻은 결과였습니다. 우선 어린이 고객을 위해 매대 모서리마다 테이프로 위험을 사전에 방지하고 특유의 친근함으로 어머님들과 친분을 쌓으며 신뢰를 얻었습니다. 더불어 몸이 불편한 단골손님을 위해 방문 시간에 맞춰 미리 문을 열어놓고 말동무가 되어드리며 고객맞춤 서비스를 제공했습니다. 덕분에 저희 매장은 우수매장으로 선정되었고 이는 고객에 대한 열정 없이 이룰 수 없었을 쾌거였습니다.\\n글자수 460자   |   1112Byte\\n접기',\n",
       " '2017년 하반기 KB국민은행 합격자 자기소개서 01 지원분야 | 개인고객영업': '1. 귀하의 성장과정을 소개하여 주십시오. [ 200자 이내]\\nOOO에서 학창 시절을 보내며 국제학교에서 외국인 친구들과 친해지기 위해 통역 활동, 재즈 밴드와 농구 동아리 활동을 하며 먼저 다가갔습니다. 대학에 와서는 6개월간 OO 교환학생을 떠났고, 중국어를 공부해 가서 일상에서 중국어를 활용할 기회가 많았습니다. 이렇게 저는 도전과 사람을 중요시 여기며 늘 도전하고 성장했습니다.\\n글자수 181자   |   439Byte\\n접기',\n",
       " '2017년 하반기 KT 합격자 자기소개서 01 지원분야 | 기술직': '1. 회사 및 해당 직무에 지원한 동기와 입사 후 회사에서 이루고 싶은 중장기적 목표를 기술해 주십시오.\\n\\nKT Skylife는 국내 유일의 위성방송 사업자입니다. 또한 그 타이틀에 걸맞게 최초의 디지털 방송, 3D, UHD 방송 기술 등 독보적인 기술력은 물론, 현재에 안주하지 않고 끊임없이 변화에 도전하는 기업입니다. 이는 전기전자의 여러 분야를 접해왔고, 앞으로도 접하고 싶은 제게 큰 의미로 다가옵니다. 기술의 최전선에서 여러 기술들을 접하고 연구 할 수 있는 기회는 흔하지 않기 때문입니다. 혹시 그런 기회가 있다고 하더라도 신기술을 구상하고 이를 상상에 그치지 않게 실현하는 회사는 거의 없습니다. 제게 있어서 기술은 ‘분야에서의 전문성은 물론 현실에 안주하지 않고 미래 시장을 주도하며, 이를 실현한다.’ 라는 의미입니다. KT Skylife는 시장의 흐름을 따르는 기업을 넘어 독보적인 기술로 그 미래를 주도할 수 있다고 생각합니다. 4차 산업혁명이 이미 시작되었고 그만큼 현대 기술은 매우 빠르게 발전하고 있습니다. 그 중 방송산업은 사람들의 삶에 직결되어 편리성과 변화 속도를 즉각 체감할 수 있습니다. 그 중 방송 산업의 미래는 과거처럼 TV에만 국한되는 것이 아닌, 인터넷과 모바일 기술도 결합되어야 한다고 생각합니다. 그렇기에 저는 인공지능을 통한 사물인터넷이 결합된 방송기술을 구현하고 싶습니다. 그리고 이를 KT Skylife가 미래 방송기술을 향해 걸어가는 길에서 이루고 싶습니다.\\n글자수 676자   |   1598Byte\\n접기',\n",
       " '2017년 하반기 KT 합격자 자기소개서 02 지원분야 | 네트워크관리': '1. 회사 및 해당 직무에 지원한 동기와 입사 후 회사에서 이루고 싶은 중장기적 목표를 기술해 주십시오. (최대 700자 입력가능)\\n대학교에 입학하면서 저는 삶을 윤택하게 만드는 기술에 관심이 있었습니다. 그 중에서도 우리의 한계를 극복하고, 다양한 문제해결에 도움을 주는 통신 분야에 관심을 가졌습니다.\\n저는 통신공학, 디지털통신 과목에서 아날로그 및 디지털 통신에 대한 지식을 습득하고, MATLAB으로 라디오 및 PAM 방식의 통신 송수신 시뮬레이터를 만들어보며 실력을 키워왔습니다. 또한, 이에 그치지 않고 통신시스템연구실에서 공부하면서 6개월간 산학 프로젝트에 참가했습니다. 실제로 통신이 어떻게 사용되는지 배울 수 있었고, 프로젝트에 기여함으로써 성취감을 느꼈습니다.\\n그래서 저는 대학교에서 가장 열심히 공부한 분야이자, 많은 것을 경험하게 해준 통신 분야에 종사하고 싶어 네트워크 관제/운용 직무에 지원하였습니다.\\nIoT와 빅데이터가 현시대에 중요한 기술이 되고 있습니다. 이에 저는 네트워크 서비스에 최적화된 KT에서 제 꿈을 펼치고 싶습니다. Network Node부터 말단에 이르는 안테나까지 모든 흐름을 완벽하게 숙지하고 전문성을 기해 고객들의 서비스 품질 향상을 이루어내겠습니다. 또한, 여러 가지 라우터나 교환기에서 일어나는 트러블들을 신속하게 문제 해결을 하여 트러블이 다시 반복되어 일어나는 일이 없도록 완벽한 업무수행을 해내겠습니다. 글로벌 1등을 비전으로 하는 KT에 걸맞은 일원이 되기 위해 끊임없는 자기계발을 하여 비전 달성에 기여하겠습니다.\\n글자수 696자   |   1690Byte\\n접기',\n",
       " '2017년 하반기 LG디스플레이 합격자 자기소개서 01 지원분야 | 공정엔지니어': '1. 해당회사 및 직무에 지원하는 동기에 대해 기술해 주십시오.\\nGuide> 성격(장단점), 직무에 관련된 경험 및 역량, 관심사항, 개인의 목표 및 비전 등 자신을 어필할 수 있는 내용을 기반으로 자유롭게 기술하시기 바랍니다. 1000자\\n[역량을 발휘할 수 있는 직무]\\n\\n석사 과정 동안 진행했던 OOO의 연구 경험은 디스플레이에 대한 전반적인 지식과 연구 능력을 키우게 된 가장 결정적인 계기가 되었습니다. 이를 계기로 선진연구를 통해 차세대 디스플레이 분야를 이끌어가는 연구원이 되겠다는 목표를 가지게 되었습니다. 특히, 독자적인 기술과 창의적인 아이디어를 기반으로 전자제품 산업을 이끌어가는 LG디스플레이 Panel 설계 직무에 매료되었고, 저의 역량을 발휘 할 수 있는 부서라고 생각하였기에 지원하게 되었습니다.\\n\\n\\n[이론과 실무 경험을 갖춘 연구원]\\n\\n저는 향후 차세대 디스플레이의 기술 혁신을 주도하기 위한 전문성을 키우기 위해 디스플레이, 광학, 반도체, 신소재 등의 이론적인 지식을 쌓도록 노력하였습니다. 전공에 대한 기반을 튼튼히 한 결과 모든 학기에 성적장학금을 받을 수 있었고, 학과 수석으로 인한 학업우수상, 졸업우수상을 받았습니다. 또한, 대학원에서 논문 및 서적을 통해 반도체 및 디스플레이 관련 내용을 꾸준히 학습하여 전문적인 지식을 습득하였습니다. 하지만, 이론에 국한된 연구원은 허울뿐이라고 생각하여 디스플레이, 재료 및 반도체 공정과 관련 된 실무 경험을 쌓았습니다. 디스플레이 분야에 대한 식견을 넓히고자 다양한 학술대회에 참여함으로써 해외 학회 발표를 하였고, 국내 학회 포스터 상을 수상하였습니다. 또한, 3회에 걸친 산학협력 실습과 다수의 프로젝트에 참여함으로써 반도체 공정에 대한 경험을 쌓았으며, 기업의 연구원 분들과 실험 방향에 대해 같이 고민하고, 결과에 대해 토의하는 등의 일련의 연구 과정을 배웠습니다. 이를 통해 연구원으로서 한 단계 성장 할 수 있었다고 생각합니다.\\n\\n디스플레이 분야의 이론 및 연구에 관련된 역량을 키워 빠르게 변화하는 시대의 흐름을 이끌어가는 연구원이 되도록 노력하겠습니다. 또한, 디스플레이 관련 주력 사업 분야에서 핵심 기술역량을 개발하여 향후 LG디스플레이 Panel 설계 부서의 핵심 연구원으로 자리매김하고 싶습니다.\\n글자수 989자   |   2401Byte\\n접기',\n",
       " '2017년 하반기 LG디스플레이 합격자 자기소개서 02 지원분야 | 공정엔지니어': '1. 해당회사 및 직무에 지원하는 동기에 대해 기술해 주십시오. [100자 ~ 1000자]\\n4학년 1학기, 고분자공업화학에서 액정에 대해 배우면서 액체가 anisotropic을 보이는 물질이라는 점에서 흥미를 느꼈습니다. 디스플레이에 관심을 갖고 자료를 수집하면서 LG디스플레이의 WOLED 기술에 대해 알게 되었습니다. 생산 수율이 낮아 대형 OLED TV 사업을 철수시킨 타사와 달리 WOLED 기술을 적용하여 생산 수율을 해결하고 가격 경쟁력을 확보한 것을 알게 되었습니다. 디스플레이 1위 기업임에도 불구하고 적극적인 투자를 통해 발전한다는 점에서 끊임없이 높은 목표를 추구한다는 저의 가치관과 부합하여 지원하게 되었습니다.\\nLG디스플레이 입사의 목표를 달성하기 위해 두 가지 경험을 통하여 기초 지식을 쌓았습니다.\\n첫째, 디스플레이 관련 교육을 이수하였습니다. OOO과 OOO 교육을 통해 디스플레이에 대한 이해를 높였습니다. 화학을 전공하면서 이해하지 못하는 디스플레이의 광학적 특성을 디스플레이광학을 통해 이해할 수 있었습니다. 또한, 차세대 디스플레이와 회로 쪽으로 기초 지식을 쌓기 위해 Display pixel 회로 및 공정을 수강하면서 차세대 재료와 기술을 알게 되었습니다.\\n둘째, 공정 관련 교육에 참가하여 생산성 향상 방법을 실습으로 배웠습니다. 통계적공정관리(SPC) 과정을 이수하면서 버스의 규격을 Gage R and R로 측정한 후, data를 x bar R 관리도로 나타내어 기업의 품질 기대 수준에 만족하는지 평가하였습니다. 또한, 식스시그마 GB 과정에서 OOO 프로젝트를 실습하면서 발생한 VOC에 대해 DMAIC 기법을 적용하여 시그마 수준을 향상한 경험이 있습니다. 실제로 1차 실습에서 총 배송시간에 대한 단기 시그마는 0.34시그마 수준이었지만 DMAIC 기법을 적용한 개선활동을 통해 2차 실습에서는 3.43시그마 수준으로 개선하였습니다.\\nLG디스플레이에 입사하게 된다면 디스플레이 교육과 공정 교육으로 배운 기초 지식을 바탕으로 빠르게 업무에 적응하고 전문 기술을 습득하여 생산성 향상에 힘쓰겠습니다.\\n글자수 987자   |   2281Byte\\n접기',\n",
       " '2017년 하반기 LG디스플레이 합격자 자기소개서 03 지원분야 | 공정엔지니어': '1. 해당회사 및 직무에 지원하는 동기에 대해 기술해 주십시오. [100자 ~ 1000자]\\n[LG디스플레이와 비전을 나누다]\\n\\n제 목표를 글로벌 시장에서의 No1을 비전으로 하는 LG디스플레이에서 이루고 싶습니다. 제 목표는 앞으로의 경험과 제가 가진 역량을 통해 공정 수율 극대화를 이루는 것입니다. 제 목표와 LG디스플레이의 비전을 다음의 경험과 역량을 통해 이루기 위해 지원했습니다.\\n\\n첫째, 공정분야에 대한 간접 경험이 있습니다. OO 고용디딤돌을 통해 자동차 부품은 물론 제조업에서 통용되는 공정과 품질, 생산 프로스세 등에 대해 자세히 배울 수 있었습니다. 비록 자동차 부품에 포커스가 맞춰진 교육이었지만 같은 제조업인 디스플레이 분야에서 많은 부분이 공통으로 적용될 것이고 또한 자동차 부품에서만 쓰이는 공정들이 디스플레이 공정과 융합된다면 더 큰 시너지를 만들 수 있다고 생각합니다.\\n\\n둘째, 해외플랜트인재양성 교육에 참가했습니다. OO교육원에서 주관한 해외플랜트인재양성 교육을 통해 공장의 품질, 시공, 설비 등 플랜트에 관련된 다양한 분야의 지식을 배울 수 있었습니다. 디스플레이의 생산은 공장에서 이루어지기 때문에 이 교육에서 배운 지식과 기술들이 많은 도움이 될 것입니다. 또한 Primavera 교육도 같이 이수해 공정의 효율성을 높이는 곳에 적극적으로 활용하겠습니다.\\n\\n셋째, 학부 전공 과목을 이수했습니다. 물리전자공학과 반도체소자를 통해 반도체와 디스플레이에 대해 배울 수 있었습니다. 학부 수준의 지식이지만 입사 후 계속 발전시켜 실무에 적용하겠습니다.\\n\\n넷째, 저는 반복을 좋아합니다. 같은 일을 반복하고 그 과정에서 미세한 차이의 시도를 계속해나간다면 다양한 결과를 얻을 수 있기 때문입니다. 수십단계로 세분화되어 있는 디스플레이 공정 분야에서의 반복을 통해 다양한 결과를 만들어내고 그 중에서 가장 최선의 결과를 찾아내겠습니다.\\n\\n이상의 네가지 경험 및 역량을 바탕으로 LG디스플레이와 함께 더 발전하는 인재가 되겠습니다.\\n글자수 933자   |   2271Byte\\n접기',\n",
       " '2017년 하반기 LG디스플레이 합격자 자기소개서 04 지원분야 | 기계·기구설계': '1. 1.해당회사 및 직무에 지원하는 동기 1000자\\n[기회를 찾아야 기회를 만들 수 있다.]\\n저는 재학 중 학부연구생 생활을 하였습니다. 그러면서 스마트쉽 관련 프로젝트에 참여 하게 되었습니다. 4차 산업 시대의 도래로 선박분야에서도 ICT의 개념이 중요해 지면서 스마트쉽과 관련된 기술이 굉장히 각광받고 있었습니다. 뿐만 아니라 오늘날 모든 산업을 연결하는 혁명의 시작이 바로 반도체라는 것을 알게 되었고 굉장히 매력적인 학문이라고 생각하였습니다.\\n\\n이러한 관심은 디스플레이 산업에 대한 가능성으로 연결되었습니다. 영화에서만 보던 제품들이 현실로 다가오는 것을 보면서 무엇보다 우리 실생활에 가깝고 큰 즐거움을 주는 기술에 끌림이 있었고 저 역시 이런 혁명에 기여하고 싶었습니다. 개인적인 관심으로 관련 교육을 이수하여도 전공적인 부분을 배우기엔 어려운 점이 많았습니다. 그러던 중 결국 제품을 만들기 위해서는 그에 맞는 특별한 하드웨어가 필요하고 이를 만들어 내는 데 제가 갖고 있는 전공이 도움이 될 수 있을 것이라고 확신하였습니다. 제가 LG디스플레이를 선택한 이유는 바로 이러한 관심과 스스로의 가능성을 보았기 때문입니다. 저는 현재 부족한 관련 전문성을 높이기 위해 강의를 통한 개인적인 공부와 관련기관에서 주최하는 교육에 참여하고 있습니다. 또한 기계전공의 장점을 살려 기구설계 분야에서 빠른 적응력을 가질 수 있다고 생각합니다. 이를 바탕으로 전문 지식에 대한 습득과 응용력을 길러 전문성을 갖춘 인재가 되고 싶습니다.\\n\\n자신감은 각오가 아니라 준비라고 생각합니다. 충분한 자격을 갖추기 위해 부단히 노력하고 그렇게 자신의 분야에서 존경받는 사람이 되는 것이 저의 꿈입니다. LG디스플레이라는 최고의 파트너와 함께 내일을 밝게 빛내는 엔지니어로 성장하겠습니다.\\n글자수 858자   |   2112Byte\\n접기',\n",
       " '2017년 하반기 LG디스플레이 합격자 자기소개서 05 지원분야 | 연구·실험·기술': '1. 해당 회사 및 직무에 지원하는 동기에 대해 기술해 주십시오.(1000자)\\n( 성격장단점, 직무에 관련된 경험 및 역량, 관심사항, 개인의 목표 및 비전 등 자신을 어필할 수 있는 내용을 기반으로 자유롭게 기술하시기 바랍니다.)\\n[미래지향적인 환경 전문가]\\n미래의 산업발전과 친환경 경영의 균형을 맞추는 LG디스플레이의 환경 전문가로 최선의 선택을 하고 싶습니다. ‘현재에 최선을 다하라.’라는 말이 있지만, 미래에 대한 준비 없는 최선은 차선이라고 생각합니다. 올해 출시된 TV 디스플레이는 유해물질 저감, 자원 효율성, 재활용성 등 친환경 요소를 평가한 결과 업계 최초로 글로벌 친환경 인증기관인 SGS로부터 친환경 인증을 획득했습니다. 저는 분석경험과 환경공학적 전문지식을 바탕으로 완전한 환경관리를 수행하며 LG디스플레이의 성장을 뒷받침하고 싶습니다. 이를 위해 세 가지 역량을 키웠습니다.\\n\\n첫째, GC-MS, ICP-MS 등 분석기기 경험이 있습니다. 제품개발 공정상에 발생할 수 있는 화학물질을 분석해 문제를 파악하겠습니다.\\n둘째, ‘환경’이란 큰 틀 안에 정책, 경제, 예측모델링 등 다방면의 전문지식을 공부했습니다. 이를 바탕으로 LG디스플레이 환경관리의 멀티플레이어가 되겠습니다.\\n셋째, R, SPSS 및 프로그래밍을 통한 데이터 분석력을 갖추었습니다. 시뮬레이션을 통해 화학사고 및 공정상 노출경로를 예측하고 대비하는 전문가가 되겠습니다.\\n\\n[지피지기(知彼知己) in Global]\\n환경 직무는 LG디스플레이의 모든 공정 분야의 근간으로 세계시장의 친환경 트렌드를 파악하는 것이 필요합니다. ‘지피지기면 백전백승’이라는 말처럼, 발전을 도모하기 위해서는 나를 아는 것이 우선입니다. 저는 세계 속 현 위치를 파악하고자 노력한 경험이 있습니다. 환경 내 화학물질들의 노출 및 독성평가에서, 제 연구가 가지는 의미와 발전 방향을 알고자 국제학회를 신청했습니다. 연구계획서 심사 끝에 연구비를 지원받아 학회에 참석할 수 있었고, 스위스, 미국, 독일 등 다양한 국적의 연구진을 만나 의견을 들을 수 있었습니다. 이를 제 연구에 반영했고, 한 층 더 발전한 논문을 제출할 수 있었습니다. 경험으로 얻은 지피지기의 신념으로 친환경 공정기술 및 관리 방향을 세계 속에서 찾을 줄 아는 사원이 되겠습니다.\\n글자수 1000자   |   2396Byte\\n접기',\n",
       " '2017년 하반기 LG상사 합격자 자기소개서 01 지원분야 | 해외영업·무역영업': '1. 지원분야 지원 동기 / 성장 과정 (학창 시절 등)\\n[영어를 기반으로 능력을 확장한 도전 정신]\\n\\n저는 새로운 도전을 통해 성장하는 사람입니다. 자원 개발이라는 신사업을 통해 난관을 극복한 LG상사의 과정과 저의 성장 과정이 닮았다고 생각합니다.\\n\\n해외 거주 경험으로 영어 능력이 있었지만 저는 영어만으로는 한계가 있다는 것을 느꼈습니다. 그래서 저는 경제학을 복수 전공하고 새로운 분야에서의 경험을 하기 위해 노력했습니다. 또한, 영어 학원과 다른 근무 환경을 경험하기 위해 노력했는데 3D 프린터 관련 스타트업 회사의 문을 두드린 것이 지금의 저를 있게 한 용기 있는 선택이라고 생각합니다.\\n\\n경제학을 공부한 저는 출판사에서 경제 문제집을 편집하는 업무를 담당할 수 있었습니다. 새로운 근무 환경에서 저는 문서 작성 능력과 영어 학원에서 경험할 수 없는 발주 및 수주 업무를 경험할 수 있었습니다. 또한, 경제라는 새로운 지식은 OO은행에서 업무를 진행할 때도 금융 상품을 판매하거나 대출 업무를 이해하는 데 많은 도움이 됐습니다.\\n\\n또한, OOO에서는 홈페이지 번역을 위해 채용됐지만, 업무 영역을 넓히기 위해 노력했습니다. 3D 프린터 조작법과 프로그램 사용법을 익혀 시제품 의뢰가 들어오면 직접 출력하기도 하고 SNS 마케팅, 해외 디자이너 섭외와 같은 업무를 자발적으로 찾아 진행했습니다. 그런 노력을 좋게 봐주신 대표님은 저와 함께 사업 발표 대회에 참가하자고 하셨고 장려상을 받을 수 있었습니다.\\n\\n이렇게 저는 다양한 업무 경험을 통해 더욱 능력을 갖춘 사람으로 성장했습니다. 그렇게 성장하기 위해서는 전략과 용기가 필요했습니다. 영어 능력을 활용하여 다른 산업에 도전하면서 조금씩 업무 범위를 넓힌 저는 LG상사가 자원 개발을 진행하는 회사로 성공적인 전환을 이루는 것과 닮은 성장 과정을 가졌다고 생각합니다.\\n글자수 882자   |   2138Byte\\n접기',\n",
       " '2017년 하반기 LG이노텍 합격자 자기소개서 01 지원분야 | 광학기구': '1. 이노텍과 지원 분야를 선택하신 이유를 구체적으로 기술(100~500)\\n[전동기과목으로 배운 지식과 모터 개선 졸업과제]\\n\\n전기기기1을 수강하면서 전동기에 대한 관심이 생겼습니다.\\n그 후 시간표를 짤 때에 전기기기2, 전동기제어, 전력전자, 제어공학 등 전동기 관련 과목을 수강하였습니다.\\n처음에는 별개의 과목이라고 생각했지만 수업을 듣고 실습을 해보니 각각의 과목이 서로 연결되어 있다는 사실을 알 수 있었습니다.\\n\\n유독 모터 속도와 위치 등을 제어하는 개념을 설명하는 단원이 과목마다 있었습니다.\\n개념들이 서로 비슷하면서 다른 내용이라 생각하여 공부할 내용도 방대하다고 느꼈습니다.\\n헷갈리는 개념을 정리하기 위해 관련 내용을 전공책과 DBPIA논문을 참고하여 공부를 하다 보니 한 가지 사실을 알 수 있었습니다.\\n다른 내용이라 생각했던 개념들이 크게 보면 모터제어라는 범주 안에 있다는 것을 깨달았습니다.\\n\\n이러한 전공경험은 차량용 모터 개발 업무에도 필요한 능력이라 생각하여 LG이노텍 전장부품사업부에 지원하였습니다.\\n글자수 484자   |   1176Byte\\n접기',\n",
       " '2017년 하반기 LG이노텍 합격자 자기소개서 02 지원분야 | 기계·기구설계': '1. 지원동기\\n[즐거움으로 함께 성장할 회사]\\n저는 ‘즐거운 마음으로 최선을 다해 일할 수 있고, 함께 성장할 수 있는 곳’에서 일하고 싶습니다. 그것을 통해 고객에게 최고의 가치를 제공할 수 있다고 생각하기 때문입니다. 제가 즐겁게 일하면 동료에게도 긍정적인 효과를 줄 뿐만 아니라 최고의 품질과 최상의 서비스를 제공하여 LG이노텍의 이익 창출에도 앞장설 수 있다고 생각합니다.\\n저는 기계공학을 전공하며 ABEEK 공학 인증을 받고, 4대 역학과 함께 여러 전공지식을 습득하며 업무에 필요한 지식을 준비했습니다. 또한, 강의와 프로젝트에서 CATIA로 직접 부품을 설계해보고 ANSYS로 해석해보며 느꼈던 즐거움은 연구개발 직무에 흥미를 갖게 해주었습니다. 이것을 바탕으로 Hardware에서 직무를 수행하기 위해서 모터에 관한 지식을 더욱 폭넓게 공부하며 더욱 성장할 것입니다. 최고의 전장부품 설계 능력과 확실한 체계를 갖추고 있는 LG이노텍은 저를 더욱 발전시킬 스승이 되어줄 것이라 확신합니다.\\n글자수 497자   |   1185Byte\\n접기',\n",
       " '2017년 하반기 LG이노텍 합격자 자기소개서 03 지원분야 | 생산관리·품질관리': \"1. [지원동기] 'LG이노텍'과 '지원 분야'를 선택하신 이유를 구체적으로 기술해주십시오.\\n산업기능요원으로 복무하면서 제품을 직접 만든 후 보람을 느낀 경험이 있습니다. 제가 직접 만든 에어 샤프트를 이용해 만든 휴지, 종이를 일상생활에서 사용하며 '나의 노력이 들어간 첫 공산품!'이라는 생각을 하며 일에 대한 자긍심을 느낄 수 있었습니다. 만일 '전공지식과 관련 있는 분야에서 제조업무를 하게 되면 얼마나 즐겁게 일을 할 수 있을까?'라는 생각이 들었습니다. 주위에서 쉽게 볼 수 있는 휴대전화, 차량, TV 등에 들어가는 핵심 소재 및 부품 대부분은 LG이노텍의 손길이 닿아있는 것입니다. LG이노텍에 입사하여 직접 제품을 제조하게 된다면, 거리를 돌아다닐 때마다 '저 제품도 나의 손이 닿은 것'이라는 생각을 자주 들 것이고, 그때마다 보람을 느끼게 되면서 회사에 대한 자부심뿐만 아니라 일찍 출근하고 싶다는 생각도 들 것입니다.\\n\\n이러한 긍정적인 향기는 저뿐만이 아닌 다른 사람들에게 퍼져 출근하고 싶은 회사를 만들 것이고, 일의 효율을 높일 것입니다.\\n글자수 488자   |   1172Byte\\n접기\",\n",
       " '2017년 하반기 LG이노텍 합격자 자기소개서 04 지원분야 | QAA·통화품질': \"1. [지원동기] 'LG이노텍'과 '지원 분야'를 선택하신 이유를 구체적으로 기술해주십시오.\\n[COF 경쟁력 - 신뢰성 확보]\\n\\n제가 LG이노텍에 지원한 이유는 COF 같은 패키지용 기판 신뢰성 경쟁력 때문입니다. 소재 측면에서 얇은 필름을 활용하여 회로 Pitch를 25㎛의 미세한 패턴 형성을 통해 초슬림 및 유연성을 통한 신뢰성 확보를 하였습니다\\n이를 통해 LG이노텍만의 소재를 통한 신뢰성 확보의 가치를 느낄 수 있었습니다.\\n\\n또한, 품질 분야에 지원한 이유는 반도체 시장 관련 신뢰성 검사 경험 때문입니다. 측정은 국제 표준인 JEDEC을 준수하여 실시하였습니다. 표준의 핵심은 반복적인 측정 시 장비의 보정이 핵심이라는 것을 알 수 있었습니다. 저는 주기적으로 장비의 주파수를 보정하여 검사를 진행하였고, 덕분에 신뢰도 있는 결과를 얻을 수 있었습니다.\\n이를 통해 신뢰성 검사업무 수행 시 주기적인 장비 보정의 중요성을 배울 수 있었습니다.\\n\\n따라서 품질 업무 중 COF 같은 기판의 신뢰성 검사 업무 시 저만의 경험을 녹여내고 싶습니다.\\n글자수 479자   |   1121Byte\\n접기\",\n",
       " '2017년 하반기 LG전자 합격자 자기소개서 01 지원분야 | 연구·실험·기술': '1. 1.본인이 지원한 직무관련 지원동기와 역량에 대하여(1000)\\n[H/W와 S/W의 연결고리]\\n\\nH/W와 S/W를 아울러 생각 할 수 있다는 것은 R&D 하드웨어 직무에 적합한 능력이라고 생각합니다.\\n전기기기 수업을 수강하면서 전동기분야에 흥미가 생겼습니다.\\n수업 이후, 전동기분야에서 일을 하고 싶다는 생각을 하여 관련된 전공수업이 열릴 때 마다 수강하였습니다.\\n\\n‘전기기기’ 라는 과목을 수강하여 전동기 하드웨어에 관한 기초적 지식을 쌓은 후, 졸업과제로 전동기의 효율을 개선하였습니다.\\n효율을 개선하기 위해 전동기의 구조를 변경하였습니다.\\n세그웨이에 사용하는 전동기를 구입하고 제원을 측정한 뒤, Maxwell 프로그램을 사용하여 회전자 길이를 조정하고, 고정자 구조를 바꾸었습니다.\\n그 결과 역기전력 고조파가 줄어 효율이 79%에서 88%로 상승하였습니다.\\n\\n또한 ‘전동기 제어’를 수강하며 소프트웨어에 관한 내용을 공부하였습니다.\\n주로 AC모터, 그 중에서도 영구 자석형 동기전동기에 관하여 중점적으로 배운 뒤, 이 내용을 바탕으로 피드백 제어 실습을 하였습니다.\\n실습 내용은 ‘code composer studio’ 프로그램을 사용하여 영구 자석형 동기전동기를 제어하는 것이었습니다.\\n우선, 지령 속도에 맞게 모터가 회전하도록 코딩을 하였습니다. 그 뒤 피드백 제어하여 외란이 있는 경우에도 속도가 지령 값에 근접하게 구동하였습니다.\\n\\n기존의 전동기 설계를 변경하여 효율을 개선하고 제어기 코딩실습을 하며 H/W와 S/W 2가지를 아울러 생각하는 힘을 길렀습니다.\\n이러한 전공 경험은 전동기를 제어하고 설계하는 R&D하드웨어 직무에 적합한 능력이라고 생각하여 LG전자 H&A사업부 R&D HW에 지원하였습니다.\\n글자수 824자   |   1920Byte\\n접기',\n",
       " '2017년 하반기 LG전자 합격자 자기소개서 02 지원분야 | 연구·실험·기술': '1. 본인이 지원한 직무관련 지원동기와 역량에 대하여(1000자)\\n재료공학도로서 미래시대에 가장 중요한 산업을 다루고 싶었습니다. 그리고 미래 산업의 발전에서 디스플레이는 가장 큰 역할을 하고 있다고 생각합니다. 과거부터 디스플레이는 많은 사람들의 눈이 되어왔고 세상의 모든 것들을 작은 화면 안에 담아냈습니다. 또한 앞으로는 더욱 발전된 디스플레이가 우리 생활의 다양한 분야에 이용될 것입니다. 이렇듯 디스플레이는 미래 산업 개발의 속도를 좌우하고 있습니다. 저는 오래전부터 공학도로서 산업의 발전을 이끌고 싶어 했으며, 디스플레이 제품과 관련된 연구를 할 수 있는 LG전자 HE사업본부 R&D 기구에 지원하게 되었습니다.\\n저는 R&D 분야에서 근무하기 위해 필요한 역량을 쌓기 위해 그동안 끊임없는 자기개발을 해왔습니다. 우선 신소재공학과의 학부 수업을 통해서 디스플레이 재료, 전자재료개론 등의 과목을 수강했고, 실무에 필요한 기본 지식들을 쌓았습니다. 또한 교내 나노 시스템 응용 연구실에서 인턴십을 하면서 연구 직군에서 필요한 역량을 개발해 나갔습니다. 광촉매에 대한 논문을 직접 찾아가며 공부하고, 직접 실험도 해보면서 연구실의 업무 수행 과정을 알게 되고, 끊임없이 탐구하고 문제를 해결하는 연구자의 능력을 향상시킬 수 있었습니다. 이러한 학부에서의 다양한 경험들은 이후 현업에서 업무를 수행할 때 큰 도움이 되리라 생각합니다.\\n교내에서의 다양한 경험 외에도 현업에서의 실무 경험이 필요하다는 생각이 들었습니다. 실무 경험을 쌓기 위해서 지난 여름동안 OO디스플레이에서 인턴으로 근무했었습니다. 6주간 현업에서 근무하면서 디스플레이 제조 공정에 대해 더욱 상세하게 공부했을 뿐이라 현업의 분위기를 느낄 수 있었습니다. 또한 인턴 프로젝트를 통해서 설비 개선을 위한 아이디어를 제안하기도 했습니다. 이러한 다양한 경험들은 이후 현업에서 근무할 때에도 빠르게 적응하고 성공적으로 직무를 수행하는데 큰 도움이 되리라 생각합니다.\\n글자수 936자   |   2314Byte\\n접기',\n",
       " '2017년 하반기 LG전자 합격자 자기소개서 03 지원분야 | 연구·실험·기술': '1. 본인이 지원한 직무관련 지원동기와 역량에 대해서\\nGuide> 해당 직무의 지원동기를 포함하여, 직무관련 본인이 보유한 강점과 보완점을 사례를 통하여 구체적으로 기술해주시기 바랍니다. 1000자\\n[역량을 발휘할 수 있는 직무]\\n석사 과정 동안 진행했던 연구 경험은 소재 및 디스플레이에 대한 전반적인 지식과 연구 능력을 키우게 된 가장 결정적인 계기가 되었습니다. 이를 계기로 선진연구를 통해 차세대 소재 분야를 이끌어가는 연구원이 되겠다는 목표를 가지게 되었습니다. 특히, 독자적인 기술과 창의적인 아이디어를 기반으로 전자제품 산업을 이끌어가는 LG전자 소재/생산기술원의 R&D 소재/소자 직무에 매료되었고, 저의 역량을 발휘 할 수 있는 부서라고 생각하였기에 지원하게 되었습니다.\\n[이론과 실무 경험을 갖춘 연구원]\\nR&D 소재/소자 직무는 기술 혁신을 주도하기 위한 전문성을 요구하기 때문에 이론과 실무 경험을 갖춰야 합니다. 따라서, 저는 연구개발에서의 직무를 수행하기 위해 다음과 같은 노력을 하였습니다.\\n첫째, 이론적인 지식을 쌓기 위해 노력하였습니다. 디스플레이, 광학, 반도체, 나노 재료, 신소재 등의 전공을 이해하는 것은 차세대 소재를 개발하기 위한 기본 자질이라고 생각했습니다. 전공에 대한 기반을 튼튼히 한 결과 학과 수석으로 인한 학업우수상, 졸업우수상을 받았습니다. 또한, 대학원에서 좀 더 전문적인 지식을 습득하여 특허 출원, OOO 논문대상 동상, OOO에 논문 게재 등의 성과를 얻었습니다. 하지만, 빠르게 발전하는 선진기술을 소화하기 위해 좀 더 전문적인 이론 지식을 쌓을 필요가 있다고 생각합니다.\\n둘째, 이론에 국한된 연구원은 허울뿐이라고 생각하여 디스플레이, 재료 및 반도체 공정과 관련 된 실무 경험을 쌓았습니다. 3회에 걸친 산학협력 실습과 다수의 프로젝트에 참여함으로써 연구에 대한 경험을 쌓았습니다. 또한, 기업의 연구원 분들과 실험 방향에 대해 같이 고민하고, 결과에 대해 토의하는 등의 일련의 연구 과정을 배웠습니다. 이를 통해 연구원으로서 한 단계 성장 할 수 있었다고 생각합니다.\\n소재 연구개발 부서에서도 끊임없는 노력을 바탕으로 지속적인 성과를 얻도록 책임감을 가지고 업무에 임하는 연구원이 되겠습니다.\\n글자수 991자   |   2397Byte\\n접기',\n",
       " '2017년 하반기 LG전자 합격자 자기소개서 04 지원분야 | 연구·실험·기술': '1. 본인이 지원한 직무관련 지원동기와 역량에 대하여 [500 자 ~ 1000 자]\\n[태양광 발전 시스템 효율 향상의 KEY 는 컨버터 배열]\\n저는 학부 졸업 전 마지막 학기부터 현재까지 전력전자 및 신재생에너지 시스템 연구실에서 연구를 진행하고 있으며, 저의 주 연구 분야는 태양광 발전 시스템의 효율을 향상시킬 수 있는 컨버터 배열입니다. 태양광 발전 시스템의 효율을 향상시키기 위해 태양광 패널의 효율 향상에 관련한 연구들이 진행되고 있지만, 고효율의 태양광 패널을 효율적으로 제어하지 못한다면 시스템 발전량은 제한될 수밖에 없습니다. 태양광 패널의 효율을 1% 올리기 위해서는 많은 투자비용이 필요하지만, 컨버터 배열 개선을 통해 시스템 효율을 10% 이상 개선할 수 있습니다. 따라서 태양광 발전 시스템을 제어하는 컨버터의 배열을 개선한다면, 동일한 태양광 패널을 사용하여 더 높은 시스템 발전량을 얻을 수 있습니다. 특히 고정식 태양광 발전 시스템과 달리, 전기차와 같은 이동식 태양광 발전에서는 컨버터의 역할이 더욱 중요시 됩니다. 태양광 패널과 전기차를 접목시킨 PV-EV 의 경우, 시스템이 도달하는 일사량이 빠르게 변하며, 부분 그늘짐 등의 현상도 빈번히 발생할 수 있습니다. 고효율의 태양광 모듈을 사용하더라도 그 기능을 제대로 사용하지 못한다면, 결국 시스템 발전량은 저하되게 됩니다.\\n\\n[PV-EV 개발을 위해 준비된 인재]\\n현재까지 태양광 발전 시스템의 컨버터 배열 개선 연구를 진행하며, 국내학회에서 3번, 국제학회에서 3번, SCI 저널 1편의 논문을 발표하였으며, 2번의 국내학회, 1번에 국제학회에 참여하여 다양한 사람들과 의견을 나눌 수 있었습니다. 태양광발전시스템 보급률이 비교적 낮은 한국에서는 많은 관심을 받지 못했지만, 태양광발전 시스템 보급률이 높은 미국, 중국 등에서는 이미 활발한 연구가 진행되고 있음을 확인했습니다. 저의 연구 분야가 VC 사업부 및 Solar BD 사업부와 관련이 깊다고 생각하며, 제 전문성을 가장 잘 발휘할 수 있는 곳이라고 생각하기 때문에 LG 전자에 지원하게 되었습니다.\\n글자수 985자   |   2355Byte\\n접기',\n",
       " '2017년 하반기 LG전자 합격자 자기소개서 05 지원분야 | 연구·실험·기술': '1. 본인이 지원한 직무관련 지원동기와 역량에 대하여 (500자~1000자)\\n[세계 ‘최초’에서 세계 ‘최고’로]\\n현대인들의 필수품이 된 스마트폰을 다양한 생활 가전제품 또는 자동차와 연결하는 세계 최고 ‘Mobile 전용 IoT 개발자’가 되는 것이 저의 목표입니다. 여러 Mobile 산업 시장 중 LG전자의 “Learnig From You” 철학은 저를 LG전자로 이끌었습니다. 개발자의 능력을 뽐내는 것이 아닌 사용자의 편의를 생각하면서 혁신하는 것이 진정한 개발자의 능력이고, Mobile 선두주자라고 생각합니다. 따라서 세계 최초라는 단어와 잘 어울리는 LG전자 MC사업본부가 저의 목표를 이룰 수 있는 무대라고 생각합니다.\\n201X년 1학기에 수강한 ‘멀티미디어 공학’을 통해 MATLAB을 이용한 얼굴 인식 프로그램 설계를 한 경험이 있습니다. 딥러닝을 통해 사진 속에서 사람의 얼굴을 찾아내는 프로젝트로 눈, 코, 입 세 요소가 존재하는 부분을 얼굴로 인식하였습니다. 이 프로젝트 경험은 ‘얼굴인식’ 기술이 스마트폰에 적용되는 요즘 가장 기본을 공부한 것이라고 생각합니다. 탄탄하지 않은 기반은 쉽게 무너지는 것처럼 대학교에서 배운 경험을 기반으로 입사 후 더 높은 기술을 성장 및 개발하고 싶습니다. 수학에서 배운 논리적 구조는 소프트웨어와 접목하여 탄탄한 알고리즘 지식을 가지게 되었습니다. 그리고 C/C++, Java, Python 등 여러 언어들을 공부한 경험은 개발 환경에 빠른 적응을 할 수 있는 기반을 만들었습니다.\\n학업뿐 아니라 신입생 대상 오리엔테이션을 기획 및 진행하는 ‘Freshman Guide’ 단체 활동을 통해 많은 경험을 할 수 있었습니다. 단체는 4개의 팀으로 업무 분담을 하여 진행하기 때문에 작은 회사라고 볼 수 있습니다. 외부의 도움 없이 모든 것을 기획하였기에 자신의 업무 책임감을 기를 수 있었습니다. 또한 한 팀이 마감시간을 맞추지 못해 다른 팀이 고생한 경험을 통해 팀 내의 협력뿐 아니라 다른 팀과의 협력도 중요하다는 것을 다시 한번 깨닫게 되었습니다.\\n글자수 976자   |   2256Byte\\n접기',\n",
       " '2017년 하반기 LG전자 합격자 자기소개서 06 지원분야 | 연구·실험·기술': '1. 본인이 지원한 직무관련 지원동기와 역량에 대하여 1000자\\nGuide> 해당 직무의 지원동기를 포함하여, 직무관련 본인이 보유한 강점과 보완점을 사례를 통하여 구체적으로 기술해주시기 바랍니다.\\n\\n지난여름, 휘센 제습기를 구매하였습니다. 장마철만 되면 곰팡이 걱정을 하며 습하고 불쾌한 여름을 버텨왔습니다. 제습기는 그런 저의 삶의 질을 높여주었습니다. 뽀송뽀송한 여름을 날 수 있다는 것을 알게 되었고, 비염을 달고 살던 제가 미세먼지로부터 벗어나 쾌적하게 생활할 수 있었습니다. 제가 가진 재료 기계 분야의 지식으로 새로운 제품을 개발하여 사람들의 삶의 질을 높여주는, 가치 있는 일을 하고 싶다는 비전을 담아 세계 1위의 공조, 에너지 솔루션 회사 LG전자의 H&A사업부 R&D기구 직무에 지원하였습니다.\\n\\n제품에 대한 이해와 설계 능력은 R&D기구 직무의 기본이라고 생각합니다. 학부 과정 중 다양한 팀 프로젝트를 진행하며 설계 능력을 기를 수 있었습니다.\\n‘미니 에어컨’을 만드는 팀 설계 과제를 수행한 적이 있습니다. 작고 가벼운 에어컨을 만드는 것이 핵심이었기에, 열전소자를 활용하면 어떨까 생각했습니다. 펠티에 효과를 활용하여 흡열부의 냉각된 공기를 흘려보내고, 발열부의 열을 제거하는 공랭식 에어컨을 설계하였습니다. 냉매를 응축할 필요가 없기 때문에 실외기가 필요하지 않았습니다. 하지만 열전소자가 큰 효율을 내지 못하였고, 이를 해결하기 위해 발열부의 열을 효과적으로 제거하는 방법을 고민하였습니다. 발열부에 서멀그리스로 방열판과 쿨링펜을 부착하여 열전도를 높이고 보온재로 냉기를 보존하여, 공기를 더 차갑게 만들 수 있었습니다. 카티아로 에어컨의 외부 디자인을 구성하고 3D프린터로 출력하여 조립한 끝에 성공적으로 설계를 수행하여 좋은 평가를 받았습니다.\\n이러한 경험을 통해 에어컨의 원리와 구조에 대해 자세히 알게 되었고 설계능력을 길렀습니다. 또한, 조원들과 함께 효율을 높이기 위한 문제를 해결하면서 협동심을 기를 수 있었습니다. LG전자에 입사하여 H&A R&D기구 직무를 수행하면서 부서원들과 협업하고 제가 가진 역량을 최대한 발휘하여 공동목표를 이루기 위해 노력하겠습니다.\\n글자수 956자   |   2337Byte\\n접기',\n",
       " '2017년 하반기 LG전자 합격자 자기소개서 07 지원분야 | 일반영업': '1. [My Competence] 본인이 지원한 직무관련 지원동기와 역량에 대하여 Guide> 해당 직무의 지원동기를 포함하여, 직무관련 본인이 보유한 강점과 보완점을 사례를 통하여 구체적으로 기술해주시기 바랍니다.(500자 ~ 1000자)\\n효율적 분석능력과 글로벌 역량을 바탕으로 LG전자 리스크 관리 전문가로 성장하기 위해 지원했습니다. LG전자는 시그니처 제품군을 필두로 여러 국내외 사업을 전개하는 만큼 다양한 리스크 관리 및 리텐션 확장 전략이 중요합니다. 영업 담당자로서 리텐션에 가치를 둔 리스크 관리자로 성장하여 전사 매출 향상에 기여하겠습니다.\\n\\n[COMPETENCE 1: 관계 기반의 글로벌 커뮤니케이션]\\n영업에 있어 거래처 확보에 필수인 관계에 기반을 둔 글로벌 커뮤니케이션 역량을 길렀습니다. 우선 국제학교에서의 청소년기를 통해 존중과 이해를 바탕으로 한 커뮤니케이션 자세를 키웠습니다. 또한 3년간 영자신문사 활동으로 관계를 시작, 유지, 확장하는 방법을 터득했습니다. 이를 바탕으로 OO 청년인턴으로서 바이어의 니즈를 지속적으로 파악해 사업을 보완했으며 이에 많은 고객들이 만족하여 추후 사업들에도 계속 참가하는 결과를 얻었습니다.\\n\\n[COMPETENCE 2: 효율적 분석/유의미한 통계/효과적 전달]\\nOO에서 \\'한국의 중국사업\\'을 조사하며 자원을 통해 효율적으로 분석하고 유의미한 통계를 도출해 적합한 수단으로 전달했습니다. 당시 부족한 중국어로 인한 정보수집 한계를 인적자원과 현장조사로 극복했습니다. 우선 전문가 인터뷰로 한국기업들이 의외로 중국 온라인 시장에서 부진하다는 정보를 얻었습니다. OOO 현장조사에서는 공통 관심사인 화장품으로 고객과 친밀도를 쌓아 언어를 보완하고 유의미한 답변을 얻었습니다. 또한 타국 학생들을 고려해 사진을 활용한 보고서와 프레젠테이션에 담당자님은 \"정확한 정보와 청자를 고려한 점\"을 칭찬하셨습니다.\\n\\n[WEAKNESS: 영업 분석/재적용의 능숙함 부족]\\n다양한 활동에도 불구하고 기획, 영업 통계 분석과 재적용 등 영업 실무 경험이 다소 부족합니다. 따라서 영업 프로세스에 대해 이론적, 실무적 보완이 필요합니다. LG전자에 입사 후 능동적으로 영업 프로세스에 개입하겠습니다. 적극적인 배움으로 영업 이론과 실무를 배우고 이해하여 역량을 발휘하겠습니다.\\n글자수 996자   |   2400Byte\\n접기',\n",
       " '2017년 하반기 LG전자 합격자 자기소개서 08 지원분야 | 기계·기구설계': '1. 본인이 지원한 직무관련 지원동기와 역량에 대하여 [500자 ~ 1000자]\\n\" Honeywell Analytics 기구설계 인턴과정을 통한 실무경험 \"\\n\\n기계적인 사고 능력을 통하여 제품설계 및 분석을 해야 하는 \"조선해양종합설계\" 라는 학부 과목을 수강하였었습니다.\\n여러 가지 방법으로 최소 단면적을 구하려 고민하였고 CAD 프로그램을 통하여 설계하며 문제점을 보완하는 과정을 여러 번 거쳐 최적화된 결과를 얻으려 노력하였습니다. 그 과정에서 많은 흥미를 느껴 기구설계라는 직무로 방향성을 가지게 되었고 LG전자 HA사업부의 기구설계는 최고의 제품을 설계하고 개발하여 매년 최고의 제품을 출시하며 LG전자의 발전에 크게 이바지하는 만큼 제게는 큰 선망의 대상이 되었습니다.\\n저는 학부과정 동안 배운 기본적인 역학지식과 설계 프로그램의 경험들을 바탕으로 나라에서 지원하는 AUTOCAD와 SOLID WORKS를 강의를 통하여 2D, 3D 설계 역량을 향상 시켰습니다.\\n그 후 실무적인 능력향상을 위하여 Honeywell Analytics의 기구설계 인턴을 하며 여러 가지 업무능력을 익히고 있습니다.\\n인턴을 하면서 제가 생각했던 기구설계 직무는 빙산의 일각이라고 생각하게 되었습니다.\\n단순히 설계만 할 줄 알았던 기구설계팀이 제품의 재료를 고려하였고, 수많은 테스트를 통하여 제품의 질을 향상하며, 지속적인 금형 수정을 통하여 최적화된 제품을 만들려고 노력하며 다른 부서 동료들과 끊임없이 소통을 통하여 피드백하였습니다.\\n저는 SCBA 프로젝트를 진행하면서 인증도면 BOM 작성, 각 시료의 IP Test, Durability Test, Drop Test를 진행하였고 도면 수정을 하며 직무 관련 역량을 키우며 동료들과 소통하는 능력을 키우려 노력하고 있습니다.\\n이러한 경험들은 과거 LG Honeywell이었던 만큼 LG전자 HA 기구설계팀에 입사한다면 직무에 대한 빠른 프로세스 이해를 통하여 업무 적응에 있어 많은 도움이 될 수 있다고 생각합니다.\\n열정적인 인재가 되겠습니다.\\n글자수 958자   |   2178Byte\\n접기',\n",
       " '2017년 하반기 LG전자 합격자 자기소개서 09 지원분야 | 기계·기구설계': '1. 본인이 지원한 직무관련 지원동기와 역량에 대하여 1000자\\nGuide> 해당 직무의 지원동기를 포함하여, 직무관련 본인이 보유한 강점과 보완점을 사례를 통하여 구체적으로 기술해주시기 바랍니다.\\n[설계의 딜레마]\\n모순적이게도 설계가 가지는 딜레마를 경험하며 기구설계의 매력을 느꼈습니다.\\n종합설계 과목을 수강하며 선체 중앙부의 최적 설계 프로젝트를 통해 안전성과 경제성 두 가지를 만족하는 설계를 해야 했습니다. 하지만, 안전성을 위해 보강재를 많이 사용하면 경제성이 떨어지는 문제를 보였고, 보강재를 줄이면 안전성을 통과하지 못했습니다. 저는 과제를 수행하며 무엇을 우선순위로 두는지에 따라 결과가 크게 달라지며 이를 판단하는 몫은 엔지니어에게 있다는 것을 배웠습니다. 이처럼 설계가 가지는 딜레마를 경험하며 제품의 요소를 결정하는 기구설계 직무의 매력을 느낄 수 있었기에 LG전자 기구설계 직무에 지원하였습니다.\\n\\n[테스트부터 사출까지]\\n저는 1X년 X월부터 OOOO 기구설계팀에서 인턴으로 근무하며 제품개발 프로세스를 배우고 직무역량을 강화하고 있습니다.\\n현재 휴대용 가스검출기 제작 프로젝트에서 IP, Drop 등의 DV 테스트, 리뷰 보고서 작성, 설계 수정 업무를 맡고 있습니다.\\n지난달, IP 테스트를 진행하던 중 방진 관련 이슈가 발생했고 이를 해결했던 경험이 있습니다.\\n\\n제가 문제점을 분석하기 위해 가장 먼저 실시한 것은 실물과 도면상의 치수 비교입니다.\\n버니어 캘리퍼스와 비전미터를 사용하여 허용공차를 적용한 치수와 실물간의 오차가 없는지 검토했고, 이 과정에서 문제점을 발견했습니다. 도면상에는 러버 치수의 20% 오버랩을 통한 Sealing으로 설계됐지만 실제로는 마이너스공차로 인해 오버랩이 적용되지 않던 것입니다.\\n저는 캐드작업을 통해 리브의 치수를 조정하고 목업을 제작한 후에 테스트를 진행하여 이슈를 해결할 수 있었습니다. 또한, Tool 체크리스트 작성을 통해 금형을 수정했고 이 과정에서 사출금형 업체를 방문하여 기구설계에서 필수적인 사출금형의 프로세스를 배울 수 있었습니다.\\n\\n학업에선 배우기 힘든 기구팀의 실제 업무와 개발프로세스를 배울 수 있었던 경험을 통해 팀에 빠르게 적응하고 힘을 보탤 수 있는 신입사원이 되겠습니다.\\n글자수 994자   |   2410Byte\\n접기',\n",
       " '2017년 하반기 LG전자 합격자 자기소개서 10 지원분야 | 생산관리·품질관리': '1. [My Competence] 본인이 지원한 직무관련 지원동기와 역량에 대하여\\nGuide> 해당 직무의 지원동기를 포함하여, 직무관련 본인이 보유한 강점과 보완점을 사례를 통하여 구체적으로 기술해주시기 바랍니다.(500자 ~ 1000자)\\n생산성을 향상하면서 우수한 품질과 신뢰성을 유지하기 위해서는 최적화된 자동화 공정기술이 요구된다고 생각합니다. 스마트공장의 보급이 확대되는 시점에서 생산에 대한 이해도를 가지고, 메카트로닉스 지식을 함양하기 위한 노력이 LG전자만의 생산시스템을 개발하고, 현장에 적응하는 데 큰 도움이 될 것입니다.\\n\\n[생산에 대한 이해도]\\n동아리 로켓 제작 과정에서 생산성 향상을 위해 고민하고, 실천한 경험에서 전반적인 생산에 대한 이해도를 가질 수 있었습니다. 한 달간의 시간 동안 로켓 발사대회에 참여하기 위해 3대의 로켓을 제작해야 했습니다. 원하는 스펙에 맞는 로켓을 설계하고 필요한 부품들을 CATIA로 도면 제작과 모델링을 한 뒤, 설계가 끝난 부품을 용도에 맞는 재료로 선정했습니다. 이를 가공하기 위한 치공구들을 CAD/CAM에서 배운 치공구선정법을 통해 선정 및 구매했습니다. 그러나 동아리의 낡은 공작기구들로는 설계한 부품들을 시간 내에 모두 제작하기가 어려웠습니다. 따라서 각 로켓의 개성을 포기하는 대신, 기간 내 제작 완료로 목표를 변경했습니다. 기존에 제작했던 도면을 ens Tool에 사용해 CNC 코드를 생성시켰습니다. 생성한 코드를 교내 실습지원실의 CNC에 적용해 구매했던 재료들을 가공했고, 만족스러운 품질의 부품을 제작할 수 있었습니다. 제작한 부품들은 손쉽게 조립할 수 있었고 대회 당일까지 3일을 남기고 3대의 로켓을 모두 제작할 수 있었습니다.\\n\\n[메카트로닉스 융합 인재]\\n기계제작법에서 자동화 공정에 대한 개요를 숙지했으며 이를 구현하기 위한 제어시스템과 메카트로닉스 분야에서의 역량을 길러왔습니다. 자동제어, 제어시스템설계를 수강하면서 원하는 Spec에 맞는 PID 제어기를 설계한 경험이 있습니다. 종합설계 프로젝트에서는 MCU를 활용하여 필요한 전자회로를 구축하고, PD 제어기를 구현시켜 2축 자세제어 Quadcopter를 제작했습니다. 또한, 인턴경험 도중 Pixhawk를 사용하여 군집비행을 위한 쿼드콥터를 제작한 경험도 가지고 있습니다.\\n글자수 1000자   |   2384Byte\\n접기',\n",
       " '2017년 하반기 LG전자 합격자 자기소개서 11 지원분야 | 생산관리·품질관리': '1. 본인이 지원한 직무관련 지원동기와 역량에 대하여 [500 - 1000자]\\n[제품 경쟁력은 가공기술로부터]\\n고부가가치 제품이 요구하는 디자인과 기능을 구현하기 위해 플라스틱 가공기술을 개발하겠습니다. 석사과정으로 사출성형을 전공하면서 고분자 가공 관련 경험을 쌓았습니다. 소재가 가공 중에 장비 내에서 어떤 과정을 겪는지를 인지하고 제품을 설계하는 것과 그렇지 못한 것에는 큰 차이가 있기 때문에 공정 모니터링을 통한 제조기술의 혁신이 필요하다고 생\\n각합니다.\\nLG전자도 원료를 수입하여 단순히 가공하는 양적 성장 단계를 벗어나 고부가 가치 제품\\n위주의 질적 성장을 이루고 있습니다. 특히 경쟁사보다 뛰어난 품질의 제품을 균일하고 저렴하게 생산하여 경쟁력을 확보하고 있으며, 이를 위해 가공기술의 혁신 R&D에 많은 투자를 하고 있습니다. 핫 러너를 비롯한 다양한 사출성형 공법을 적용하여 품질을 개선시키기도 했습니다.\\n이처럼 생산기술원 Production R&D에서 함께 고분자 가공기술을 개발하고 가치를 실현하고자 지원하게 되었습니다.\\n\\n[사출성형 공정 모니터링을 위한 센서 설계]\\n대학원 과정 중 유변학 프로젝트를 진행하면서 금형 내 수지 거동을 분석했습니다. 선행\\n연구 내용을 참고하여 Cross-WLF 점도 모델로부터 유도된 플래시 길이와 실제 실험에서의\\n플래시 길이를 비교했습니다. 플래시 길이 계산식에서 주요 인자는 최대 캐비티 압력이기에\\n금형 내에 압력센서를 설치했고, 사출하면서 얻은 압력 데이터를 이용해 플래시와 캐비티\\n내압과의 연관성을 분석했습니다.\\n또한 졸업연구에서 형체압과 캐비티 내압 측정을 할 수 있는 금형 내부 장착용 센서를 개발했습니다. 이미 다양한 연구에서 금형 내압 센서를 이용하여 금형 내부 압력을 측정했지만, 상용되고 있는 압력센서는 매우 높은 가격이고, 설치 시 금형 가공의 어려움으로 인해\\n중대형 금형의 경우엔 다수의 센서를 설치하기가 어려운 상황입니다. 기존 압력센서 대비\\n설치의 용이성을 높이고 간단한 구조로 설계하기 위해 이젝터핀을 통해 전달되는 금형 내압을 측정하는 로드셀을 개발했습니다.\\n글자수 986자   |   2414Byte\\n접기',\n",
       " '2017년 하반기 LG전자 합격자 자기소개서 12 지원분야 | HW(하드웨어)': '1. 본인이 지원한 직무관련 지원동기와 역량에 대하여 [500자 ~ 1000자]\\n[직무 지원동기 : 전기전자가 자동차의 미래다]\\n\\n전기전자공학도로서, 자율주행과 ADAS, FCV, xEV 등 자동차의 미래가 전기전자분야에 있다고 생각하기 때문입니다. 자동차에 적용되는 전자기술 비중이 날로 커지기 때문에 차량 내 모든 시스템에 대한 전기전자부품, 즉 전장사업이 핵심이라고 생각되었습니다. 전장사업에서 선두를 달리고 있는 vc사업본부에서 최고의 기술, 인력과 함께 성장하고자 지원하게 되었습니다.\\n\\n[직무에 적합하다고 판단하는 이유]\\n\\n첫 번째로 저의 전공기초능력을 다양한 응용분야에 적용하는 능력입니다. 전자기학, 회로이론 등 각종 응용분야의 밑거름이 되는 기초전공에 많은 시간을 할애하고 있습니다. 특히 자동차 관련 기술 이슈들을 접할 때 관련 기초 전공들을 최대한 이용해보는 습관이 있습니다. 예를 들어 BLDC 모터를 이해하기 위해 회로이론의 3상전력, 반도체소자의 트랜지스터에 대한 지식을 활용하여 보다 수월하게 접근할 수 있었습니다.\\n두 번째로 자동차에 대한 이해도입니다. 자동차 분야로 진출하고자 평소 파워트레인, ISO26262, 섀시 시스템, 제어시스템에 대한 공부와 관심을 게을리하지 않았습니다. 차량에 대한 전반적인 이해는 vc사업본부 지원자에게 필수적으로 요구된다고 생각했기 때문입니다.\\n세 번째로 자동차에 대한 관심도입니다. 커리어패스를 자동차로 잡고 공부하던 와중에 OO협회에서 주관하는 자동차용 반도체 전문인력 양성 심화과정에 참여하여 교육을 이수한 적이 있습니다. 또한 automotive 관련 각종 국내외 매체들을 통하여 최신기술 및 관련이슈들을 스크랩하고 있습니다.\\n마지막으로 연구개발직으로서 가져야할 자질은 근성, 책임감, 소통능력, 협업능력이라고 생각합니다. 저는 수학문제가 풀리지 않으면 하루종일 그것만 생각할 정도로 근성이 있습니다. 또한 각종 아르바이트 경험을 통해 작은 일이라도 끝까지 해내는 책임감을 지녔습니다. 그리고 아르바이트와 수많은 협업프로젝트로 소통능력, 협업능력을 키워왔습니다.\\n글자수 980자   |   2380Byte\\n접기',\n",
       " '2017년 하반기 LG화학 합격자 자기소개서 01 지원분야 | 제품개발': '1. 자신의 성장과정 및 개인 특성, 장점을 중심으로 기술하여 주시기 바랍니다.\\nGuide> 성장과정, 본인의 특성 및 성격(장/단점)을 자유롭게 기술해주시기 바랍니다. 1000자\\n어렸을 때부터 저는 항상 도전하는 삶을 살아왔습니다. 저는 학생으로서 기본적인 학업에 대한 노력 외에도 특공무술, 육상, 펜싱 등의 다양한 대회에 참여하여 땀의 가치를 알게 되었고, 미술 전시회 및 봉사 활동 등을 통해 새로운 분야를 경험하고 배움으로써 다양한 분야에 대한 식견을 넓혀왔습니다. 새로운 분야에서의 경험은 저를 도전에 두려워하지 않는 사람으로 만들어주었습니다.\\n[끊임없는 노력]\\n도전은 항상 노력하는 자세를 갖추게 하였습니다. 대학원생 시절, 학부 기간에 배우던 반도체를 기반으로 새로운 연구에 도전하였습니다. 저의 연구실에서는 처음 시도하는 분야라서 모르는 것이 많았지만 실패 속에서도 배울 수 있을 것이라는 믿음과 성공에 대한 자신감을 통해 연구에 최선을 다 했습니다. 도전에 대한 결실을 맺기 위해 관련 서적을 꾸준히 읽었고, 밤을 새워가며 조건 및 반복실험을 하였습니다. 끊임없는 노력의 결과, 새로운 기업 과제를 진행할 수 있었고, 다양한 수상 실적과 논문 게재 등의 성과를 얻을 수 있었습니다. 변화를 두려워하지 않고 끊임없이 도전한다면 좋은 결과를 얻을 수 있음을 배웠습니다.\\n[배움의 가치]\\n도전은 저에게 열악한 상황 속에서도 배울 것이 있다는 믿음을 갖게 해주었습니다. 벽화 작업을 위한 봉사활동에 참여한 적이 있습니다. 한 여름의 무더운 야외에서 100미터가 넘는 방파제에 벽화 작업을 하는 것은 미술에 대한 감각과 많은 노동을 필요로 했습니다. 미술에 대해 많이 생소했지만 가장 기초가 되는 밑그림부터 페인트로 채색하는 방법까지 배우려고 적극적으로 노력했습니다. 저의 손으로 인해 완성되어 가는 벽화들을 보며 뿌듯했습니다. 벽화 작업이 끝난 후 저는 미술 동아리에 가입하여 지속적으로 미술 활동에 참여하였고, 새로운 취미를 갖게 되었습니다. 다양한 분야의 도전을 통해 새로운 것을 배우려는 자세는 개인적인 생활의 원동력이 되었고, 스스로의 가치를 높이는 것임을 알게 되었습니다.\\n글자수 963자   |   2357Byte\\n접기',\n",
       " '2017년 하반기 LG화학 합격자 자기소개서 02 지원분야 | 연구·실험·기술': '1. 자신의 성장과정 및 개인 특성, 장점 중심으로 기술하시오. (1000자)\\n[자기자신에게 부끄럽지 않은 사람이 되자]\\n저희집 가훈이자 제 좌우명이기도 한 문장입니다. 학부시절 수업 레포트를 고민하다 인터넷에 나와 있는 레포트를 그대로 베껴 쓴 적이 있습니다. 제 점수는 잘 나왔지만 친구들은 며칠을 밤새 고민하며 썼지만 점수가 좋지 않다며 힘들어 하였습니다. 그 친구들 위로해주며 제 자신이 너무 부끄러웠습니다. 그때 이 문장을 떠올리며 반성하고 교수님께 사실대로 말씀드려 결국 재수강을 해야 되는 점수를 받았습니다. 이 경험을 바탕으로 이 문장을 좌우명으로 여기며 제 자신에게 부끄럽지 않은 사람이 되기 위하여 정직하게 될 수 있도록 항상 맡은 일에 책임을 다하였습니다.\\n대학원 석사 과정동안 제가 맡은 연구는 고체전해질의 합성이었습니다. OOO와의 공동연구실 과제에서 주간보고를 준비하다가 제가 실수를 한 부분을 발견하였습니다. 선배는 저를 위로하며 실수한 부분을 숨기고 보고하고 다음 실험 계획을 수정하자고 하였습니다. 하지만 저는 이렇게 숨기는 부분이 있게 되면 공동연구실을 하고 있는 OOO와 연구실 사이에 의심과 오해가 생길 수 있다고 생각하였습니다. 그래서 실수한 부분에 대해 직접 책임연구원과 통화를 하여 사과를 드리고 바로 다시 실험을 진행하였습니다. 새벽시간과 주말을 이용하여 다시 실험을 하여 전체 실험계획에는 차질이 없도록 하였습니다. 이 사건을 계기로 OOO에서는 저와 저희 연구실을 더 신뢰하게 되었고 좋지 않은 결과에 대해 의심을 하기 보다는 회의를 통해 해결방안, 새로운 연구방향을 논의하게 되었습니다. 그 결과 연구에 속도를 낼 수 있었고 연차목표를 조기달성하게 되었습니다.\\n이처럼 정직함은 신뢰를 쌓이게 하고 서로 소통하여 협력할 수 있도록 하는 힘이 있습니다. LG화학에 입사해서도 정직하게 제가 맡은 역할을 책임지고 수행하며 숨기는 것 없이 소통하여 동료와 협력하여 시너지효과를 낼 수 있도록 하겠습니다.\\n글자수 936자   |   2298Byte\\n접기',\n",
       " '2017년 하반기 LG화학 합격자 자기소개서 03 지원분야 | 생산관리·품질관리': '1. 자신의 성장과정 및 개인 특성, 장점 중심으로 기술해주시기 바랍니다. (1000자)\\n[도서관 요정]\\n다른 사람에게 뒤처지는 것이 싫었습니다. 학기마다 결과로 공시되는 학점은 저를 더 노력하게 만들었습니다. 대학생활의 많은 부분을 도서관에서 보내며 OOO이라는 별명을 얻기도 했습니다. 도서관 열람실에는 제가 항상 앉는 자리가 있었고 주변 친구들은 모르는 것을 물으러 제 자리를 찾아왔었습니다. 남들에게 설명하기 위해 더 확실히 내용들을 이해하여야 했고 이는 저를 학업에 더욱더 매진할 수 있도록 도왔습니다. 이러한 학습습관은 지금의 저에게 무언가에 몰두하여 일을 진행할 수 있는 끈기를 주었다고 생각합니다. 이러한 끈기로 아직 정형화되지 않은 배터리 생산공정을 발전시키고 생산과정이 각형 배터리에 비해 어려운 Pouch형 배터리를 안정적으로 생산하는 기술을 만드는 데 일조하겠습니다.\\n\\n[장애물을 피해 가지 않겠습니다]\\nOOO공학회에서 주최한 공정설계 경진대회에 참가한 것이 저에게 많은 영향을 끼쳤습니다. 교내의 공정설계, 공장설계 프로젝트에서는 공정을 시뮬레이션하는 것이 전부였다면 이번 경진대회는 시뮬레이션뿐 아니라 경제성과 기술 개발 계획과 같이 방대한 양을 보고서에 담아야 했습니다. 시뮬레이션하는 것은 어렵지 않게 완성할 수 있었지만, 경제성을 평가하고 개발 계획을 세우는 것은 해본 적이 없어 큰 산처럼 느껴졌습니다. 특히, 장치의 가격을 정하는 과정이 쉽지 않았습니다. 열교환기나 펌프의 경우 열교환면적이나 Capacity로 계산할 수 있었지만 다른 장치들은 계산을 통해 구하기 어려웠습니다. 방법을 고민하다 밤을 새워가며 설계한 공정과 유사한 공정에 대한 논문들을 찾았고 비슷한 장치들을 조사해 근사적으로 가격을 정하였습니다. 이런 다양한 방식으로 기한 내에 보고서를 제출할 수 있었고 달성하지 못할 것 같은 일을 할 수 있다는 자신감을 얻었습니다. 배터리에 대해 연구될 분야가 많은 만큼 해결하기 어려운 큰 산 같은 문제들이 나타날 수 있습니다. 그러한 문제들을 피해 가는 것이 아닌 다양한 시각, 방식으로 해결해 나가겠습니다.\\n글자수 988자   |   2420Byte\\n접기',\n",
       " '2017년 하반기 LG화학 합격자 자기소개서 04 지원분야 | 생산관리·품질관리': \"1. 자신의 성장과정 및 개인 특성, 장점 중심으로 기술해주시기 바랍니다.\\n[꿈(★)은 이루어진다.]\\n대학교 때 가졌던 꿈이 하나 있습니다. '학과 수석'과 'All A+달성'의 목표였습니다. 학과 수석을 한 사람은 봤지만, All A+를 달성한 사람은 보지 못했습니다. 다른 사람이 쉽게 못 하는 일을 해냈을 때의 성취감을 느껴보고 싶어 구체적인 계획을 수립하고 실천하였습니다.\\n\\n세부적으로 4주간의 학습계획을 일주일 단위로 작성하였습니다. 매주 일요일에 계획이 실행되었는지 확인하고 부족했던 부분은 다음 주 계획을 세울 때 더 많은 시간 투자를 하였습니다. 철저한 계획과 실행으로 2학년 2학기 All A+의 목표를 달성하면서 짜릿한 성취감을 느꼈습니다. 또한, 현재 학과 수석 졸업 예정에 있습니다.\\n\\n하지만 시간 관리 부족으로 목표에 미치지 못한 적도 있었습니다. 3학년이 되면서 전공 공부와 대외활동을 병행하면서 시간 관리의 부족함을 느꼈습니다. 이는 '전공 학점 목표 미달성'이라는 결과로 나타났고 저 자신에 대한 실망과 질타를 많이 하였습니다. 지나간 일은 바뀌지 않기 때문에 계속 낙담하지 않고 이를 극복하기 위해 계획을 수립하였습니다. '목표 미달성'이라는 문제점의 핵심 인자를 '시간 관리'로 설정하고 '학습과 대외활동의 시간 조절'과 '선택과 집중'이라는 대안을 수립/적용하여 4학년 1학기 때, 직전 학기보다 성적이 향상되는 결과를 얻었습니다. 이를 통해 '모든 일은 체계적으로 실행했을 때 최상의 결과를 얻을 수 있다.'는 것을 배웠습니다.\\n\\n또한, 교내 중앙동아리 회장과 학과 학년대표, 창업 프로그램 팀 프로젝트 경험을 통해 원활한 커뮤니케이션과 협업의 중요성을 깨달았습니다. LG화학에 입사하게 된다면 업무에 필요한 계획 수립에 있어 부족한 부분에 대한 체계적인 분석과 개선활동을 펼치고 현장의 근로자분들, 유관부서와의 원활한 커뮤니케이션능력을 발휘하여 경쟁력 확보에 힘쓰겠습니다.\\n글자수 918자   |   2194Byte\\n접기\",\n",
       " '2017년 하반기 SK가스 합격자 자기소개서 01 지원분야 | 해외영업·무역영업': \"1. 자발적으로 최고 수준의 목표를 세우고 끈질기게 성취한 경험에 대해 서술해 주십시오.\\n(본인이 설정한 목표/ 목표의 수립 과정/ 처음에 생각했던 목표 달성 가능성/ 수행 과정에서 부딪힌 장애물 및 그 때의 감정(생각)/ 목표 달성을 위한 구체적 노력/ 실제 결과/ 경험의 진실성을 증명할 수 있는 근거가 잘 드러나도록 기술)\\n[무역전문가로 나아가는 길, Trade Manager 양성사업]\\n작년 여름, OO협회에서 주최한 'OO청년 Trade Manager 양성과정'을 이수했습니다. 강의계획서를 보니 온라인 강의 94시간, 현장강의 224시간을 들어야 했기에 부담감이 앞섰지만, 출석률 100%를 목표로 프로그램에 적극적으로 임했습니다. 두 시간 거리의 수업 장소, 에어컨도 되지 않는 열악한 환경, 9시부터 5시까지 꽉 찬 수업이었기 때문에 포기하고 싶은 순간이 한두 번도 아니었습니다. 하지만 무역업에 대한 기초 지식뿐만 아니라 실무 관련 체험도 할 수 있는 체계적인 수업이었기에 마음을 다잡고 학업에 충실했습니다. 구체적으로 전시컨벤션, 무역운송, 무역계약, 외환 금융, 해외마케팅, 수출입 대금결제 등 무역 업무와 관련한 전반적인 주제들을 배웠습니다. 선적서류, 신용장, 계약서 등 서류들을 직접 볼 수 있었고 업무를 간접 체험해 볼 수 있었습니다.\\n글자수 466자   |   1070Byte\\n접기\",\n",
       " '2017년 하반기 SK이노베이션 합격자 자기소개서 01 지원분야 | 연구·실험·기술': '1. 자발적으로 최고 수준의 목표를 세우고 끈질기게 성취한 경험에 대해 서술해 주십시오. (본인이 설정한 목표/ 목표의 수립 과정/ 처음에 생각했던 목표 달성 가능성/ 수행 과정에서 부딪힌 장애물 및 그 때의 감정(생각)/ 목표 달성을 위한 구체적 노력/ 실제 결과/ 경험의 진실성을 증명할 수 있는 근거가 잘 드러나도록 기술)\\n(700~1000 자 10 단락 이내)\\n까다로운 실험도 끈기로 결과를 만들겠습니다.\\n\\nNa 이온 전지의 하드카본 Coin half cell(CHC) 방전 profile에서 cut-off 전압에 도달하지 못하여 방전이 끝나지 않는 현상이 발생했습니다. 그 원인이 Na metal에 있다고 여기고 확인을 위해 RRDE 실험을 랩에서 처음으로 계획했습니다. 실험하는데 3가지 문제가 있었습니다.\\n\\n첫째, RRDE 세팅 전이었기에 다른 랩에서 코팅하여 사용 중인 전극과 장비를 어쩔 수 없이 사용했습니다. 관리가 불량하여 rotating 장비는 수리하고 전극은 ferri/ferrocyanide 수용액으로 CV-CA 결과를 통해 깨끗이 세척된 것을 확인 후 실험했습니다.\\n\\n둘째, Na metal이 기준전극이지만 potentiostat과 연결문제로 glovebox 안에서 실험할 수 없었습니다. 외기에서 Cell에 Ar퍼징하며 실험했지만, CV에서 redox 반응이 보이지 않았습니다. Na metal 산화로 판단하여 Vycor glass holder에 Na metal을 넣고 전해액을 채워 기준전극을 만들었습니다. 시간이 지나도 기준전극이 보존되어 redox 반응이 나타나고 재현성도 확보했습니다.\\n\\n셋째, 실험결과와 비교할 논문을 찾기 어려웠습니다. Li 하드카본 CHC는 방전 profile에서 문제가 없었기 때문에 Li 전해액에서 같은 실험을 하여 Na와 비교했습니다. 실험 직후 전해액 내에 금속 particle이 관찰된 전류를 비교했을 때 Li보다 Na 전해액에서 dendrite가 더 잘 형성될 수 있다는 가능성을 발견했습니다. 이를 토대로 방전이 끝나지 않는 원인이 Na이온 전착과정에서 생기는 dendrite로 생각하고 Optical Microscopy 실험을 계획하여 확인할 수 있었습니다.\\nSK 이노베이션에서도 복잡한 실험을 맡아 어려움이 계속 생겨도 끈기를 가지고 결과를 내겠습니다. 이런 과정을 통해 전해액 분야의 전문성을 키우고 향후 셀 전체를 아우르는 전문가가 되고 싶습니다.\\n글자수 988자   |   2066Byte\\n접기',\n",
       " '2017년 하반기 SK케미칼 합격자 자기소개서 01 지원분야 | QAA·통화품질': '1. 자신에게 주어졌던 일 중 가장 어려웠던 경험. 하게 된 이유와 그때 느꼈던 감정, 진행하면서 가장 어려웠던 점과 극복하기 위해 했던 행동과 생각, 결과에 대해 구체적으로 작성.\\n첫 해외여행을 가기 위한 여비를 마련하고자 호텔에서 아르바이트했을 때, 항상 웃는 얼굴로 사람을 대해야 하고 심지어 불평하는 손님들에게도 미소를 잃지 않아야 하는 상황은 평소 낯을 가리고 조용한 성격이었던 제게 큰 어려움이자 도전으로 다가왔습니다.\\n여비를 마련하기 위해서는 아르바이트 기회를 놓칠 수 없었기에 `내가 어떻게 변화할 수 있을까`에 대해 생각하기 시작했습니다. 그리고 며칠간 고민한 결과, `손님을 이웃 주민처럼 생각하자`고 다짐하였습니다. 동네의 이웃을 보면 항상 반갑게 인사하며 지내왔기 때문에, 낯선 손님을 대할 때 이 동네에 이사 온 이웃 주민이 라고 생각하면 웃으며 인사하고 주문을 받는 것이 쉬울 것이라 생각했기 때문입니다. 그러나 처음부터 마음먹은 것처럼 잘되진 않았습니다. 손님들 앞에서 웃는 표정이 많이 어색해 보이기도 했고 불만 가득한 손님을 응대할 때면 불편하면서 무섭기도 했습니다. 하지만 무뚝뚝한 이웃 어르신들도 제가 먼저 다가가서 웃으며 인사를 드렸을 때 부드럽게 인사를 받아주신 것을 생각하며 마인드컨트롤 하였고, 웃는 얼굴에 침 못 뱉는다는 말을 새기며 더욱 밝은 표정으로 정중히 불평을 들어주었습니다.\\n그렇게 생각과 행동을 바꾸고 일주일이 지나자 변화가 생겼습니다. 손님들을 대하는 것이 한결 편해졌고 지배인님은 제게 아르바이트를 많이 해봤었냐며 잘한다고 칭찬도 해 주셨습니다. 어떠한 상황에서도 마음가짐과 행동만으로도 긍정적인 변화를 끌어올 수 있다는 것을 깨닫게 되었습니다.\\n저는 SK플라즈마의 QA/QC 직무를 처음 수행하면서 맞닥뜨리게 되는 낯선 상황에서도 빠르게 적응할 수 있는 방법을 스스로 강구하고, 긍정적인 마인드와 행동을 바탕으로 업무를 완수할 것이라 확신합니다.\\n글자수 858자   |   2112Byte\\n접기',\n",
       " '2017년 하반기 SK텔레콤 합격자 자기소개서 01 지원분야 | 사업기획': '1. 자발적으로 최고 수준의 목표를 세우고 끈질기게 성취한 경험에 대해 서술해 주십시오.\\n[선택과 집중]\\n어렸을 때부터 저는 수학을 좋아했습니다. 그 때문에 자연스레 수학을 집중적으로 공부하는 과학고에 가겠다는 목표가 생겼습니다. 그러나 과학고에 입학하기 위해서는 고등학교수준의 수학, 과학 시험에 합격해야 했고, 과학고 입학시험까지 3개월만을 앞둔 상황에서 저는 고등학교 수준의 과학 문제를 풀 수 있는 실력이 아니었습니다. 결단이 필요한 시점이었습니다. 고민 끝에 학교 시험 기간에 과학고 입학 점수에 반영되는 국어, 영어, 수학, 과학만 공부하고 그 외의 과목을 공부할 시간은 과학 공부에 모조리 쏟아 부었습니다.\\n이는 부모님도 만류하실 만큼 과감한 결정이었지만, 이때 저는 ‘이렇게 공부하면 과학고에 갈 가능성이 있지만, 그렇지 않으면 절대 합격하지 못할 것’이라고 생각했기에 결정에 대한 한 치의 흔들림도 없었습니다. 다른 학생들이 학교 시험공부를 하느라 학원에 나오지 않는 3주 동안 저 혼자 학원에 나가 공부하며 모르는 부분은 과학 선생님을 붙잡고 집요하게 여쭸습니다. 이러한 필사적인 노력 끝에 결국 과학고에 합격할 수 있었습니다. 이 경험으로 저는 목표를 세우고 그 목표를 달성하기 위해 어떤 부분은 과감하게 포기할 수 있는, 이른바 “선택과 집중”의 중요성을 깨달았습니다.\\n글자수 619자   |   1516Byte\\n접기',\n",
       " '2017년 하반기 SK하이닉스 합격자 자기소개서 01 지원분야 | 공정엔지니어': '1. Q. 자발적으로 최고 수준의 목표를 세우고 끈질기게 성취한 경험에 대해 서술해 주십시오.\\n1) 먼저, 관련 대표 경험 2가지를 간략하게 작성해 주십시오. (각 50자 이내)\\n- 언제, 어디서, 어떤 일을 수행했던 경험인지 간략하게 기술할 것\\n① 1학년 때 3.0이었던 성적을 4.5만 점을 목표로 4.43으로 끌어올리기까지의 성취경험\\n② 저학년 때 다루기 어려워했던 Matlab 프로그램을 연습을 거듭해 완벽하게 익히게 된 경험\\n글자수 105자   |   233Byte\\n접기',\n",
       " '2017년 하반기 SK하이닉스 합격자 자기소개서 02 지원분야 | 반도체·디스플레이·LCD': '1. . 자발적으로 최고 수준의 목표를 세우고 끈질기게 성취한 경험에 대해 서술해 주십시오.\\n1) 먼저, 관련 대표 경험 2가지를 간략하게 작성해 주십시오. (각 50자 이내)\\n- 언제, 어디서, 어떤 일을 수행했던 경험인지 간략하게 기술할 것\\n① 강의가 가장 어렵다는 평을 받는 교수님의 반도체 공학을 2 학기에 걸쳐 수강하였고 우수한 성적을 받음\\n② 학부 때 회계학에 관심이 생겨 경제학과 전공과목인 일반회계와 원가계산 강의를 수강하였고 비전공자임에도 전체 1등이란 성적을 받음\\n글자수 132자   |   328Byte\\n접기',\n",
       " '2017년 하반기 SK하이닉스 합격자 자기소개서 03 지원분야 | 반도체·디스플레이·LCD': '1. 자발적으로 최고 수준의 목표를 세우고 끈질기게 성취한 경험에 대해 서술해 주십시오\\n전산장교로 임무수행 간 육본중앙감사단에게 보안감사를 받게 되었습니다. 사단의 전반적인 보안수준을 평가하는 것이었고, 그 중 전산보안 분야가 가장 큰 비중을 차지했습니다. 전산장교로 임무수행한지 2개월이 채 안되었었고, 사단훈련에 대한 전산지원업무 등으로 바쁜 일정을 소화하고 있었습니다. 보안감사 수검까지 주어진 시간은 1개월이었습니다. 비록 업무에 대한 완벽한 숙지를 한 것은 아니었지만, 사단의 중요한 감사였고 전산장교라는 직책으로서의 첫 도전으로 생각하였습니다. 2년 전 육본보안감사의 결과가 좋지 않았기 때문에 이번에는 꼭 전산보안 분야 ‘우수’ 달성을 목표로 준비를 시작했습니다. 먼저 전산과의 보안수준에 대한 전반적인 현황 및 지난 감사에서의 미흡사항을 파악하였고, 타 사단과 상급부대에 협조요청을 하여 보안감사와 관련 된 자료를 확보하였습니다. 전산보안 분야에서 조치해야 할 항목들은 너무나도 방대하였고, 담당관, 부서원들과 회의 끝에 계획을 수립하여 자신의 담당분야를 맡아 처리하기 시작했습니다. 현실적으로 조치할 수 있는 것들부터 빠르게 조치해나갔고, 보안감사 전까지 할 수 있는 항목들에 대해서는 세밀하게 파고들어 조치하였습니다. 시설측면에서 오랫동안 문과 잠금장치 없이 방치되어 있는 노후 된 랙장비와 같은 경우 보안적 측면에서 상당히 위험하지만 내부적으로는 당연하게 여기고 있었습니다. 이러한 눈에 보이지 않는 취약점을 찾아 해결해야 한다고 생각했습니다. 두꺼운 합판을 구해서 문과 같은 크기로 잘라 문을 만들고 쇠사슬을 구해 랙장비에 고정하여 시설보안을 강화하였습니다. 또한 문서보안측면에서는 각 종 장비현황에 대한 서류와 출입인원통제에 대한 서류 등 다양한 서류들을 준비하였고, 피해복구대책 등을 세워 사무실과 서버실에 비치하는 등 미흡한 부분을 보완해 나갔습니다. 한 달 간 주말도 반납하며 부서원들과 준비한 끝에 만족할만한 마무리를 할 수 있었습니다. 수검 당일 자신 있게 준비한 것들에 대해 감사관님께 말씀드릴 수 있었고, 결과는 전산보안 분야 ‘우수’달성과 사단은 육본보안감사 최우수 부대에 선정될 수 있었습니다. 보안감사에 대한 공로를 인정받아 저와 담당관은 표창을 받을 수 있었고, 같이 고생하여 준비를 한 부서원들은 포상휴가를 받을 수 있었습니다. 준비과정에서는 힘들고 포기하고 싶었지만, 끝까지 부서원들과 합심하여 노력한 끝에 좋은 결과를 얻을 수 있었습니다. 비록 혼자서는 절대 못할 일들을 협동하여 각자 맡은 바 임무를 수행하였을 때 성공적인 결과를 얻을 수 있다는 것을 배울 수 있었습니다.\\n글자수 1251자   |   3123Byte\\n접기',\n",
       " '2017년 하반기 SK하이닉스 합격자 자기소개서 04 지원분야 | 생산관리·품질관리': '1. . 자발적으로 최고 수준의 목표를 세우고 끈질기게 성취한 경험에 대해 서술해 주십시오.\\n1) 먼저, 관련 대표 경험 2가지를 간략하게 작성해 주십시오. (각 50자 이내)\\n- 언제, 어디서, 어떤 일을 수행했던 경험인지 간략하게 기술할 것\\n1. 졸업논문, 음극재 성능향상을 위해 산화아연과 탄소코팅으로 새로운 방법을 도입했습니다.\\n2. 4학년때, 아두이노와 3D프린트를 이용해 직접 드론을 설계하고 완성하였습니다.\\n글자수 97자   |   233Byte\\n접기',\n",
       " '2017년 하반기 기술보증기금 합격자 자기소개서 01 지원분야 | 교회사무·행정·관리': '1. 기술보증기금에 적합한 인재는 이공계, 상경계, 법학적 직무능력을 갖춘 융합형 인재입니다.\\n지원 동기는 무엇이며, 자신이 어떤 면에서 기보에 적합한 인재인지 기술해 주시기 바랍니다.\\n[\"나랑 동업할래?\"]\\n초등학교 5학년 때부터 매일 아침 아버지와 함께 경제신문을 읽는 습관을 들였습니다. 처음에는 어려운 단어들이 많아 사전을 찾아보곤 했습니다. 그러나 계속 경제신문을 읽다보니 사전 없이 어려운 단어들을 쉽게 이해할 수 있을 뿐만 아니라, 경제를 바라보는 안목을 높일 수 있었습니다. 덕분에 중학교에 입학하기 전, OOO에서 주최하는 경제퀴즈대회에서 월장원과 연장원을 차지해 부모님께 기쁨을 드리기도 했습니다. 이런 습관은 지금까지도 이어졌고, 복수전공으로 경영학을 택하는 계기가 되었습니다.\\n이런 저의 경영학에 대한 흥미와 열정 덕분에 OO 교환학생 시절, 모든 과목을 고급 경영학 과목을 수강하게 되었고 좋은 성적을 받는 원동력이 되었습니다. 특히 서비스마케팅 수업에서 팀프로젝트를 같이했던 친구가 저에게 “내가 나중에 사업을 하게 된다면 너와 동업하고 싶다.”라고 말하기까지 했습니다.\\n그리고 201X년 OO에서 전국 영업점 상권분석 업무를 수행한 적이 있습니다. 소상공인진흥공단의 상권분석 서비스를 이용해서 각 영업점마다 장단점을 분석했습니다. 그리고 여러 가지 유의미한 사실들을 발견할 수 있었습니다. 이를테면 영업점의 매출은 매장규모, 교통편, 주변상권, 직영여부 등과 비례한다는 점을 발견했습니다.\\n상권분석 관련 부서를 운영하거나, 전담 직원들을 보유하고 있는 대기업에 비해 소기업, 소상공인들에게는 상대적으로 상권분석 업무를 수행할 여력이 부족한 경우가 많습니다. 그래서 OO시 골목상권의 경우 폐업률이 80%에 달한다고 합니다. 지금까지 쌓아온 지식과 경험 그리고 열정에 더해 실제로 상권분석 업무를 통해 영업전략을 도출한 경험을 바탕으로 우리 기술보증기금을 찾는 많은 벤처창업가들에게 든든한 사업파트너이자 동업자라는 마음가짐으로 벤처창업가들의 사업 성공에 큰 도움을 드리고 싶습니다.\\n글자수 910자   |   2238Byte\\n접기',\n",
       " '2017년 하반기 기아자동차 합격자 자기소개서 01 지원분야 | 경영지원': '1. * 우리 KIAN(기아인)들은 다음과 같이 네 가지의 인재상을 닮아 가려고 노력합니다.\\n그 중에서 당신을 가장 잘 표현할 수 있는 한 가지를 선택하여 경험적 사례를 통해 그 이유를 설명해 주세요.\\n[열정은 망설이지 않는 것이다 - Act]\\n\\n저는 기아의 열정 있는 신입사원이 되기 위해 많은 노력을 기울였습니다. 저는 열정이란 `망설이지 않고 행동하는 것`으로 정의를 내렸습니다. 우리가 망설이게 되는 이유는 크게 두 가지인데 하나는 나의 능력에 비해 너무 높은 수준을 요구하는 상황을 만나는 경우고 다른 하나는 나의 수준에 비해 너무 하찮다고 느껴지는 업무를 줬을 때 우리는 망설이게 됩니다. 저는 이런 상황들을 마주치게 됐을 때 망설이는 것을 극복하는 열정이 중요하다고 느꼈고 실제로 업무를 진행할 때 적용할 수 있도록 노력했습니다.\\n\\n저는 OOO은행에서 근무했을 때 열정을 갖고 업무에 임한다는 다짐을 잃지 않도록 노력했습니다. 휴가철을 맞아 외국인을 대상으로 마케팅을 나간 적이 있는데 주로 영어를 하지 못하는 동남아시아, 중국, 러시아 출신의 외국인이 많아 의사소통이 어려웠습니다. 은행 업무를 보는 고객의 수도 대기 고객 30명 정도가 될 정도로 압도적으로 많았습니다. 또한, 공인인증서 발급 업무의 경우 외국인들이 사용하는 스마트폰의 네트워크 환경이 좋지 못하거나 성능이 좋지 못해 시간이 지체되는 등 난관이 많았습니다.\\n\\n하지만 저는 웃음을 잃지 않고 한 명씩 친절하게 응대하면서 업무 처리를 해 나갔습니다. 의사소통에 필요한 필수적인 용어를 학습해서 현장에서 사용하고 스마트폰에 발급이 어려운 경우 USB에 설치해주거나 복사 서비스를 활용하는 등 해결이 쉽지 않았던 상황도 차근차근 풀어나갔습니다. 또한, 직원들과 업무 분담을 하여 대기하는 고객이 최소화되도록 노력하였습니다.\\n\\n결과적으로 저는 5일 동안 130명의 신규 인터넷 뱅킹 가입, 30명의 신규 신용카드 발급이라는 성과를 이룰 수 있었습니다. 업무 진행이 어려웠던 경우도 끝까지 해결방법을 찾는 자세로 임했기 때문에 가능했던 결과라고 생각이 들었습니다. 또한, 5일이라는 짧은 기간 동안 지점에서 필요했던 한 달 실적을 채웠다는 성과로 인해 지점장님을 비롯한 직원들에게 많은 칭찬을 받을 수 있었습니다.\\n\\n이처럼 저는 모호할 수 있는 열정이라는 개념에 대해 나름대로 구체적인 정의를 내리고 업무에 활용하여 좋은 성과를 이루는 경험을 했기 때문에 기아에서도 열정을 가진 신입사원으로서 업무에 임할 수 있다는 자신감이 있습니다. 또한, 열정을 갖고 업무에 임한다면 당장은 성과가 보이지 않을 수도 있지만 결국에는 훌륭한 성과로 보답을 받는 순간이 온다는 교훈을 얻었습니다.\\n글자수 1203자   |   2933Byte\\n접기',\n",
       " '2017년 하반기 기아자동차 합격자 자기소개서 02 지원분야 | 생산관리·품질관리': '1. Kreate – 열린 상상력으로 세상에 없던 새로움을 만들어가는 창조가\\nInnovate – 기존의 정해진 질서에 도전하여 대담한 변화를 이끌어내는 혁신가\\nAct – 생각에만 머무는 것이 아니라 생각을 적극적으로 현실에 반영하는 행동가\\nNavigate – 호기심과 열정으로 미지의 영역을 개척하는 탐험가\\n\\n1. 그 중에서 당신을 가장 잘 표현할 수 있는 한 가지를 선택하여 경험적 사례를 통해 그 이유를 설명해 주세요. (1500자)\\n[Navigate]\\n탐험가는 끊임없는 도전정신과 열정으로 미지의 영역을 밝혀내는 사람입니다. 알지 못하는 영역을 알아내는 것이기 때문에 여러 번의 실패를 딛고 실패를 극복하는 것이 탐험가의 자세라 생각합니다. Navigate라는 단어에서 따온 차량 Navigation도 여러 번의 Try & Error가 수행되기에 최적의 길을 안내해주는 것이므로 알지 못하는 영역에 대해 호기심과 열정을 갖고 끊임없이 도전한다면 미지의 영역을 개척해낼 것입니다.\\n[미지의 영역 : 공장]\\n화학공학과가 보통 공장이라는 큰 스케일의 것들을 다루기 때문에 학교 안에서 배우는 데에 한계가 있었습니다. 일반적으로 일하게 되는 근무지가 공장이지만 그에 대해 제대로 알지 못하는 것은 모순되는 이야기라 생각했습니다. 이를 극복하기 위해 ‘공정설계, 공장설계’와 같은 설계과목을 수강하였습니다. 설계과목을 통해 스스로 직접 프로젝트를 진행해나가면서 자연스럽게 공장에 대해 이해할 수 있었습니다. ‘공정설계’ 과목에서는 스스로 정한 화학공정에 대해 어떠한 Heuristic들이 쓰였는지 분석해보았고 ‘공장설계’ 과목에서는 화학공정 전체를 시뮬레이션하는 것이 한 학기 프로젝트였습니다. 결과물에 대해 Honeywell에서 Diamond, Gold, Silver 순으로 등급을 매겨 주었는데 결과물이 원하는 대로 나오지 않아 Silver 등급밖에 받지 못하였습니다. 이러한 실패를 극복하기 위하여 OO공학회에서 주최한 공정설계경진대회라는 더 높은 목표를 잡게 되었습니다. 공정 시뮬레이션만 했던 학교프로젝트에 비해 좀 더 포괄적으로 경제성과 기술개발 Plan작성 등을 고려해야 했기에 프로젝트를 진행하면서 공장을 안정적으로 돌리는 것뿐만 아니라 수익이 창출되게끔 건설비용과 Utility비용들을 최소화시키고 적용할 수 있는 기술을 논문들을 통해 찾아보았습니다. 처음으로 밤낮을 새워가며 무언가에 몰두해본 경험이었고 입상하지 못한 이유에 대해 조원들과 이야기해보며 실패한 경험으로만 두는 것이 아닌 부족한 점을 보완해보는 계기를 가졌습니다.\\n[탐험은 현재진행형]\\n공장이라는 미지의 영역에 대해 알아가기 위해 위와 같이 끊임없이 도전하였습니다. 각각의 결과가 큰 성과를 거두지 못해 만족스럽지 않았지만 이러한 실패를 통해서 화학공정 및 공장을 이해할 수 있었습니다. 이러한 저의 탐험은 진행형이며 입사하게 되면 현장에서도 이러한 탐험을 멈추지 않고 진행해나갈 것입니다. 일하면서 현장에서만 배울 수 있는 것들이 존재하기 때문에 기아에 입사하는 것은 탐험을 위한 새로운 시작이라고 생각합니다.\\n글자수 1266자   |   3024Byte\\n접기',\n",
       " '2017년 하반기 기아자동차 합격자 자기소개서 03 지원분야 | 생산관리·품질관리': '1. Kreate – 열린 상상력으로 세상에 없던 새로움을 만들어가는 창조가\\nInnovate – 기존의 정해진 질서에 도전하여 대담한 변화를 이끌어내는 혁신가\\nAct – 생각에만 머무는 것이 아니라 생각을 적극적으로 현실에 반영하는 행동가\\nNavigate – 호기심과 열정으로 미지의 영역을 개척하는 탐험가\\n\\n1. 그 중에서 당신을 가장 잘 표현할 수 있는 한 가지를 선택하여 경험적 사례를 통해 그 이유를 설명해 주세요. (1500자)\\n저는 생각에 머물러 있지 않고 목표한 것을 이루려 끊임없이 노력하고 변화하는 사람입니다.\\n저는 행동가입니다.\\n[끝까지 가는 ‘행동가’]\\n어떤 일을 시작하게 되면 처음 시작할 때 넘친 의욕과 다진 각오와는 달리 시간이 지나면서 끝까지 다해내지 못하거나 흔들리는 사람들을 볼 수 있었습니다. 저 또한 그들 중의 한 사람이었습니다. 작심삼일이라는 말처럼 마음먹었던 대로 이루어지지 않게 되면 마음이 변하게 되었고 곧 포기하게 되었습니다. 하지만 군대에 있는 동안 생각이 바뀌었습니다. 중간에 포기하고 싶을 정도로 힘든 훈련들과 처음부터 끝까지 차근차근해 내지 못하면 실패할 수 있는 일들이 많았습니다. 힘든 일이 있을 때마다 제 수송관이 늘 저희 병사들에게 하던 말이 있었습니다. “끝을 맺기를 처음과 같이하면 실패가 없다.” 당시에는 단순히 군대는 안되는 게 없다는 말보다 멋지게 들렸고 힘들고 어려운 일을 해낼 수 있었던 큰 원동력이 되었습니다. 그때부터 마무리할 때에 마음가짐이 제 삶에 들어오게 되었습니다.\\n복학 후, 재료역학의 중간고사 시험 결과가 나온 날 저는 매우 놀랐습니다. 성적이 거의 꼴등이었기 때문이었습니다. 하지만 끝까지 열심히 하여 남은 시험들을 모두 잘 본다면 성적을 뒤집을 수 있다고 믿었기에 포기하지 않았고 결국 기말고사에서 만점을 받게 되면서 B+라는 성적을 받을 수 있었습니다. B+가 좋은 성적도 자랑할 성적도 아니지만, 이때 느꼈던 성취감과 배운 점들을 통해서 이후에도 좋은 성적을 받을 수 있고 어떤 어려움이 닥쳐도 끝까지 포기하지 않을 수 있던 원동력이 되었습니다.\\n[목표를 위해 변화하는 ‘행동가’]\\n대학교에 입학한 뒤에 꿈도 없고 학구열도 없이 놀기만 하면서 시간을 보냈습니다. 군대를 다녀온 후에서야 정신을 차리게 되었지만, 다시 연필을 잡는다는 것이 쉽지는 않았습니다. 하지만 목표 하나가 있었습니다. 바로 성적 장학금 타보는 것이었습니다. 오랫동안 놓았던 공부를 다시 시작하는 데 좋은 발판이 되면서 부모님께 효도도 할 수 있다고 생각하여 도전하게 되었습니다. 밤을 꼬박 새워가면서 공부하였지만, 복학 후 첫 학기의 성적은 좋지 않았습니다. 무엇이 문제였을까 많은 고민을 하던 중에 강의 도중 교수님께서 하신 말씀을 듣고 답을 찾을 수 있었습니다. \"요즘은 솔루션 없으면 아무것도 못 하잖아요.\" 공부를 다시 시작하면서 솔루션만을 보면서 문제풀이 법을 달달 외우곤 했던 저는 이 말을 듣고 크게 뒤통수를 맞은 것 같이 얼떨떨했습니다. 그동안 시험을 위한 공부를 하고 있었던 저는 과감히 공부법을 바꿨습니다. 원리부터, 기본부터 차근차근히 다져놓았고 모르는 문제를 발견하면 시간이 오래 걸려도 답지를 보지 않고 해결했습니다. 단순 암기가 아닌 이해 하며 얻어진 지식은 기억에 오래 남았고 결국 진짜 공부를 통해 좋은 성적을 얻게 되어 성적장학금을 탈 수 있었습니다.\\n생각에만 머물러 있다면 아무것도 성취할 수 없습니다. 목표한 것을 이루려 노력하고 끊임없이 변화하면서 기아자동차의 최고의 일원이 되겠습니다.\\n글자수 1484자   |   3638Byte\\n접기',\n",
       " '2017년 하반기 기아자동차 합격자 자기소개서 04 지원분야 | 재무회계': '1. Kreate – 열린 상상력으로 세상에 없던 새로움을 만들어가는 창조가\\nInnovate – 기존의 정해진 질서에 도전하여 대담한 변화를 이끌어내는 혁신가\\nAct – 생각에만 머무는 것이 아니라 생각을 적극적으로 현실에 반영하는 행동가\\nNavigate – 호기심과 열정으로 미지의 영역을 개척하는 탐험가\\n\\n1. 그 중에서 당신을 가장 잘 표현할 수 있는 한 가지를 선택하여 경험적 사례를 통해 그 이유를 설명해 주세요. (1500자)\\n[목표의식을 바탕으로 행동하는 인재]\\n\\n저는 \\'Act\\'의 인재상으로 표현할 수 있습니다. 저를 움직이게 하는 것은 목표를 달성하고자 하는 강한 의지입니다. 저는 한번 정해진 목표는 기한을 초과하지 않고 이루어야 된다는 생각을 갖고 있어서 목표를 달성할 때까지 온 신경을 기울입니다. 그렇기 때문에 저는 달성할 수 있는 목표를 설정하고자 노력하며 목표가 생겼을 때는 전체적인 흐름 파악을 위해 큰 개요를 세웁니다. 이러한 어떻게든 목표를 달성하려는 집념이 저에게 행동할 수 있는 원동력이 되어준다고 생각합니다.\\n\\n고등학교 시절부터 어학연수의 꿈을 갖고 있었습니다. 저의 꿈을 이루기 위해 어학연수의 필요한 경비를 마련하려는 목표를 세웠습니다. 그리고 8개월간 아르바이트를 하며 목표했던 자금을 모으고 성공적으로 어학연수를 다녀올 수 있었습니다. 또한 대학교 동계 방학 때 인턴 활동을 하기 위해 인턴에 지원하였던 적이 있었습니다. 인턴에 지원하였으나 계속된 불합격 소식에 낙담하였습니다. 그러나 포기하지 않고 도전하여 결국 인턴에 합격하여 업무를 수행할 수 있었습니다. 그리고 한국FPSB가 주관하는 AFPK 자격인증시험에 합격기 위해 노력하였던 적이 있습니다. AFPK 자격인증시험은 난이도가 있어 오래 준비해야 하는 어려운 시험이었습니다. 그러나 합격의 목표를 달성하기 위해 꾸준히 공부하여 합격할 수 있었습니다. AFPK 자격인증시험을 준비하면서 공부를 통해 재무에 대해 보다 깊게 이해하는 지식을 획득할 수 있었습니다.\\n201X년도에 OO기업의 경영지원팀에서 업무를 진행하였습니다. 그때 법인 등기부등본의 임원 변경과 목적 변경 등기를 신청해야 했습니다. 처음 접하는 업무였지만 제가 직접 하는 것이 비용이 크게 절감할 수 있다는 생각이 들어 제가 업무를 담당하는 것에 도전하기로 하였습니다. 변경 등기 방법을 조사하고 이를 바탕으로 필요서류를 목록을 작성하여 차근차근 진행해나갔습니다. 생소한 업무에 어려움이 많았지만 결국 계획하였던 목표를 달성할 수 있었습니다. 법무사에게 업무를 의뢰한다면 40만 원의 비용이 필요하였습니다. 그러나 제가 직접 업무를 맡아 실행하였기 때문에 10만 원 정도의 비용으로 등기 신청을 완료하였습니다. 처음에 법무사에게 업무를 의뢰하려 하셨던 대표님께서는 적은 비용으로 업무를 달성한 것에 크게 만족하시며 칭찬해주셨습니다.\\n\\n기아자동차는 \"창의적 사고와 끝없는 도전을 통해 새로운 미래를 창조함으로써 인류사회의 꿈을 실현\"이라는 경영철학을 바탕으로 성장해나가고 있습니다. 이는 끊임없는 높은 목표의 설정과 달성으로 가능할 것입니다. 저의 목표의식을 바탕으로 행동가적인 면모로 기아자동차의 목표의 달성에 기여하는 사람이 되겠습니다.\\n글자수 1333자   |   3265Byte\\n접기',\n",
       " '2017년 하반기 기아자동차 합격자 자기소개서 05 지원분야 | QAA·통화품질': '1. Kreate – 열린 상상력으로 세상에 없던 새로움을 만들어가는 창조가\\nInnovate – 기존의 정해진 질서에 도전하여 대담한 변화를 이끌어내는 혁신가\\nAct – 생각에만 머무는 것이 아니라 생각을 적극적으로 현실에 반영하는 행동가\\nNavigate – 호기심과 열정으로 미지의 영역을 개척하는 탐험가\\n\\n1. 그 중에서 당신을 가장 잘 표현할 수 있는 한 가지를 선택하여 경험적 사례를 통해 그 이유를 설명해 주세요. (1500자)\\n[생각을 이기는 행동의 힘]\\n\"백번을 고민해도 행동하지 않으면 달라지는 것은 없다\" 생각이 많은 제가 항상 스스로에게 하는 말입니다. 행동하기에 앞서 두려워하고 걱정만 한다면 아무것도 달라지지 않고 문제는 그대로 해결되지 않습니다. 하지만 조금이라도 행동을 한다면 문제 해결에 한걸음 가까워지고 그전까지 가졌던 두려움과 걱정은 자신감으로 바뀝니다. 행동의 힘을 아는 저는 ACT하는 인재상에 부합합니다.\\n\\n교내 사업단에서 주최하는 자율주행 쓰레기 수거로봇 대회에 참가했을 때도 생각을 이기는 행동이 중요하다는 것을 알 수 있었습니다. 대회의 목표는 자율 청소 로봇으로 스테이지 위에 있는 쓰레기들을 벽과 장애물을 피해서 수거하거나 스테이지 밖으로 밀어내는 것이었습니다. 장애물과 벽, 2가지 종류의 쓰레기, 스테이지의 가이드라인까지 청소로봇이 인식해야 할 대상이 많았고, 그 만큼 다양한 센서를 활용하는 만큼 저희 조원들은 쉽게 로봇을 구상하지 못했습니다. 처음보는 센서들도 있었고, 한번에 많은 센서를 처리해야하는 프로젝트가 처음인 탓도 있었습니다. 누군가 아이디어를 제안하여도 그 제안처럼 센서가 동작하고 로봇이 제어될 지 확신이 서지 않아 모두들 회의적인 반응을 보이며 걱정하였습니다.\\n\\n1주일동안 로봇을 구상하고 다시 구상하기를 반복하면서 저는 근본적인 문제인 센서의 성능을 알아보는 것이 로봇의 구상보다 우선이라고 생각했습니다. 그래서 단순한 프로그래밍으로 센서들을 하나하나 동작시켜보면서 센서가 물체를 인식하는 범위는 얼마인지 오류값이 생기지 않도록 동작하려면 어떤 환경에서 센서가 동작해야 하는지 테스트해보았습니다. 그 과정에서 적외선 센서는 근접한 물체만 인식하며 투명한 물체는 근접하더라도 인식할 수 없다는 것을 알았습니다. 초음파 센서는 오류값이 많아 원인을 찾기 위해서 관련 논문과 연구결과를 찾아보았고 작동방식에 대하여 공부한 결과 2개 이상의 초음파 센서가 인접하면 서로에게 영향을 줄 수 있어 거리 측정에 오류가 생길 수 있다는 것을 알 수 있었습니다. 이렇게 센서의 성능과 특징들을 하나하나 알아가자 각 센서들에게 어떤 역할을 부여해야 할지 알 수 있었고, 로봇의 설계 또한 자연스럽게 구상할 수 있었습니다. 로봇을 구상하기 앞서 \\'구상한대로 잘 동작할 수 있을까\\'라는 걱정만 하고 행동하지 않았다면 결코 로봇을 완성할 수 없었을 것입니다.\\n\\n최고의 품질을 위해서는 직접 경험하여 문제점을 찾아야 하며 고민만 해서는 문제를 해결할 수 없습니다.. 기아자동차는 작년 J.D.Power가 발표한 \\'016 신차품질조사\\'의 IQS 지수 부문에서 33개 전체브랜드 가운데 1위에 오르고 총 7개 차종이 차급별 평가에서 수상하는 등 역대 최고 성적을 기록했습니다. 기아자동차는 문제를 적극적으로 찾고, 개선하기 위해 행동하는 기업이기에 가능한 결과라고 생각합니다. 저도 ACT하는 기아인의 정신을 이어받아 행동하는 기아자동차의 원동력이 되겠습니다.\\n글자수 1439자   |   3531Byte\\n접기',\n",
       " '2017년 하반기 기아자동차 합격자 자기소개서 06 지원분야 | 해외영업·무역영업': \"1. Kreate – 열린 상상력으로 세상에 없던 새로움을 만들어가는 창조가\\nInnovate – 기존의 정해진 질서에 도전하여 대담한 변화를 이끌어내는 혁신가\\nAct – 생각에만 머무는 것이 아니라 생각을 적극적으로 현실에 반영하는 행동가\\nNavigate – 호기심과 열정으로 미지의 영역을 개척하는 탐험가\\n\\n1. 그 중에서 당신을 가장 잘 표현할 수 있는 한 가지를 선택하여 경험적 사례를 통해 그 이유를 설명해 주세요. (1500자)\\n네 가지의 인재상 중 저를 가장 잘 표현할 수 있는 단어는 'Act'입니다. 긍정적인 결과를 낼 수 있을 것 같은 아이디어가 떠올랐을 때, 이를 직접 실행하여 결과를 보고자 합니다.\\n\\n[직접 착용을 통한 비치타올 매출 상승]\\n\\n***에서 파트 타임 근무를 할 때, 여름시즌 기간한정 제품으로 출시되었던 스파이더맨 비치타올의 매출 상승에 도움이 되었던 경험이 있습니다. 당시 스파이더맨 비치타올은 두 종류로, 빨간색과 파란색 제품이 있었습니다. 고객들이 볼 수 있도록 인쇄된 이미지 상으로는 파란색 제품의 디자인이 더 나아보였고, 그 결과 파란색 비치타올만 판매되는 경향이 있었습니다.\\n\\n제품 자체의 질이 좋았기 때문에 꾸준히 판매는 되었지만, 고객들이 파란색 비치타올을 찾는 비중이 훨씬 높아 빨간색 비치타올의 재고만 남는 상황이 자꾸 발생하였습니다. 그래서 저는 빨간색 비치타올의 구매를 유도해야겠다고 생각했고, 제가 직접 빨간색 비치타올을 두르고 있으면 이를 보고 판매율이 오르지 않을까 고민하였습니다. 이 아이디어를 점장님께 말씀드렸고, 비치타올을 두르고 있어도 된다는 허락을 받았습니다. 이후 제품을 구매하러 오신 고객들께 제가 두른 모습을 보여드리며 빨간색 비치타올의 구매를 유도하였고, 고객들도 실제 착용한 모습을 보며 그림으로 보는 것보다 예쁘다며 긍정적인 반응을 보이셨습니다. 그 결과 파란색 비치타올을 구매하시려던 고객들도 빨간색 비치타올을 구매하셨고, 점장님께서도 효과가 있다며 좋아하셨습니다. 직접 아이디어를 실행한 결과, 20%가량 빨간색 비치타올의 매출이 상승할 수 있었습니다.\\n\\n[외국인의 새로운 등산로 추천]\\n\\n***로 교환학생 파견을 나갔을 때, 사람들이 잘 가지 않는 등산로를 발견하여 직접 가보고 추천하여 좋은 반응을 얻은 경험이 있습니다. OO의 장점은 높지 않은 산이 많아 초보자들이 가기 좋은 등산로가 많고, 바다로 둘러싸여 있어 전경이 좋다는 점입니다. 제가 OO으로 파견가는 것이 확정이 되었을 때, 쇼핑보다는 한국에서는 접하기 어려운 자연환경을 보고 오겠다는 저만의 목표가 있었습니다.\\n\\n학기가 끝나고 한국에 돌아가기 전, 흔하지 않은 곳에 가야겠다는 생각이 들었고, 등산로를 검색하였습니다. 그 중 OO이라는 섬을 발견했고, 가는 버스편, 배, 소요 시간, 등산로 등을 미리 조사한 후 6시간의 등산을 마치고 돌아왔습니다. 사람도 많지 않고 전경이 너무 아름다워 이 등산로를 추천해야겠다고 생각했습니다. 저는 14개의 교환학생 프로그램에 참여하며 다양한 국적의 학생들과 친하게 지내고 있었고, 사진을 보여주며 등산을 좋아하는 친구들에게 추천하였습니다. 그들 역시 이런 장소를 찾고 있었다며 고마워했고, 다녀온 후기를 저에게 들려주기도 하였습니다.\\n\\n저는 경험을 통해 결과를 만들어내기 위해서는 행동이 우선시되어야 한다는 것을 깨달았습니다. 이제는 기아인으로서 행동으로 보여주는 신입사원이 될 것입니다.\\n글자수 1437자   |   3485Byte\\n접기\",\n",
       " '2017년 하반기 농수산홈쇼핑 합격자 자기소개서 01 지원분야 | 마케팅전략·기획': '1. 본인의 삶에서 가장 중요하다고 생각하는 가치 세 가지를 기술해 주세요.\\n[신뢰를 주는 사람]\\n제 삶에서 가장 중요한 가치는 신뢰입니다. 하지만 신뢰를 주는 사람이 되는 것은 제 의지만으로 가능한 것이 아닙니다. 주변 사람들이 저를 신뢰해야만이 신뢰를 주는 사람이 될 수 있기 때문입니다. 그렇기에 신뢰를 주는 사람의 가치는 더 소중하다고 생각합니다. 진심을 담아 오랜 기간 일관되게 행동해야 비로소 신뢰를 얻을 수 있으며 누군가의 신뢰를 얻는다는 것은 제가 그 사람에게 믿고 의지할 수 있는 존재가 되었다는 것입니다. 저는 항상 세상에 필요한 존재가 되고자 노력합니다. 제가 누군가에게 의지되는 사람이라는 것은 제가 존재하는 이유 중 하나입니다.\\n\\n[원칙을 지키는 사람]\\n신뢰를 주기 위해서는 일관된 행동을 보이는 것이 중요합니다. 모진 풍파에도 흔들리지 않고 일관되게 행동할 수 있으려면 자신만의 원칙이 필요합니다. 저의 제 1원칙은 스스로를 속이지 말자는 것입니다. 윤동주 시인의 서시는 제 좌우명과도 같습니다. 저는 죽는 날까지 하늘을 우러러 한 점 부끄럼 없는 삶을 살고자 노력하고 있습니다.\\n\\n[최선을 다하는 사람]\\n제가 삶을 살아가는 제 2원칙이자 삶에서 3번째로 중요하다고 생각하는 가치는 최선을 다하는 태도입니다. 아무리 사소한 일이라도 최선을 다하는 사람은 신뢰를 줍니다. 또한 최선을 다하는 태도는 후회를 남기지 않습니다. 좋지 않은 결과였음에도 최선을 다했기에 ‘그 때 조금만 더 열심히 할 걸’이라는 후회를 남기지 않아 과거에 얽매이지 않고 미래를 향해 나아갈 수 있습니다.\\n\\n신뢰, 원칙, 최선은 상호배타적인 가치가 아닌 서로 연결되어 있는 가치입니다. 저는 ‘모든 일에 최선을 다하자’는 원칙을 지키는 모습을 통해 신뢰를 주는 사람이 되고자 노력하고 있습니다.\\n글자수 853자   |   2069Byte\\n접기',\n",
       " '2017년 하반기 대한항공 합격자 자기소개서 01 지원분야 | 기술직': '1. 직장으로 항공사, 특히 대한항공에 지원하게 된 동기와 입사 후 포부를 간단하게 작성하여 주십시오(600자 이내)\\n내가 좋아하는 것\\n기계공학과에 입학 후 기본이 되는 역학을 수업을 들었습니다. 눈에 보이지 않는 원리를 이해하기에 어려움을 느껴 유체역학 수업을 들을 때 가장 힘이 들었습니다. 나의 부족함을 느끼고 심화된 응용유체역학, 기체동역학 과목을 이수하며 그간내용과 더불어 실용적인 모델을 가지고 하는 수업은 재미있었고 잘 이해할 수 있었습니다. 내가 좋아하는 과목을 기반으로 가장 잘 일할 수 있는 곳이 어디일까 생각하다 항공분야에 일해야겠다는 생각을 하였습니다. 항공과 관련한 기업들을 찾아보던 중 어디가 가장 잘할 수 있을까라는 생각의 결과로 항공기의 개발과 운항을 동시에 하는 대한항공을 선택하게 되었습니다.\\n\\n저의 꿈인 “기계의 의사”가 되는 꿈을 대한항공에 입사하여 이루고 싶습니다. 먼저 학교에서 배운 전공지식을 바탕으로 입사하는 6개월간 항공기술 교육을 성실하게 이수하고, 항공기 정비 현장으로가 선배사원들에게 경험과 노하우를 배우며 업무에 적응하도록 노력하겠습니다. 이후 정비현장에서의 기술들을 바탕으로 항공기 마다 새로운 정비 매뉴얼을 만들어 전 세계 어느 나라에서도 믿고 탈 수 있는 항공사가 되도록 최선을 다하겠습니다.\\n글자수 579자   |   1443Byte\\n접기',\n",
       " '2017년 하반기 두산인프라코어 합격자 자기소개서 01 지원분야 | 연구·실험·기술': '1. 지원하는 회사와 분야에 대한 지원동기를 자유롭게 기술하세요. [400자]\\n[고부가가치 제품의 구현은 가공 솔루션이 결정한다.]\\n제조 공정 역량을 바탕으로 고부가가치 제품을 구현하고자 합니다. 두산 인프라코어는 제조 공정 기술을 바탕으로 제품마다 달라지는 기능적 형상적 특성을 만족시키며 제품 경쟁력을 지니고 있습니다. 뿐만 아니라 금속과 화공 소재의 시험 및 평가 기술을 통해 재료의 품질과 신뢰성을 확보하고 있습니다. 저 또한 석사 과정으로 OO을 전공하면서 제조 공정 기술과 관련한 역량을 쌓았습니다. 만능 재료 시험기를 이용하여 탄성계수를 구하고, ABAQUS 유한요소 소프트웨어를 이용하여 탄성 및 진동 특성을 분석하기도 했습니다. 이러한 제조 공정 역량을 바탕으로 제품의 품질 향상과 고객을 만족시킬 수 있는 선진화된 디자인을 구현하여 고부가가치 제품 생산을 이루겠습니다.\\n글자수 396자   |   970Byte\\n접기',\n",
       " '2017년 하반기 롯데건설 합격자 자기소개서 01 지원분야 | 전기설비': '1. 지원동기 : 지원동기를 구체적으로 기술해주세요. ( 500자 )\\n“함께 발전하는 기업”\\n제가 회사를 선택할 때 가장 중요하게 생각하는 가치는 회사의 미래 발전 가능성입니다. 고여있는 물은 썩어버리는 것처럼 발전하지 않는 회사는 썩어버릴 수 있다고 생각하기 때문입니다. 발전하기 위해 노력하는 회사 안에서 함께 발전해 나가는 것이 저의 비전입니다.\\n\\n롯데건설은 롯데케미칼과 함께 여수, 대산, 울산 석유화학단지 및 해외 말레이시아 등지에 다양한 석유화학 플랜트 건설에 참여하고 있습니다. 또한 요르단 LPG 저장기지, 알카트라나 발전소를 성공적으로 준공하였으며, 인도 및 러시아에서 롯데제과 신규공장 건설, 인도네시아 및 중국 한국타이어 현지공장 건설을 수행하는 등 해외사업 역량 강화에 박차를 가하고 있습니다.\\n\\n끊임없이 성장하고 있는 롯데건설과 함께 저의 꿈을 펼치고 싶습니다. 롯데에는 대단한 인재들이 많이 있습니다. 그들을 도울 수 있는 현장관리에 충실하여 국내와 해외 건설 시장성을 높여 제가 속한 회사와 국가의 위상을 높이고 싶습니다.\\n글자수 494자   |   1214Byte\\n접기',\n",
       " '2017년 하반기 롯데건설 합격자 자기소개서 02 지원분야 | 환경·플랜트': '1. 지원동기 : 지원동기를 구체적으로 기술해주세요\\n제가 취업을 위해 회사를 찾을 때 가장 처음 보는 것은 채용분야 입니다. 자기의 적성과 흥미가 맞는 분야에서 일한다면 열정을 가지고 일에 임할 수 있을 것이며 이로 인해 빠르게 적응하며 일을 해낼 수 있고 오랜시간 동안 열정을 잃어버리지 않기 때문입니다. 그다음 살펴보는 것은 이 직무에 대한 가능성, 전문성입니다. 이 직무가 돈을 많이버느냐, 안정적이냐가 아닌 제가 이 일을 함으로써 어떠한 것을 배울 수 있는지, 어떤 것을 할 수 있게 되는지를 많이 생각합니다.\\n위의 것들을 생각하며 회사를 지원하다 보니 롯데 건설에 지원하게 되었습니다.\\n어릴적 아버지가 해외에 나가 건설 업무를 수행하셨던 이야기를 들으며 건설직업에 대한 꿈을 키웠으며 대학교 전공 수업, 자격증, 플랜트인력 양성과정 등을 거치며 준비를 하였습니다. 많이 부족할 수도 있지만 최선을 다해 노력하겠습니다.\\n글자수 433자   |   1057Byte\\n접기',\n",
       " '2017년 하반기 롯데정보통신 합격자 자기소개서 01 지원분야 | SW(소프트웨어)': '1. 1.지원동기 : 지원동기를 구체적으로 기술해주세요. 500자\\n[AI-Big Data 개발자]\\n‘알파고vs이세돌’ 바둑 경기를 통해 AI에 관심을 생겨 기반이 되는 딥러닝 수업을 201X년 1학기에 듣게 되었습니다. MATLAB을 이용한 얼굴 인식 프로그램 설계와 Python 언어를 사용한 ‘OOO’ 논문을 작성하면서 AI를 더 연구하고 싶어졌습니다. 그래서 데이터를 분석하고 AI에 적용하는 ‘AI-Big Data 개발자’를 목표로 삼게 되었습니다.\\n롯데정보통신이 IT기업 IBM과 빅데이터 업체 스플렁크와 제휴를 맺어 AI와 빅데이터 플랫폼을 개발한다는 기사를 접하게 되었습니다. AI와 그것의 기본 베이스가 되는 빅데이터, 둘 다 접할 수 있는 기회는 롯데정보통신에만 있다고 생각합니다. 저는 롯데정보통신에서 ‘AI-Big Data 개발자’로 성장하고 싶습니다. 그리고 롯데그룹에 존재하는 여러 계열사에게 적합한 AI 기술을 분석 및 개발을 통해 롯데그룹 발전에 도움이 되는 인재가 되겠습니다.\\n글자수 473자   |   1055Byte\\n접기',\n",
       " '2017년 하반기 범한판토스 합격자 자기소개서 01 지원분야 | 택배·운송·물류': \"1. 해당회사 및 직무에 지원하는 동기에 대해 기술해 주시기 바랍니다.\\n◎ 전문성과 열린 마음가짐\\n- 단순 화물 운송 이상의 사람과 사람을 잇는 전 세계를 연결하는 국제물류 전문가가 되자는 비전 아래 광범위한 공급사슬망 전반에 퍼져있는 국제물류, 무역 전반 프로세스의 이해도를 바탕으로 어느 특정 분야에서의 전문성을 갖추어 나만의 분야를 개척할 것인가에 대한 고민과 경험을 통한 Insight를 얻고자 노력하였습니다. 4번의 물류 기업 인턴십 중 수출 운영 파트근무를 통한 항공 수출 포워딩 운영 경험이 가장 기억에 남습니다. 처음 포워딩에 대한 이론 지식은 중간에서 서류만 전달해줄 뿐이라는 인식이 강하였습니다. 하지만 이는 실무와 현장을 경험하여 보지 못했던 저의 오판 이였습니다. 포워더와 포워딩은 국제물류 운영에 대한 깊은 이해도와 고객사 및 운송사를 관할하는 커뮤니케이션 능력, 화주의 특성 및 물성, 물량을 모두 고려한 합리적이고 냉철한 비용 산정을 통한 수익 창출, 서류 하나하나, 숫자를 놓치지 않는 꼼꼼함, 외국 어느 곳의 업체와도 교신 할 수 있는 글로벌 마인드와 외국어 역량 등 제 자신을 다시금 Challenge 하고 Innovate 하기에 더없이 매력적인 영역이라는 점을 운영 업무를 통하여 배울 수 있었습니다. 전공 및 자격증, 직무 관련 근무 경험을 제 전문성으로 하여 포워딩 분야뿐만 아니라물류 전반적인 영역에서 범한 판토스의 일원으로써 적응 기간 최소화, 실무에 투입 가능한 전문 인력으로 성장하기 위하여 열심히 준비하였습니다.\\n- 이제 막 물류업계에 도전하는 입장에서 전문성을 갖추고자 노력하였지만 아직은 부족한 것이 사실입니다. 하지만 '언제 어느 곳이던 항상 배우는 자세로 겸손하게 임하자'는 자세와 한번 말하고 두 번 듣는 열린 마인드, 새로운 것을 두려워하지 않는 도전정신으로 범한 판토스와 함께 성장하고자 합니다. 언제나 처음 시작은 힘들고 낯선 법입니다. 하지만 범한 판토스의 일원으로써 물류 전문가로써 성장하고자 하는 그 첫발은 보람차고 가치가 앞서는 길임을 확신하기에 범한 판토스 물류영업지원 직무에 지원합니다.\\n글자수 1000자   |   2420Byte\\n접기\",\n",
       " '2017년 하반기 삼성SDS 합격자 자기소개서 01 지원분야 | SW(소프트웨어)': '1. 삼성 sds를 지원한 이유와 입사 후 회사에서 이루고 싶은 꿈을 기술하십시오. (700자 이내)\\n[‘최초’가 어울리는 그룹에서 ‘최초’를]\\n저는 최초의 ‘AI-Big Data 개발자’가 될 것입니다. 현재 AI 개발자는 주어진 데이터를 이용하여 소프트웨어를 개발을 하는데, 저는 다른 AI 개발자와 차별화를 위해 직접 빅데이터를 다루고 활용하는 ‘AI-Big Data 개발자’가 되고 싶습니다. 빅데이터 관련 수업을 통해 Python, R, MySQL언어를 공부했고, 현재는 Python 언어를 이용한 ‘OOO’ 논문을 작성하여 논문 심사 중에 있습니다. 평소 분석 AI, 시각 AI, 대화형 AI 등 많은 AI를 개발하고 있는 삼성 SDS에 많은 관심을 가지고 있던 저는 201X년 X월에 AI기반 분석플랫폼 ‘Brightics AI’를 개발한 기사를 통해 제가 갈 곳은 삼성SDS라고 생각했습니다. 다양한 AI 개발 능력을 발휘할 수 있고, ‘최초’라는 단어와 잘 어울리는 삼성그룹이 제 목표인 ‘AI-Big Data 개발자’를 이룰 수 있는 무대라고 생각합니다.\\n글로벌 기업으로 성장하는 삼성SDS와 발을 맞추기 위해 입사 후 자기계발 시간을 통해 외국어 공부를 지속적으로 할 것 입니다. 또한 다른 분야에 비해 트렌드에 민감한 IT분야인 만큼 관련 서적 공부와 교육을 통해 변화하는 트렌드에 뒤쳐지지 않겠습니다.\\n글자수 632자   |   1382Byte\\n접기',\n",
       " '2017년 하반기 삼성디스플레이 합격자 자기소개서 01 지원분야 | 연구·실험·기술': \"1. Essay 1 삼성디스플레이를 지원한 이유와 입사 후 회사에서 이루고 싶은 꿈을 기술하십시오.\\n[디스플레이를 통해 나를 비추다!]\\n\\n산업기능요원으로 복무하면서 제품을 직접 만든 후 보람을 느낀 경험이 있습니다. 제가 직접 만든 에어 샤프트를 이용해 만든 휴지, 종이를 일상생활에서 사용하며 '나의 노력이 들어간 첫 공산품!'이라는 생각을 하며 일에 대한 자긍심을 느낄 수 있었습니다. 만일 '전공지식과 관련 있는 분야에서 제조업무를 하게 되면 얼마나 즐겁게 일을 할 수 있을까?'라는 생각이 들었습니다. 3학년 복학 후, 제일 먼저 관심을 두게 된 분야는 화학물질을 많이 사용하게 되는 반도체 기반사업이었습니다. 또한, 그중에서 일상생활에서 가장 친근히 볼 수 있는 휴대폰 디스플레이에 관심을 많이 가지게 되었습니다. 여러 디스플레이 업계 중에서 중소 OLED 시장을 지배하고 있는 삼성디스플레이를 목표로 하게 되었습니다.\\n\\n영화 '아이언맨'을 보면 자주 나오는 투명 디스플레이가 있습니다. 아이언맨 시리즈를 보면서 '저런 디스플레이의 시대가 빨리 다가왔으면 좋겠다.'라는 생각을 자주 하였습니다. 투명 디스플레이뿐만 아니라, Rollable, Foldable, Wearble 디스플레이들이 양산되는 변화의 중심에 삼성 디스플레이와 함께 있어지고 싶습니다.\\n글자수 596자   |   1406Byte\\n접기\",\n",
       " '2017년 하반기 삼성디스플레이 합격자 자기소개서 02 지원분야 | 연구·실험·기술': '1. 삼성디스플레이를 지원한 이유와 입사 후 회사에서 이루고 싶은 꿈을 기술하십시오.\\n고분자공업화학을 배우면서 액정에 대해 배울 때 흥미를 느끼고, 이를 계기로 디스플레이 교육을 이수하면서 ‘삼성디스플레이 입사’ 목표를 세웠습니다. 삼성디스플레이는 현재 중소형 OLED 시장에서 96.7% 점유율을 차지할 정도로 경쟁사와 격차가 매우 큽니다. 삼성디스플레이가 업계 1위를 달성하게 된 비결은 적극적은 연구∙개발 투자라고 생각합니다. OLED를 선도하던 일본의 경쟁사는 후지산을 물구나무서서 오르는 게 빠르겠다고 비웃었지만, 삼성디스플레이가 2007년 처음 양산에 성공하면서 압도적인 기술의 차이를 보여줬습니다. 적극적인 투자를 통해 업계를 선도하는 삼성디스플레이에 입사한다면 연구개발 엔지니어로서 동반성장을 통해 회사의 성장과 자아실현 모두 달성할 수 있다고 생각하여 지원하게 되었습니다.\\n삼성디스플레이에 입사 후 불량분석 엔지니어링 업무를 맡아 역량을 강화하여 새로운 품질향상기술을 개발하기 위해 노력하겠습니다. 디스플레이는 양산 후 glass에 작은 불량이라도 발생하면 출하하지 못하기 때문에 불량을 최소화하는 것이 매우 중요합니다. 통계적공정관리, 식스시그마 GB를 실습한 경험을 토대로 각 사업장에서 발생하는 불량 Data를 체계화하여 기록/분석한 후 불량을 일으키는 핵심 인자를 찾아 개선활동을 펼치는 연구원이 되겠습니다. 열정이 넘치고 책임감이 강한 강점을 살려 삼성디스플레이와 동반 성장하는 인재가 되겠습니다.\\n글자수 693자   |   1709Byte\\n접기',\n",
       " '2017년 하반기 삼성디스플레이 합격자 자기소개서 03 지원분야 | 연구·실험·기술': '1. 삼성취업을 선택한 이유와 입사 후 회사에서 이루고 싶은 꿈을 기술하시오. (700자 이내)\\n[새로운 시대의 선도자]\\n4차 산업혁명의 선도자로서, 상상 속의 디스플레이를 직접 만들고 싶어서 지원하였습니다.\\n현재 삼성디스플레이는 VR기기에 초고해상도 OLED를 탑재하기 위해 시중에 나와 있는 해상도보다 거의 4배나 높은 2000ppi급 파인메탈마스크(FMM) 개발에 들어갔습니다. 이렇듯 삼성디스플레이는 항상 남들보다 먼저 한 발 앞서나가는 선도자의 길을 걷고 있습니다. 삼성디스플레이의 일원이 되기 위해 디스플레이 제조팀 인턴, 일반기계기사 자격증 취득, PLC 수업을 들으면서 기초 지식을 쌓았습니다.\\n이런 실무경험을 바탕으로 상상 속의 디스플레이를 직접 만들어 디스플레이 시장을 이끌어 나가겠습니다.\\n[새로운 디스플레이]\\n새로운 디스플레이를 개발하여 삼성디스플레이를 업계의 독보적인 위치에 올려놓겠습니다. 이를 가능하게 만들 아이디어는 중소형과 대형을 결합한 디스플레이로 현재는 실현 불가능하게 보일 수 있지만 디스플레이 시장이 갈수록 치열해지고 있기 때문에 혁신적인 아이디어, 고객들을 사로잡을 수 있는 아이디어가 필요합니다.\\n상상 속에서만 가능했던 디스플레이, 그 이상을 제가 만들어 고객들에게 실용적이고 신선한 디스플레이를 제공하고 삼성디스플레이가 업계의 선두주자로 굳건히 자리매김할 수 있도록 이바지하겠습니다.\\n글자수 637자   |   1563Byte\\n접기',\n",
       " '2017년 하반기 삼성디스플레이 합격자 자기소개서 04 지원분야 | 일반영업': '1. Essay 1 삼성디스플레이를 지원한 이유와 입사 후 회사에서 이루고 싶은 꿈을 기술하십시오.\\n[나를 활용할 수 있는 기업]\\n저의 회사 선택 기준은 저의 역량을 활용하여 시너지를 낼 수 있는가 입니다. 삼성디스플레이는 끊임없는 기술 개발과 산업의 전망을 파악하고 사전에 대비하는 것을 통해, 흔들리기보다는 변화를 주도하고 있습니다. 삼성디스플레이는 OLED 등 관련 산업의 변화를 이끌며 앞서가는 기술을 개발하고 있습니다. AI와 IoT가 많은 산업에 적용되고, 더 크고 생생한 화면에 대한 사람들의 요구에 따라 기업이 개발하고 있는 디스플레이의 적용 범위는 더욱 커질 것입니다. 이에 맞춰 삼성디스플레이는 공급처를 다변화하기 위해 노력하고 있습니다. 변화에 대처하며 성장하는 삼성의 모습은 그 구성원에게도 동기를 부여할 것이며 경험을 통해 쌓은 저의 역량을 활용할 수 있을 것이라 생각합니다.\\n\\n삼성디스플레이의 구성원으로서 기업과 저의 상호발전을 위해 노력할 것입니다. 해외 시장과의 교류도 많은 만큼 매일 외국어 공부를 통해 소통력을 높이겠습니다. 협상력 및 설득력 기술을 높여 효과적인 영업을 이룰 수 있도록 꾸준한 자기개발을 이룰 것입니다. 또한 업계 관련 이슈를 파악하여 변화에 대비하고, 이를 활용한 기업 성장 방안을 찾겠습니다. 궁극적인 꿈은, 삼성만의 뚜렷한 브랜드 가치를 국내외 소비자들에게 각인시키는 영업인이 되는 것입니다. 자기개발을 통해 저의 비전을 실현할 수 있도록 노력하는 삼성의 구성원이 될 것입니다.\\n글자수 694자   |   1694Byte\\n접기',\n",
       " '2017년 하반기 삼성디스플레이 합격자 자기소개서 05 지원분야 | 건설안전': '1. 삼성디스플레이를 지원한 이유와 입사 후 회사에서 이루고 싶은 꿈을 기술하십시오. (700자 이내)\\n제가 삼성디스플레이에 큰 관심을 가지게 된 것은 대학교 때부터 가깝게 지내던 선배가 삼성디스플레이의 현직자가 되어 저에게 얘기를 해주었을 때 이후 로입니다. 그분은 OOO에 근무함으로써 덕분에 저는 간접적으로 삼성디스플레이의 안전에 대해 알 수 있었습니다. 체계적이고 꼼꼼한 안전 관리를 실행하는 삼성디스플레이는 저에게 매력적으로 다가오게 되었고 저의 역량을 펼칠 수 있는 회사라고 생각합니다\\n[보다 열정적으로 일하게 만드는 관심과 지원]\\n모든 사업에 안전에 대한 관심 및 지원을 하는 삼성디스플레이는 자연스럽게 안전에 대한 관심을 1순위로 두고 있는 저의 목표가 되었습니다. 안전이란 회사와 근로자 그리고 안전관리자의 협력으로 비로소 확립될 수 있습니다. 안전 관리란 안전관리자 홀로 하는 것이 아니라고 생각합니다. 고로 안전에 대해 크나큰 관심을 두고 있는 삼성디스플레이는 저의 이상향에 가장 가까운 회사라고 생각합니다. 만일 제가 삼성디스플레이에 입사한다면, 안전 관리 부서에서 보다 더 회사에 이익이 되는 방법의 안전 관리 방안들을 생각해 내고 싶습니다. 물론 이러한 효율적인 안전 관리는 안전이 확립된 이후 비로소 고안되어야 합니다. 그러므로 저는 삼성디스플레이의 공장에서 재해뿐만 아니라 사고조차 일어나지 않는 수준의 안전을 실현시킨 이후 회사에 이익이 되는 창의적이고 효율적인 안전 관리 방안들을 생각해내 보고 싶습니다.\\n글자수 691자   |   1719Byte\\n접기',\n",
       " '2017년 하반기 삼성물산(건설) 합격자 자기소개서 01 지원분야 | 기술직': '1. 삼성물산(건설)을 지원한 이유와 입사 후 회사에서 이루고 싶은 꿈을 기술하십시오. (700자 이내)\\n올해 국제 유가가 예상과 달리 추가 하락하면서 플랜트 업계는 내실 경영과 선별 수주를 통한 질적 성장에 계속 집중하고 있습니다. 저유가에 따른 주요 발주처의 재원 부족에 따라 EPC+파이낸싱 형태의 발주가 증가하여 프로젝트파이낸싱 역량이 향후 수주의 관건입니다. 삼성물산의 신용등급은 AA+로 국내 대형건설사 중 최고입니다. 시공능력과 함께 사업 기획력, 설계, 자금조달력의 역량을 지닌 삼성물산만이 미래 플랜트 수주의 경쟁력을 갖췄기에 지원하였습니다.\\n삼성물산의 설계 엔지니어로 입사하여 플랜트 교육을 기반으로 계장 설계 실무를 익히겠습니다. 세계적으로 각국의 중장기 성장 계획에 따라 전력 수요가 꾸준히 증가하여 발전 분야의 발주가 증가할 것입니다. 또한, 환경 관련 규제가 강화됨에 따라 화석 연료의 대체 에너지로 주목받고 있는 신재생에너지 분야 시장이 성장하고 있습니다. 이런 시장의 흐름에 맞춰 발전플랜트 위주로 설계 역량을 키워 미래 수주한 발전플랜트 설계 업무에 메인이 되겠습니다. 최종적으론 신재생에너지 분야에서 제 이름을 내건 독자적 기술을 개발하여 삼성물산이 시공하는 플랜트에 적용하는 것이 꿈입니다.\\n글자수 571자   |   1413Byte\\n접기',\n",
       " '2017년 하반기 삼성물산(상사) 합격자 자기소개서 01 지원분야 | 해외영업·무역영업': '1. 삼성물산(상사)를 지원한 이유와 입사 후 회사에서 이루고 싶은 꿈을 기술하십시오.\\n[미래가 기대되는 성장하는 기업]\\n삼성물산은 종합상사 중 최초로 인도네시아 팜농장을 인수하면서 팜오일 사업에 진출했습니다. 이후 타 기업들도 사업에 뛰어 들었지만 삼성물산의 생산량을 따라잡지 못하고 있습니다. 저는 OOO 교환학생 생활을 하면서 `한국에 없는 물건은 무엇일까? OOO에 수출할 물건은 뭐가 있을까?`라는 생각을 가장 많이 했을 만큼 수출입 업무를 떠올리는 것이 생활화되었습니다. 삼성물산이 뛰어난 선구안과 도전정신으로 새로운 소재를 찾아나갔듯이 이제는 제가 삼성물산의 동력이 되어 함께 성장하고 싶습니다. 매의 눈으로 시장의 니즈와 트렌드를 파악하여 신시장 개척에 앞장서겠습니다.\\n[더불어 사는 삶, 상생의 가치를 실천하는 기업]\\n얼어붙은 대한민국의 경제가 앞으로 나아갈 길은 더불어 사는 것이라고 생각합니다. 저는 초등학교 6학년 때부터 지역봉사단체에서 한 달에 한 번씩 봉사활동을 해오고 있습니다. 연탄봉사, 장애우 시설 봉사, 독거노인 방문 등 봉사를 해오면서 배운 점이 많기에 앞으로도 나눔을 실천하며 살고 싶습니다. 삼성물산은 상생의 정신을 가지고 있습니다. 홈페이지에 사회공헌 파트가 따로 있을 만큼 사회를 위해 다양한 노력을 하고 있습니다. 삼성만이 가지고 있는 국가대표 브랜드 가치가 더욱 빛나는 이유는 나눔의 정신이 있기 때문이라고 생각합니다. 삼성물산의 가족이 되어 최고의 가치를 만들며 더불어 살아가고 싶습니다.\\n글자수 701자   |   1721Byte\\n접기',\n",
       " '2017년 하반기 삼성바이오로직스 합격자 자기소개서 01 지원분야 | 연구·실험·기술': '1. 삼성 바이오로직스를 지원한 이유와 입사 후 회사에서 이루고 싶은 꿈을 기술하십시오.(700자)\\n삼성바이오로직스는 뛰어난 기술력을 기반으로 첨단제조설비를 갖추고 세계적으로 권위 있는 의약품 허가기관인 EMS, FDA로부터 7건의 공장설비 승인을 받았습니다. 특히 송도 1공장은 483건의 FDA 검사항목을 전원 통과하여 뛰어난 경쟁력을 갖춘 바이오 의약품 제조기업입니다. 최고의 품질로 인정받는 세계 CMO 챔피언이 되기 위해 끊임없이 노력하는 열정과 다양한 분석 장비의 전문성을 갖춘 연구원이 반드시 필요합니다.\\n저는 학부와는 다른 화학공학 석사에 진학하여 석사과정 동안 6번의 국제학술대회참가와 구두발표 1회, 포스터 상 1회 수상, 4편의 논문 게재로 연구에 대한 남다른 열정을 갖고 있습니다. 그리고 미생물을 이용한 유전자 재조합, 단백질 생산 및 정제부터 무기소재를 활용한 나노입자 합성 및 특성분석까지 다양한 연구 경험과 PCR, 전기영동, SDS-page, UV-spectrophotometer, SEM, TEM, HPLC 등의 분석과 장비들을 경험한 전문성을 갖추고 있습니다. 저의 이러한 역량은 높은 품질의 제품을 생산하는 데 이바지할 수 있을 것이라 확신합니다. 바이오로직스에 입사 후 최고의 품질관리 연구원으로 성장하여 CMO 분야의 글로벌 선도기업이 되는데 기여하고 싶습니다.\\n글자수 618자   |   1420Byte\\n접기',\n",
       " '2017년 하반기 삼성전자 DS 합격자 자기소개서 01 지원분야 | 연구·실험·기술': '1. 1.삼성전자를 지원한 이유와 입사 후 회사에서 이루고 싶은 꿈을 기술하십시오.(700자 이내)\\n제가 삼성전자에 지원한 이유는 두 가지입니다.\\n첫째, 세계 최고의 반도체회사에서 실제 반도체 생산 공정이 어떻게 돌아가는지 경험해보고 싶어서입니다. 전공수업에서 배웠던 전기전자공학 지식이 실제 반도체 연구 및 생산 과정에 어떻게 적용되는지 확인하고 관련 인턴 과제를 수행하여 역량을 키우고 싶습니다. 그 경험을 토대로 제게 부족한 점이 무엇인지 고민해보고 남은 학사 1년의 공부를 부족한 점을 채우는 데 집중하고 싶습니다. 또, 실제 기업에 입사 시 남들과 다른 경험을 통해 더 큰 경쟁력을 가질 수 있다고 생각합니다.\\n둘째, 저를 끊임없이 채찍질하기 위해서입니다. 지속적인 발전을 이루고 있는 삼성에 속함으로써 저 또한 발전을 멈추지 않고 삼성전자와 함께 꾸준히 앞으로 나아가고 싶습니다.\\n인공지능, 사물인터넷등을 필두로 한 4차산업혁명은 반도체의 업그레이드를 통해서만 가능한 만큼 반도체의 중요성이 그 어느 때보다도 커집니다. 제 주 전공과 전기전자공학과의 전공지식을 살려서 4차산업을 주도할 파운드리 사업부에서 반도체공정개선과 패키징/TEST에 대한 업무를 배워나가고 싶습니다. 인턴업무를 할 때 최대한 발로 많이 뛰고 선배님들이 귀찮아하시더라도 궁금한 것은 하나하나 다 물어보면서 6주 동안 제 역량을 키우는 것이 제 목표입니다. 특히 인턴 과제를 성실히 수행하여 좋은 성과를 냄으로써 제 가능성을 보여드리고 싶습니다.\\n글자수 695자   |   1701Byte\\n접기',\n",
       " '2017년 하반기 삼성전자 DS 합격자 자기소개서 02 지원분야 | 연구·실험·기술': '1. 1.삼성전자를 지원한 이유와 입사 후 회사에서 이루고 싶은 꿈을 기술하십시오.(700자 이내)\\n[더 나은 세상을 만드는 삼성과의 동행]\\n‘전력전자’ 수업을 통해 Diode, BJT, FET와 같은 작은 반도체 소자들이 스마트폰, 노트북, 자동차 등 다양한 분야에서 사용이 되고 있고, 우리 삶에 편리함을 주고 있다는 것을 알게 되었습니다. 이렇게 더욱 편리한 삶을 만들어 주는 반도체 산업에 관심을 가지게 되었고, `반도체물성`, `전기전자재료` 수업을 통해 반도체 분야 전문가가 되기 위한 기초 역량을 쌓았습니다.\\n다방면의 인재를 중심으로 매년 발전을 하는 삼성은 `함께하고 싶은 기업`이었습니다. 또한, 메모리 부분 1위에 만족하지 않고, 시스템반도체와 파운드리 사업으로의 끊임없는 도전을 통해 세계 반도체 시장을 주도하고 있습니다. 이러한 삼성전자의 도전에 함께하며, 반도체를 통해 더 나은 세상을 만드는 데 기여하는 엔지니어가 되고자 합니다.\\n[낮은 소비전력, 공정기술이 핵심]\\n최고의 공정기술을 개발하는 전문가로 성장하겠습니다. 갤럭시기어와 같은 웨어러블 디바이스 개발의 핵심은 더 세밀화된 나노 공정을 통한 반도체의 소형화와 소비전력을 줄이는 것이라고 생각합니다. 학부 시절 나노 공정의 세밀화에서 발생할 수 있는 누설전류 해결 방안과 핀펫의 원리와 공정과정에 대해 학습했습니다. 파운드리 사업부에 입사 후, 이러한 지식을 바탕으로 팀 프로젝트에 적극적으로 참여하며, 세계 최고 수준의 나노 공정기술 개발을 해내겠습니다.\\n글자수 692자   |   1674Byte\\n접기',\n",
       " '2017년 하반기 삼성전자 DS 합격자 자기소개서 03 지원분야 | 연구·실험·기술': '1. Essay 1 삼성전자를 지원한 이유와 입사 후 회사에서 이루고 싶은 꿈을 기술하십시오. (700자 이내)\\n\\n신소재 공학을 전공하면서 전자재료 분야에 흥미를 느끼고, 그 무한한 가치에 매료되어 반도체 산업으로의 진로를 꿈꿔왔습니다. 재료표면공학, 재료물리학, 전자재료학을 이수하여 반도체 물리에 대해 배우고 현재 반도체공정설계 수업을 들으며 공정에 대해 공부하고 있습니다. 삼성전자 메모리사업부는 Solution제품으로 사업을 확장하고, 모바일D램, eMMC, UFS의 끊임없는 개발로 미래에는 그 진가를 더욱 발휘할 것입니다. 제가 가진 지식으로 미래를 이끄는 제품을 생산하는, 가치 있는 일을 하기 위해 세계 1위 삼성전자 메모리사업부에 지원하였습니다.\\n삼성전자 메모리사업부에 입사하여서 다음과 같은 목표를 이루고 싶습니다.\\n첫째, 메모리반도체에 소프트웨어 역량을 결합하겠습니다. ‘반도체=부품’이라는 시각은 더 이상 유효하지 않다고 생각합니다. 이러한 흐름에 발맞춰 입사 후 소프트웨어 전문교육을 받음으로써 반도체뿐만 아니라 소프트웨어 역량을 강화하여 임베디드 기술의 발전를 위해 노력하겠습니다.\\n둘째, 전공역량을 활용하여 포스트 실리콘 시대를 선도하겠습니다. 실리콘 기반 반도체는 가까운 미래에 그 한계가 나타날 것입니다. 실리콘을 대체할 재료로서 고성능 갈륨-비소, 게르마늄시트, 그래핀과 이차원 구조체 등 다양한 재료를 연구하여 한계를 극복하는데 기여하겠습니다.\\n글자수 652자   |   1605Byte\\n접기',\n",
       " '2017년 하반기 삼성전자 DS 합격자 자기소개서 04 지원분야 | 연구·실험·기술': \"1. 삼성취업을 선택한 이유와 입사 후 회사에서 이루고 싶은 꿈을 기술하십시오. (700자)\\n[ 최고의 효율, 최저의 불량에 기여하고 싶습니다. ]\\n\\n학부 2학년, '신소재 공학개론' 시간에 웨이퍼 제조 공정을 영상으로 처음 접했습니다. 고가의 장비로 웨이퍼 안에 수많은 칩을 만들어내는 모습을 보면서 반도체 공정라인에 관심을 갖게 되었습니다. 이후 PDMS를 이용한 soft photo lithography 실험을 진행했습니다. photo 와 etching을 직접 경험하면서 미세한 반도체 공정에서 제조 설비의 가동 대한 중요성을 깨달았고, OO대 반도체 공정교육을 통해 방진복을 입고 직접 Fab에 들어가 제조 설비들을 직접 경험하면서 공정에 대한 이해도를 높혀왔습니다. 이러한 경험과 화학공학의 전공지식을 바탕으로 세계 최고의 삼성전자 메모리사업부에 입사한다면 최고 수율의 메모리반도체 양산과 최저불량에 기여할 수 있을 것 같아 지원하게 되었습니다.\\n\\n[설비 가동률 100%, 완벽한 detector]\\n\\n입사 후 반도체 공정과 장비를 빠르게 습득한 뒤 defective 수율과 공정과정의 soft defect를 꼼꼼하게 검사하여 메모리 반도체 양산에 기여하겠습니다. 완벽한 공정관리를 통해 모든 반도체 제조설비가 원하는 performance를 수행할 수 있도록 유지하겠습니다.\\n장기적으로는 완벽한 설비 infra를 구축하여 10나노급 이하의 메모리반도체를 최저의 불량률로 메모리반도체 부동의 1위를 유지하는 데 앞장 서겠습니다.\\n글자수 698자   |   1566Byte\\n접기\",\n",
       " '2017년 하반기 삼성전자 DS 합격자 자기소개서 05 지원분야 공통': '1. 삼성전자를 지원한 이유와 입사 후 회사에서 이루고 싶은 꿈을 기술하십시오.(700자 이내)\\n미래지향적인 환경안전 분석가\\n저는 미래의 산업발전과 친환경 경영의 균형을 맞추는 삼성전자의 환경전문가로 최선의 선택을 하고 싶습니다. ‘현재에 최선을 다하라.’라는 말이 있지만, 미래에 대한 준비 없는 최선은 차선이라고 생각하기 때문입니다.\\n삼성전자 DS부문은 DRAM, NAND Flash 제품 등 초미세 공정 기술을 적용하여 차별화된 제품의 생산을 확보하며 전세계 메모리 시장의 선두자리를 지키고 있습니다. 첨단 산업의 진취적인 성장과 더불어, 온실가스 원단위 감축계획 등 미래를 준비하는 친환경정책을 구현하고 있습니다. 저는 환경공학적 전문지식과 경험을 바탕으로 메모리사업부 제품성장을 뒷받침 하는 힘이 되고 싶습니다. 이를 위해 두 가지 역량을 키웠습니다.\\n첫째, 환경 전문가가 되기 위해 분석기술과 예측기술 모두 습득하였습니다. 기초분석실험을 수행하고, 나아가 ‘환경’이란 큰 틀 안에 정책, 경제, 예측모델링 등 다방면의 전문지식을 공부했습니다. 기후변화에 따른 환경 이슈 및 화평법 관련 정책 방향을 정확히 파악하고 있습니다.\\n둘째, R, SPSS 및 Coding기술 등 데이터 분석력을 갖추었습니다. 공정과정 및 화학사고로 유출될 수 있는 유해물질 노출량을 시뮬레이션을 통해 예측하고 혹시 모를 피해 상황에 대처할 줄 아는 관리자가 되겠습니다.\\n글자수 651자   |   1563Byte\\n접기',\n",
       " '2017년 하반기 삼성전자 DS 합격자 자기소개서 06 지원분야 | 생산관리·품질관리': \"1. Essay 1 삼성전자를 지원한 이유와 입사 후 회사에서 이루고 싶은 꿈을 기술하십시오.(700자 이내)\\n[안녕하세요.] 삼성전자는 반도체시장 진입, 디지털카메라의 투자 등 여러 도전을 성공적으로 이끌며 한국의 경제를 견인하고 있는 대표적인 기업으로 성장하였습니다. 외부적으로는 한국의 위상을 알리며 성장을 이끌고 있으며 내부적으로는 대학생봉사단, 스마트스쿨, 일자리창출 등 다양한 방면에서 사회공헌을 실천하는 기업입니다. 특히 OO대학교의 기자재담당 조교로서 방학마다 드림클래스를 지원하면서 삼성전자의 사회공헌을 지켜봐왔습니다. 이를 통해 저도 삼성전자에 입사하여 가치관인 도전을 실천하고 직장관인 사회공헌을 실천하는 미래를 그려나갈 수 있었습니다. '안녕하세요.'는 흔히 인사말로 알고 있지만 기원은 아무 탈없이 편안히 지내라는 뜻입니다. 이처럼 우리는 주위 사람들의 건강을 무의식적으로 챙깁니다. 하지만 사람만 건강해야 할까요? 아닙니다. 기계도 항상 건강해야 합니다. 반도체공정의 설비는 수억에서 수백억에 이르기까지 비싸며 1초가 멈추면 1조의 손실이 생깁니다. 또한 설비의 환경 및 상태는 수율과 품질에 결정적인 영향을 미쳐 매우 중요한 의미를 가집니다. 저는 설비엔지니어로서 설비의 의사가 되어 수율과 품질을 최적의 상태로 유지하도록 하겠습니다. 또한 끊임없는 자기개발을 통하여 삼성전자가 반도체시장의 왕좌를 유지하는 미래를 그려나가는 글로벌 인재로 성장하겠습니다. 이를 통해 삶의 질을 향상에 기여해 사회공헌이라는 직장관을 실현하겠습니다.\\n글자수 697자   |   1749Byte\\n접기\",\n",
       " '2017년 하반기 삼성전자 DS 합격자 자기소개서 07 지원분야 | 기계·기계설비': '1. 삼성전자를 지원한 이유와 입사 후 회사에서 이루고 싶은 꿈을 기술하십시오. (700자 이내)\\n[반도체 미래를 함께]\\n\\n회사를 선택할 때 산업에서의 성장을 위한 그 조직의 노력을 생각합니다. 삼성 반도체는 미국과 일본보다 출발이 늦었습니다. 하지만 철저한 시장조사와 남다른 노력으로 치킨게임에서 굳건히 자리를 지키며 세계 1위를 지키고 있습니다. 최근 10나노급 DRAM을 세계최초로 출시하면서 글로벌 최고의 입지를 다시 확인했습니다. 이러한 끊임없는 경쟁과 쟁취를 보고 전자공학도로서 욕심이 났습니다. 학교에 다니며 삼성전자에 입사하기 위해 물리전자, 전자소자를 수강하며 소자의 기본 원리를 습득했습니다. 또한, 집적회로공정, 집적회로공정실험을 배우며 공정과정을 이해했습니다. 학부 생활 동안 반도체에 관심을 가지고 관련된 지식을 쌓았습니다. 경쟁력 있고 세계 최고의 삼성전자라는 조직에 속해 역량을 펼치며 반도체의 미래를 함께 걷기 위해 지원했습니다.\\n입사 후 설비 엔지니어 직무를 맡아 양산시 반도체 수율을 높일 수 있도록 설비성능을 개선하고 오류에 대응해 나가겠습니다. 입사 5년 차까지 기존 공정의 설비에서 개선사항을 3개를 제안하는 것입니다. 그 후 필요한 전공지식을 배우며 자기 계발을 통해 입사 15년 차에는 DRAM의 생산량 증가를 위한 새로운 설비기술을 개발하겠습니다.\\n글자수 614자   |   1498Byte\\n접기',\n",
       " '2017년 하반기 삼성전자 DS 합격자 자기소개서 08 지원분야 | 연구·실험·기술': '1. 삼성전자를 지원한 이유와 입사 후 회사에서 이루고 싶은 꿈을 기술하십시오.\\n[최고를 위한 최적의 선택, 삼성전자]\\n제가 삼성에 지원한 이유는 삼성이 가진 최적의 기술력과 인재양성 제도는 제게 배움과 개발의 즐거움을 안겨줄 것이라 생각하기 때문입니다.\\n삼성은 대한민국을 대표하는 기업으로 전체 수출의 21%를 차지할 만큼 국가 경제에 기여하고 있습니다. 삼성이 이렇게 성장할 수 있고, 세계적인 기업이 될 수 있었던 것에는 자체 기술력이 큰 역할을 했다고 생각합니다. 반도체를 고속, 고집적, 다기능의 소자를 설계하는 것도 어렵지만 그것들을 실제로 만들 수 있는 설비를 개발하는 것은 더욱 어렵다고 생각합니다. 하지만 삼성전자는 공정과 설비의 차별화로 제조경쟁력에서 우위를 점했고, 세계최초 그리고 세계유일의 공정을 가능하게 만드는 설비, 공장, 소프트웨어를 현실로 구현했습니다.\\n이러한 기술력의 바탕에는 삼성의 인재양성 문화가 기여했다고 생각합니다. C-lab, 모자이크, 마스터제도 등의 프로그램은 삼성인에게 새로운 도전의 기회를 제공하고, 전문성과 재능을 극대화하는데 도움을 주었습니다.\\n삼성전자 생산기술연구소 입사 후, 상상을 현실로 구현할 수 있는 설비를 개발하는 것이 목표입니다. 또한 설비의 혁신을 통해 저전력, 저비용 그리고 고성능의 반도체를 양산할 수 있는 제조기술을 개발하고 싶습니다. 앞으로 삼성인이 되어 꿈을 이루고 회사의 발전을 같이 이루어 나가겠습니다.\\n글자수 672자   |   1650Byte\\n접기',\n",
       " '2017년 하반기 삼성전자 DS 합격자 자기소개서 09 지원분야 | 영업기획·관리·지원': '1. 삼성전자를 지원한 이유와 입사 후 회사에서 이루고 싶은 꿈을 기술하십시오. (700)\\n[최고인 곳에서 최고의 역량을]\\n반도체 부문에서 압도적인 기술력을 가진 삼성전자에서 최고의 제품을 전세계 고객에게 제공하고 싶어서 지원하게 되었습니다. 중국 스마트폰 제조업체들의 빠른 성장과 4차 산업혁명으로 고성능 D램과 낸드플래시 수요가 급증하며 반도체산업이 큰 호황을 이루고 있다는 기사를 보았습니다. 이를 계기로 산업에 관심을 가지게 되었고, 멀게만 느껴졌던 반도체 분야가 스마트폰, 노트북부터 자동차와 같이 우리 생활 가장 가까이에서 삶의 질을 높여준다는 사실이 매우 흥미로웠습니다.\\n영업마케팅 부서에서 저의 역량을 최대로 발휘할 수 있을 것입니다. 우선 글로벌B2B업체의 영업마케터로서 다른 언어와 문화를 가진 고객사와의 소통은 필수입니다. 특히 북미, 유럽 내 자율주행자동차 시장 성장에 따라 CIS 수요의 증가가 예상되는 만큼, 현지경험을 바탕으로 고객을 진정으로 이해하겠습니다. 또한 정확한 수주와 수요관리능력이 필요합니다. 생산운영관리 과목을 통해 SCM개념을 배웠고, 인턴으로 근무할 때 이벤트 참가자 특성을 고려한 아이템 수요예측, 공급자와의 원활한 소통으로 정확한 시일에 물품을 받아낼 수 있었습니다. 효과적인 SCM으로 고객만족과 비용절감을 실현시키겠습니다.\\n나아가 발생 가능한 어려움을 예측하고 대안방안을 마련하여 각국에서의 안정적인 입지확보는 물론, 신시장을 개척해 나가는 영업마케팅 전문가가 되는 것이 꿈입니다.\\n글자수 698자   |   1724Byte\\n접기',\n",
       " '2017년 하반기 삼성전자 합격자 자기소개서 01 지원분야 | 연구·실험·기술': '1. 삼성전자를 지원한 이유와 입사 후 회사에서 이루고 싶은 꿈을 기술하십시오. (700자 이내)\\n삼성이란 기업을 지원한 이유는 대한민국에서 가장 큰 인프라를 가지고 문제를 해결해 나갈 뿐 아니라 뛰어난 인재들의 집합소로 그들과 함께 성장해나가고 싶었기에 지원하였습니다.\\n\\n저는 평소 가전제품에 관심이 많아 졸업 작품으로도 벌레를 잡을 수 있는 청소기를 만들었습니다. 벌레들을 충분히 잡기 위해서는 충분한 유속과 압력을 끌어올려야했습니다. 또한 추가적으로 설치되는 전기 망으로 소모 되는 전력의 양이 많아 지속시간이 너무나도 짧았습니다. 5시간에 가까운 충전시간에도 지속시간은 10분도 채 되지 않던 것을 해결하기 위해 소형화, 모듈화 등 많은 노력을 하여 해결하려 했으나 사용시간을 늘리는 것을 기술적으로 해결하지 못한 채 마무리 지었습니다. 이런 문제는 비단 저희가 진행했던 프로젝트만의 문제가 아닌 현재 무선 가전제품들이 풀어 나가야하는 문제입니다. 제가 삼성전자의 생활가전 사업부의 연구직을 맡는다면, 에너지 변환 연구실에서 연료전지를 만들었던 경험을 바탕으로 배터리의 성능을 높이는 방안을 모색하여 연구, 개발하여 제품의 구매자들이 좀 더 편리하게 이용할 수 있도록 집중적으로 해결하도록 노력 하겠습니다. 또한 가전제품의 안전성과 편리성을 증대시켜 가전제품이 삼성전자의 또 다른 이름이 될 수 있기를 꿈꾸고 희망합니다.\\n글자수 633자   |   1579Byte\\n접기',\n",
       " '2017년 하반기 삼성전자 합격자 자기소개서 02 지원분야 | 공정관리': '1. 삼성전자를 지원한 이유와 입사 후 회사에서 이루고 싶은 꿈을 기술하십시오.\\n[삼성의 의미]\\n2010년, 새 휴대폰을 구입하기 위해 찾은 매장에서 스마트폰을 처음 보았습니다.\\n그 당시 애플의 아이폰은 모바일기기의 패러다임을 바꾸며 스마트폰의 새 지평을 열었습니다.\\n2017년, 현재 삼성의 스마트폰은 애플사를 능가한 판매량과 기술력을 통해 전 세계 어디서나 볼 수 있는 스마트폰이 되었습니다. 또한, 삼성전자의 메모리반도체는 1993년 이래 세계 메모리 반도체 시장에서 선두를 유지하며 독보적인 경쟁력으로 글로벌 IT시장에 기여하고 있습니다.\\n저는 삼성전자에서 자부심을 가슴에 품고 싶습니다. 단순히 세계 1위라는 자부심이 아닌 한 명의 공학도로서 기술력을 통해 세계 각 국의 산업발전에 기여하고 있다는 엔지니어의 자부심을 품겠습니다.\\n\\n[설계에서 생산까지]\\n설비직에 지원한 엔지니어로서 제가 해야 할 일은 명확합니다.\\n그것은 설비를 개선하고 최적의 효율을 통해 수율 향상에 이바지 하는 것입니다.\\n하지만, 더 나아가 이루고 싶은 꿈은 장비의 자체 기술화를 이루는 것입니다.\\n현재 국내 업체 중 반도체 공정의 가장 중요한 단계인 포토공정을 수행하는 스캐너 장비 개발사의 비율은 0%입니다. 결국, 장비기술력 없이는 장비산업에도 뛰어든 중국 반도체산업과의 격차가 더 빠르게 좁혀질 것입니다.\\n이를 위해 설비엔지니어로서의 역량을 쌓고 설비 기술력 개발에 기여함으로써 삼성전자의 반도체산업에 한 획을 긋고 싶습니다.\\n글자수 696자   |   1686Byte\\n접기',\n",
       " '2017년 하반기 삼성전자 합격자 자기소개서 03 지원분야 | 공정관리': \"1. 삼성취업을 선택한 이유와 입사 후 회사에서 이루고 싶은 꿈을 기술하십시오.\\n[변화 혁신 그리고 상생]\\n삼성전자는 최근 반도체 부분 최고 매출액을 올리고 세계 최초 28나노 임베디드 플래시 파운드리 신공정을 개발했습니다. 저는 ‘최고’와 ‘최초’의 수식어에 주목하기보다는 삼성의 ‘변화’, ‘혁신’, ‘상생’에 주목했습니다. 변화와 혁신을 통해 LSI사업부에서 Foundry 사업부를 분리하여 세계시장에서 반도체 사업의 경쟁력을 강화하고 평택에 대규모의 반도체 단지를 조성하여 지역경제 활성화와 일자리 창출에 기여, 협력업체와 동반성장 하는 상생발전을 하는 삼성전자에 지원을 결심했습니다.\\n삼성전자에서 저는 설비 엔지니어 직무를 수행하고 싶습니다. 설비 엔지니어 직은 전문적인 지식뿐만 아니라 기계를 잘 다루고 협업 능력도 중요하다고 생각합니다. 저는 이러한 업무를 수행하기 위해 다음과 같은 활동을 했습니다. 첫째, 대학 시절 H/W 설계를 맡아 전기학회 및 캡스톤디자인 대회에 참가했습니다. 둘째, 회사생활을 하면서 기구설계를 맡아 기계에 대한 이해력이 빠릅니다. 셋째, 동아리 활동 및 대외활동을 통하여 여러 사람과 소통하며 대인관계 능력을 키웠습니다.\\n입사 후에도 팀원과 협력하고 소통하여 좋은 성과를 내 삼성전자의 발전에도 크게 기여할 수 있도록 하겠습니다. 또한, 제 행동이 회사를 대표할 수 있다는 마음가짐을 갖겠습니다. 그 후, '현장관리소장'이라는 비전을 성취하기 위해 구체적인 로드맵을 계획 하겠습니다.\\n글자수 696자   |   1704Byte\\n접기\",\n",
       " '2017년 하반기 삼성전자 합격자 자기소개서 04 지원분야 | SW(소프트웨어)': '1. 삼성전자를 지원한 이유와 입사 후 회사에서 이루고 싶은 꿈을 기술하십시오.\\nOO캠퍼스 리포터를 하면서 관심을 갖고 대학원에서 전파공학을 공부했던 통신의 기초인 OFDM 송수신기, DSP 등을 통해 통신신호처리 분야에 관심을 갖고 삼성전자 네트워크사업부 스프트웨어직에 지원하게 되었습니다.\\n\\n석사과정까지 전파공학을 전공하면서 가장 흥미있었던 것은 석사 졸업논문 프로젝트였습니다. 통신신호처리 분야를 공부하면서 학부 졸업 프로젝트에서 C언어와 매트랩을 이용한 DSP 음성변조를 수행하여 졸업작품 전시회에서 인기작품상을 수상한 경험을 통해 대학원 석사 진학 후에 통신 신호처리의 기본인 OFDM의 송신기에서 적응신호처리 중 대표적인 기술인 디지털 전치왜곡(Digital Predistortion)을 기반한 LUT(Lookup Table), Polynomial(다항식)을 이용해 응용 연구를 했는데, 매트랩을 이용해 프로젝트를 하면서 어려운 점도 많았지만, 흥미롭게 과정을 즐기면서 프로젝트를 수행했습니다. 밤낮 구별없이 프로젝트를 수행한 결과, 한국통신학회에서 많은 사람들이 제 논문 프로젝트에 관심을 가졌습니다. 그래서 자신감을 갖고 소프트웨어분야에 도전하게 되었습니다.\\n이러한 모든 과정들을 통해 키워온 저의 포기를 모르는 집요함과 도전 마인드는 향후 회사의 중요한 S/W개발을 하는데 도움이 될 것이라 생각합니다.\\n글자수 639자   |   1499Byte\\n접기',\n",
       " '2017년 하반기 삼성전자 합격자 자기소개서 05 지원분야 | 마케팅전략·기획': '1. 삼성취업을 선택한 이유와 입사 후 회사에서 이루고 싶은 꿈을 기술하시오, (700자)\\n[삼성전자의 맞춤인재, 2가지 강점을 보유하다]\\n국내 최고의 회사에서 끊임없이 저의 한계에 도전하고, 회사와 나의 동반성장을 도모하고자 삼성 취업을 선택했습니다. 저는 삼성전자 영업마케팅 업무 수행에 필요한 2가지 강점을 활용하겠습니다. 첫째, 커뮤니케이션 능력이 뛰어납니다. OO무역관에서 6개월간 인턴으로 근무하며 뛰어난 소통 능력과 친화력을 인정받았습니다. 5번의 수출마케팅 행사와 동북아박람회를 진행하며 호텔 매니저, 현지 직원들, 고객들과 끊임없이 소통하며 모든 행사를 성공적으로 치렀습니다. 이러한 점을 고객지원 및 국내외 파트너와의 협업에 활용하겠습니다. 둘째, 글로벌 인재로 성장하기 위해 노력해 왔습니다. OOO에서 1년간의 교환학생, OO에서 인턴, OO에서 생산관리, 동남아시아 여행을 통해 어학실력은 물론, 타 문화를 이해하고 받아들일 줄 압니다. 이 경험은 현지 법인의 조직원들과 원활하게 소통하는 데 도움이 될 것입니다.\\n\\n[온라인과 오프라인 각각의 채널에 맞는 맞춤형 마케팅 전략 기획]\\n저는 입사 후, 온오프라인을 접목시켜 매출 극대화를 할 수 있는 마케팅을 기획해 국내시장에서 삼성 점유율을 한층 높이고 싶습니다. 또한 중국 시장에서 삼성 점유율을 높이는 데 기여하고 싶습니다. 중국 시장 전문가가 되기 위한 공부를 게을리 하지 않고, 고객과 소통하는 영업마케터가 되는 것이 저의 꿈입니다.\\n글자수 686자   |   1662Byte\\n접기',\n",
       " '2017년 하반기 삼성전자 합격자 자기소개서 06 지원분야 | 반도체·디스플레이·LCD': '1. 삼성전자를 지원한 이유와 입사 후 회사에서 이루고 싶은 꿈을 기술하십시오.\\n\\n대학에 입학 한 후 공부한 여러 과목 중 반도체 공학은 제게 의미가 깊습니다. 누구나 기피하는 교수님의 강의를 수강하였고 단 1분도 헛되이 듣지 않고 매일 강의시간의 두 세배를 복습과 예습에 시간을 쏟은 결과 6번의 시험에서 우수한 성적을 거둠은 물론 물성론을 전반적으로 이해할 수 있는 성취를 이뤘습니다. 또한 후공정을 배우고 싶어 삼성전자 인턴에 지원하여 후공정 관련한 지식도 쌓았습니다. 그러면서 교수님과 대학원생들에게 반도체에 대해 이것저것 물어보며 많은 얘기를 들었고 반도체 소자와 회로 설계는 물론 반도체 공정, 광전자 공학, 전기전자재료 등의 과목을 수강하였습니다.\\n이러한 경험을 통해 웨이퍼의 생성부터 칩 단위의 완성까지 중요하지만 결코 흔하지 않은 지식을 쌓을 수 있었습니다. 저는 이런 지식을 바탕으로, 반도체 공학 수업시간에 듣게 된 MOSFET를 개발한 강대원 박사의 일화를 통해 반도체 소자 개발의 꿈을 꾸었습니다. 4차 산업혁명이 도래하면서 반도체가 점점 중요해지지만, 공정의 미세화 한계와 MOSFET의 열적 한계에 다다랐습니다. EUV 장비 도입으로 더 미세한 패턴이 가능하지만 결국엔 MOSFET를 뛰어넘는 소자가 필요하다고 생각합니다. 삼성전자는 전 세계에서 유일하게 반도체 소자부터 설계 및 양산이 가능한 회사입니다. 그래서 저도 삼성전자의 반도체 미래를 향한 한 걸음, 한 걸음에 동참하고 싶습니다.\\n글자수 693자   |   1670Byte\\n접기',\n",
       " '2017년 하반기 삼성전자 합격자 자기소개서 07 지원분야 | 생산관리·품질관리': '1. 삼성전자를 지원한 이유와 입사 후 회사에서 이루고 싶은 꿈을 기술하십시오. (700자 이내)\\n[관심분야에서 직업으로]\\n저는 화학공학을 전공으로 하고 있지만, 전자기기에 대해 관심이 많은 편입니다. 컴퓨터에 관심이 많아서 노트북과 데스크탑을 각각 가지고 있고, 데스크탑도 부품들을 각각 구입하고 직접 조립해서 만들었습니다. 친구가 컴퓨터를 조립할 때 옆에서 조언을 해주며 같이 만들기도 했습니다. 부품을 조립할 때 SSD와 RAM은 대부분 삼성전자의 제품을 사용하기 때문에 삼성전자의 메모리 및 반도체 기술에 대해 관심이 갔습니다. 제 전공인 화학공학을 살리면서 제가 좋아하는 전자제품을 다루는 곳인 삼성전자라면 제가 원하는 꿈의 직장이라는 생각이 들었습니다.\\n삼성전자 DS부문에 입사하기 위하여 반도체 관련 전공과목인 반도체의 제조공정을 수강했습니다. 대한민국 뿐만 아니라 전 세계 메모리 시장에서 부동의 1위 자리에 위치하고 있는 회사이기 때문에 그 바탕에 있는 공정 및 첨단 설비는 제가 엔지니어로써 기술을 배우고 성장하는데 좋은 발판이 되어 주리라 생각합니다. 이러한 발판을 바탕으로 회사와 같이 성장하는 엔지니어가 되겠습니다.\\n글자수 527자   |   1299Byte\\n접기',\n",
       " '2017년 하반기 삼성전자 합격자 자기소개서 08 지원분야 | 생산관리·품질관리': '1. 삼성전자를 지원한 이유와 입사 후 회사에서 이루고 싶은 꿈을 기술하십시오.\\n[낸드플래시 경쟁력-수직구조와 CTF기술]\\n\\n제가 삼성전자에 지원한 이유는 4세대 V랜드 같은 3D 낸드플래시 경쟁력 때문입니다. 구조적 측면에서 기억소자인 셀을 수평이 아닌 수직구조로 쌓아올리는 방식을 채택하여 소자의 크기 변화없이 집적도를 증가시켜 성능확보를 했습니다. 또한 전하 저장 측면에서 전하를 도체가 아닌 부도체에 저장하는 CTF 기술을 개발하였습니다. 부도체에 전하를 저장하여 수직으로 셀을 쌓는 구조에서 발생하는 셀 사이에 간섭현상을 해결하였습니다.\\n이를 통해 삼성전자의 구조와 기술을 통한 품질개선 가치를 느낄 수 있었습니다.\\n\\n[소재와 구조를 통한 품질개선 전문가]\\n\\n저는 단기적으로 삼성전자의 품질개선 가치에 저만의 경험을 통해 기여하고 싶습니다. 3개월간 노트북용 연료전지시장 관련 프로젝트에 참여하여 소재와 구조변화 전략으로 품질개선을 이룬 경험이 있습니다. 전략의 핵심은 소재 측면에서 치밀형 구조의 소재를 사용하여 산소 기체가 이동하는 것을 막아 연료전지의 구동력인 산소 분압차를 유지시켜 연료전지의 성능을 향상시키는 것 입니다. 또한 설계측면에서 연료전지와 연소 분사구의 거리를 늘려주어 급격한 온도변화를 줄여 열충격에 의한 전지의 안정성 저하를 감소시켰습니다. 이를 통해 품질개선 시 소재와 구조의 중요성을 알 수 있었습니다.\\n\\n따라서 설비엔지니어직무중 품질개선 업무 시 저만의 전략을 녹여내고 싶습니다.\\n글자수 695자   |   1715Byte\\n접기',\n",
       " '2017년 하반기 삼성전자 합격자 자기소개서 09 지원분야 | 기계·기계설비': '1. 삼성전자를 지원한 이유와 입사 후 회사에서 이루고 싶은 꿈을 기술하십시오. (700자 이내)\\n[도전과 혁신]\\n기술발전이 빠른 사회에서 새로운 분야에 미리 대응하지 못하면 살아남을 수 없음을 노키아가 보여주었습니다. 삼성전자는 Foundry 사업부를 출범하여 TSMC가 거의 독점해온 Foundry분야에 변화를 예고하고 있습니다. 그 예로 2020년까지 4나노 공정 개발을 완료하는 계획을 세우고 28나노 임베디드플래시메모리 생산 공정을 개발하여 4차산업 시대의 핵심인 IoT 기기 시장을 대비하고 있습니다. 이처럼 새로운 도전으로 혁신을 만들려는 회사에서 저는 일하고 싶습니다.\\n[공정을 개선하는 좋은 설비엔지니어]\\nFoundry분야의 변화를 위해 좋은 설비엔지니어로써 삼성전자에 도움을 줄 것입니다. 좋은 설비엔지니어란 반도체 8대 공정 중 담당한 공정을 이상 없이 운행시키는 것뿐 아니라 더 높은 수율을 얻어내도록 공정을 개선시킬 수 있는 엔지니어라고 생각합니다. 그러기 위해선 8대 공정에 대한 이해와 새로운 것을 두려워하지 않는 자세가 필요합니다. 저는 전공수업 ‘반도체제조공정’에서 반도체 8대 공정에 대한 기초적인 지식을 쌓았고 특히, 해당 과목 팀 프로젝트를 진행하며 Oxidation model에 관한 논문을 분석했습니다. 논문을 통해 Deal-Grove model의 한계와 산화 두께나 속도에 영향을 주는 요인을 알게 되었습니다. 이러한 지식을 바탕으로 조금이라도 더 빠르게 공정의 문제를 해결하는 엔지니어가 되겠습니다.\\n글자수 699자   |   1627Byte\\n접기',\n",
       " '2017년 하반기 삼성전자 합격자 자기소개서 10 지원분야 | 기계·기계설비': '1. 삼성전자를 지원한 이유와 입사 후 회사에서 이루고 싶은 꿈을 기술하십시오.\\n저는 조선해양공학과를 전공하면서 학부연구생 생활을 하였습니다. 그러던 중 연구실에서 스마트쉽 관련 프로젝트에 참여 하게 되었습니다. 4차 산업 시대의 도래로 선박분야에서도 ICT의 개념이 중요해 지면서 스마트쉽과 관련된 기술이 굉장히 각광받았습니다. 이뿐만 아니라 오늘날 모든 산업을 이어주는 혁명의 시작이 바로 반도체라는 것을 알게 되었고 굉장히 매력적인 학문이라고 생각하였습니다. 이러한 관심으로 국내 최고의 반도체회사인 삼성전자의 메모리사업부에 지원하게 되었습니다. 현재 삼성전자의 메모리 반도체는 세계최고의 수준이며 시스템 반도체 분야에서도 지속적인 투자와 개발로 기술력 향상에 힘쓰고 있습니다. 이렇게 균형감 있는 사업 추진으로 앞으로 다양한 분야에서 산업을 이끌어 나갈 회사임을 확신하였습니다.\\n\\n부족한 반도체 관련 전문성을 높이기 위해 강의를 통한 개인적인 공부와 관련기관에서 주최하는 교육에 참여하고 있습니다. 기계전공의 장점을 살려 설비와 공정분야에서 빠른 적응력을 가질 수 있다고 생각합니다. 이를 바탕으로 그 핵심이 되는 전문 지식에 대한 습득과 응용력을 길러 전문성을 갖춘 인재가 되고 싶습니다. 자신감은 준비라고 생각합니다. 충분한 전문성을 갖추기 위해 부단히 노력하고 그렇게 자신의 분야에서 존경받는 사람이 되는 것이 저의 꿈입니다. 삼성전자라는 최고의 파트너와 함께 최고의 엔지니어로 성장하겠습니다.\\n글자수 686자   |   1722Byte\\n접기',\n",
       " '2017년 하반기 삼성전자 합격자 자기소개서 11 지원분야 | 기계·기계설비': \"1. 삼성을 지원한 이유와 입사 후 회사에서 이루고 싶은 꿈을 기술하십시오.(700자 이내)\\n제가 삼성전자를 지원한 이유는 삼성전자의 비전과 고객의 마음을 다스리는 ‘힐링엔지니어’가 되겠다는 저의 비전이 일치하기 때문입니다. 삼성전자의 비전인 미래사회에 대한 영감과 새로운 미래의 창조는 새로운 기술이 아니라 고객 위주의 기술로부터 시작된다고 생각합니다.\\n제가 고객을 우선시 하게 된 계기는 창업캠프를 진행하면서 였습니다. 저는 콘돔을 주제로 선정하였습니다. 설문조사를 통해 구매를 부담스러워 하는 이유를 찾고, 구입 공간을 카페와 같은 분위기로 바꾸거나 포장을 부담스럽지 않고 재미있는 모양으로 만들어 보는 등 구매자들의 생각을 반영한 아이디어를 제시하였습니다. 그 결과 기존의 콘돔을 사는 것에 대한 거부감이 많던 사람들의 90%가 저의 제품에 대한 긍정적인 평가를 했고, 결과적으로 우수상을 받을 수 있었습니다.\\n저는 무조건 성능이 좋은 제품이 뛰어난 것이라고 생각하는 기술 만능주의에 빠져 있었습니다. 그러나 창업캠프 이후 사람들의 필요를 분석한 것을 바탕으로 한 설계한 기술이 어떠한 기술보다도 사람의 마음을 크게 움직일 수 있다는 것을 느꼈습니다.\\n기술이 고도화된 지금 삼성이 비전을 이루기 위해서는 단순히 기술력의 판매가 아니라 삼성전자만의 감성이 필요하다고 생각합니다. 저는 '힐링엔지니어‘가 되겠다는 비전으로 입사 후 고객 만족을 이끌어 내는 것에 그치지 않고 삼성이 미래사회를 열어가는 선구자가 되는 것에 기여하고 싶습니다.\\n글자수 702자   |   1748Byte\\n접기\",\n",
       " '2017년 하반기 삼성전자 합격자 자기소개서 12 지원분야 | 전기설비': '1. 삼성전자를 지원한 이유와 입사 후 회사에서 이루고 싶은 꿈을 기술하십시오.\\n[반도체 선도 기업에서 `설비 만능 주치의`가 되겠습니다]\\n기계공학을 전공하는 동안, 4차 산업혁명으로 스마트팩토리를 비롯해 반도체 수요가 급증하는 모습을 보았습니다. 이에 한국의 미래 산업은 반도체에 있다고 생각했고, 반도체 산업을 리드하는 삼성전자 메모리사업부에 지원했습니다.\\n반도체가 무엇이며, 산업 특성에는 어떤 것이 있는지 알기 위해 온라인 반도체 교육을 수료했습니다. 또한, 이번 삼성전자 메모리사업부 설비엔지니어 체험의 장에 참여해 OOO 마에스트로 님의 직무 강의와 OOO 멘토님과의 만남으로 삼성전자에서 이루고 싶은 꿈이 생겼습니다. 바로 HW와 SW를 아우르는 `설비 주치의`가 되는 것입니다. 저는 HW 뿐만 아니라 SW를 다루면서 AI 시대에 알고리즘을 만들고, 패러다임을 이끄는 비전을 달성하고 싶습니다. 그 이유는 스마트팩토리를 넘어 `인지제어팩토리`로 향하고 있는 시점에서, 설비에서 나오는 막대한 Data를 처리하기 위해서는 SW를 다루는 설비엔지니어가 꼭 필요하기 때문입니다. 현재 Python 관련 서적을 구매하여 공부를 시작하면서 제 꿈을 이루기 위한 초석을 다지고 있습니다.\\n저는 삼성전자 메모리사업부에 입사하여 설비 엔지니어의 무한한 가치를 증명해 보이겠습니다.\\n글자수 618자   |   1480Byte\\n접기',\n",
       " '2017년 하반기 삼성전자 합격자 자기소개서 13 지원분야 | 전기설비': '1. 삼성전자를 지원한 이유와 입사 후 회사에서 이루고 싶은 꿈을 기술하십시오.( 700자 )\\n“함께 발전하는 기업”\\n제가 회사를 선택할 때 가장 중요하게 생각하는 가치는 회사의 미래 발전 가능성입니다. 고여있는 물은 썩어버리는 것처럼 발전하지 않는 회사는 썩어버릴 수 있다고 생각하기 때문입니다. 발전하기 위해 노력하는 회사 안에서 함께 발전해 나가는 것이 저의 비전입니다.\\n\\n삼성전자는 지난 해 어려운 경영 여건에서도 영업이익 10.8%의 성장률을 보이며 글로벌 1위의 위상을 지켜냈습니다. 스마트폰 시장 포화와 중국 경쟁사의 저가 스마트폰 공세에도 수익성을 개선하고 상향 성장곡선을 그리면서 위기를 기회로 삼아 극복하며 끊임없이 발전할 수 있는 삼성 전자의 위엄을 보여주었습니다.\\n\\n저 또한 항상 발전하기 위해 노력하며 성장을 거듭해 왔습니다. 3학년 방학 ‘청년 취업 아카데미’ 과정을 수강하였습니다. 4학년을 위한 과정이어서 따라가기 어려웠고 제 동기들은 중간도 모두 그만 두게 되었습니다. 하지만 저는 부족한 부분들을 도서관에 가서 공부를 하였고 학교에서 배운 C프로그래밍 뿐 아니라 아두이노, 라즈베리 파이 보드와 리눅스 프로그래밍을 배울 수 있었습니다. 이러한 것들을 기반으로 2학기 프로젝트에 폭 넓은 설계를 할 수 있었고 교내 설계대회 최우수상을 수상할 수 있었습니다. 글로벌 1위의 위상을 지키기 위해 계속 발전하는 삼성전자 속에서 저도 글로벌 1위의 인재가 되기 위해 함께 발전해 나아가겠습니다.\\n글자수 685자   |   1679Byte\\n접기',\n",
       " '2017년 하반기 삼성전자 합격자 자기소개서 14 지원분야 | 생산관리·품질관리': '1. 삼성전자를 지원한 이유와 입사 후 회사에서 이루고 싶은 꿈을 기술하십시오 (700자)\\n[최종 목표를 향한 도전 : 제품 기술의 최적화]\\n최적화된 기술의 모바일 제품을 설계 및 검증하고 싶습니다. 4차 산업혁명으로 5G, IOT 등 다양한 무선 기술이 개발되고 있습니다. 신기술의 모바일 제품 탑재 시 품질 검증을 통해 무선 기술을 안정적으로 고객에게 제공하고 싶습니다. 학/석사 과정 동안 소프트웨어공학, SW설계 과목을 들으며 제품의 견고한 생산을 위한 설계 단계의 중요성을 깨달았습니다. 산업공학에도 관심이 있어 품질경영 수업을 들으며 품질 검증의 중요성을 이해하였습니다. 임베디드시스템과 정보통신을 전공하며 통신 기술과 SW의 설계 및 분석에 대한 전문지식을 습득하려고 노력했습니다. 또한 OO로 복무하며 전산장비와 체계에 대한 관리를 했었고, 유지 보수 업체 분들과의 협업을 통해 전산장비의 조작법과 수리방법 등을 익히며, 장비의 내부 프로세스를 이해하려고 노력했습니다. 이러한 일련의 과정 동안 제품을 설계하고 품질 검증 단계를 통해 완성도 높은 제품을 개발하는 업무를 하고 싶다는 목표가 생겼습니다. 전산분야의 실무 경험, IT 분야의 전문지식, 품질에 대한 이해를 바탕으로, 무선 기술 탑재 시 세심한 테스트를 통해 오차 범위를 개선하고 오류를 사전에 확인하여 제품의 결함을 예방하겠습니다. 저의 역량을 바탕으로 제품의 무선 기술의 최적화를 달성하여 4차 산업혁명 속에 선도적 기업이 될 수 있도록 기여하고 싶습니다.\\n글자수 696자   |   1688Byte\\n접기',\n",
       " '2017년 하반기 삼양사 합격자 자기소개서 01 지원분야 | 생산관리·품질관리': '1. 삼양그룹에 입사지원하게 된 동기는 무엇인지 기술해주십시오. (기업 이미지, 비전, 처우/복지 등 상세하고 솔직하게 기술)\\n4학년 1학기, 본격적인 취업준비에 앞서 모의면접을 보러 간 적이 있습니다. 같이 교육을 받았던 학우 중, 삼양그룹에 지원한 사람이 있었고 흔히 알고 있던 라면과 전혀 관계없는 국내 화학, 의학, 식품 산업을 선도하는 그룹이라는 것을 처음으로 알게 되었습니다. 궁금한 것을 참지 못하는 성격 때문에, 그룹에 대해 자세히 알아보며 생활하면서 쉽게 볼 수 있었던, 큐원의 호떡 믹스와 상쾌한 등이 삼양그룹의 대표 상품이라는 것을 알게 되었습니다. 또한, 지인을 통하여 인재 중심의 성장과 자율적인 분위기로 개개인의 역량을 키우고 이를 통해 회사와 발전할 기회가 많다고 듣게 되었습니다. 이러한 계기로, 삼양은 가까이 있었지만 잘 모르던 회사에서 ‘함께하고 싶은 회사’가 되었습니다.\\n효율적인 시스템을 설계하고 관리하기 위한 OOO 시스템 설계와 OOO빌딩 설계 프로젝트를 수행한 적이 있습니다. 최저의 비용으로 최고의 출력을 얻을 수 있는 시스템을 설계하며 생산 엔지니어로서의 역량을 키웠습니다. 이러한 경험을 바탕으로, 역량을 발휘하여 삼양그룹의 발전을 위해 기여하고, ‘삼양’이라는 브랜드 가치를 널리 알리는 데 기여하고 싶습니다.\\n글자수 579자   |   1409Byte\\n접기',\n",
       " '2017년 하반기 샘표식품 합격자 자기소개서 01 지원분야 | 공정관리': '1. 당신이 회사를 선택하는 기준은 무엇이며, 왜 샘표식품을 선택하여 지원하는지 기술하시오 (500자)\\n[고객이 원하는 샘표식품]\\n제가 회사를 선택하는 기준은 ‘고객을 기쁘게 할 수 있는 회사’이며, 설비 엔지니어로서 고객을 기쁘게 하는 방법은 ‘고객이 원하는 물건’을 제시간에 생산하는 것으로 생각합니다. 국내 시장보다 세계시장이 더욱 커지고 있습니다. 샘표식품의 세계화와 고객이 원하는 제품을 제 손으로 양산하는 데 도움이 되기 위해 지원했습니다.\\n[경쟁력을 갖춘 엔지니어]\\n이를 위해 ‘기계제작실습’ 수업을 통해 선반과 밀링머신을 사용하여 ‘설비’에 대한 경험을 하였고, ‘생산자동화’, ‘메카트로닉스’ 수업에서 ‘랩뷰’를 사용하여 제어 시스템의 작동원리에 대하여 학습하였습니다. ‘2D CAD’와 ‘3D CAD’ 수업을 통해 설비를 CAD로 도면화 하는 기술도 배웠고 ‘3D 응용설계’ 수업의 프로젝트를 통해 ‘원가절감’에 기여한 경험도 있습니다. 이는 샘표식품 생산공정관리 엔지니어로서 문제점을 해결하는 데 도움이 될 것입니다.\\n글자수 470자   |   1145Byte\\n접기',\n",
       " '2017년 하반기 샘표식품 합격자 자기소개서 02 지원분야 | 마케팅전략·기획': \"1. 당신이 회사를 선택하는 기준은 무엇이며, 왜 샘표식품을 선택하여 지원하는지 기술해주십시오. [ 20자 이상 500자 이내]\\n[성장동력과 미래가치를 만드는 기업]\\n저는 '능동적으로 성장동력과 미래가치를 창출하는 기업'의 미래에 대한 확신을 가지고 있습니다. 또한 이러한 성장동력은 전문성과 차별화 전략을 통한 맞춤형 고객만족으로 이루어 질 수 있으며, 기업은 이를 통해 미래에 선제적으로 대응 할 수 있다고 생각합니다. 국내 최장수 브랜드인 샘표식품은 업계 최대 규모의 생산 공장, 기술력 등의 전문성을 필두로 업계를 주도하고 있습니다. 또한 샘표만의 차별화된 기술과 전략을 바탕으로 샘표조림 볶음용 맛간장, 샘표 국 찌개용 맛간장 등 기존 시장을 세분화하고 이에 맞는 상품을 개발함으로써 소비자들의 니즈별 맞춤형 제품을 출시하고 있습니다. 뿐만 아니라 샘표식품은 식품업계에 '요리 에센스'라는 새로운 상품라인을 개척하는 등 능동적으로 가치를 창출하고 미래에 선제적으로 대응하고 있습니다. 전문성과 차별화를 바탕으로 업계 리딩 브랜드로 성장하고 있는 샘표식품에서 미래를 준비하고 대응하는 마케팅 담당자가 되고 싶습니다.\\n글자수 500자   |   1244Byte\\n접기\",\n",
       " '2017년 하반기 신용보증기금 합격자 자기소개서 01 지원분야 | 경영기획': '1. 본인의 성장과정에서 가장 큰 성공과 실패의 경험 및 그러한 경험을 통해 깨닫게 된 점 혹은 변화하게 된 점에 대하여 구체적으로 기술하시오.\\n미국 현지의 NGO단체에 인턴을 모집한다는 소식을 듣고 합격하기 위해 6개월 전부터 영어공부와 선발시험 준비를 시작하여 성공한 경험이 있습니다. 영어는 알파벳만 알고 있는 상황이었지만 잠을 줄이고, 틈틈히 영어 공부에만 매진한 결과 인턴에 합격하여 미국 현지의 기업문화와 유엔본부 세미나에도 참석하여 국제적인 견문을 넓힐 수 있었던 값진 경험이었습니다.\\n201X년 여름에 전산회계 1급 자격시험을 준비했다가 실패한 경험이 있습니다. 당시 공공기관에서 국가근로를 하고 있었는데, 일을 하면서 지식이 전무한 회계공부를 하기에는 무리가 있었습니다. 그래서 점심시간은 물론, 퇴근 후 시간을 활용하여 노력했으나, 아쉽게 불합격이라는 결과를 받았습니다. 하지만 이를 통해 자투리 시간을 활용하는 습관을 가지게 되었습니다.\\n글자수 400자   |   984Byte\\n접기',\n",
       " '2017년 하반기 아모레퍼시픽 합격자 자기소개서 01 지원분야 | 생산관리·품질관리': '1. 귀하가 회사를 선택하는 기준이 무엇이며, 왜 그 기준에 아모스프로페셔널이 적합한지 기술하시오. (필수입력사항 최대 600 최소 100)\\n[고부가가치 제품의 구현은 가공 솔루션이 결정한다.]\\n고분자 가공 역량을 바탕으로 고부가가치 제품을 구현하고자 합니다. 경쟁사보다 뛰어난\\n품질의 제품을 균일하고 저렴하게 생산하여 경쟁력을 확보하기 위해선 차별화된 가공기술\\n확보가 필요합니다. 따라서 이런 고분자 가공의 중요성을 이해하고 성형 공법 개발이나 금\\n형 설계에 아낌없는 투자를 이루는 기업에 지원하고자 합니다.\\n아모스프로페셔널은 고객이 원하는 디자인을 구현하기 위해 제품 설계와 금형 제작 단계에\\n서부터 끊임없는 고민과 혁신을 이루고 있는 기업입니다. 특히 사출성형으로 제작하는 포장\\n재를 개발하기 위해 포장재의 신구조와 혁신 아이디어를 제안할 뿐만 아니라 신금형 포장재\\n개발에 노력을 기울이고 있습니다.\\n저 또한 실험실에서 보유하고 있는 초고속 사출기나 이색 사출기를 이용하여 다양한 제품\\n을 제작했고, 사출 단계에서 발생하는 다양한 불량 요인을 제거하기 위해 노력했던 경험이\\n있습니다. 이러한 가공기술 노하우를 바탕으로 고객이 원하는 고부가가치 제품 구현을 위한\\n가공 솔루션을 제공하겠습니다.\\n글자수 534자   |   1338Byte\\n접기',\n",
       " '2017년 하반기 아시아나IDT 합격자 자기소개서 01 지원분야 공통': '1. 귀하가 금호아시아나그룹(1지망회사)을 지원하게 된 동기에 대해 서술해 주십시오 * [100자 이상 500자 이내]\\n▶▶삶을 윤택하게 해줄 기술◀◀\\n\\n사람들의 밀접한 곳에서 삶의 질을 향상해주는 아시아나 IDT의 일원으로 새로운 가치를 제공하고자 지원하였습니다.\\n\\n아시아나 IDT는 항공, 공항 분야의 통합 시스템을 관리하며 항공기의 운항과 공항 서비스의 원활한 운영을 돕습니다. 그뿐만 아니라 건설, 제조, 운송 등 눈에 보이지 않는 다른 다양한 분야에서도 컴퓨터 시스템과 솔루션을 제공하고 있습니다. 다년간의 노하우를 쌓아왔기 때문에 4차 산업시대를 맞이하여 IT 분야의 선두주자가 될 것입니다.\\n\\n저는 타인에게 사소한 것이라도 도움이 되고자 언제나 도움을 베풉니다. 이러한 저와 아시아나 IDT의 특성이 비슷하다고 생각합니다. 이처럼 사람들의 삶에 스며들어 편리함을 제공하는 아시아나 IDT의 기술처럼 저 또한 보이지 않는 곳에서 우리의 미래를 더욱 윤택하게 해줄 더 큰 시스템을 개발하는 인재가 되겠습니다.\\n글자수 450자   |   1086Byte\\n접기',\n",
       " '2017년 하반기 제일기획 합격자 자기소개서 01 지원분야 | 광고AE·기획': '1. 본인의 성장과정을 간략히 기술하되 현재의 자신에게 가장 큰 영향을 끼친 사건, 인물 등을 포함하여 기술하시기 바랍니다. (※작품 속 가상인물도 가능)\\n[꿈은 내가 포기하기 전까지는 좌절되지 않습니다.]\\nX살 때 장래희망에 화가를 적어 낸 적이 있었습니다. 당시에는 IMF 위기로 많은 어른들이 힘들어하고 있었고 그래서 저는 돈도 안되는 화가를 장래희망으로 적은 것에 대해 아버지에게 핀잔을 들은 적이 있었습니다. 물론 지나가는 말로 하신 것이겠지만 그 이후로 저는 `돈 되는 일이 좋은 일이다`라는 생각을 막연히 했던 것 같습니다.\\n그래서 고등학교 때 장래희망은 아마도 공무원이었습니다. 하지만 이 꿈도 학교 선생님께서 `세상에 열심히 하는 사람은 많고, 공무원 시험을 벌써 생각하기보다 좋은 대학교를 가는 게 낫다`는 말을 해주셔서 고민이 되던 시점이었습니다.\\n그렇게 꿈없는 학창시절을 보내다가 수능을 쳤고, 수능이 끝난 후 무료함에 인터넷을 통해 영화를 계속 보았습니다. 그러던 중 [가타카]라는 영화를 보게 되었습니다. 가타카의 주인공은 심장질환이 있었고 기대수명은 30세를 못 넘겼지만 자신의 한계는 자신이 깨는 것이라는 신념하에 끊임없이 노력했고 그는 결국 30살에 죽지도 않았고, 자신의 꿈이었던 우주비행사가 되었습니다.\\n이 영화를 본 뒤의 소감은 가히 충격적이었고, 그 동안 다른 사람들의 한 마디 한 마디에 쉽게 나의 한계를 규정지었던 내가 보였고 대학교에 가서 꿈이 생긴다면 절대로 포기하지 않겠노라고 다짐했습니다.\\nXX년도에 교내 연합동아리에서 전국규모 마케팅 대회에 나갔고 첫 공모전에서 운 좋게 2등상을 수상했습니다. 그 때는 막연히 마케팅이 재미있다는 생각을 했던 것 같고 계속해서 공모전을 해보겠다고 생각했습니다.\\n그 이후 몇개의 기획 공모전 및 프로모션을 참가했지만 결과가 만족스럽지는 않았고 광고를 포기하고 싶은 생각도 많이 들었습니다. 그 때마다 저는 가타카를 생각하며 자신을 채찍질 했습니다. 하지만 무엇을 공부해야할 지 잘 모르겠어서 교수님을 찾아가 보기로 했고 조직론을 배웠던 오승훈 교수님께 기획력을 늘리기 위해서는 어떤 일을 해야하는지를 물었고 교수님께서는 저에게 김훈 작가의 `남한산성`을 읽으라고 말씀하셨습니다. 잘 이해를 못한 표정을 짓고 있는 저에게 교수님은 가수마다 창법이 다른 것처럼 어떤 책을 읽고 그걸 나만의 언어로 바꿀 수 있다면 그 사람은 이미 준비가 된 사람이라고 말씀하셨습니다.\\n이 말은 저에게 굉장히 공감이 되었고 그 이후로 읽은 책들이나 배운 수업들을 다시 한번 생각해 보면서 글로, 그리고 도형으로 정리하는 연습을 자주 했습니다. 이러한 경험들은 제 생각을 체계화하는데 많은 도움이 되었고 실제로도 발표 이후에 들어오는 질문에 답하거나 공모전 출품시 아이디어를 정리할 때에도 생각이 더욱 말로 잘 변환되었습니다. 물론 학업성적이나 공모전 결과들도 좋은 결과로 나타났습니다.\\n다시 말해, 저는 꿈이라는 것은 포기할 필요는 절대 없으며, 또한 꿈은 꾸기만 하는 것이 아니라 목표를 잘 세워서 차근차근 정리했을 때 점점 가까워진다는 사실을 위의 두 사건을 통해 깨닫게 되었습니다.\\n글자수 1458자   |   3566Byte\\n접기',\n",
       " '2017년 하반기 주택도시보증공사 합격자 자기소개서 01 지원분야 | 교회사무·행정·관리': '1. 자신에 대해 소개해 주십시오. (학창시절, 경력, 기타사항 등)\\n[\"나랑 동업할래?\"]\\n초등학교 5학년 때부터 매일 아침 아버지와 함께 경제신문을 읽는 습관을 들였습니다. 처음에는 어려운 단어들이 많아 사전을 찾아보곤 했습니다. 그러나 계속 경제신문을 읽다보니 사전 없이 어려운 단어들을 쉽게 이해할 수 있을 뿐만 아니라, 경제를 바라보는 안목을 높일 수 있었습니다. 덕분에 중학교에 입학하기 전, OO에서 주최하는 경제퀴즈대회에서 월장원과 연장원을 차지해 부모님께 기쁨을 드리기도 했습니다. 이런 습관은 지금까지도 이어졌고, 복수전공으로 경영학을 택하는 계기가 되었습니다.\\n이런 저의 경영학에 대한 흥미와 열정 덕분에 OO 교환학생 시절, 모든 과목을 고급 경영학 과목을 수강하게 되었고 좋은 성적을 받는 원동력이 되었습니다. 특히 재무제표분석 수업에서 팀프로젝트를 같이했던 친구가 저에게 “내가 나중에 사업을 하게 된다면 너와 동업하고 싶다.”라고 말하기까지 했습니다.\\n글자수 453자   |   1111Byte\\n접기',\n",
       " '2017년 하반기 코리아세븐 합격자 자기소개서 01 지원분야 | 영업관리': '1. 지원동기 : 지원동기를 구체적으로 기술해주세요.\\n[행복을 주는 곳, 편의점] 지하철로 통학을 하던 저에게 역사 내 있던 편의점은 항상 저의 발걸음을 멈추게 하는 곳이었습니다. 아침으로 어떤 삼각김밥을 먹을까, 혹은 무슨 간식거리를 살까 하며 진열대 앞에서 했던 고민은 소소하지만 행복한 기억으로 남아있습니다. 지금의 편의점은 단순히 물건을 파는 곳이 아닌 시대의 흐름에 발맞춰 신개념 편의 서비스를 제공하며 진화를 거듭하고 있습니다. 이것이 제가 편의점 유통업을 선택한 이유이고, 그중에 코리아세븐에 지원한 이유는 크게 2가지가 있습니다. 첫째, 고객의 니즈를 정확하게 파악하여 혁신적인 서비스를 제공하는 일은 사람들에게 실제적인 도움을 주는 일을 하고 싶다는 저의 삶의 궁극적인 목표와 부합합니다. 둘째, 롯데의 고객에게 생애주기에 걸쳐 최고의 가치를 선사하겠다는 비전은 저의 삶의 목표로 나아가게 해주는 디딤돌이 될것입니다. 따라서 고객을 위한 코리아세븐만의 차별화된 가치를 만들어가는 여정에 함께하고 싶습니다.\\n글자수 485자   |   1203Byte\\n접기',\n",
       " '2017년 하반기 코오롱글로벌 합격자 자기소개서 01 지원분야 | 워드·문서작성': '1. 1.당신의 성장과정에 대해 기술하시오\\n제 성장 과정은 높은 목표를 달성해나가는 과정이었습니다. 고등학교 때부터 어학연수의 꿈을 갖고 있었습니다. 부모님의 도움 없이 스스로 어학연수를 다녀오기 위해 자금이 필요하였습니다. 700만 원의 자금을 모으는 것을 목표로 하여 경비를 마련하기 위해 처음으로 아르바이트를 구해 일하였습니다. 키즈카페에서 한 달 간 단기 알바를 하였고, 그 후 3개월간 콜센터에서 일하였습니다. 그리고 과외 일을 하면서 돈을 모았습니다. 특히 콜센터 아르바이트는 힘들고 매일매일 그만두고 싶었습니다. 그렇지만 어학연수의 꿈을 위해 끈기 있게 일하였습니다. 결국 8개월간 아르바이트를 하며 목표했던 자금을 모으고 성공적으로 어학연수를 다녀올 수 있었습니다. 어학연수 성공의 성취감을 통해 위해 자기 주도적으로 노력하는 것의 중요성을 배웠습니다. 이를 바탕으로 코오롱에서도 적극적으로 업무를 수행하며 조직의 목표를 달성하기 위해 일할 것입니다.\\n글자수 460자   |   1142Byte\\n접기',\n",
       " '2017년 하반기 코오롱인더스트리 합격자 자기소개서 01 지원분야 | 연구·실험·기술': \"1. 1.당신의 성장과정에 대해 기술하시오\\n[개미처럼 꾸준히 노력하는 자세]\\n학년 80등 주변을 맴돌 정도로 친구들과 어울리기 바빴던 저는, 학과 1등을 목표로 세우게 되었습니다. 그러나 복학 후 전공수업과 책도 모두 영어로 되어있어 어렵고 공부하기가 쉽지 않았습니다. 하지만 수업내용을 녹음해서 복습하고, 자주 사용되는 단어들을 위주로 공부를 하기 시작했습니다.\\n첫 성적을 받고 보니 스스로 실망도 하고 의욕도 많이 꺾였지만 노력하면 할 수 있을 것 같다는 자신감이 생겼습니다. 좀더 효율적인 공부 방법을 계속 생각하기 시작했습니다. 통학시간 동안 지하철에서 전공 책 읽기, 남들보다 30분 일찍 도서관에 도착하고 30분 늦게 자리에서 일어나보기, 복습을 두 배로 해보기 등 계속해서 새로운 방법들을 시도했습니다.\\n저만의 방법을 찾아 꾸준히 학습한 결과, 매 학기 성적이 조금씩 꾸준히 올라 4학년 1학기에 전 과목 만점으로 1등을 할 수 있었습니다. 이러한 경험은 저에게 '무엇이든 노력하면 할 수 있다'는 신념을 갖게 해주었습니다.\\n글자수 503자   |   1207Byte\\n접기\",\n",
       " '2017년 하반기 코오롱인더스트리 합격자 자기소개서 02 지원분야 | 생산관리·품질관리': '1. 당신의 성장과정에 대해 기술하시오\\n[사람은 꾸준히 성장할 수 있습니다]\\n저는 꾸준함이 재능을 뛰어넘을 수 있다고 믿는 사람입니다. 대학 신입생 시절, 뚱뚱했던 제 자신을 바꾸기 위해 1년 동안 20kg 감량에 성공하면서 남들이 귀찮다고 허비하는 시간에 미래를 위해 꾸준히 노력한다면, 남들과는 차별화 된 경쟁력을 갖는다는 것을 깨달았습니다.\\n저는 꾸준함을 무기삼아 영어 실력 향상에도 힘썼습니다. 민병철 영어 회화 책과 Grammer in Use를 독파하여 영어 감각을 키우고 반복된 쉐도잉 훈련으로, 영어 말하기에 대한 거부감을 없앴습니다.\\n이러한 노력의 결과로, 토익스피킹 시험에서 원하는 점수 이상을 받았습니다. 여기에서 멈추지 않겠습니다. ‘습관이 모여서 행동이 되고, 행동이 모여서 인생을 결정한다’는 믿음으로 하나씩 성취해 나가겠습니다.\\n글자수 402자   |   958Byte\\n접기',\n",
       " '2017년 하반기 코오롱플라스틱 합격자 자기소개서 01 지원분야 | 해외영업·무역영업': '1. 1.당신의 성장과정에 대해 기술하시오\\n초등학교에 입학하자 마자 OO으로 이사를 가 타지생활을 했습니다. 저는 곧바로 현지학교에 다니게 되었고, 다양한 인종들 사이에서 적응하지 못해 학교 화장실에서 자주 눈물을 훔치기도 했습니다. 심지어, OO 교환학생 시절에는 혼자 발품을 팔아 자취방을 구했지만, 악덕 주인과의 마찰로 인해 한달만에 내쫓긴 경험이 있습니다. 다년간의 해외생활은 여러 면에서 저를 성장시켰습니다. 우선 어떤 낯선 환경이라도 마음만 먹으면 충분히 적응할 수 있다는 자신감을 가질 수 있게 되었습니다. 처음에는 서툰 영어실력 탓에 의사소통 자체를 피했습니다. 나중에는 ‘하루에 한마디씩 하자’라는 구체적인 목표를 세워 영어와의 두려움을 극복했습니다. 이를 통해 어떠한 어려운 상황이라도 침착하고 적극적으로 행동한다면 모든 것을 해낼 수 있다는 자신감을 얻었습니다. 이제는 코오롱 플라스틱이라는 새로운 환경에서 도전의식을 가지고 새로운 미래를 개척하고 싶습니다.\\n글자수 468자   |   1161Byte\\n접기',\n",
       " '2017년 하반기 포스코 대우 합격자 자기소개서 01 지원분야 | 해외영업·무역영업': '1. 본인을 대표할 수 있는 이력 3가지를 기술하여 주십시오\\n◎ 이력 내용: 인턴십 경험을 통한 영업, 신사업 기획, 정산 등의 업무 교육 및 실습\\n- 성과: 인턴십 활동을 통하여 얻은 (1) 조직의 구성원으로써 개인의 임무 이상의 성과를 추구하는 업무 열정 (2) 구성원과의 소통과 협업, 경청하는 태도 (3) 고객사와 협력사와의 상생을 통한 장기적 종합적 이익을 추구하는 영업 마인드 (4) 능동적이고 주체적인 기획력과 추진력을 포스코 대우의 영업 사원으로써의 마인드 셋으로 활용\\n\\n◎ 이력 내용: OO 교환학생 파견(University of OO)\\n- 성과: 해외 체류 경험을 통한 향후 해외 출향 및 파견 근무 시 현지 적응력 및 업무 지장 최소화, 외국어 활용능력 및 의사소통 경험을 해외 교신 업무에 활용, International Business Environment 수강 지식 및 프로젝트 수행 경험을 통한 해외 사업 및 시장 발굴 능력 강화\\n\\n◎ 이력 내용: OO Management 수강, 헌혈/고교생 멘토링/불우이웃 인식 개선 캠페인 등 개인 봉사, OO 해외 연수\\n- 성과: 기업의 사회적 책임, CSR, 지속가능한 경영의 발전 방향과 실천의 중요성 등 기업의 사회적 책임 인식에 기반을 둔 윤리 경영 이념 체득 및 개인 봉사 활동을 통하여 사회와 상생하고 함께 발전하는 포스코 대우의 \"Moving Forward Together\" 정신에 일조\\n글자수 674자   |   1438Byte\\n접기',\n",
       " '2017년 하반기 포스코 합격자 자기소개서 01 지원분야 | 기계·기계설비': '1. 본인의 회사선택 기준은 무엇이며, 포스코가 그 기준에 적합한 이유와 근거를 기술하세요. 600자\\n[의미 있는 일이란]\\n\\n회사를 선택할 때의 기준은 업무의 의미입니다. 단순히 일한다고 생각하는 것은 업무 생산성이 저하되며 의욕 또한 생기지 않습니다. 따라서 저는 회사를 선택할 때는 소속된 조직의 활동과 지향점이 의미가 있는지를 중요하게 생각합니다. 포스코는 우선 대한민국 경제발전의 초석이 되었으며 다양한 산업에 영향을 주고 있습니다. 또한, 포스코의 단순한 이윤창출이 아닌 다양한 사회 공헌활동으로 지역 발전과 국가 발전에 영향을 미치고 있습니다. 특히, 유년 시절 OO에서 자라며 소외계층을 위해 봉사하는 것을 지켜봤습니다. 고등학생 때 OO 지역의 아동센터에서 봉사활동을 했습니다. 당시에 포스코에서 센터의 아동들을 초청해 견학과 점심을 지원해줬습니다. 당시 센터의 보호자로서 동석했습니다. 어린 친구들이 즐거워하며 포스코에 고마워하는 것을 보며 이렇게도 사회공헌이 가능할 수 있음을 느꼈습니다. 이처럼 국가 경제발전의 초석이 되고 지역발전에 공헌하는 포스코는 저의 선택기준에 딱 맞았습니다. 앞으로 포스코에 입사 후 자부심을 가지며 국가 경제발전과 지역발전에 동참하겠습니다.\\n글자수 552자   |   1368Byte\\n접기',\n",
       " '2017년 하반기 포스코 합격자 자기소개서 02 지원분야 | 금속·철강': '1. 본인이 회사선택 기준은 무엇이며, 포스코가 그 기준에 적합한 이유와 근거를 기술하세요(600자)\\n[변하지 않는 가치, Fe]\\n저는 ‘미래에도 변하지 않고 가치를 지켜 나가는 회사’를 선택 기준으로 삼고 있습니다. 그 중 철강 산업은 전후방 연관효과가 가장 큰 산업으로, 미래에도 철의 중요성은 지속된다고 생각합니다.\\n그렇다고 해서 현재에 만족하고 안주한다면, 아무리 가치 있는 산업도 뒤쳐질 수 있습니다. 미래에도 고부가 가치를 유지하려면 끊임없는 기술 혁신을 통해 경쟁력을 키워야 합니다. 포스코는 6년 연속 ‘세계에서 가장 경쟁력 있는 철강회사’라는 타이틀을 갖고 있음에도, 미래를 위한 투자를 아끼지 않는다는 점에서 가치를 지켜나갈 수 있는 회사라고 생각합니다. 특히 FINEX 방식을 개발하여 기존의 고로법을 대체했고, AHSS와 UHSS 등 신 강종 개발을 서두르고 있습니다. 철강의 친환경화, 경량화를 통해 철강 산업의 미래 경쟁력을 키워나가는 포스코라면, 변하지 않는 철의 가치를 지켜나갈 수 있을 것이라 확신합니다.\\n현재 철강 시장의 중복이 심해지고 경쟁이 치열한 상황이지만, 인간 문명의 필수품인 철강 산업의 미래는 밝다고 생각합니다. 포스코에 입사하여 설비 개선활동을 통해 미래 철강 기술 상용화를 앞당기고, 물질과 인간의 connectivity를 강화하여 변하지 않는 철의 가치를 증명하겠습니다.\\n글자수 629자   |   1497Byte\\n접기',\n",
       " '2017년 하반기 포스코건설 합격자 자기소개서 01 지원분야 | 환경·플랜트': '1. 건설업에 관심을 가지게 된 계기와 포스코건설에 지원한 동기를 기술해 주시기 바랍니다. 300자\\n[건설이라는 친근함]\\n어릴 적부터 레고조립을 좋아하고 호기심이 많던 저에게 OO업체를 운영하시는 아버지의 사무실은 재미있는 하나의 놀이터였습니다. 각종 설계도면과 건설장비를 보고 만지며 자라온 저는 자연스럽게 건설업에 관심을 가질 수 있었습니다.\\n\\n포스코건설은 2007년, 국내최초로 태양광발전소를 건설하며 에너지플랜트의 선구자로 거듭났으며, 국내 최초로 모바일 설계도면 관리시스템과 더샵 IoT제품 5종을 개발하며 시공품질과 주거환경의 혁신을 이루고 있습니다. 가장 먼저 새로움에 대한 도전정신으로 선구자의 역할을 하는 First penguin처럼 건설업계에서 최초의 역할을 수행하는 포스코건설은 저에게 가장 목표로 하는 기업입니다.\\n\\n포스코건설에서 더 나은 미래를 설계하는 엔지니어로 성장하고 싶습니다.\\n글자수 398자   |   966Byte\\n접기',\n",
       " '2017년 하반기 푸르덴셜생명보험 합격자 자기소개서 01 지원분야 | 재무회계': '1. 자기소개(본인에 대하여 자유롭게 기술하시오) [ 500자 이상 2000자 이내 ]\\n[성실성, 녹슬어 없어지는 것보다 닳아 없어지는 것이 낫다]\\n\\n사람들에게 믿음과 신뢰를 주기 위해 성실성은 최고의 가치를 가진다고 생각합니다.이러한 성실성은 OOO 회계법인생활을 할 때도 발휘되었습니다. 업무 초기, 60명의 OOO회계직원은 한국인 매니저에게 배타적이었습니다. 저는 성실성을 발휘, 일주일 동안 모든 직원의 이름을 외우고 개개인을 인격체로 대하고 배려하여 원활한 협업이 이뤄지도록 노력하였습니다. 그리고 현지직원들에게 노력을 인정받아, 직원들은 업무에 대한 자신의 의사를 표현하여 회계법인 직원 간 화합을 이뤄냈을 뿐 아니라 근무능력 향상 이뤄져 타 회계법인보다 더 적은 인원으로 10% 더 많은 프로젝트에 성공하여 높은 성과창출을 만들어 낼 수 있었습니다.\\n\\n회계법인 업무를 시작하며 저는 주도적으로 회계역량을 성장하기 위하여 성실히 노력하였습니다. 전문성을 기르기 위하여 회계법인생활과 동시에 회계강의를 수강하여 회계적 역량을 길렀습니다. 그리고 미팅이나 관계 업무 진행 시에 학습한 것을 활용할 수 있도록 노력하였습니다. 그 결과 일을 진행하면서 항상 합리적인 회계적인 근거를 갖고 업무를 수행하게 되었습니다.\\n\\n합리적인 회계지식은 특히 정해져 있지 않을 일을 진행할 때에 기준이 되어 업무를 주도적으로 할 수 있었습니다. 일 예로 OO에 위치한 학교가 회계컨설팅으로 내부적 관리 용도로 내부통제서비스를 요청이 있었습니다. 법규상으로 감사의 대상도 아니어서 체계가 없었고, 학교 특성상 단식부기이기 때문에 회계기준이 잡혀있지 않았습니다. 저는 이에 회계지식을 이용하여 학교 규모와 수입을 근거로 중요성(Materiality) 기준을 세우고, 내부관리를 위해 직무를 개편하여 수금과 출금을 두 사람이 하도록 하여 회계업무의 효율성과 공정성을 높였습니다. 그 후 서비스의 완결성에 크게 만족한 재무부장 선생님은 다른 비영리 단체들도 소개해주어 많은 추가 프로젝트를 할 수 있는 계기가 되었습니다. 푸르덴셜의 재무회계팀에서 일함에서도 이같이 원활한 협업을 위해 노력하고 성실히 전문성을 발전시켜 업무를 하겠습니다.\\n글자수 1027자   |   2519Byte\\n접기',\n",
       " '2017년 하반기 한국가스공사 합격자 자기소개서 01 지원분야 | 기술직': '1. KOGAS에 지원하게 된 동기 및 KOGAS의 일원으로서 이루고 싶은 목표를 기술하여 주십시오.\\nWhy 한국가스공사?\\n한국가스공사는 해외에서 들여온 천연액화가스를 국내에 공급하는 역할을 하고 있습니다. 해외 6개의 나라에서부터 LNG를 수송해오는 국내 LNG의 중추적 역할을 맡고 있습니다. 우리는 모르고 있었지만 항상 한국가스공사 덕분에 편리하고 안전하게 살고 있습니다. 한국가스공사의 혜택을 받으며 산다는 사실을 알았을 때, 저는 한국가스공사의 LNG에 큰 관심이 생겼습니다. 그래서 5개월 간 인턴사원으로서 지역본부 및 관리소에서 설비 운영 및 보전 업무를 보조하였습니다. 이 경험을 통해 지속적인 LNG 생산 공정 감시와 제품의 최적 품질 유지에 기여하고 싶은 구체적인 목표가 생겼습니다.\\n관리소를 안전하고 안정적으로 운전하려면 신기술의 도입도 필요하지만, 최적 품질관리가 더 중요합니다. 저는 품질관리에 필요하다고 생각되어 6시그마 GB 자격증 취득과 안전체험교육을 이수하였습니다. 또한 전공에 대한 전문성을 키우기 위해 화공기사와 가스기사 자격증 취득에 도전했습니다. 이처럼 끊임없는 자기계발을 통해 한국가스공사의 전문적인 인재로 거듭나겠습니다.\\n글자수 542자   |   1322Byte\\n접기',\n",
       " '2017년 하반기 한국가스공사 합격자 자기소개서 02 지원분야 | 기술직': '1. KOGAS에 지원하게 된 동기 및 KOGAS의 일원으로서 이루고 싶은 목표를 기술하여 주십시오.\\n[목표, 기록하고 실천하면 이루어진다]\\n저는 엔지니어로서 현 에너지 원단위를 최소화하여 원가절감에 이바지하겠습니다. 화학공장에서는 원재료를 제외한 제조원가 대부분이 에너지 비용으로 나가는 것으로 알고 있습니다. 에너지 원단위 최소화는 순이익에 큰 영향을 미치기 때문에 입사 10년 안에 공정 마스터가 되겠다는 각오로 근무하겠습니다.\\n\\n목표달성을 위해 다음과 같이 실천하겠습니다. 먼저, 입사 첫해에 제가 근무하는 공장 흐름도를 보지 않고 제 손으로 그릴 수 있도록 하겠습니다. 2~5년 차까지는 좀 더 효율적인 공정은 없는지를 선배님들과 의견을 공유하며 2~3가지 이상의 효율적인 공정을 제안하겠습니다. 실무경험 6년 이상이 쌓이게 되면 기술사를 취득하는 등 회사에 도움이 될 만한 자기개발에도 힘쓰겠습니다.\\n글자수 398자   |   974Byte\\n접기',\n",
       " '2017년 하반기 한국가스공사 합격자 자기소개서 03 지원분야 | 교회사무·행정·관리': '1. KOGAS에 지원하게 된 동기와 희망직무를 선택한 이유를 입사 후 목표 및 포부를 포함하여 기술해 주십시오. (500자 이내)\\n[국제 협력 전문가로 성장하겠습니다]\\n\\n글로벌 시대의 흐름에 따라, 국제 협력 없이는 어떤 회사도 지속적 성장을 바라보기 힘들어졌습니다. 일본지역학을 전공하면서 일본어를 학습하는 것뿐만 아니라, 일본의 문화와 정치 그리고 경제에 대해 배울 수 있었습니다. 그 과정에서 일본 협력 전문가로서 성장하고 싶은 마음을 키웠습니다.\\n\\n또한, OOO 교수님의 ‘기후변화’라는 책을 읽고, 다가올 신기후체제에 따른 변화에 관심을 두게 되었습니다. 인재로 인한 기후변화에 따라 기상이변이 ‘new-normal’이 되어 가고 있고 이에 따른 대응이 어느 때보다 필요하다는 것을 느꼈습니다. 실제로 호주에서 두 달간 생활할 때 오존층 파괴에 따른 자외선의 무서움을 피부로 느끼기도 하였습니다.\\n\\n이러한 생각 끝에, 환경 개선과 국가에 도움이 되는 일을 하고 싶어 한국가스공사에 지원하게 되었습니다. 입사 후 우선 일본과 MOU 체결 이후 지속적인 교류함에 있어 앞장서겠습니다. 그리고, 일본을 넘어 세계 가스 개발 및 협력 전문가로 성장하겠습니다. 이를 위해 영어 말하기 능력을 더욱 키우고, 프랑스어를 공부해 전문성을 갖추도록 노력하겠습니다.\\n글자수 575자   |   1385Byte\\n접기',\n",
       " '2017년 하반기 한국가스공사 합격자 자기소개서 04 지원분야 | 생산관리·품질관리': '1. ※ 구체적으로 직무영역, 활동/경험/수행 내용, 본인의 역할 및 구체적 행동, 주요 성과에 대해 작성해주시기 바랍니다.\\n플랜트 직무는 머릿속에 있는 아이디어를 실제로 구현한다는 점에서 제게 매력적으로 다가왔고 이후 플랜트 엔지니어로서의 꿈을 가지게 되었습니다. 저는 플랜트 직무에 지원하면서 KOGAS와 함께 꿈을 이루려 합니다.\\n\\n[소프트웨어 끝판왕]\\n플랜트 엔지니어로서 문제를 인지하고 해석, 해결하는 것이 중요하다고 생각하던 저에게 CAE는 너무나 매력적이었고 사람의 손으로 해석하기 힘들거나 직접 실험하지 못하는 것을 컴퓨터를 통해 테스트해볼 수 있다는 점이 제 심장을 뛰게 했습니다. UG NX, AUTO CAD와 같은 모델링 프로그램부터 C와 Fortran 같은 프로그래밍 언어소프트웨어, ANSYS, gatecycle, EES 같은 상용소프트웨어같이 다양한 소프트웨어를 다루면서 엔지니어로서 지식을 쌓았습니다. 상황마다 사용하는 소프트웨어는 다르므로 모든 소프트웨어를 능숙하게 사용하는 것은 어렵다고 생각합니다. 하지만 저의 다양한 경험과 지식은 쉽게 얻어질 수 없는 자산이기 때문에 어떤 프로그램을 사용하더라도 직무에서 높은 성과를 보일 수 있을 것이라 자신합니다. 플랜트 엔지니어로서 첫걸음을 KOGAS와 함께 하고 싶습니다.\\n글자수 573자   |   1347Byte\\n접기',\n",
       " '2017년 하반기 한국가스공사 합격자 자기소개서 05 지원분야 | 전기기술': '1. 구체적으로 직무영역, 활동/경험/수행 내용, 본인의 역할 및 구체적 행동, 주요 성과에 대해 작성해주시기 바랍니다.\\nOO에서 이중화통신을 연구하는 팀에서 현장실습을 진행하였습니다.\\nverilog를 공부하여 팀원들에게 기본을 알려주는 역할을 담당하여 약 3주간 공부와 실습을 통하여 프로그램을 익히고 발표를 하였습니다. 그 후 이중화통신에 대한 표준의 프레임을 분석하여 자료화하는 일을 맡아 PRP, HSR 등의 진행을 정리하였습니다.\\n글자수 177자   |   419Byte\\n접기',\n",
       " '2017년 하반기 한국가스공사 합격자 자기소개서 06 지원분야 | 전기설비': '1. KOGAS에 지원하게 된 동기와 희망직무를 선택한 이유를 입사 후 목표 및 포부를 포함하여 기술해 주십시오. (500자 이내)\\n끝이 보이는 석유, 그러나 KOGAS의 기술은 향후 에너지 분야에서 성장가능성이 큰 사업들로 우리 삶과 밀접합니다. 미래가 유망하고 우리의 생활과 맞닿아 있는 회사이기에 지원하게 되었습니다.\\n안정적인 가스 제조와 공급을 위해서는 전기의 사용이 기반 되어야하기 때문에 철저한 전기설비시공은 필수적입니다. 철저하고 꼼꼼한 성격이 저의 강점입니다. 수변전 도면을 모아 공부하면서 고장전류의 계산법이 제각각인 것을 따로 기록해두었습니다. 혼란을 방지하기 위해 체크한 것들을 비교해보니 사고의 위치에 따라 계산법이 다르다는 것을 알았습니다. 세세한 부분까지 점검하고 기록해두는 습관덕분에 자격증을 취득하였고, 정확성과 세밀함을 요하는 해당직무에서 큰 도움이 될 것입니다.\\n입사하여 실무를 통해 내선규정을 체득하고 업무를 통해 배운 것들을 총괄적으로 사고할 수 있는 능력을 기르고 싶습니다. 나아가서 실무를 쌓아 전기기능장에 도전하는 것이 목표입니다. 어렸을 적 KOGAS 봉사단을 도와 무궁화동산 조성을 했었던 것처럼 미래를 함께 열어가는 KOGAS의 일원이 되고 싶습니다.\\n글자수 542자   |   1332Byte\\n접기',\n",
       " '2017년 하반기 한국농수산식품유통공사 합격자 자기소개서 01 지원분야 | 교회사무·행정·관리': '1. 한국농수산식품유통공사가 수행하는 업무를 아는 대로 설명하고, 이 중 본인이 하고 싶은 업무와 그 이유를 기술해 주십시오. 500자\\n한국농수산식품유통공사가 수행하는 주요 업무는 농식품 유통의 틀을 개선해나가는 유통개선 업무와 식량 수급을 관리하고 해외 식량자원을 조달하기 위한 수입 정보망을 확보하는 수급안정 업무, 농수산식품의 수출경쟁력을 확보하는 수출진흥 업무, 식품산업 육성을 위해 농수산식품기업을 육성하고 식품산업 진흥기반을 확충하는 식품산업 육성 업무로 나눌 수 있습니다. 저는 이 중에서 식품산업 육성 업무를 수행하고 싶습니다. 식품산업 육성 업무는 미래의 식품산업의 발전 뿐만 아니라 국가경쟁력과도 연관성이 있는 중요한 사업 중 하나라고 생각합니다. 직접 이 일을 담당하며 식품산업의 발전을 위해 힘쓰고 국가경쟁력 향상에 기여하고 싶습니다. 또한 식품산업 육성 업무를 원활하게 수행하기 위해서는 유관기관과 협력체계를 구축하여야 합니다. 다양한 대외활동을 통해 팀워크를 발휘했던 경험과 동아리 기획부서에서 다른 부서와 협력관계를 구축해 프로젝트를 성공적으로 이끌었던 경험을 통해 업무를 원활하게 수행하겠습니다.\\n글자수 497자   |   1261Byte\\n접기',\n",
       " '2017년 하반기 한국무역보험공사 합격자 자기소개서 01 지원분야 공통': \"1. 입사 이후 생각하고 있는 구체적인 직무는 무엇이며, 이를 위해 가장 필요한 역량이 무엇이라고 생각하십니까?\\n[해외시장 조사: 고객만족의 시작]\\n\\n입사 후 기업신용분석 및 해외영업을 담당하고 싶습니다. 철저한 기업신용분석을 기반으로 '신용위험'을 줄일 수 있고, 이는 무역보험의 신뢰도를 높일 수 있기 때문입니다. 기업신용분석을 함에 있어서 가장 중요한 능력은 '재무상태 분석'이라고 생각합니다. 따라서 입사 후 관련 회계지식을 업무 외에도 꾸준히 학습하겠습니다.\\n\\n또한, 해외영업을 담당해 해외 마케팅 전략 수립 및 잠재고객을 발굴 등의 업무를 수행하고 싶습니다. 이를 위해 외국어 실력 및 마케팅 지식, 그리고 영문 계약서 검토능력이 필요하다고 생각합니다. 학부 시절 공부하였던 무역영어를 복습하고, 무역법규를 철저히 공부하겠습니다. 이후 동경지사에서 일본어를 기반으로 다양한 업무를 경험해보고 싶습니다.\\n글자수 392자   |   962Byte\\n접기\",\n",
       " '2017년 하반기 한국무역보험공사 합격자 자기소개서 02 지원분야 | 교회사무·행정·관리': '1. 입사 이후 생각하고 있는 구체적인 직무는 무엇이며, 이를 위해 가장 필요한 역량이 무엇이라고 생각하십니까?\\n제가 전문적인 커리어를 쌓고 싶은 직무는 해외영업 직무입니다. 해외영업 직무는 해외 시장에 대해 파악하고 잠재 고객을 발굴하여 거래 내용에 대해 협상하고 계약을 체결하는 업무를 수행합니다. 이를 위해 필요한 역량은 시장분석력, 계약 조건을 보는 꼼꼼함, 그리고 무역 지식이라고 생각합니다. 저는 마케팅 심화 전공 및 동아리 활동을 하며 진행했던 팀 프로젝트들을 통해 필요한 자료를 수집하고 그를 토대로 자료를 분석하며, 관련 마케팅 전략을 제시하는 역량을 쌓았습니다. 또한 OO실습들을 통해 수출입 무역에 관한 지식을 학습하였고, 오류가 없는 서류를 작성할 수 있는 꼼꼼함을 길렀습니다. 이러한 경험을 통해 쌓은 역량은 해외영업 직무에 가장 잘 발휘할 수 있을 것입니다.\\n글자수 375자   |   919Byte\\n접기',\n",
       " '2017년 하반기 한국수자원공사 합격자 자기소개서 01 지원분야 | 전기기사': '1. 1.자신이 지원한 분야에서 뛰어난 전문가가 되기 위해 기울이고 있는 노력에 대해 구체적으로 서술해주십시오.(500)\\n[ 꾸준히 노력하는 인재 ]\\n\\n저는 에너지 분야에 대해 관심이 많습니다. 그렇기 때문에 에너지/발전에 전문 자격증인 전기기사를 취득하였습니다. 자격증을 통하여 전문 지식을 쌓았고 제 실력을 향상할 좋은 기회였습니다. 또한, 저는 최신 이슈를 꾸준히 공부하려고 노력하고 있습니다.\\n현재 사회적으로 가장 큰 이슈는 역시 탈원전입니다. 찬반 논란은 계속 진행되고 있지만, 원자력 발전의 가동 중단이 유력합니다. 우리나라 발전 비중에서 두 번째를 차지하는 원자력 발전의 가동이 중지된다면 친환경적인 발전방식을 이용하고 신재생 에너지의 비중이 높아질 것입니다. 댐을 이용해 물을 가두고 물의 힘을 빌려 전기를 생산하는 친환경적인 발전에 관해서 꾸준한 관심을 보이고 있습니다.\\n글자수 374자   |   918Byte\\n접기',\n",
       " '2017년 하반기 한국수자원공사 합격자 자기소개서 02 지원분야 | 전기설계': '1. 1.자신이 지원한 분야에서 뛰어난 전문가가 되기 위해 기울이고 있는 노력에 대해 구체적으로 서술해주십시오.\\n전기기술직 전문가는 시스템의 원리를 이해하고 설비의 동작상태를 파악하여 안정적으로 운영하는 것이 필수적이라고 생각합니다. 이를 위해 세 가지 역량을 준비했습니다.\\n첫째, 설계에 필요한 전공지식을 꾸준히 공부했습니다.\\n자동제어 과목을 제어실험을 통해 기본개념과 PLC컨트롤 시스템에 대한 전공지식을 공부하였습니다.\\n둘째, 협업을 통해 목표에 도달하였습니다.\\n졸업프로젝트진행시, 프로젝트 내용을 팀원 별로 파트를 나누어서 연구하고 발표하는 세미나를 제안하였습니다. 그 결과 많은 내용의 전문지식을 단기간에 효율적으로 이해할 수 있었습니다.\\n셋째, 인턴경험으로 부서 간 협업과 소통의 프로세스를 파악하였습니다.\\n제어설계파트에서 인턴업무를 수행하였습니다. 업무수행 중 빈번하게 제조현장에 방문하여 현장직분들과 의견조율을 해야 했습니다. 그 과정에서 부서의 경계선 상에 있는 업무의 수행에 있어서 자신만의 이익이 아닌 사업관점에서의 이익을 위한 업무 수행과 의사결정에 유의할 것을 배웠습니다.\\n글자수 496자   |   1246Byte\\n접기',\n",
       " '2017년 하반기 한국은행 합격자 자기소개서 01 지원분야 | 기획조사': '1. 한국은행 지원동기를 그간 본인의 삶과 학업(전공) 수행 과정, 본인의 중장기 목표 측면과 연계하여 구체적으로 밝히고, 입행 후 당행에 어떻게 기여할 수 있을지를 기술하십시오. ※ 졸업 학교명, 성명, 출신지역, 신체조건 등 지원자의 인성 및 직무역량 평가에 불필요한 개인정보는 일체 기재하지 말 것. 해당 내용 기재시에는 불이익이 있을 수 있음(다만, 직무수행과 관련된 교육 및 훈련, 자격, 경험 등은 기재 가능)1400\\n[일본경제에서 한국경제를 보다]\\n일본지역학을 전공하며 ‘아베노믹스’에 대해 깊이 있게 배웠습니다. 특히, 아베노믹스의 유례없는 양적완화정책의 성공 여부를 전 세계가 주목하고 있습니다. 또한, 국제통상을 부전공하며 국제 경제와 미시경제, 거시경제 등 경제학을 같이 학습하였습니다. 이 과정에서 ‘한국은행’의 역할과 중요성을 엿볼 수 있었습니다.\\n[중앙은행의 역할]\\n한국은행에서는 단순히 화폐를 발행하는 것이 아니라, 경제 동향을 조사하고 연구합니다. 또한, 통화신용정책과 더불어 다양한 국제금융 업무도 담당하고 있습니다. 따라서 경영과 경제, 행정 등 다양한 학문의 전문가들이 국민을 위해 묵묵히 일하고 있습니다. 경제를 공부하면서 국가의 재정정책과 통화정책에 따라 국가 경제를 부양할 수도 또는 악화할 수도 있다는 것을 배웠습니다.\\n[일본경제 전문가]\\n앞으로 꾸준히 경제를 깊이 있게 배우면서, 일본 경제와 한국 경제의 전문가로 성장하고 싶습니다. 일본은 한국의 미래라는 말이 있습니다. 고령화 사회에 따른 경제 정책 대처 등을 통해 앞으로 다가올 한국 미래를 조금 더 현명하게 대처할 수 있다고 생각합니다. 그러기 위해서는 ‘일본 전문가’가 필요하다고 확신합니다. 단순히 일본어를 잘 할 수 있는 사람은 많지만, 일본의 문화와 경제를 철저히 이해하고, 경제 지식을 겸비해 시장 조사를 할 수 있는 사람은 드물기 때문입니다.\\n저는 일본 전문가로 성장하기 위해 다양한 노력을 했습니다. 먼저, ‘OO’에 선발되어 일본에 방문하였습니다. 다양한 지역을 돌아보며 일본 경제의 구석구석을 살펴볼 수 있었습니다. 할아버지 할머니 집에 방문하여 홈스테이하기도 하였습니다. 일본 고령 세대의 거주 환경을 직접 경험할 수 있었고, 이 기간에 일본어 통역을 담당하였습니다. 또한, OO대학교에 자발적으로 연수를 신청하였습니다. 일본 현지에서 직접 문화를 느끼고, 일본어를 배우기 위함이었습니다. 전 세계인들과 함께 일본어를 배웠고, 누구보다 열심히 수업에 임했습니다. 그 결과, 학생 총 대표로 선발되어 폐회식 연설을 담당하는 기회를 얻기도 하였습니다.\\n요즘은 저성장과 저물가가 일상적이게 되었고, 이에 따라 경제학자들은 ‘뉴노멀’이라고 말하고 있습니다. 제4차 산업혁명과 더불어 환경은 급변할 것이고, 그 어느 때보다 정보가 소중해졌습니다. 한국은행에 입행 후 빠르게 일본경제 전문가로서 성장하여 양질의 정보를 제공하겠습니다. 또한, 일본과 협력해야 할 일이 있다면 제가 큰 힘이 될 수 있을 것입니다. 이러한 제 역량을 바탕으로 한국은행에서 경제전문가로서 한국경제 안정화 및 성장에 이바지하겠습니다.\\n글자수 1290자   |   3162Byte\\n접기',\n",
       " '2017년 하반기 한국전력공사 합격자 자기소개서 01 지원분야 | 발전기': '1. 한국전력공사의 4가지 인재상(기업가형, 통섭형, 도전적, 가치창조형 인재) 중 본인과 가장 부합된다고 생각하는 인재상을 두 가지 선택하여 그렇게 생각하는 이유를 본인의 교육, 경험, 경력사항 등 구체적인 사례를 들어 기술하여 주십시오. (800자 이내)\\n[통섭형, 테크네(techne)의 정신]\\n무한한 소재들 중 졸업 작품의 주제를 정하는 것은 어려웠습니다. 주기적으로 들었던 인문학 특강의 인상 깊었던 주제를 생각해보았습니다.\\n손은 변용 가능하고 한정적이지 않은 신체라는 것에 착안해 모션을 의사표현이 아닌 스위치와 같은 작동장치로 생각해보았습니다. 모션에 따라 전등과 같은 가전제품을 작동시킬 수 있도록 손잡이를 만들기로 했습니다. Arduino와 자이로센서를 이용해 손동작에 따라 물건의 전원, 응용기능을 조작할 수 있게 만들었습니다.\\n담당 교수님께서도 IOT와 관련된 좋은 작품이 나올 수 있을 것이라고 격려해주셨습니다. 한 분야에만 초점을 맞추어 사고를 국한시키지 않고 변용 가능함을 인지하는 테크네의 정신을 발휘하는 것이 중요하다는 것을 느꼈습니다.\\n[도전적, femm을 다루다]\\n4학년 2학기 학교에서 고전압 공학을 배우며 femm이라는 툴을 알게 되었습니다. 수업 시간에 잠시 언급되었지만 전계해석 프로그램에 흥미가 생겨 알아보았습니다.\\n생각보다 인터넷에 매뉴얼이 자세하지 않았습니다. 우연하게 영어로 설명된 동영상을 접하게 되었습니다. 설명도 영어이고 툴 버전도 달라 여러 개의 오류를 마주했을 땐 막막했습니다. 하지만 같은 동영상을 보고 배우는 세계 각국의 사람들이 또 다른 희망이 됐습니다. 그들의 근근이 달리는 댓글에 포기하지 않고 배워나갔습니다. 그 결과 절연물로 채워진 케이블, 극판 등의 전계해석을 할 수 있게 되었습니다. 눈으로 볼 수 없는 전계를 시각적으로 나타내어 이해하는 것이 수월했습니다. femm을 다루며 성취감을 느낄 수 있었습니다.\\n글자수 795자   |   1917Byte\\n접기',\n",
       " '2017년 하반기 한국전력공사 합격자 자기소개서 02 지원분야 | 전기·전자회로': '1. 한국전력공사의 4가지 인재상(기업가형, 통섭형, 도전적, 가치창조형 인재) 중 본인과 가장 부합된다고 생각하는 인재상을 두 가지 선택하여 그렇게 생각하는 이유를 본인의 교육, 경험, 경력사항 등 구체적인 사례를 들어 기술하여 주십시오. (800자 이내)\\n[도전적 인재]\\n평소에 전기/에너지에 관해 관심이 있었기 때문에 201X년 X월에 코엑스에서 개최한 OO에 참석하였습니다. OO의 이슈는 역시 친환경 에너지와 4차 산업혁명에 관한 것이었습니다. 화석 연료로 인한 환경오염은 전 세계적으로 이슈이기 때문에 친환경적인 발전방식의 개발과 신재생 에너지의 비중은 계속 증가할 것입니다. 또한, 사물인터넷을 접목한 ‘스마트 그리드’에 대해서도 흥미 있게 공부했습니다. 스마트 그리드를 통해 더욱 효과적으로 전기를 공급할 수 있고 나아가 대규모 에너지 절감에 도움이 될 수 있습니다.\\n또한, 전기/발전에 관한 자격증인 전기기사를 취득하였습니다. 자격증을 통하여 전문 지식을 쌓았고 제 실력을 향상할 좋은 기회였습니다.\\n\\n[통섭형 인재]\\n전기 회로이론, 제어공학, 전기기기 등과 같은 회로도 이해, 발전에 대한 직무에서 요구하는 소양을 갖추었습니다. 하지만 학부생 수준에서 안주하지 않고 다양한 분야에 대해 공부를 더 하고 싶었습니다. 그리고 평소에 존경하던 교수님 광 통신 연구실에 학부 연구생으로 들어갔습니다. 저는 optical table에서 광 통신에 대한 실험을 직접 수행하고 FDTD Lumerical Solution이라는 tool을 이용해 시뮬레이션한 후 제가 관찰한 결과와 같은지 보았습니다. 관찰한 결과와 시뮬레이션의 결과가 같을 경우 매트랩을 이용하여 정확한 결괏값을 도출할 수 있었습니다. 교수님과 박사과정 조교님들께서도 저에게 잘했다고 칭찬을 해주셨고 피드백을 통한 대화와 정보 교류를 통하여 다방면으로 시야를 넓히고 있습니다.\\n글자수 780자   |   1848Byte\\n접기',\n",
       " '2017년 하반기 한국전력공사 합격자 자기소개서 03 지원분야 | 발전기': '1. 한국전력공사의 4가지 인재상(기업가형 인재, 통섭형 인재, 도전적 인재, 가치창조형 인재) 중 본인과 가장 부합된다고 생각하는 인재상을 두 가지 선택하여 그렇게 생각하는 이유를 본인의 교육, 경험, 경력사항 등 구체적인 사례를 들어 기술하여 주십시오.\\n저는 한국전력공사의 인재상 중 기업가형 인재상, 도전적인 인재상이 두 개의 인재상이 비슷하다고 생각합니다. 책임감을 느끼고 회사에 임하여 자기의 역할을 다하는 사람만이 끊임없이 노력하며 도전할 수 있다고 생각하기 때문입니다. 그렇기에 저는 이 두 개의 인재상이 저와 가장 부합된다고 생각합니다.\\n저는 학원, 과외 등을 다녀본 적이 없습니다. 저의 부모님께서 저에게 하고 싶은 것을 물으셨고 저 스스로 선택하여 학습하도록 하며 필요한 것을 스스로 찾고 노력하여 이루기를 바라셨습니다. 그렇기에 제가 한 결정과 행동에 대한 성적과 같은 결과물은 저의 책임이었습니다. 결과물에 따라 칭찬과 충고를 해주시며 저에게 스스로 결정해 행동하는 마음가짐과 그 결과에 대한 책임감을 기를 수 있게 해주셨습니다.\\n이러한 마음가짐은 평소에도 유지하고 있으며 아르바이트나 학업에도 도움이 되고 있습니다. 저는 친구네 가족이 운영하는 열선 회사에서 시공 현장 일을 고등학교 때부터 현재까지 기회가 되면 도움을 주고 있습니다. 일하는데 책임감을 느끼고 공기와 품질을 완성하기 위해 노력하고 할 일을 스스로 찾아서 하므로 저를 좋게 봐주시어 지금까지도 좋은 관계를 유지하고 있습니다.\\n또한, 학업에서도 제가 원하는 직업을 위해 준비하는 데 있어 도움이 되었습니다. 전공수업을 듣는 데도 학년이 달라도 듣고 싶은 수업을 들으며 제가 원하는 것을 할 수 있다는 자신감을 주었습니다. 또한, 자격증을 준비할 때도 한번 떨어졌지만 포기하지 않고 포기하지 않는 마음가짐을 가질 수 있었고 덕분에 생각했던 자격증을 모두 취득할 수 있었습니다.\\n글자수 786자   |   1946Byte\\n접기',\n",
       " '2017년 하반기 한국전력공사 합격자 자기소개서 04 지원분야 | 전기공사': '1. 한국전력공사의 4가지 인재상(기업가형 인재, 통섭형 인재, 도전적 인재, 가치창조형 인재) 중 본인과 가장 부합된다고 생각하는 인재상을 두 가지 선택하여 그렇게 생각하는 이유를 본인의 교육, 경험, 경력사항 등 구체적인 사례를 들어 기술하여 주십시오.(800)\\n[도전적 인재]\\n평소 여행을 할 때는 로밍을 하여 핸드폰 검색에 의존하였는데요, 색다른 여행을 가고자 하여 책 2권과 지도를 들고 친구와 여행을 떠나기로 하였습니다.\\n막상 일본에 도착하니 책과 지도에 의지하여 길을 찾는 일은 쉽지 않았습니다. 계속해서 길을 헤매며 저희는 점점 지쳐갔고 길지 않은 여행시간이 낭비되는 거 같아 초조했습니다. 그래도 저희는 포기하지 않았습니다. 계속해서 헤매며 하루 종일 걷고 또 걸었습니다. 여행 막바지에는 능숙하게 길을 찾고 있는 제자신을 발견할 수 있었습니다. 여행이 끝난 후 길치를 탈출한 저는 뭐든지 할 수 있다는 자신감을 얻었습니다. 입사하여도 포기하지 않고 새로운 일에 도전함으로서 긍정적인 영향력을 끼칠 수 있는 사원이 되겠습니다.\\n[기업가형 인재]\\nOOO이라는 학회를 운영할 때 학회비를 걷어 이것을 이용하여 학회를 운영해 나가야합니다. 하지만 패장은 학회 내에 만약 학회비가 부족하면 졸업하신 선배님들께 도움을 청할 수 있는 방법이 있다며 학회비를 함부로 사용하고자 하였습니다. 그렇게 패장과 회비사용으로 인해 종종 의견충돌이 있었지만 내가 좀 더 발품을 팔기도 하며 타협점을 찾아나가고자 하였습니다. 결국 1년 동안 학회비 내에서 충분히 학회를 운영하였고 일부금액을 남겨 후배들에게 인수인계 할 수 있었습니다.\\n나도 넉넉하게 회비를 사용하고 싶었지만 우리가 편하고자 회비를 낭비하는 것은 학회를 운영하는 사람으로서 너무 무책임하고 공금을 낭비할 수 없다고 생각했기 때문에 최대한 노력을 해봐야 한다고 판단하여 내린 결정이었고 책임감을 기를 수 있게 되는 경험이었습니다.\\n글자수 796자   |   1960Byte\\n접기',\n",
       " '2017년 하반기 한국전력공사 합격자 자기소개서 05 지원분야 | 전기기사': '1. 한국전력공사의 4가지 인재상(기업가형 인재, 통섭형 인재, 도전적 인재, 가치창조형 인재)중 본인과 가장 부합된다고 생각하는 인재상을 두 가지 선택하여 그렇게 생각하는 이유를 본인의 교육, 경험, 경력사항 등 구체적인 사례를 들어 기술하여 주십시오.\\n소속된 팀이 잘 되는 것이 혼자 잘 되는 것보다 더 좋은 결과가 나온다고 생각하므로 기업가형 인재에 부합하고 어려움이 닥쳤을 때 피하기보다는 정면돌파를 하려고 하므로 도전적 인재에 부합합니다.\\n대학교 4학년 때 OO로 교환학생을 갔었을 때 공학도들을 위한 발표수업에 있었던 일입니다. 외국인 친구들 3명과 한 조를 이루어 성공 또는 실패했던 공학프로그램을 조사해 발표하는 것이었습니다. 저희 조는 NASA의 우주왕복선에 대해 조사하는 것이 있고 저는 우주왕복선의 해결해야 할 과제에 대해 조사하는 것이었습니다. 처음 외국인 친구들과 한 팀이 되었을 때 영어로 말하는 것과 외국인 친구들과 친해지는 것이 문제였습니다. 하지만 영어를 잘 하지 못한다고 해서 다른 친구들이 얘기하는 동안 가만히 있지 않고 계속해서 질문하고 최대한 저의 의견을 피력하려 노력했습니다. 그리고 한글로 된 자료보단 영문으로 된 자료를 찾아 직접 해석하고 친구들에게 의미를 물어가며 자료를 조사하는데 도움이 되고자 하였습니다. 친구들과 열심히 준비한 끝에 발표를 성공적으로 마치고 발표수업에서 높은 점수를 받았습니다.\\n글자수 555자   |   1367Byte\\n접기',\n",
       " '2017년 하반기 한국주택금융공사 합격자 자기소개서 01 지원분야 | 교회사무·행정·관리': \"1. 본인의 장점을 전문성, 리더십, 성실성, 팀웍, 창의력 중 찾아보고, 이를 공사업무 수행 시 어떻게 활용할 것인지를 기술하시오.\\n[창의력: 습관이 되어버린 창의적인 사고와 실천능력]\\n저의 가장 큰 장점 중 하나는 창의력입니다. 교내 벤처창업동아리 블랙박스에서 동아리 구성원들과 창업게임을 진행하고 창업경진대회에 참여하면서 창의적으로 사고하며 행동하는 능력을 키웠습니다. 이러한 저의 역량이 2012년 9월 개인적으로 활동하던 봉사동아리 개편 과정에서 빛을 발했습니다.\\n제가 속한 교내 봉사동아리가 오랫동안 유지되고, 많은 학우들의 사랑을 받게 하려면 다른 동아리들과는 차별화된 활동을 해야 한다고 생각했습니다. 그래서 기존의 재능기부 활동에 교육봉사활동을 더해서, '소외계층 아동들에게 꿈과 희망을 주는 맞춤형 동화책 제작'이라는 슬로건을 내걸고 샘플북을 제작하기로 했습니다. 처음 샘플북을 만들고, 스토리를 짜면서 수많은 시행착오를 겪었습니다. 하지만 동아리 회원들과 공강시간, 저녁시간, 주말에도 함께 모여 아이디어를 공유하며 샘플북을 제작한 결과 활동지원금을 받을 수 있었습니다.\\n새로운 봉사활동을 하는 동아리를 만드는 과정에서 장점인 창의력을 활용하였을 뿐만 아니라, 단점이었던 구체화시키는 능력을 동아리 회원들과의 협업을 통해 극복할 수 있었습니다. 주택금융공사에 입사하게 된다면 학부시절 함양한 창의력, 기획력, 실행력을 바탕으로 변화의 주체가 되겠습니다. 이러한 변화를 바탕으로 주택금융공사가 국민에게 신뢰받는 공공기관, 더 나아가서 세계 주택금융을 선도하는 주택금융 전문가로 거듭나도록 하겠습니다.\\n글자수 730자   |   1810Byte\\n접기\",\n",
       " '2017년 하반기 한국토지주택공사 합격자 자기소개서 01 지원분야 | 기술직': '1. (지원포부) 한국토지주택공사의 주요 사업 중에서, 앞으로 입사 후 본인이 어떤 부분에 기여하고 싶은지, 본인의 주요 직무 역량 및 강점을 기반으로 기술해 주십시오.\\n첫째, 다양한 프로젝트를 통해 문제해결능력을 길렀습니다. 공정설계, 창의종합설계, 한국화공학회 등 설계 경험을 통해 실무에서 겪게 될 문제를 파악하고 유연하게 해결하는 방법을 배웠습니다.\\n\\n둘째, 안전문제에 대비하기 위해 위험물 산업기사를 취득하였습니다. 수직계열화 특성상 산재가 발생하면 피해가 확산할 가능성이 크다고 생각합니다. 산재예방 및 전문성을 갖춰 항상 안전제일의 생산기술자가 되겠습니다.\\n\\n셋째, 소통으로 대인관계력을 길렀습니다. 교내 학술동아리 홍보부장으로서 신입생 유치, 동아리 홍보 등을 위해 낯선 사람들과 직접 만나며 사람 사이 소통의 중요성을 배웠습니다. 결과적으로 많은 수의 지원자를 받을 수 있도록 동아리를 이끌었습니다. 이러한 장점을 바탕으로 현장에서 영업부와 생산부 사이의 원활한 소통의 다리 역할을 하여 불화는 줄이고 업무의 효율성은 높여 1+1은 2가 아닌 더 큰 시너지 효과를 일으킬 수 있다고 자신합니다.\\n글자수 470자   |   1160Byte\\n접기',\n",
       " '2017년 하반기 한국토지주택공사 합격자 자기소개서 02 지원분야 | 발전기': '1. (지원포부) 한국토지주택공사의 주요 사업 중에서, 앞으로 입사 후 본인이 어떤 부분에 기여하고 싶은지, 본인의 주요 직무 역량 및 강점을 기반으로 기술해 주십시오.\\n저는 전자과를 전공으로 전력, 전기에 대한 지식을 쌓을 수 있었습니다. 또한 이번 여름에 교육수료를 통해 건설에 관련된 전기, 계장에 관해 많이 알게 되었습니다. 또한 전기기사를 취득함으로써 전기 직무에 관한 전문성을 높이기 위해 노력하였습니다.\\n이러한 지식들은 한국토지주택공사의 연구기술, 도시환경조성사업등에 많은 도움이 될 것입니다. 스마트그리드가 점점 확산화되고 ESS, 마이크로그리드등 여러 기술들이 발전됨에 따라 주거환경, 에너지에 관련되어 많은 변화가 있을 것입니다. 전공수업과 자격증 등으로 전자, 전기에 관해 여러 지식을 쌓음으로써 이러한 신기술을 빨리 이해하고 사용할 수 있을 것입니다.\\n또한 고등학교 졸업 후 부터 시간이 되면 열선 시공 현장일을 도와주고 있으며 전기공사기사 자격증을 취득함으로써 현장 일에 대한 준비를 하고 있습니다.\\n지금까지 배운 내용, 자격증과 현장에서 쌓은 경험을 토대로 현장경험을 많이 쌓고 이를 활용할수 있는 엔지니어가 되고 싶습니다.\\n글자수 496자   |   1220Byte\\n접기',\n",
       " '2017년 하반기 한국환경공단 합격자 자기소개서 01 지원분야 | 기술직': '1. 가장 힘들고 어려운 임무를 맡아 끝까지 책임을 완수했던 대표적인 경험에 대해 서술해 주십시오. (600자 이내로 기술) - 되도록 최근 3~5년 내의 본인의 경험으로 작성하십시오. - 임무를 맡게 된 과정, 수행 과정에서의 어려움, 본인이 구체적으로 취한 행동, 투입한 시간과 노력, 실제 결과 등이 객관적으로 드러나게 작성하십시오.\\n위기를 기회로\\n저는 OO봉사자로 활동했습니다. 기존 봉사자 배치도에 따르면 최소한 8명의 인원이 있어야 업무가 가능했습니다. 하지만, 배정 인원은 5명뿐이었기 때문에 인원부족의 문제점이 생겼습니다. 따라서 저는 봉사자 회의를 소집하여 배치 장소의 우선순위와 해결책에 대해 토의하였습니다. 요일별, 시간별, 전시관에 따른 시뮬레이션을 통해 업무를 담당하고, 그 외의 근무지는 자유배치를 통해 유동적으로 진행했습니다. 그 결과, 현재와 같은 서비스를 하면서도 2명의 인원을 절약할 수 있게 되었습니다. 그럼에도 불구하고, 여전히 1명의 자원봉사자가 부족했습니다. 저는 아쿠아리움에 직접 협조를 구해 제가 마지막 뒷정리를 도와주는 조건으로 1명의 봉사자의 인력을 얻었습니다. 이로써 자원봉사자들의 업무효율을 높임과 동시에 융통성과 실행력이라는 자산을 얻을 수 있었습니다. 직무를 충실히 이행하려면 발생한 문제의 본질을 파악하여 유연하게 대처할 수 있어야 합니다. 또한 타 부서와 원만한 관계를 유지하고 필요할 때 상대방의 협조를 이끌어 낼 수 있어야 합니다.\\n글자수 533자   |   1315Byte\\n접기',\n",
       " '2017년 하반기 한미약품 합격자 자기소개서 01 지원분야 | 생산관리·품질관리': \"1. 본인이 회사를 선택 할 때 가장 중요하게 생각하는 것과 한미약품이 그것과 어떻게 부합하는지 기술하여 주십시오. [ 200자 이상 700자 이내 ]\\n제가 한미약품을 지원한 이유는 한미약품의 비전과 사람의 마음을 움직이는 ‘힐링엔지니어’가 되겠다는 저의 비전이 일치하기 때문입니다. 한미약품은 제약기업으로써 ‘인간존중’, ‘가치창조’의 경영 이념을 바탕으로 인류의 건강 증진에 기여하기 위해 노력하고 있습니다. 이를 통해 저는 한미약품이 고객만족을 넘어 인류의 삶의 질을 향상시키려는 비전을 가지고 있다고 생각했습니다.\\n제가 ‘힐링엔지니어’가 되겠다는 비전을 가지게 된 계기는 대학생 창업캠프를 통해서 였습니다. 저는 창업캠프에서 콘돔을 주제로 선정하였습니다. 설문조사를 통해 사람들이 부담스러워 하는 이유를 물어보았습니다. 이를 바탕으로 구입 공간을 카페와 같은 분위기로 바꾸거나 포장을 부담스럽지 않고 재미있는 모양으로 만들어 보는 등의 아이디어를 제시하였습니다. 그 결과 거부감을 가지고 있던 90%의 사람들이 저의 제품에 대한 긍정적인 평가를 했고, 결과적으로 우수상을 받을 수 있었습니다.\\n저는 무조건 성능이 좋은 제품이 뛰어난 것이라고 생각하는 기술 만능주의에 빠져 있었습니다. 그러나 창업캠프 이후 고객들의 필요를 분석한 것을 바탕으로 한 설계한 기술이 어떠한 기술보다도 사람의 마음을 크게 움직일 수 있다는 것을 느꼈습니다.\\n저는 '힐링엔지니어‘가 되겠다는 비전으로 한미약품에 입사 후에 인류의 가치를 높일 한미약품의 제품을 안정적으로 생산하는데 기여하겠습니다.\\n글자수 689자   |   1729Byte\\n접기\",\n",
       " '2017년 하반기 현대건설 합격자 자기소개서 01 지원분야 | 생산관리·품질관리': '1. 현대건설과 해당 직무에 지원한 이유 및 본인이 적합하다고 판단할 수 있는 근거를 구체적으로 기술하여 주시기 바랍니다.\\n[최소한의 약속] 현대건설은 경부고속도로를 건설한 일화를 통해 알 수 있듯이 제 가치관인 도전과 인류사회 공헌이라는 직업관에 부합되는 회사입니다. 품질관리는 건설에 필요한 기자재의 품질을 관리하는 업무입니다. 챌린져호의 멕시코만 기름유출은 O링과 시멘트라는 사소한 부분에 의해 발생한 사고입니다. 즉 사소한 자재의 품질이라도 보장할 수 없다면 프로젝트의 품질은 보증할 수 없습니다. 품질 업무를 수행하기 위해서는 원칙을 준수하는 정신이 중요합니다. 제가 대표로 활동한 교육봉사단체의 대학생교사들은 교육청에서 활동금을 지원받았습니다. 대부분의 교사들의 학교였던 OO대학교에는 봉사활동을 통한 학점인정제가 있습니다. 학기말 학점 인정에 대해 운영진과 회의하였을 때 운영진에서는 지원금을 받았으니 교칙에 따라 학점인정은 안 했으면 좋겠다고 말씀하셨습니다. 학점인정을 받아도 문제될 것은 없었지만 운영진과의 신의를 저버리고 싶지 않았습니다. 저는 친분과 불만을 내세운 교사들의 요청에도 끝내 인증서를 발급하지 않았고 저를 포함한 교사들은 학점인정을 받지 못하였습니다. 업무를 수행하다보면 때때로 사소한 검사나 원칙을 무시하고 싶은 유혹이 들 것입니다. 하지만 원칙은 고객과의 최소한의 약속입니다. 이러한 원칙이 깨어졌을 때 고객의 신의를 저버림은 물론 큰 사고로 이어질 수 있습니다. 저는 어떤 경우에도 원칙을 지켜 고객의 신의를 지키는 현대인이 되겠습니다.\\n글자수 700자   |   1758Byte\\n접기',\n",
       " '2017년 하반기 현대글로비스 합격자 자기소개서 01 지원분야 | 택배·운송·물류': \"1. 현대글로비스가 당신을 채용해야 하는 이유는 무엇인지, 희망직무 관점에서 자신만의 역량(경험, 노력)을 구체적인 사례를 근거로 이야기 해 주세요. [ 500자 이상 1000자 이내 ]\\n◎ 전문성과 열린 마음가짐으로\\n- 물류 업계에 속한 이들 모두가 현대 글로비스를 높이 사는 이유는 완성차 물류 및 계열사 물량(국제,국내 SCM) 처리를 전담하는 '전문성'일 것입니다. 하지만 저는 영업 안정성에 그치지 않고 진정한 종합 물류 기업으로써의 역할 수행을 위한 TPL 사업 수행에 대한 '열린 마인드' 또한 현대글로비스의 성장을 이끌어왔다고 생각합니다.\\n- 저 또한 현대글로비스의 일원이 되기 위하여 다방면적으로 '전문성'을 갖추고자 노력하였습니다. 물류의 시작인 해상 운송, 보험, 무역뿐만 아닌 물류시스템, 공급사슬 관리 등의 전공 지식뿐만 아니라 심화된 이론 학습을 위한 자격증 취득 등을 통하여 '지식'을 갈고 닦아왔습니다. 이에 더하여 실무자로써의 실제 물류가 움직이는 '현장'에 대한 감각은 그 어떠한 역량보다 중요할 것입니다. 따라서 인턴십 경험을 통하여 W&D, 3PL, 포워딩 등의 분야에서 이론과 실무의 상호작용, 관리자로써의 현장 운영, 영업과 운영을 동시에 생각하는 마인드, 고객사 및 조직원간의 소통의 중요성, 정산, 채권, 데이터 분석 등에서 요구되는 '숫자'를 보는 힘 등을 길러 현대글로비스 물류 직무를 수행함에 있어 적응 기간을 최소화하고 즉시 투입 가능한 실무자를 목표로 하여 현장을 보고 듣고 느낄 줄 아는 물류인 으로써의 태도를 갖추기 위하여 노력하였습니다.\\n- 많은 내용을 준비하였지만 새로운 환경, 선도적이고 효율적인 현대글로비스의 프로세스에 즉시 투입되기에는 아직 많이 부족할 것입니다. '전문성'을 갖추고자 하는 노력을 자만하는데 사용하지 않고 현대글로비스의 일원이 되기 위한 저만의 준비과정으로 충분히 활용하되 항상 겸손하고 배우는 자세로 임하겠습니다. '열린 마인드'로 항상 소통하고 타인의 의견에 귀 기울이는 태도를 가진 신입사원으로써의 태도를 갖추겠습니다. 준비된 전문성과 배우고자 하는 열정으로 세계로 나아가는 현대글로비스와 함께 고객에게 최우선의 가치를 전달하는 물류 서비스의 실현을 향해 도전하고자 합니다.\\n글자수 994자   |   2412Byte\\n접기\",\n",
       " '2017년 하반기 현대글로비스 합격자 자기소개서 02 지원분야 | 택배·운송·물류': \"1. 현대글로비스가 당신을 채용해야 하는 이유는 무엇인지, 희망직무 관점에서 자신만의 역량(경험, 노력)을 구체적인 사례를 근거로 이야기 해 주세요. [ 500자 이상 1000자 이내 ]\\n제 강점은 ‘강한 정신력’ 입니다. 물류 영업직무는 항상 고객사와 최전방에서 소통하며 기업의 가치를 전달해야 하기 때문에 스트레스에도 무너지지 않는 ‘강철 멘탈’이 필요합니다. 이러한 정신력은 ‘체력’으로부터 비롯됩니다. 이를 위해 저는 평소 수영과 싸이클을 즐기며 잘 지치지 않는 체력을 유지하고 있습니다. 이러한 정신적, 육체적 강인함을 바탕으로 고객사에게 최고의 만족을 제공하겠습니다.\\n영업에 있어서 상호존중을 기반으로 한 ‘소통능력’과 ‘도전정신’이 반드시 필요합니다. 먼저, 고객사를 관리하고 이끌어 나가는데 있어 본사와 고객사 사이에서 의견을 효과적으로 조율하는 ‘커뮤니케이션 능력’이 중요합니다. 또한 목표한 바를 달성하여 조직이 성과를 내기 위해서는 어떠한 상황에서도 포기하지 않는 ‘도전정신’이 필요합니다. 우선 OOOO 홍보대사로 활동하며 다양한 사람과 ‘소통’할 수 있는 능력을 배웠습니다. 한국 홍보 UCC 촬영을 위해, 명동 상인 10명에게 홍보효과를 어필하며 사전동의를 얻었습니다. 또한, 외국인 관광객을 대상으로 투호, 제기차기와 같은 전통놀이를 체험해보도록 유도하며 즐거움을 선사하기도 하였습니다. 이러한 이벤트가 성공적으로 진행할 수 있었던 데에는 다양한 이해관계를 충족시킨 효과적인 커뮤니케이션 능력이 큰 역할을 했다고 생각합니다. 또한 OOO 인턴시절, '도전정신’을 가지고 ‘회계 프로그램 사용 메뉴얼'을 자발적으로 만든 경험이 있습니다. 구두로 전달되는 인수인계 방식은 복습과 정리가 불가하여 업무를 바로 파악하는데 어려움이 있었습니다. 그러하여 인수인계 방식의 효율성을 높이고자, 중요한 업무를 위주로 메뉴얼을 작성했습니다. 이와 같이 기존 프로세스를 변경하여 업무 인수인계의 효율성을 높이고, 팀원 모두가 느끼고 있는 불편함을 해결했습니다. 이처럼 홍보대사와 인턴시절 쌓은 커뮤니케이션 능력과 도전적인 마인드를 바탕으로 현대글로비스 물류 영업업무에서 최선을 다하겠습니다.\\n글자수 961자   |   2394Byte\\n접기\",\n",
       " '2017년 하반기 현대다이모스 합격자 자기소개서 01 지원분야 | 연구·실험·기술': '1. 귀하의 평소 생활신조와 직장관은 무엇입니까?\\n만족할 때까지\\n부푼 기대와 자신감을 갖고 군대에서 사회로 나오며 그려왔던 멋있는 삶을 살아야겠다는 계획을 했습니다. 하지만 얼마 지나지 않아 열정은 사라지고 지쳤습니다. 그렇다보니 불행히도 준비했던 면접에서 떨어지고 생각한 만큼 학업성적도 좋지 않게 나오게 되었습니다. 방학이 되고 혼자 있고만 싶었습니다. 그리하여 많은 시간을 홀로 보내며 스스로를 생각해 보았습니다. “무엇이 나를 지치고 힘들게 만들었을까?”에 대한 의문의 정답은 어렵지 않았습니다. “이정도면 됐다”라는 안일한 생각 때문이었습니다. 이후로는 스스로가 만족할 수 있는 결과물이 나올 때 까지 최선을 다하고 있습니다.\\n\\n일할 수 있는 회사\\n내가 좋아하는 분야에서 일한다면 흥미를 느끼며 계속해서 일할 수 있을 것이란 생각하고 있습니다. 대학시절 진로의 고민 끝에 나는 많은 기어들이 맞물려 움직이는 변속기를 만들어야겠다는 생각을 하였습니다. 그리하여 찾아보던 끝에 변속기에 관하여 연구하고 개발할 수 있는 다이모스에 지원하게 되었습니다.\\n글자수 508자   |   1264Byte\\n접기',\n",
       " '2017년 하반기 현대다이모스 합격자 자기소개서 02 지원분야 | 연구·실험·기술': '1. 귀하의 평소 생활신조와 직장관은 무엇입니까? 500자\\n[성장하고 또 성장하자]\\n제 생활신조는 ‘끊임없이 성장하자’입니다. 이를 위해선 동기, 목표, 실천력 등이 있어야 할 것입니다. 저는 올해 목표를 한 달에 한 권 책 읽기로 정하였습니다. 공대생으로서 부족할 수 있는 인문학 역량을 기르고 싶었기 때문입니다. 따라서 ‘책은 도끼다’, ‘자기혁명’ 등 인문학 도서 위주로 현재 9권 째 읽고 있습니다. 이러한 실천은 인문학 역량을 길러 제 자신을 성장시킬 것이라 확신하며, 작은 일도 목표를 세워 실천하는 습관을 들였습니다. 또한 이것은 꾸준한 실천을 통해 성장하는 회사에 입사해야겠다는 결심으로 이어졌습니다.\\n현대다이모스는 7단 DCT, 하이브리드용 변속기 등을 개발하며 친환경 규제에 대응하고 있습니다. 이러한 점은 친환경 규제가 강화될 미래 자동차 시장을 대비한, 그리고 고객들의 니즈에 부응하기 위해 꾸준히 실천한 결과라고 생각합니다. 이를 통해 현대다이모스의 비전 실현을 위해 성장하고 있다는 것을 알 수 있어 지원하였습니다.\\n글자수 493자   |   1201Byte\\n접기',\n",
       " '2017년 하반기 현대다이모스 합격자 자기소개서 03 지원분야 | 연구·실험·기술': '1. 귀하의 평소 생활신조와 직장관은 무엇입니까?(500자)\\n제가 현대다이모스를 지원한 이유는 기업의 비전과 고객의 마음을 다스리는 ‘힐링엔지니어’가 되겠다는 저의 비전이 일치하기 때문입니다. 현대다이모스는 ‘자동차에서 삶의 동반자로’라는 비전과 ‘고객 최우선’을 핵심가치로 제시함으로써 인간의 삶에서 자동차는 단순히 교통수단이 아니라 인간의 가치를 높여주고 자아를 실현시켜 주는 수단으로 생각하고 있다고 판단했습니다.\\n저는 무조건 성능이 좋은 제품이 뛰어난 것이라고 생각하는 기술 만능주의에 빠져 있었습니다. 그러나 콘돔을 주제로 고객들의 마음을 파악해 본 창업캠프 이후 사람들의 필요를 분석한 것을 바탕으로 한 설계한 기술이 어떠한 기술보다도 사람의 마음을 크게 움직일 수 있다는 것을 느꼈습니다. 창업캠프 이후 저는 원래 꿈이었던 엔지니어에서 나아가 사람의 마음을 움직이는 힐링 엔지니어가 되는 것이 저의 비전이 되었습니다.\\n글자수 431자   |   1091Byte\\n접기',\n",
       " '2017년 하반기 현대다이모스 합격자 자기소개서 04 지원분야 | 연구·실험·기술': '1. 귀하의 평소 생활신조와 직장관은 무엇입니까?\\n\\n저는 언제나 발전하는 삶을 살고자 노력하였습니다. 저의 생활신조는 다음과 같습니다.\\n첫째, 주도적으로 행동하기. 문제가 발생하였을 때, 휩쓸리지 않고 저의 목표를 다짐하며 행동을 결정하였습니다. 이에 문제해결능력을 갖추었고 발전할 수 있었습니다.\\n둘째, 목적에 충실하기. 하루하루 목적 있는 삶을 살도록 노력하였고, 저의 가치를 높였습니다.\\n셋째, 기본과 원칙을 중시하기. 어려움에 맞닥뜨렸을 때, 원칙은 제가 행동해야 하는 방향을 알려주었습니다. 기본과 원칙을 지킬 때 가장 빨리, 가장 멀리 갈 수 있었습니다.\\n이러한 생활신조로 저는 앞을 향해 끊임없이 달려가는 회사와 그런 회사에서 발전해가는 저의 모습을 꿈꿔왔습니다. 따라서 저는 직장의 ‘지속가능성’을 중요하게 생각합니다. 사회적 책임을 지닌 윤리경영과 CP, 동반성장 등 지속성장을 위한 방안이 잘 마련되어 있는 현대다이모스에서 늘 발전하는 엔지니어가 되겠습니다.\\n글자수 462자   |   1133Byte\\n접기',\n",
       " '2017년 하반기 현대다이모스 합격자 자기소개서 05 지원분야 | 기계·기계설비': '1. 귀하의 평소 생활신조와 직장관은 무엇입니까? 500\\n[Sitting Myself]\\n저의 평소 생활신조는 자신을 발전시키는 사람입니다. 저는 아직 제 자신이 부족하다고 생각을 합니다. 해보지 못한 것도 많고 하고 싶은 것도 많은 욕심이 많은 사람입니다. 자신을 담금질하는 것을 좋아합니다. 혼자서 자신에 대해서도 생각을 해보고 어떠한 부분을 성장시킬지에 대해서도 생각을 많이 해봅니다. 모르는 지식에 대해서도 배우고 싶은 욕망이 많아 책을 읽는 것도 좋아합니다.\\n이러한 생활신조를 바탕으로 한 저의 직장관은 발전하는 회사를 찾는 것입니다. 사람을 생각하고 인류의 꿈을 기술로 만드는 기업이라면 저와 같이 발전을 할 수 있을 것이라 생각합니다. 꿈을 기술로 만드는 것은 굉장한 노력과 발전이 필요한 부분이라고 생각을 합니다. 분명 아직 부족한 부분이 있을 것입니다. 그러한 부족함을 보충하기 위해 계속 발전하는 회사일 것이라 생각합니다. 저와 같이 발전해 나갈 수 있는 현대 다이모스가 저에게 맞는 회사입니다.\\n글자수 478자   |   1152Byte\\n접기',\n",
       " '2017년 하반기 현대모비스 합격자 자기소개서 01 지원분야 | 연구·실험·기술': \"1. 1.본인의 지원직무를 어떻게 이해하고 있는지 구체적으로 기술하고, 해당 분야에 본인이 적합하다고 판단할 수 있는 근거를 사례 및 경험을 바탕으로 기재해 주십시오. * [50자 이상 700자 이내]\\n\\n현재 정부의 환경오염 규제 강화와 기술의 진보로 인해 스마트카와 친환경차 시장이 급속도로 성장하고 있습니다. 따라서 연구개발 직무 수행을 위해서는 급변하는 시장 환경에 빠르게 적응하는 것이 중요하다고 생각합니다.\\n저는 OOO에서 인턴 근무를 하는 동안 자동차 부품기업 ‘OOO’과의 ‘OOO' 프로젝트에 적극적으로 참여하며 미래 자동차 시장 트렌드 파악을 위해 노력하였습니다.\\n프로젝트 추진을 위해서는 기술 동향 파악이 선행돼야 했고 ‘OOO’은 자동차 도어 무빙 시스템 전문 업체였기 때문에 도어 무빙 시스템 기술 동향 파악에 초점을 맞추고 과제를 진행하였습니다. 도어 파트를 전장화, 경량화, 모듈화, 안전지원, 편의성 5가지로 분류한 뒤 Kiekert, Aisin, Magna 등 자동차 부품기업의 도어 무빙 시스템 특허 현황 조사를 통해 기술 동향을 파악하였습니다, 그 결과 초경량 도어 모듈 및 전자도어 래치 기술 등 자동차 부품 개발 동향에 대해 배우며 자동차 부품 산업에 대한 이해를 높일 수 있었습니다.\\n현재 현대모비스는 독자기술 조기 확보를 위해 어려운 여건 속에서도 연구개발 투자를 늘리는 등 스마트카 시장 선도를 위해 많은 노력을 기울이고 있습니다. 저의 이러한 경험을 살려 현대모비스의 업무에 기여하고 싶습니다.\\n글자수 635자   |   1510Byte\\n접기\",\n",
       " '2017년 하반기 현대모비스 합격자 자기소개서 02 지원분야 | 연구·실험·기술': '1. 1. 본인의 지원직무를 어떻게 이해하고 있는지 구체적으로 기술하고, 해당 분야에 본인이 적합하다고 판단할 수 있는 근거를 사례 및 경험을 바탕으로 기재해 주십시오. * [50자 이상 700자 이내]\\n지원직무인 연구개발은 기술 동향 분석 및 기술 개발 전략 수립을 바탕으로 자동차 부품을 개발하고 다양한 인증시험을 통해 자동차 부품에 문제가 없는지 평가하는 직무입니다. 그 중에서도 시험직무는 평가와 분석 직무로 구분되며 다양한 테스트와 해석을 통해 신기술, 신공법을 개발합니다. 문제를 분석하여 데이터를 수집하고 이를 통해 해결하는 저의 능력은 현대모비스에 꼭 필요하다 생각합니다.\\n201X년도에 OO대 지능형 모형차 대회에 참가한적이 있습니다. 저의 역할은 모형차의 구동 회로를 설계하고, 제작하는 것이었습니다. 자동차 구동에 필요한 회로를 소자의 Data Sheet와 전공 교재를 찾아보며 설계를 진행했습니다. Breadboard를 이용해 임시 회로를 구성하고 테스트 주행을 시행했습니다. 그리고 기판 뒤쪽에는 회로를 납땜하여 후륜 구동의 모형차가 안정적인 코너링을 할 수 있도록 하였습니다. 회로를 설계하고 데이터 분석을 통하여 부족한 부분에 대해 반복하여 수정을 거쳤기에 트랙을 성공적으로 완주할 수 있었습니다.\\n거칠고 느린 움직임이었지만 저의 손길이 담긴 모형차가 본선에 진출했던 이 경험은 아직까지 자동차를 움직이는 엔진처럼 미래의 멋지게 성장할 제 자신을 위한 바른 삶의 주행의 원동력이 되고 있습니다. 저는 이러한 설계에 대한 열정과 분석력으로 현대모비스에서 시작품의 신소재를 개발하는 최고의 시험 엔지니어가 되고 싶습니다.\\n글자수 696자   |   1696Byte\\n접기',\n",
       " '2017년 하반기 현대모비스 합격자 자기소개서 03 지원분야 | 연구·실험·기술': '1. 본인의 지원직무를 어떻게 이해하고 있는지 구체적으로 기술하고, 해당 분야에 본인이 적합하다고 판단할 수 있는 근거를 사례 및 경험을 바탕으로 기재해 주십시오. * [50자 이상 700자 이내]\\n[첫째, 문제를 해석하고 해결하는 능력]\\nC와 Fortran을 사용하여 열전달과 유동해석을 하는 인하우스 코드를 작성하고 저만의 해석코드를 얻음으로써 해석에 관한 경험을 쌓았습니다. 이후 ANSYS 해석프로그램을 사용하여 졸업논문을 쓰면서 동계스포츠 스켈레톤 종목에서 최적화된 형상에 관한 공력해석을 연구하였습니다. 공력 해석뿐만 아니라 Youtube를 활용하여 다양한 열전달과 고체 해석을 하면서 역량을 쌓아왔습니다. 문제를 해결하고 해석하는 경험에 있어 누구보다 자신 있고 직무에서 높은 성과를 보일 수 있다고 확신합니다.\\n[둘째, 소프트웨어 끝판왕]\\nC, Fortran, Tecplot, EES, GE-gatecycle, ANSYS, UG NX, Auto cad, Solid works와 같이 다양한 소프트웨어를 사용해보았습니다. 상황마다 사용하는 소프트웨어는 다르므로 모든 소프트웨어를 능숙하게 사용하는 것은 어렵다고 생각합니다. 하지만 저의 경험과 지식을 통해 어떤 프로그램을 사용하더라도 빠르게 습득할 자신이 있습니다.\\n[셋째, 소통하는 자세]\\n연구개발은 여러 부서 및 협력업체들과 끊임없이 소통하고 협업해야만 하는 직무입니다. 전산제도, 캡스톤 디자인, 전기과와 같이 전기자전거 만들어보기, 졸업논문 쓰기 등 다양한 팀 프로젝트를 경험하면서 협업, 소통하는 자세를 갖추고 있으며 올바른 길을 향해 나아갈 준비가 되어있습니다.\\n글자수 692자   |   1582Byte\\n접기',\n",
       " '2017년 하반기 현대모비스 합격자 자기소개서 04 지원분야 | 연구·실험·기술': \"1. 본인의 지원 직무를 어떻게 이해하고 있는지 구체적으로 기술하고, 해당분야에 본인이 적합하다고 판단할 수 있는 근거를 사례 및 경험을 바탕으로 기재해주십시오.\\n[Customer-oriented mind]\\n현대모비스의 연구개발직무에 지원하면서 제가 갖고 있는 목표는 진보된 운전 경험의 제공입니다. 자동차를 이루는 전장부품의 비중이 증가하고 운송수단이 아닌 다양한 용도로 자동차를 타는 사람들이 점점 늘어나면서 운전 경험에 대한 중요성도 점차 증가하고 있습니다. 이를 위해선 자동차 부품을 개발하고 시험하는 사람의 입장이 아닌 운전자 입장에서 생각하고 운전 환경을 완벽히 이해하려는 노력이 필요하고 저는 이것을 Customer-oriented mind라고 생각합니다.\\n졸업과제인 'OOO'의 연말 발표회 시연을 준비하며 Customer-oriented mind를 배울 수 있었습니다. 얼굴 움직임을 이용해 자동차를 제어하는 시스템이었는데 처음에는 구현만을 목적으로 만들어 저희 조원 세명의 얼굴만 인식하는 문제가 생겼습니다. 운전자를 위한 시스템인데 사람마다 다른 얼굴을 인식하지 못한다면 의미가 없어지기 때문입니다. 이를 해결하기 위해 다양한 운전자의 데이터를 모으기 시작했고 학교 내의 커뮤니티와 방송, 친구들에게 도움을 청해 처음보다 약 30배 이상 많은 100명의 정보를 얻어 이 데이터로 운전자만을 생각한 알고리즘을 짤 수 있었고 그 결과 성공적으로 시연을 마쳤습니다.\\n자동차 부품을 넘어 사람을 생각하는 현대모비스에서 가장 Customer-oriented 인재가 되겠습니다.\\n글자수 685자   |   1571Byte\\n접기\",\n",
       " '2017년 하반기 현대모비스 합격자 자기소개서 05 지원분야 | 생산관리·품질관리': '1. 본인의 지원직무를 어떻게 이해하고 있는지 구체적으로 기술하고, 해당 분야에 본인이 적합하다고 판단할 수 있는 근거를 사례 및 경험을 바탕으로 기재해 주십시오. * [50자 이상 700자 이내]\\n[공정 지식 + 문제해결능력 = 최적화]\\n생산 기술 부문은 문제를 파악하고 유지 보수 및 설비 개선을 통해 공정을 최적화 하는 것이 목적입니다. 이는 공정에 대한 지식과 경험이 필요한 일입니다. 제가 전공한 화학공학에서는 공정에 대해 많이 다룹니다. 첫 번째, 공정 설계라는 과목을 수강할 때 공정에서 주로 사용되는 설계 방법들에 대해 휴리스틱을 이용하여 분석해 보았습니다. 특히 프로젝트에서는 실제 공정을 조사하고, 전체 공정 안에서 각 부분에 사용되는 휴리스틱이 어떻게 사용되는지 분석하기도 했습니다. 두 번째, 인턴에서 바이오매스를 열분해하는 반응기의 최적 온도 및 조건을 알아내기 위해 여러 가지 조건에서 반응기를 작동시키며 유지 보수하는 일을 하였습니다. 또한 작은 반응기에서 큰 반응기로 스케일 업 하여 작동시키기도 하였습니다. 이를 통해 공정을 최적화 하는 방법을 알게 되었습니다. 현대모비스의 공정에 대해 배워 어떤 공정이 더욱 효율적인지 계산해보며, 주어진 상태에서 문제를 파악하고 최적의 방법을 찾아내어 문제를 해결하는 사람이 되겠습니다.\\n글자수 536자   |   1318Byte\\n접기',\n",
       " '2017년 하반기 현대모비스 합격자 자기소개서 06 지원분야 | 생산관리·품질관리': '1. 본인의 지원직무를 어떻게 이해하고 있는지 구체적으로 기술하고, 해당 분야에 본인이 적합하다고 판단할 수 있는 근거를 사례 및 경험을 바탕으로 기재해 주십시오. * [50자 이상 700자 이내]\\n[자동차 양산의 다리, 생산기술]\\n\\n\\n생산기술은 연구개발과 공장에서 양산하는데 중간 다리입니다. 실제 양산하는 생산시스템을 계획하고 구축하는 부서이기 때문입니다. 모든 직무가 중요하지만, 모든 과정을 관리하고 개선하는 것보다 중요한 직무는 없다고 확신하여 생산기술에 지원했습니다. 생산기술 직무는 많은 역량 중 다양한 세대와 가치관을 이해하는 자세가 필요합니다.\\n\\n제철소에서 3개월 동안 일하며 조직을 경험했습니다. 연주기 설비의 롤을 교체했습니다. 같이 일하는 분들의 연령대가 50대에서 20대까지 다양했습니다. 처음에는 적응하기 힘들었습니다. 일하는 분들의 경력과 연륜을 따라가기엔 부족했으며 잠시 일하고 학생이라고 잘 가르쳐주지 않았습니다. 하지만 아침 일찍 와서 청소하고 회식도 많이 참여했습니다. 그 결과 일할 때 많은 도움을 받았습니다. 이 경험을 통해 많은 가치관을 만나보고 다양한 사람들을 이해할 수 있었습니다. 현대모비스에 입사 후 생산기술 직무 특성상 다양한 사람들과 협업할 기회가 많을 것입니다. 저는 이 경험을 밑거름 삼아 여러 직무의 사람들과 조화롭게 일할 수 있습니다.\\n글자수 560자   |   1374Byte\\n접기',\n",
       " '2017년 하반기 현대모비스 합격자 자기소개서 07 지원분야 | 제품개발': '1. 본인의 지원직무를 어떻게 이해하고 있는지 구체적으로 기술하고, 해당 분야에 본인이 적합하다고 판단할 수 있는 근거를 사례 및 경험을 바탕으로 기재해 주십시오. * [50자 이상 700자 이내]\\n[예외상황까지 생각하는 빈틈없는 테스트]\\n제가 지원하고자 하는 직무는 연구개발 직무에서도 시험직무입니다. 시험직무란 연구기획과 설계단계에서 제작한 부품들을 다양한 환경에서 목표로 하는 성능을 발휘할 수 있는지 평가하고 해결해야 할 문제점이 있는지 분석하는 직무입니다. 개발자들은 설계과정에서 부품의 목적과 성능에 집중하여, 그 부품이 온전히 동작할 수 있는 환경을 가정 하에 설계를 하는 경우가 많습니다. 그 과정에서 고려하지 못한 예외적인 환경까지도 모두 테스트하여 부품이 언제 어떤 상황에서도 본연의 성능을 고객에게 제공할 수 있도록 평가하는 것이 시험직무입니다.\\n\\n저는 하계 인턴으로 IOT 전자명패와 차량모듈을 개발하는 OO 연구소의 IOT 개발팀에서 일하였습니다. 개발팀에서 받은 프로젝트는 전자명패에 데이터를 입력하는 PC 프로그램을 대체하는 안드로이드 어플을 개발하는 것이었고, 제가 담당한 업무는 테스트 케이스를 작성하여 그것을 기반으로 어플을 평가하고 문제점 및 개선점을 찾는 것이었습니다. 단순히 어플을 동작시키며 문제점을 찾는 것에 비해 테스트 케이스를 문서화하여 평가하자 더 체계적으로, 어플의 동작범위를 고려하여 테스트를 진행할 수 있었습니다. 그 결과 잘못된 데이터가 입력되어도 오작동하지 않도록 예외 상황에 대하여 빠짐없이 처리할 수 있었습니다. 저의 이런 빈틈없는 테스트 능력으로 시험직무를 완벽히 수행할 것입니다.\\n글자수 698자   |   1734Byte\\n접기',\n",
       " '2017년 하반기 현대엔지니어링 합격자 자기소개서 01 지원분야 | 환경·플랜트': '1. 본인이 회사를 선택하는데 있어 가장 중요하게 생각하는 가치는 무엇인지와, 입사후 현대엔지니어링에서 이루고 싶은 Vision을 기술해 주십시오. 800\\n[나와 같은 길을 가는 회사]\\n저는 자신이 발전하는 삶을 살고 싶습니다. 그렇기에 회사도 발전해야 한다고 생각을 합니다. 그래서 회사를 선택할 때의 기준은 비전입니다. 비전이 확고한 회사라면 발전해 나갈 수 있는 회사라고 생각합니다.\\n발전하는 회사는 사람이 가장 큰 힘이라고 생각을 합니다. 회사의 비전을 살펴보는 가장 쉬운 방법은 회사의 큰 방침 즉, 원하는 인재상과 회사를 이끌어가는 목표의식이라고 생각합니다. 현대엔지니어링의 인재상은 Expert with U입니다. 전체를 이해하고 진취적으로 협업하는 전문가입니다. 기본적으로 다른 회사가 비슷할지 모르지만, 다른 언어를 사용하여 제 마음을 끌어당겼습니다.\\n첫째, 저는 무전여행을 통해 실행력과 도전정신을 배웠습니다. 무전여행에서 가장 중요했던 점은 원하는 것을 얻기 위해 실행하는 것이었고 실패를 두려워하지 않아야 한다는 점이었습니다.\\n둘째, 전문가가 되려 노력했습니다. 전공학점을 이수했음에 부족함을 느껴 일반기계 기사 자격증에 도전하였고 필기를 합격 후 오는 X월 실기에 도전할 생각입니다.\\n셋째, 봉사활동을 통해 소통하는 방법을 배웠습니다. 제가 맡은 봉사활동 아이들은 경계심이 강하였고, 경계심을 풀기 위해 꾸준히 봉사활동에 참여하며 마음을 열고 아이들과 소통하였습니다. 경계심을 허무는 데 성공했고 소통의 중요성을 알았습니다.\\nVision 2020의 일원이 되고 싶습니다. 독창적인 지적자산을 얻기 위해 전공 지식을 쏟아부어 개선점을 찾고 개선할 방법에 대해 모색하고 싶습니다. 회사뿐만 아니라 소통으로 사회에도 공헌할 수 있는 사람이 되고 싶습니다.\\n글자수 794자   |   1930Byte\\n접기',\n",
       " '2017년 하반기 현대오일뱅크 합격자 자기소개서 01 지원분야 | 기계·기계설비': '1. 본인이 가지고 있는 강점에 대하여 키워드를 제시한 후, 그 이유에 대하여 기술하시오. 600자\\n끊임없이\\n졸업 프로젝트에서 저예산을 위해 끊임없이 고민하고 행동하여 좋은 결과를 얻은 경험이 있습니다.\\n졸업 작품에서 저희 팀은 반에서 가장 저예산으로 프로젝트를 끝내자는 목표를 세웠습니다. OO에 착안하여 OO를 주제로 결정하였습니다.\\n제작 단계에서 기어 변경에 쓰이는 서보모터의 가격이 많이 나갔기 때문에 예산 절약 방안에 대해 끊임없이 고민했습니다. 저예산의 대안으로 인맥을 이용해 자전거를 구해 정비했습니다. 다른 수업에서 쓰였던 Arduino 재사용하고 스마트폰 센서를 이용하여 부품 구매비를 줄였습니다. 스마트폰과 Arduino의 Bluetooth 통신 방식을 이용하여 기울기 센서에 따라 자전거 기어를 자동으로 변경하는 졸업 작품을 완성하였습니다. 최종 발표 후 아이디어 부분 2등 저예산 사용 1등으로 A+를 받을 수 있었습니다.\\n이 ‘끊임없이’라는 말은 프로젝트를 진행하거나 업무에 있어서 끈기 있게 실행하여 좋은 결과로 이어지게 해준 강점입니다. 현대오일뱅크의 엔지니어로서 고도화비율 45% 달성에 끊임없이 고민하고 적용하도록 노력하겠습니다.\\n글자수 542자   |   1298Byte\\n접기',\n",
       " '2017년 하반기 현대오트론 합격자 자기소개서 01 지원분야 | 연구·실험·기술': '1. (지원동기)당사에 지원하게된 동기와 당사의 일원으로서 이루고 싶은 목표를 서술해주십시오 [ 300자 이상 600자 이내 ]\\n[미래 산업의 중심]\\n작년 ‘메카트로닉스’ 과목을 수강하면서 기계, 제어, 임베디드 시스템에 대한 전반적인 지식을 습득했습니다. 특히, 모터 종류에 따른 제어기를 설계하는 과정에서 제어시스템에 관심을 갖기 시작했습니다.\\n수업에서는 제어이론, C언어, 속도 프로파일 및 jerk 등의 수식을 기반으로 설계한 제어기를 DSP에 구현하였고, 제어기 튜닝으로 성능을 최적화하는 작업을 했습니다. 그 과정 내내 저는 최근 모든 산업을 변화시키는 전기전자공학의 중요성을 느낄 수 있었습니다. 그리고 이러한 흐름을 가장 잘 나타내는 산업은 우리 생활에 밀접한 자동차 산업이라고 생각합니다. 자동차의 전장품 비중이 급격하게 증가하면서 기계중심이던 기존 자동차 산업이 전기전자중심으로 변화하고 있기 때문입니다. 이는 자동차 전자제어를 위해 설립된 현대오트론이 자동차 산업의 중심이 될 것임을 의미하기도 합니다.\\n또한, 저는 제어분야에 관심이 많아서 관련 수업들을 수강하고 RC카, 온습도 제어, 스마트 플러그 등을 만들어 보았습니다. 그래서 저는 전공지식을 활용하고, 좋아하는 일이 있는 현대오트론에서 성장하여 회사에 일조하고자 지원하게 되었습니다.\\n글자수 578자   |   1420Byte\\n접기',\n",
       " '2017년 하반기 현대오트론 합격자 자기소개서 02 지원분야 | HW(하드웨어)': '1. (지원동기)당사에 지원하게된 동기와 당사의 일원으로서 이루고 싶은 목표를 서술해주십시오 [ 300자 이상 600자 이내 ]\\n[자동차의 미래를 열어나가는 파트너가 되겠습니다]\\n\\n현대오트론에 지원하게 된 가장 큰 동기는 현대오트론의 도전정신과 이를 실현하는 혁신적인 기술입니다. 효율적인 자동차 개발이 가능하도록 도와주는 `현대차 표준 소프트웨어 플랫폼`과 미세먼지 저감에 도움을 주는 `VCI 기능 적용 엔진 제어기`등을 통해서 현대오트론이 경쟁적인 우위를 차지할 수 있었던 원인을 짐작해볼 수 있었습니다. 창의적인 사고로 문제를 해결하기 위해 끊임없이 노력하는 저의 자세는 현대오트론의 인재상과 적합하다고 생각했고, 저의 역량을 최대로 발휘할 수 있다고 생각하는 `전자아키텍처` 직무에 지원하게 되었습니다.\\n\\n현대오트론에서의 저의 목표는 경쟁력 있는 차량 아키텍처를 개발하는 것입니다. 특히 수업을 통해서 얻은 네트워크 지식과 임베디드 개발 능력을 100% 활용하여 네트워크 아키텍처 개발을 담당하고 싶습니다. 4차 산업혁명에 이어서 미래에는 차량 구조에서 통신 네트워크 시스템의 중요성은 더욱더 커질 것입니다. 5년 안에 네트워크 성능을 최적화하는 토폴로지를 개발하여 효과적인 차량 통신 네트워크 시스템을 설계하고 `1등 차량의 1등 제어기술을 개발`할 수 있도록 큰 보탬이 되고 싶습니다.\\n글자수 599자   |   1471Byte\\n접기',\n",
       " '2017년 하반기 현대위아 합격자 자기소개서 01 지원분야 | 자동차·조선설계': '1. 자신의 경험 중 가장 도전적이었던 일은 무엇이며, 극복하기 위해 했던 행동, 노력, 생각을 구체적으로 기술하시오. 500자\\n[가능성에 도전하다]\\n웨어러블 무동력 보조기구의 제작 가능성에 도전하여 입상을 한 경험이 있습니다. 보조기구는 기계공학뿐만 아니라 인체공학까지 적용해야 했습니다. 따라서 인체공학을 새로 공부해야 했지만, 시간 제약이 있었습니다. 이때 생물에 관심이 있었던 저는 근육에 대한 지식을 팀원들과 공유한다면 정해진 시간 내 적용시킬 수 있다고 판단하였습니다. 보조 대상이었던 종아리 근육에 대한 내용을 정리하여 팀원들과 공유하였고, 이는 보조기구 작동원리인 스프링으로 근육을 보조하는 개념을 결정하는 초석이 되었습니다. 보조기구는 착용감 또한 고려해야 했습니다. 특히 사람이 불편함을 느끼지 않도록 발 모양에 맞게 설계하는 것은 많은 어려움이 예상되었습니다. 하지만 발과 맞닿는 부분에 라텍스와 같은 부드러운 소재를 사용한다면 완화할 수 있다는 판단을 하였습니다. 최종적으로 시간과 경제적 제한사항들을 고려해 3D 프린팅 ABS 소재의 보조기구를 제작할 수 있었고, 경진대회에서 입상할 수 있었습니다.\\n글자수 500자   |   1242Byte\\n접기',\n",
       " '2017년 하반기 현대위아 합격자 자기소개서 02 지원분야 | 재무회계': '1. 자신의 경험 중 가장 도전적이었던 일은 무엇이며, 극복하기 위해 했던 행동, 노력, 생각을 구체적으로 기술하시오.\\n[돌밭에서 농지로]\\n\\n고등학교 졸업 후 OO에서 OO으로 이사한 이유는 OO에 있는 오래전 구매한 작은 필지에 대해 매매 시 세제 혜택을 보기 위한 것이었습니다. 하지만 AFPK를 취득하며 농지로써 세제 혜택을 받기 위해서는 자경한 농지가 되어야 함을 알게 되었습니다. 그래서 농지 원부를 받기 위한 계획을 세웠습니다.\\n\\n간단한 한 줄의 이론과 달리 필지를 사업용 농지로 만들기는 쉽지 않았습니다. 정보들이 일관되게 통일되지 않아, 비용과 시간이 많이 소모되었기 때문입니다. 낮에는 서류 진행을 위하여 이장님, 지역 면사무소 직원분에게 정확한 정보를 얻기 위해 노력하였고, 아직 뜨거운 해가 뜨지 않은 새벽 시간에 일어나 목초지를 농지규격에 맞게 개간하였습니다. 하지만 시간이 흐르며 계획대로 일이 진행되는 것을 제 눈으로 보며 성취감과 농지 원부를 받을 수 있겠다는 확신을 받았습니다. 결국, 반년여의 노력으로 목초지를 농지로 개간하고 서류절차를 완료하여, 이듬해 자경농지로 인정받아 농지 원부를 획득하였습니다. 계획적으로 성실히 노력 하면을 이룰 수 있다는 자신감을 경험하였습니다.\\n글자수 555자   |   1343Byte\\n접기',\n",
       " '2017년 하반기 현대자동차 합격자 자기소개서 01 지원분야 | 마케팅전략·기획': '1. 1) * What makes you move? 무엇이 당신을 움직이게 하는지 기술해 주십시오.\\n\"남들이 가지 않는 길을 주행하는 사람\"\\n제 삶의 원동력은 새로운 도전입니다. 저는 평소에 집에 갈 때 낯선 길을 시도해보고, 여행도 유명하지 않은 곳으로 가는 도전을 즐기는 사람입니다. 이러한 제 성격에 큰 영향을 끼친 건 13년간의 OO 생활이었습니다. 저는 OOOO 국제학교에서 외국인 친구들과 친해지기 위해 농구 동아리, 재즈 밴드와 통역 봉사를 하며 먼저 다가갔습니다. 열린 마음으로 대하자 외국인 친구들도 집에 초대하며 친해질 수 있었고, 다양성을 수용하는 자세를 배울 수 있었습니다.\\n\\n교환학생으로 OO에 머무를 때는 중국어를 배워 식당에 갈 때도 친구들을 대신하여 메뉴 주문을 하고, 영어가 서툰 중국인 친구들과도 쉽게 친해졌습니다. OO인 친구들 중 일부와는 \\'국제 음식 경연대회\\'에 한식팀을 꾸려 함께 출전하기도 했습니다. 주 방문객인 OO인들을 고려한 맞춤형 한식과 홍보를 진행했고, 뜻밖에 인기상이라는 결실을 맺었습니다. 이렇게 저는 언어를 활용해 문화를 배우며 다양한 사람들과 조화를 이루는 법을 배웠습니다.\\n\\n\"OO 인턴십을 통해 쌓은 커뮤니케이션 능력\"\\n저를 움직이는 또 다른 힘은 사람입니다. 그동안 다양한 대내외 활동을 통해 팀원들과 협업해 성과를 이루어 낸 경험이 많았습니다. 특히 올해 6개월간 인턴 생활을 한 OO에서도 사무실의 절반 이상이었던 OO 현지 직원들과 의지하며 힘든 순간들도 극복할 수 있었습니다. 일례로 인턴 생활 중 민관협력사업(CSR) 워크숍을 기획 및 진행하였습니다. 하지만 워크숍 준비 기간이 이슬람교 단식 기간인 ‘라마단’과 겹쳐서 현지 직원들이 단식한다는 이유로 열심히 협조해주지 않았습니다. 일손이 부족해 저도 예민한 상태였지만, 현지 직원들의 문화를 존중하고 이해하기 위해 저 또한 라마단 기간 한 달간 직원들과 같이 금식하며 일하였습니다. 결국 현지 직원들의 도움으로 워크숍을 잘 마무리할 수 있었고, 협업할 때에는 역지사지의 자세가 중요함을 깨달았습니다.\\n글자수 966자   |   2324Byte\\n접기',\n",
       " '2017년 하반기 현대자동차 합격자 자기소개서 02 지원분야 | 생산관리·품질관리': '1. * What makes you move? 무엇이 당신을 움직이게 하는지 기술해 주십시오.\\n제 실행력에 가장 큰 기반은 물음표입니다. 어떤 일이나 프로젝트에서 더 나은 방안과 결과를 얻기 위해서 다양한 방면으로 물음표를 붙이고 생각해 나아갑니다. 현대자동차의 플랜트 기술담당 직원으로서 효율적인 방안에 대해서 끊임없이 고민하고 개선하려는 노력의 사이클을 통하여 현대자동차와 소비자가 원하는 생산성에 맞출 수 있도록 기여하겠습니다.\\n\\n홍보 벽화와 품앗이\\n\\nOO 홍보 벽화를 위한 인원 부족 문제를 다른 팀과의 시간 조율과 협업을 통해 해결하였습니다.\\nOO 청년 서포터즈 활동을 하며 홍보를 위한 벽화 그리기 프로젝트를 진행했습니다. 20명의 팀원으로 진행하기엔 큰 규모의 벽화였습니다. 팀 회의에서 벽화 규모를 줄이면 홍보의 효과가 작아진다는 의견이 모였습니다. 해결을 위한 방안에 물음표를 붙이고 답을 찾았습니다. 날짜가 겹치지 않고 시간적 여유가 있는 팀을 찾아가 벽화 그리기를 도움받고 이후 상대방의 프로젝트에 적극적으로 도와줄 것을 약속하였습니다. 총 5개의 팀 100명이 모여 홍보 벽화를 완성하였고 도움을 품앗이하며 서포터즈 활동을 끝냈습니다.\\n\\n물음표로 얻은 아이디어\\n\\n졸업 작품으로 자전거 관련 기술을 만들기로 하였습니다. 자전거 관련 기술은 이미 많이 상용화되어 있었습니다. 가장 효율적인 아이디어 수집 방안에 대해 물음표를 던졌습니다. 그중\\n자전거 동아리를 대상으로 저희 팀의 아이디어에 대해 설문조사를 하는 방안이 선택되었습니다. 처음 자전거를 탈 때 경사로에서 기어 변경을 하는데 어려움을 겪었다는 내용에 착안하여 자동 기어변경 자전거가 주제로 결정되었습니다. 구동은 스마트폰과 Arduino의 Bluetooth 통신 방식을 이용하여 서보모터로 기어를 조작하도록 만들었습니다. 최종 졸업 작품으로 스마트폰 기울기 센서에 따라 기어를 자동으로 변경하는 자전거가 만들어졌습니다. 아이디어를 모으기 위해 설문조사를 한 것과 이를 바탕으로 졸업 작품을 만든 것에 점수를 얻어 A+학점을 받을 수 있었습니다.\\n글자수 970자   |   2368Byte\\n접기',\n",
       " '2017년 하반기 현대자동차 합격자 자기소개서 03 지원분야 | 건설안전': '1. 1.What makes you move? 무엇이 당신을 움직이게 하는지 기술해 주십시오.\\n저를 움직이게 했던 가치는 귀찮음, 효율성, 신뢰입니다. 저의 바람은 국민들에게 신뢰를 받고 있는 현대자동차에 입사해, 안전 관리 직무에 종사하여 근로자들과 효율적인 안전 관리를 함께 만들어 나가는 것입니다.\\n\\n[귀차니스트 탐구생활]\\n전 귀찮은 것을 싫어하는 귀차니스트였었습니다. 그러던 중 이 단점을 없애고 싶은 마음에 서점에서 ‘귀차니스트 탐구생활’이라는 책을 찾아 읽게 되었습니다. 이 책의 내용은 당신이 귀차니스트라서 당장의 사소한 귀찮음 들을 제거하지 못한다면, 훗날 너무나도 큰 귀찮음을 겪게 될 것이라는 내용이었습니다. 이러한 책의 구절은 저에게 작은 리스크 관리를 통해 사고를 예방하는 안전 관리를 떠올리게 하였습니다. 그래서 전 당장의 사소한 귀찮음 들을 해결하는 귀차니스트가 되었을 뿐만 아니라, 안전 관리의 기본 소양인 꼼꼼함을 갖추게 되었습니다. 그러므로 이 능력들이 미래의 현대자동차의 안전 관리를 효율적으로 수행할 수 있다고 생각합니다.\\n\\n[행동 판단의 근거 ‘효율성’]\\n저는 일상생활 시 어떠한 행동이 가장 효율적인 행동인지를 끊임없이 생각하는 습관이 있습니다. 이러한 습관은 제가 OO로 대학을 진학한 후 본가인 OO에 내려갈 때마다 가장 효율적인 루트를 통해 가려고 고민하면서 생긴 습관입니다. 저는 효율적인 루트를 찾으면서 다양한 생각을 객관적으로 판단하는 계기가 되었습니다. 이후 이러한 습관이 커져서 매사에 행동할 때 어떠한 행동이 효율적인지 고민하고 효율성을 추구하는 가치관을 갖게 되었습니다.\\n\\n[신뢰란 좌우명]\\n저는 ‘믿음을 준 사람에게 배신하지 말자’라는 말을 삶의 모토로 삼고 있습니다. 제가 어릴 적 믿었던 친구에게 배신을 당한 상황이 있었습니다. 그때의 일을 생각해보자면 지금의 저로서는 아무렇지도 않았을 상황이었습니다. 하지만 그때의 어린 제가 느낀 첫 배신의 감정은 인간관계에서 신뢰를 가장 최우선으로 생각하는 저의 가치관에 영향을 주었습니다. 저는 이 가치관을 바탕으로 현대자동차에 입사한다면 절 믿어준 회사에 발전에 이바지할 것입니다.\\n글자수 1009자   |   2482Byte\\n접기',\n",
       " '2017년 하반기 현대자동차 합격자 자기소개서 04 지원분야 | 환경·플랜트': '1. 무엇이 당신을 움직이게 하는지 기술해 주십시오. 1000자 이하\\n“외로움이라는 병”\\n저는 늘 외로웠습니다. 맞벌이하시는 부모님 곁을 떠나 7년 동안 혼자 살면서 많은 시간을 어떻게 외로움에 대처해야할지 몰랐고 어떻게든 대처해야한다고 생각했습니다. 마음이 맞는 사람을 만나고 맛있는 음식을 먹고, 영화를, 책을, 음악을 찾았습니다. 다른 사람의 인정을 받고 싶어서 더 나은 사람이 되려고 애썼습니다. 그리고 그때는 그 괴로움이 저를 움직이게 했고, 지금의 저를 만들었다는 것을 까맣게 몰랐습니다.\\n\\n외로움에서 벗어나면 괜찮은 사람이 될 수 있다고 믿었습니다. 방법을 몰라 학생으로서 할 수 있는 최선의 노력인 공부에 집중하였습니다. 최고가 되고자 노력하면서 2년 동안 과 수석 및 모든 학기에서 전액 성적 장학금을 받는 등 현실적으로 좋은 결과를 얻었습니다. 뿐만 아니라 주변에서 저를 인정해 주는 선후배, 의지하는 친구들이 생겼고 작지만 누군가에게 도움을 줄 수 있는 사람이 될 수 있다는 자신감을 갖게 되었습니다.\\n\\n외롭기 싫어서 사람들과 어울리려 노력했고 제가 속한 조직을 위해 에너지를 쏟게 되었습니다. 학부 재학 당시 학과소모임에서 OO대회에 출전한 경험이 있습니다. 처음으로 팀을 꾸려 무언가에 도전해보는 일이었고 좋은 결과를 얻고 싶었습니다. 저는 동력파트 팀장을 맡아 견고하면서도 유지 보수가 용이한 기어를 만들고 싶었습니다. 팀원들과 많은 의견을 나누고 자료를 조사하여 기어박스를 탈부착 방식으로 새롭게 설계하기로 하였습니다. 결국 대회에서 기존 기록을 4초 이상 앞당기며 준우승을 차지하기도 하였습니다.\\n\\n‘외로움이란 스스로 자존하기 위한 방식에서 생겨나는 것이다’라는 말이 있습니다. 혼자 있는 시간을 얼마나 잘 다스리느냐가 결국 그 사람을 빛나게 합니다. 외로움은 분명 저를 괴롭게 했습니다. 하지만 혼자만의 시간은 나에 대한 고민으로 내가 진짜 잘 할 수 있는 게 무엇인지 생각할 수 있게 했고, 또한 그 고민들로부터 사람들 속에서 공동의 목표를 위해 노력하며 유대감을 키우는 원동력이었습니다.\\n글자수 989자   |   2417Byte\\n접기',\n",
       " '2017년 하반기 현대제철 합격자 자기소개서 01 지원분야 | 연구·실험·기술': '1. 본인 성격의 장단점을 자신의 성장과정과 경험을 기반으로 서술하여 주십시오.(600자)\\n“긍정적인 사람은 한계가 없지만, 부정적인 사람은 한 게 없다.”\\n\\n저는 주어진 업무에 불평보다는 긍정적인 사고를 지향합니다. 시뮬레이션을 하다 보면, 고려해야 하는 요인이 많아 수차례 다시 모형을 돌리는 일이 많았습니다. 최소 48시간이 소요되는 모형 시뮬레이션과 결과값 분석을 모두 다시 해야 했기 때문에 밤을 새우는 일이 잦은 작업이었습니다. 하지만, 상황을 불평하고 힘들어하기보다는 ‘늦기 전에 오류를 알게 되어 다행이다.’고 생각하며 빠르게 현실을 받아들이고 연구에 임했습니다. 이런 자세로 오류를 극복하다 보니, 마감 시간 내에 모형분석을 모두 해낼 수 있었습니다. 그 결과, 모형분석을 바탕으로, 우수논문상의 영광까지 얻을 수 있었습니다. 반면, 무엇이든 적극적으로 나서서 행동하여 일을 벌여놓는 단점이 있습니다. 이를 극복하기 위해 고등학교 2학년 때부터 현재까지 연, 월, 일주일 단위로 To do list 작성을 습관화하여, 일의 우선순위를 매겨가며 체계적으로 일을 처리하려고 노력하고 있습니다. 아침에 일어나면 오늘 해야 하는 일을 작성하고, 업무의 중요도 순위에 따라 해당 업무에 할애할 시간까지 분배해 하루 계획을 세우고 있습니다.\\n글자수 590자   |   1430Byte\\n접기',\n",
       " '2017년 하반기 현대제철 합격자 자기소개서 02 지원분야 | 연구·실험·기술': '1. 본인 성격의 장단점을 자신의 성장과정과 경험을 기반으로 서술하여 주십시오. [ 100자 이상 600자 이내 ]\\n[강한 책임감과 느린 결단력]\\n제 성격의 장점과 단점은 강한 책임감과 느린 결단력입니다.\\n우선, 외국인 교환학생 교류단체에서 장점인 강한 책임감을 바탕으로 참여한 결과 다음 기수 회장으로 추천된 경험이 있습니다. 단체의 일원으로서 외국인 교환학생들에게 문제가 있을 때마다 도와주기로 결심하였습니다. 모든 활동에 참가하며, 교내 시설 이용 등 문제가 있을 때마다 해결해주기 위해 나섰습니다. 그 결과 봉사시간 169시간으로 단체 내 1등을 하였고, 다음 기수 회장으로 추천되었습니다. 이를 통해 강한 책임감은 우수한 성과를 내기 위한 기초라는 것을 배웠습니다.\\n단점인 결정이 느린 점을 부회장, 팀장들과 함께 고민하여 빠른 결단을 내렸던 경험이 있습니다. 외국인 학생들과 마트에 가기 위해 시내버스를 타야 했지만, 약 150명의 학생들이 함께 이동하기에 무리가 있었습니다. 인원을 나눠 보낼 것인지, 모두가 근처 작은 마트로 갈 것인지 고민하면서 결정이 느려졌습니다. 이때 부회장, 팀장들과 함께 고민을 하면서 인원을 나누는 것으로 결단을 내리고 인원 배정까지 할 수 있었습니다. 이를 통해 타인과 함께 문제를 해결하면 더욱 빠른 결단을 내릴 수 있다는 것을 배웠습니다.\\n글자수 598자   |   1454Byte\\n접기',\n",
       " '2017년 하반기 현대제철 합격자 자기소개서 03 지원분야 | 연구·실험·기술': '1. 본인 성격의 장단점을 자신의 성장과정과 경험을 기반으로 서술하여 주십시오. [ 100자 이상 600자 이내 ]\\n[자기자신에게 부끄럽지 않은 사람이 되자]\\n학부시절 레포트를 베껴 좋은 성적을 받은 적이 있습니다. 열심히 했지만 점수가 좋지 않은 친구들을 보며 부끄러웠습니다. 결국 교수님께 말씀드리고 재수강을 해야 되는 점수를 받았습니다. 이후 제 자신에게 부끄럽지 않은 사람이 되기 위하여 정직하게 될 수 있도록 항상 맡은 일에 책임을 다하였습니다.\\n석사 과정동안 OO와의 과제 보고 준비 중 실수를 발견했습니다. 선배는 실수를 숨기고 다음 실험 계획을 수정하자고 하였지만, 숨기는 부분이 있으면 의심과 오해가 생길 수 있다고 생각하였습니다. 그래서 실수한 부분에 대해 OO에 사과드리고 바로 다시 실험을 하여 월간 실험계획에는 차질이 없도록 하였습니다. 이후 OO에서는 저와 연구실을 더 신뢰하게 되었고 결과에 대해 의심하기 보단 해결방안을 논의하게 되었습니다. 그 결과 연구에 속도를 낼 수 있었고 목표를 조기달성하게 되었습니다.\\n정직함은 신뢰를 쌓이게 하고 서로 소통하여 협력할 수 있도록 하는 힘이 있습니다. 현대제철에 입사해서도 정직하게 제가 맡은 역할을 책임지고 수행하며 숨기는 것 없이 소통하여 동료와 협력하여 시너지효과를 낼 수 있도록 하겠습니다.\\n글자수 592자   |   1446Byte\\n접기',\n",
       " '인바디 2017 하반기 합격 자소서 지원분야 | 공통': '1. 자신이 가지고 있는 기술력 혹은 열정을 보여줄 수 있는 경험을 구체적으로 서술해 주세요. 작성 시 자신이 주도적으로 참여한 부분을 위주로 1)진행 기간, 2)자신이 공헌한 점, 3)사용 skill 및 지식, 4)성과 및 결과에 대하여 구체적으로 작성해 주세요. (최대 1,000자 입력가능)\\n리더의 책임감과 학과의 1년을 잘 경영해야겠다는 열정으로 문제점을 파악하고 방안을 마련한 경험이 있습니다. 이 때 대다수의 구성원들을 설득 했던 과정이 기억에 많이 남습니다.\\n\\n[생각을 뒤집어라]\\n\\n대학교 때 학과 회장 직책을 맡아 주도적으로 학교 축제를 기획하였습니다. 물품 구입, 인력배정 등의 준비가 필요해 한 달 정도 준비기간이 필요하였습니다. 이때 가장 고민이 되었던 부분은 주점운영 방안이었습니다. 당시 과가 개설 된지 얼마 되지 않아 졸업한 선배가 없어 손님이 많지 않아 적자의 위험성이 컸습니다. 또한 인문대 특성상 과 인원이 많지 않아 주점에 가용할 인원이 부족했습니다. 학생회에서 치열한 토론을 벌였으나 좋은 방안이 나오지 않았습니다.\\n\\n그 때 저는 ‘굳이 주점을 해야 하나’라는 생각이 들었습니다. 적자를 볼 확률이 높고 인원도 부족하다면 차라리 주점을 하지 말고 낮에 소시지 등 길거리 음식을 팔자는 의견을 내었습니다. 그러자 다른 학우들이 다른 과들을 보았을 때 모두 관행적으로 주점을 열어왔으며 ‘축제의 꽃은 주점’이라며 반대를 하였습니다. 그러나 적자가 나면 학생회비에서 충당해야 하며 향후 남은 학기 일정에 차질이 생길 수 있었습니다.\\n\\n[설득의 방법]\\n\\n설득을 위해선 논리적이고 구체적인 방안 제시가 필요하였습니다. 주점을 할 경우 예상되는 손실의 규모와 축제 이후 남은 일정에 필요한 비용이 얼마인지 계산해보았습니다. 한편으론 길거리 음식 파는 방안의 경우 얻을 수 있는 이익 규모와 이 이익을 고스란히 학생들에게 돌려주는 방안을 제시하였습니다. 구체적인 내용의 방안을 보여주고 설득을 하니 쉽게 주위 사람들의 수긍을 얻었습니다..\\n\\n[달콤한 성]\\n\\n결과는 대성공이었습니다. 축제 기간 3일 동안 오후에 축제 구경을 하는 사람들에게 음식을 팔아 순이익 70만원 여를 달성하였습니다. 밤에는 낮에 번 돈으로 학우들끼리 축제를 즐겼습니다. 과 인원 모두 만족하였고 저의 제안은 신의 한 수가 되었습니다.\\n글자수 987자   |   2383Byte\\n접기'}"
      ]
     },
     "execution_count": 138,
     "metadata": {},
     "output_type": "execute_result"
    }
   ],
   "source": [
    "dictContents"
   ]
  },
  {
   "cell_type": "code",
   "execution_count": 142,
   "metadata": {},
   "outputs": [
    {
     "ename": "UnicodeEncodeError",
     "evalue": "'cp949' codec can't encode character '\\u2013' in position 57: illegal multibyte sequence",
     "output_type": "error",
     "traceback": [
      "\u001b[1;31m---------------------------------------------------------------------------\u001b[0m",
      "\u001b[1;31mUnicodeEncodeError\u001b[0m                        Traceback (most recent call last)",
      "\u001b[1;32m<ipython-input-142-67504124e1d2>\u001b[0m in \u001b[0;36m<module>\u001b[1;34m()\u001b[0m\n\u001b[0;32m      2\u001b[0m     \u001b[0mwriter\u001b[0m \u001b[1;33m=\u001b[0m \u001b[0mcsv\u001b[0m\u001b[1;33m.\u001b[0m\u001b[0mwriter\u001b[0m\u001b[1;33m(\u001b[0m\u001b[0mcsv_file\u001b[0m\u001b[1;33m)\u001b[0m\u001b[1;33m\u001b[0m\u001b[0m\n\u001b[0;32m      3\u001b[0m     \u001b[1;32mfor\u001b[0m \u001b[0mkey\u001b[0m\u001b[1;33m,\u001b[0m \u001b[0mvalue\u001b[0m \u001b[1;32min\u001b[0m \u001b[0mdictContents\u001b[0m\u001b[1;33m.\u001b[0m\u001b[0mitems\u001b[0m\u001b[1;33m(\u001b[0m\u001b[1;33m)\u001b[0m\u001b[1;33m:\u001b[0m\u001b[1;33m\u001b[0m\u001b[0m\n\u001b[1;32m----> 4\u001b[1;33m         \u001b[0mwriter\u001b[0m\u001b[1;33m.\u001b[0m\u001b[0mwriterow\u001b[0m\u001b[1;33m(\u001b[0m\u001b[1;33m[\u001b[0m\u001b[0mkey\u001b[0m\u001b[1;33m,\u001b[0m \u001b[0mvalue\u001b[0m\u001b[1;33m]\u001b[0m\u001b[1;33m)\u001b[0m\u001b[1;33m\u001b[0m\u001b[0m\n\u001b[0m",
      "\u001b[1;31mUnicodeEncodeError\u001b[0m: 'cp949' codec can't encode character '\\u2013' in position 57: illegal multibyte sequence"
     ]
    }
   ],
   "source": [
    "with open('data/passContents.csv', 'w', newline='', encoding='cp949') as csv_file:\n",
    "    writer = csv.writer(csv_file)\n",
    "    for key, value in dictContents.items():\n",
    "        writer.writerow([key, value])"
   ]
  },
  {
   "cell_type": "code",
   "execution_count": null,
   "metadata": {
    "collapsed": true
   },
   "outputs": [],
   "source": []
  },
  {
   "cell_type": "code",
   "execution_count": null,
   "metadata": {
    "collapsed": true
   },
   "outputs": [],
   "source": []
  },
  {
   "cell_type": "code",
   "execution_count": null,
   "metadata": {
    "collapsed": true
   },
   "outputs": [],
   "source": [
    "# dictContents= dict([])\n",
    "\n",
    "# for i, (toJob, link) in enumerate(dickLinksRead.items()):\n",
    "#     #if (0== i) | (1==i):\n",
    "#     #print(i, toJob, link)\n",
    "#     movePageLink(link)\n",
    "#     selfintro= getContent()\n",
    "#     dictContents[toJob]= selfintro\n",
    "    "
   ]
  },
  {
   "cell_type": "markdown",
   "metadata": {},
   "source": [
    "#### 확인- 432개 건너뜀 혹은 중복"
   ]
  },
  {
   "cell_type": "code",
   "execution_count": 52,
   "metadata": {},
   "outputs": [
    {
     "name": "stdout",
     "output_type": "stream",
     "text": [
      "6306\n",
      "6306\n"
     ]
    }
   ],
   "source": [
    "print(len(dictSaveLink))\n",
    "print(len(dictLinks))"
   ]
  },
  {
   "cell_type": "markdown",
   "metadata": {},
   "source": [
    "- [dictionary to JSON](https://stackoverflow.com/questions/7100125/storing-python-dictionaries?utm_medium=organic&utm_source=google_rich_qa&utm_campaign=google_rich_qa)"
   ]
  },
  {
   "cell_type": "code",
   "execution_count": 63,
   "metadata": {
    "collapsed": true
   },
   "outputs": [],
   "source": [
    "# import json\n",
    "\n",
    "# with open('data/passLink.json', 'w', encoding='cp949') as fp:\n",
    "#     json.dump(dictLinks, fp)"
   ]
  },
  {
   "cell_type": "code",
   "execution_count": 64,
   "metadata": {
    "collapsed": true
   },
   "outputs": [],
   "source": [
    "# for i, (key, value) in enumerate(dictLinks.items()):\n",
    "#     print(i,key,value)"
   ]
  }
 ],
 "metadata": {
  "kernelspec": {
   "display_name": "Python 3",
   "language": "python",
   "name": "python3"
  },
  "language_info": {
   "codemirror_mode": {
    "name": "ipython",
    "version": 3
   },
   "file_extension": ".py",
   "mimetype": "text/x-python",
   "name": "python",
   "nbconvert_exporter": "python",
   "pygments_lexer": "ipython3",
   "version": "3.6.3"
  }
 },
 "nbformat": 4,
 "nbformat_minor": 2
}
