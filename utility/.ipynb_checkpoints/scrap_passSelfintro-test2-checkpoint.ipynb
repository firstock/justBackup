{
 "cells": [
  {
   "cell_type": "markdown",
   "metadata": {},
   "source": [
    "### 타깃\n",
    "- 사람인 합소서 http://www.saramin.co.kr/zf_user/public-recruit/coverletter-list/page/337?company_nm=\n",
    "    - 337페이지. 1~336_20개씩, 337_18개. 총 6738개\n",
    "- 시작안함. 잡코리아 합소서 http://www.jobkorea.co.kr/starter/passassay/"
   ]
  },
  {
   "cell_type": "markdown",
   "metadata": {},
   "source": [
    "#### Ref\n",
    "[selenium attribute](https://stackoverflow.com/questions/30324760/how-to-get-attribute-of-element-from-selenium?utm_medium=organic&utm_source=google_rich_qa&utm_campaign=google_rich_qa)"
   ]
  },
  {
   "cell_type": "code",
   "execution_count": 3,
   "metadata": {
    "collapsed": true
   },
   "outputs": [],
   "source": [
    "# coding: utf-8\n",
    "from selenium import webdriver\n",
    "from selenium.webdriver.common.by import By\n",
    "from selenium.webdriver.common.keys import Keys\n",
    "\n",
    "from selenium.webdriver.support.ui import WebDriverWait\n",
    "from selenium.webdriver.support import expected_conditions as EC\n",
    "\n",
    "import os.path\n",
    "from os import rename\n",
    "from os import listdir\n",
    "\n",
    "import time\n",
    "\n",
    "import csv"
   ]
  },
  {
   "cell_type": "code",
   "execution_count": 4,
   "metadata": {
    "collapsed": true
   },
   "outputs": [],
   "source": [
    "# 인자: 여러개 동시에 띄울걸 감안해서?\n",
    "def startWeb(numPage=1):\n",
    "    \"\"\"\n",
    "    @return driver\n",
    "    \"\"\"\n",
    "    driver= webdriver.Chrome('lib/chromedriver.exe')\n",
    "    url= \"http://www.saramin.co.kr/zf_user/public-recruit/coverletter-list/page/\"+str(numPage)+\"?company_nm=\"\n",
    "    driver.get(url)\n",
    "    \n",
    "    return driver"
   ]
  },
  {
   "cell_type": "markdown",
   "metadata": {},
   "source": [
    "#### 링크 얻기"
   ]
  },
  {
   "cell_type": "code",
   "execution_count": 5,
   "metadata": {
    "collapsed": true
   },
   "outputs": [],
   "source": [
    "def movePage(numPage):\n",
    "    url= \"http://www.saramin.co.kr/zf_user/public-recruit/coverletter-list/page/\"+str(numPage)+\"?company_nm=\"\n",
    "    driver.get(url)\n",
    "    try:\n",
    "        element= WebDriverWait(driver, 10).until(\n",
    "            # is coming a content?\n",
    "            EC.presence_of_element_located((By.XPATH, '//h2'))\n",
    "        )\n",
    "    except Exception as e:\n",
    "        print('error',e)"
   ]
  },
  {
   "cell_type": "code",
   "execution_count": 6,
   "metadata": {
    "collapsed": true
   },
   "outputs": [],
   "source": [
    "def saveLink(dict_pass):\n",
    "    elements= driver.find_elements_by_xpath('//h2')\n",
    "    #dict_pass= dict([])\n",
    "    for element in elements:\n",
    "        dict_pass[element.text]= element.find_element_by_xpath('a').get_attribute('href')\n",
    "        #print(i, element.text)\n",
    "        #print(element.find_element_by_xpath('a').get_attribute('href'))\n",
    "    return dict_pass"
   ]
  },
  {
   "cell_type": "markdown",
   "metadata": {},
   "source": [
    "#### 각 링크의 내용"
   ]
  },
  {
   "cell_type": "code",
   "execution_count": 7,
   "metadata": {
    "collapsed": true
   },
   "outputs": [],
   "source": [
    "def movePageLink(link):\n",
    "    driver.get(link)\n",
    "    try:\n",
    "        element= WebDriverWait(driver, 10).until(\n",
    "            # is coming a content?\n",
    "            EC.presence_of_element_located((By.XPATH, '//li'))\n",
    "        )\n",
    "    except Exception as e:\n",
    "        print('error',e)"
   ]
  },
  {
   "cell_type": "code",
   "execution_count": 18,
   "metadata": {
    "collapsed": true
   },
   "outputs": [],
   "source": [
    "def getContent():\n",
    "    \"\"\"\n",
    "    @return element_txt, element_duty\n",
    "    \"\"\"\n",
    "    element_txt= driver.find_element_by_xpath('//div[@class=\"box_ty3\"]').text\n",
    "    element_duty= driver.find_element_by_xpath('//span[@class=\"tag_apply\"]').text\n",
    "    return element_txt, element_duty"
   ]
  },
  {
   "cell_type": "markdown",
   "metadata": {},
   "source": [
    "###### 세션 종료, 자원반납"
   ]
  },
  {
   "cell_type": "code",
   "execution_count": 11,
   "metadata": {
    "collapsed": true
   },
   "outputs": [],
   "source": [
    "# driver.close()\n",
    "# driver.quit()"
   ]
  },
  {
   "cell_type": "markdown",
   "metadata": {},
   "source": [
    "### 실행_한줄test"
   ]
  },
  {
   "cell_type": "code",
   "execution_count": 9,
   "metadata": {
    "collapsed": true
   },
   "outputs": [],
   "source": [
    "driver= startWeb()"
   ]
  },
  {
   "cell_type": "code",
   "execution_count": 71,
   "metadata": {
    "collapsed": true
   },
   "outputs": [],
   "source": [
    "numPage= 1\n",
    "movePage(numPage)"
   ]
  },
  {
   "cell_type": "code",
   "execution_count": 15,
   "metadata": {
    "collapsed": true,
    "scrolled": true
   },
   "outputs": [],
   "source": [
    "dict_pass= dict([])\n",
    "dictLinks_te= saveLink(dict_pass)\n",
    "print(len(dictLinks_te))\n",
    "dictLinks_te"
   ]
  },
  {
   "cell_type": "markdown",
   "metadata": {},
   "source": [
    "## 실행- 링크얻기_완료"
   ]
  },
  {
   "cell_type": "code",
   "execution_count": 50,
   "metadata": {
    "scrolled": false
   },
   "outputs": [
    {
     "name": "stdout",
     "output_type": "stream",
     "text": [
      "337\n"
     ]
    }
   ],
   "source": [
    "# numPages= range(1,338)\n",
    "# dictLinks= dict([])\n",
    "\n",
    "# for numPage in numPages:\n",
    "#     print(numPage)\n",
    "#     movePage(numPage)\n",
    "#     dictLinks= saveLink(dictLinks)\n",
    " \n",
    "# dictLinks\n",
    "\n",
    "# driver.close()\n",
    "# driver.quit()"
   ]
  },
  {
   "cell_type": "markdown",
   "metadata": {},
   "source": [
    "### 저장\n",
    "- [dictionary to csv](https://stackoverflow.com/questions/8685809/python-writing-a-dictionary-to-a-csv-file-with-one-line-for-every-key-value?utm_medium=organic&utm_source=google_rich_qa&utm_campaign=google_rich_qa)\n",
    "    - [writerow one line feed](https://stackoverflow.com/questions/3191528/csv-in-python-adding-an-extra-carriage-return?utm_medium=organic&utm_source=google_rich_qa&utm_campaign=google_rich_qa)\n",
    "- [dictionary to JSON](https://stackoverflow.com/questions/7100125/storing-python-dictionaries?utm_medium=organic&utm_source=google_rich_qa&utm_campaign=google_rich_qa)"
   ]
  },
  {
   "cell_type": "code",
   "execution_count": 63,
   "metadata": {
    "collapsed": true
   },
   "outputs": [],
   "source": [
    "# import json\n",
    "\n",
    "# with open('data/passLink.json', 'w', encoding='cp949') as fp:\n",
    "#     json.dump(dictLinks, fp)"
   ]
  },
  {
   "cell_type": "code",
   "execution_count": 64,
   "metadata": {
    "collapsed": true
   },
   "outputs": [],
   "source": [
    "# for i, (key, value) in enumerate(dictLinks.items()):\n",
    "#     print(i,key,value)"
   ]
  },
  {
   "cell_type": "markdown",
   "metadata": {},
   "source": [
    "###### 저장 성공"
   ]
  },
  {
   "cell_type": "code",
   "execution_count": 65,
   "metadata": {
    "collapsed": true
   },
   "outputs": [],
   "source": [
    "# with open('data/passLink.csv', 'w', newline='') as csv_file:\n",
    "#     writer = csv.writer(csv_file)\n",
    "#     for key, value in dictLinks.items():\n",
    "#         writer.writerow([key, value])"
   ]
  },
  {
   "cell_type": "markdown",
   "metadata": {},
   "source": [
    "### 읽기"
   ]
  },
  {
   "cell_type": "code",
   "execution_count": 10,
   "metadata": {},
   "outputs": [],
   "source": [
    "with open('data/passLink.csv', 'r') as csv_file:\n",
    "    reader = csv.reader(csv_file)\n",
    "    dickLinksRead = dict(reader)"
   ]
  },
  {
   "cell_type": "code",
   "execution_count": 13,
   "metadata": {},
   "outputs": [
    {
     "data": {
      "text/plain": [
       "6306"
      ]
     },
     "execution_count": 13,
     "metadata": {},
     "output_type": "execute_result"
    }
   ],
   "source": [
    "len(dickLinksRead)"
   ]
  },
  {
   "cell_type": "markdown",
   "metadata": {},
   "source": [
    "### 실행- 내용얻기_test"
   ]
  },
  {
   "cell_type": "code",
   "execution_count": 86,
   "metadata": {
    "collapsed": true
   },
   "outputs": [],
   "source": [
    "driver= startWeb()"
   ]
  },
  {
   "cell_type": "markdown",
   "metadata": {},
   "source": [
    "#### 링크에서 각 값 따오기-> dict에 넣기\n",
    "빨리보려고 1개만 보느라 if 0==i 한 거고, 저거 없애고 print 없애고 들여쓰기해서, 딕셔너리에 {toJob: selfintro} 형식으로 위에코드 참고해가면서 저장하면 되는데"
   ]
  },
  {
   "cell_type": "code",
   "execution_count": 20,
   "metadata": {},
   "outputs": [
    {
     "name": "stdout",
     "output_type": "stream",
     "text": [
      "0\n"
     ]
    },
    {
     "data": {
      "text/plain": [
       "{'인바디 2017 하반기 합격 자소서 지원분야 | 공통': '1. 자신이 가지고 있는 기술력 혹은 열정을 보여줄 수 있는 경험을 구체적으로 서술해 주세요. 작성 시 자신이 주도적으로 참여한 부분을 위주로 1)진행 기간, 2)자신이 공헌한 점, 3)사용 skill 및 지식, 4)성과 및 결과에 대하여 구체적으로 작성해 주세요. (최대 1,000자 입력가능)\\n리더의 책임감과 학과의 1년을 잘 경영해야겠다는 열정으로 문제점을 파악하고 방안을 마련한 경험이 있습니다. 이 때 대다수의 구성원들을 설득 했던 과정이 기억에 많이 남습니다.\\n\\n[생각을 뒤집어라]\\n\\n대학교 때 학과 회장 직책을 맡아 주도적으로 학교 축제를 기획하였습니다. 물품 구입, 인력배정 등의 준비가 필요해 한 달 정도 준비기간이 필요하였습니다. 이때 가장 고민이 되었던 부분은 주점운영 방안이었습니다. 당시 과가 개설 된지 얼마 되지 않아 졸업한 선배가 없어 손님이 많지 않아 적자의 위험성이 컸습니다. 또한 인문대 특성상 과 인원이 많지 않아 주점에 가용할 인원이 부족했습니다. 학생회에서 치열한 토론을 벌였으나 좋은 방안이 나오지 않았습니다.\\n\\n그 때 저는 ‘굳이 주점을 해야 하나’라는 생각이 들었습니다. 적자를 볼 확률이 높고 인원도 부족하다면 차라리 주점을 하지 말고 낮에 소시지 등 길거리 음식을 팔자는 의견을 내었습니다. 그러자 다른 학우들이 다른 과들을 보았을 때 모두 관행적으로 주점을 열어왔으며 ‘축제의 꽃은 주점’이라며 반대를 하였습니다. 그러나 적자가 나면 학생회비에서 충당해야 하며 향후 남은 학기 일정에 차질이 생길 수 있었습니다.\\n\\n[설득의 방법]\\n\\n설득을 위해선 논리적이고 구체적인 방안 제시가 필요하였습니다. 주점을 할 경우 예상되는 손실의 규모와 축제 이후 남은 일정에 필요한 비용이 얼마인지 계산해보았습니다. 한편으론 길거리 음식 파는 방안의 경우 얻을 수 있는 이익 규모와 이 이익을 고스란히 학생들에게 돌려주는 방안을 제시하였습니다. 구체적인 내용의 방안을 보여주고 설득을 하니 쉽게 주위 사람들의 수긍을 얻었습니다..\\n\\n[달콤한 성]\\n\\n결과는 대성공이었습니다. 축제 기간 3일 동안 오후에 축제 구경을 하는 사람들에게 음식을 팔아 순이익 70만원 여를 달성하였습니다. 밤에는 낮에 번 돈으로 학우들끼리 축제를 즐겼습니다. 과 인원 모두 만족하였고 저의 제안은 신의 한 수가 되었습니다.\\n글자수 987자   |   2383Byte\\n접기'}"
      ]
     },
     "execution_count": 20,
     "metadata": {},
     "output_type": "execute_result"
    }
   ],
   "source": [
    "dictContents= dict([])\n",
    "\n",
    "for i, (toJob, link) in enumerate(dickLinksRead.items()):\n",
    "    if (0== i):# | (1==i):\n",
    "        print(i)#, toJob, link)\n",
    "        movePageLink(link)\n",
    "        selfintro, duty= getContent()\n",
    "        dictContents[toJob+' '+duty]= selfintro\n",
    "dictContents"
   ]
  },
  {
   "cell_type": "code",
   "execution_count": 99,
   "metadata": {},
   "outputs": [
    {
     "data": {
      "text/plain": [
       "{'2017년 하반기 BGF리테일 합격자 자기소개서 01': '1. BGF리테일에 지원하게 된 동기와 입사 후 포부에 대하여 기술하시오.\\n[미래 가능성]\\n편의점은 더이상 단순한 슈퍼가 아닙니다. 현재 편의점은 각종 음식과 생필품 등을 제공하는 등 국민의 삶에 큰 편의를 제공하고 있습니다. 또한 편의점은 변화하는 라이프스타일의 변화에 발맞춰 여러 가지 시도를 할 수 있는 무궁무진한 가능성을 가진 산업이라고 생각합니다, BGF리테일에 입사하여 수많은 가능성을 실현시키며 BGF와 함께 성장하고 싶어 지원하게 되었습니다.\\n[SC로의 꿈]\\n저의 첫 아르바이트는 편의점이었습니다. 마케팅적 지식이 전혀 없었던 당시에 저는 당연히 기존에 인기 있던 제품은 잘 팔리고 기존부터 인기가 없던 제품은 잘 팔리지 않을 것으로 생각했습니다. 그런데 물품의 인기만이 판매량을 좌지우지하는 것은 아니라는 것을 깨닫게 되었습니다. 잘 팔리지 않는 물품을 눈높이에 딱 맞는 진열대에 올려놓으니 인기 상품 못지않게 팔려나가는 것을 보고 충격을 받았습니다. 또한, SC의 능력이 점포의 매출에 큰 영향을 끼칠 수 있다는 생각과 함께 영업의 매력을 알게 되었습니다.\\n[입사 후 계획]\\n초년기에는 선배 직원분들을 관찰하고 조언을 구하여 효율적인 점포 운영 노하우를 배우고 직접적인 점포 운영을 통해 저만의 노하우를 만들어 낼 것입니다. 이후에는 점포 운영 경험을 기반으로 가맹주님들의 효율적인 점포 운영을 위해 조언을 드리고 가맹주님들과 소비자들의 목소리에 귀를 기울이며 상생을 추구하는 BGF리테일의 이념을 실천할 것입니다. 그 후에는 점주님들에게 선호도 1위의 SC가 되겠습니다. 많은 점주분들이 초기에 어려움을 겪는다고 들었습니다. 저는 저만의 업무일지를 쓸 계획입니다. 사고 발생 경위와 해결 과정 등을 적어 놓고, 점주님들이 어려워하실 때마다 업무일지를 보며 조언해주는 그런 SC가 되겠습니다.\\n글자수 863자   |   2099Byte\\n접기',\n",
       " '인바디 2017 하반기 합격 자소서': '1. 자신이 가지고 있는 기술력 혹은 열정을 보여줄 수 있는 경험을 구체적으로 서술해 주세요. 작성 시 자신이 주도적으로 참여한 부분을 위주로 1)진행 기간, 2)자신이 공헌한 점, 3)사용 skill 및 지식, 4)성과 및 결과에 대하여 구체적으로 작성해 주세요. (최대 1,000자 입력가능)\\n리더의 책임감과 학과의 1년을 잘 경영해야겠다는 열정으로 문제점을 파악하고 방안을 마련한 경험이 있습니다. 이 때 대다수의 구성원들을 설득 했던 과정이 기억에 많이 남습니다.\\n\\n[생각을 뒤집어라]\\n\\n대학교 때 학과 회장 직책을 맡아 주도적으로 학교 축제를 기획하였습니다. 물품 구입, 인력배정 등의 준비가 필요해 한 달 정도 준비기간이 필요하였습니다. 이때 가장 고민이 되었던 부분은 주점운영 방안이었습니다. 당시 과가 개설 된지 얼마 되지 않아 졸업한 선배가 없어 손님이 많지 않아 적자의 위험성이 컸습니다. 또한 인문대 특성상 과 인원이 많지 않아 주점에 가용할 인원이 부족했습니다. 학생회에서 치열한 토론을 벌였으나 좋은 방안이 나오지 않았습니다.\\n\\n그 때 저는 ‘굳이 주점을 해야 하나’라는 생각이 들었습니다. 적자를 볼 확률이 높고 인원도 부족하다면 차라리 주점을 하지 말고 낮에 소시지 등 길거리 음식을 팔자는 의견을 내었습니다. 그러자 다른 학우들이 다른 과들을 보았을 때 모두 관행적으로 주점을 열어왔으며 ‘축제의 꽃은 주점’이라며 반대를 하였습니다. 그러나 적자가 나면 학생회비에서 충당해야 하며 향후 남은 학기 일정에 차질이 생길 수 있었습니다.\\n\\n[설득의 방법]\\n\\n설득을 위해선 논리적이고 구체적인 방안 제시가 필요하였습니다. 주점을 할 경우 예상되는 손실의 규모와 축제 이후 남은 일정에 필요한 비용이 얼마인지 계산해보았습니다. 한편으론 길거리 음식 파는 방안의 경우 얻을 수 있는 이익 규모와 이 이익을 고스란히 학생들에게 돌려주는 방안을 제시하였습니다. 구체적인 내용의 방안을 보여주고 설득을 하니 쉽게 주위 사람들의 수긍을 얻었습니다..\\n\\n[달콤한 성]\\n\\n결과는 대성공이었습니다. 축제 기간 3일 동안 오후에 축제 구경을 하는 사람들에게 음식을 팔아 순이익 70만원 여를 달성하였습니다. 밤에는 낮에 번 돈으로 학우들끼리 축제를 즐겼습니다. 과 인원 모두 만족하였고 저의 제안은 신의 한 수가 되었습니다.\\n글자수 987자   |   2383Byte\\n접기'}"
      ]
     },
     "execution_count": 99,
     "metadata": {},
     "output_type": "execute_result"
    }
   ],
   "source": [
    "dictContents"
   ]
  },
  {
   "cell_type": "code",
   "execution_count": null,
   "metadata": {
    "collapsed": true
   },
   "outputs": [],
   "source": []
  },
  {
   "cell_type": "code",
   "execution_count": null,
   "metadata": {
    "collapsed": true
   },
   "outputs": [],
   "source": []
  },
  {
   "cell_type": "code",
   "execution_count": null,
   "metadata": {
    "collapsed": true
   },
   "outputs": [],
   "source": []
  },
  {
   "cell_type": "code",
   "execution_count": null,
   "metadata": {
    "collapsed": true
   },
   "outputs": [],
   "source": []
  },
  {
   "cell_type": "markdown",
   "metadata": {},
   "source": [
    "#### 확인- 432개 건너뜀 혹은 중복"
   ]
  },
  {
   "cell_type": "code",
   "execution_count": 52,
   "metadata": {},
   "outputs": [
    {
     "name": "stdout",
     "output_type": "stream",
     "text": [
      "6306\n",
      "6306\n"
     ]
    }
   ],
   "source": [
    "print(len(dictSaveLink))\n",
    "print(len(dictLinks))"
   ]
  }
 ],
 "metadata": {
  "kernelspec": {
   "display_name": "Python 3",
   "language": "python",
   "name": "python3"
  },
  "language_info": {
   "codemirror_mode": {
    "name": "ipython",
    "version": 3
   },
   "file_extension": ".py",
   "mimetype": "text/x-python",
   "name": "python",
   "nbconvert_exporter": "python",
   "pygments_lexer": "ipython3",
   "version": "3.6.3"
  }
 },
 "nbformat": 4,
 "nbformat_minor": 2
}
