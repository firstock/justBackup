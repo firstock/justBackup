{
 "cells": [
  {
   "cell_type": "markdown",
   "metadata": {},
   "source": [
    "### ref"
   ]
  },
  {
   "cell_type": "markdown",
   "metadata": {},
   "source": [
    "- [import image python](http://pythonstudy.xyz/python/article/406-%ED%8C%8C%EC%9D%B4%EC%8D%AC-%EC%9D%B4%EB%AF%B8%EC%A7%80-%EC%B2%98%EB%A6%AC) 기 설치_pip install Pillow\n",
    "- [필터링: cannot filter palette images imagefilter](https://stackoverflow.com/questions/43267807/valueerror-cannot-filter-palette-images-during-pytesseract-conversion?utm_medium=organic&utm_source=google_rich_qa&utm_campaign=google_rich_qa) im.convert('RGB') 한것만 filter 가능\n",
    "- [API: ImageFilter pillow](http://pillow.readthedocs.io/en/5.1.x/reference/ImageFilter.html)"
   ]
  },
  {
   "cell_type": "code",
   "execution_count": 4,
   "metadata": {
    "collapsed": true
   },
   "outputs": [],
   "source": [
    "from PIL import Image"
   ]
  },
  {
   "cell_type": "markdown",
   "metadata": {},
   "source": [
    "### image 기능 연습"
   ]
  },
  {
   "cell_type": "code",
   "execution_count": 6,
   "metadata": {
    "collapsed": true
   },
   "outputs": [],
   "source": [
    "im= Image.open('data/encoded_sample.png')"
   ]
  },
  {
   "cell_type": "code",
   "execution_count": 7,
   "metadata": {},
   "outputs": [
    {
     "data": {
      "text/plain": [
       "(400, 351)"
      ]
     },
     "execution_count": 7,
     "metadata": {},
     "output_type": "execute_result"
    }
   ],
   "source": [
    "im.size"
   ]
  },
  {
   "cell_type": "code",
   "execution_count": 8,
   "metadata": {
    "collapsed": true
   },
   "outputs": [],
   "source": [
    "im.save('data/imgSample.png')"
   ]
  },
  {
   "cell_type": "code",
   "execution_count": null,
   "metadata": {
    "collapsed": true
   },
   "outputs": [],
   "source": [
    "im= Image.open('data/imgSample.png')"
   ]
  },
  {
   "cell_type": "markdown",
   "metadata": {},
   "source": [
    "크기작게. 썸네일\n",
    "- 원본 바뀜"
   ]
  },
  {
   "cell_type": "code",
   "execution_count": 12,
   "metadata": {
    "collapsed": true
   },
   "outputs": [],
   "source": [
    "size= (64,64)\n",
    "im.thumbnail(size)\n",
    "im.save('data/thumb_img.png')"
   ]
  },
  {
   "cell_type": "markdown",
   "metadata": {},
   "source": [
    "자르기"
   ]
  },
  {
   "cell_type": "code",
   "execution_count": 9,
   "metadata": {
    "collapsed": true
   },
   "outputs": [],
   "source": [
    "cropimg= im.crop((100,100,150,150))\n",
    "cropimg.save('data/cropimgSample.png')"
   ]
  },
  {
   "cell_type": "markdown",
   "metadata": {},
   "source": [
    "필터링"
   ]
  },
  {
   "cell_type": "code",
   "execution_count": 25,
   "metadata": {
    "collapsed": true
   },
   "outputs": [],
   "source": [
    "from PIL import ImageFilter"
   ]
  },
  {
   "cell_type": "code",
   "execution_count": 27,
   "metadata": {
    "collapsed": true
   },
   "outputs": [],
   "source": [
    "im= Image.open('data/imgSample.png')\n",
    "im= im.convert('RGB')\n",
    "blurimg= im.filter(ImageFilter.BLUR)\n",
    "blurimg.save('data/blurSample.png')"
   ]
  },
  {
   "cell_type": "markdown",
   "metadata": {},
   "source": [
    "## Steganography"
   ]
  },
  {
   "cell_type": "code",
   "execution_count": 48,
   "metadata": {
    "collapsed": true
   },
   "outputs": [],
   "source": [
    "def decode_img(file_loc= \"data/encoded_sample.png\"):\n",
    "    encoded_img= Image.open(file_loc)\n",
    "    red_channel= encoded_img.split()#[0]\n",
    "    print('encoded_img\\t',encoded_img) \n",
    "    print('encoded_img.split()',encoded_img.split()) \n",
    "    print('red_channel\\t',red_channel) \n",
    "    \n",
    "    x_size= encoded_img.size[0]\n",
    "    y_size= encoded_img.size[1]\n",
    "    print(x_size, y_size)\n",
    "    \n",
    "#     decoded_img= Image.new(\"RGB\", encoded_img.size)\n",
    "#     pixels= decoded_img.load()\n",
    "    \n",
    "#     for i in range(x_size):\n",
    "#         for j in range(y_size):\n",
    "#             pass\n",
    "#     decoded_img.save('data/decoded_img.png')"
   ]
  },
  {
   "cell_type": "code",
   "execution_count": 49,
   "metadata": {},
   "outputs": [
    {
     "name": "stdout",
     "output_type": "stream",
     "text": [
      "encoded_img\t <PIL.PngImagePlugin.PngImageFile image mode=P size=400x351 at 0x5E05AC8>\n",
      "encoded_img.split() (<PIL.Image.Image image mode=P size=400x351 at 0x5E05F60>,)\n",
      "red_channel\t (<PIL.Image.Image image mode=P size=400x351 at 0x5E05C18>,)\n",
      "400 351\n"
     ]
    }
   ],
   "source": [
    "decode_img()"
   ]
  }
 ],
 "metadata": {
  "kernelspec": {
   "display_name": "Python 3",
   "language": "python",
   "name": "python3"
  },
  "language_info": {
   "codemirror_mode": {
    "name": "ipython",
    "version": 3
   },
   "file_extension": ".py",
   "mimetype": "text/x-python",
   "name": "python",
   "nbconvert_exporter": "python",
   "pygments_lexer": "ipython3",
   "version": "3.6.3"
  }
 },
 "nbformat": 4,
 "nbformat_minor": 2
}
