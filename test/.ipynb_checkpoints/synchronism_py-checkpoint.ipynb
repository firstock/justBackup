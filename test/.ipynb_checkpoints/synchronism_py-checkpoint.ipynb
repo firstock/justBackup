{
 "cells": [
  {
   "cell_type": "markdown",
   "metadata": {},
   "source": [
    "### 책: 고성능 파이썬\n",
    "180427"
   ]
  },
  {
   "cell_type": "markdown",
   "metadata": {},
   "source": [
    "p227"
   ]
  },
  {
   "cell_type": "markdown",
   "metadata": {},
   "source": [
    "예제8-1 간단한 이벤트 루프\n",
    "- [Queue](https://stackoverflow.com/questions/33432426/importerror-no-module-named-queue?utm_medium=organic&utm_source=google_rich_qa&utm_campaign=google_rich_qa)\n",
    "- queue, Queue 패키지 ver3엔 없다"
   ]
  },
  {
   "cell_type": "code",
   "execution_count": 5,
   "metadata": {},
   "outputs": [],
   "source": [
    "from multiprocessing import Queue\n",
    "from functools import partial"
   ]
  },
  {
   "cell_type": "code",
   "execution_count": 6,
   "metadata": {},
   "outputs": [],
   "source": [
    "eventloop= None"
   ]
  },
  {
   "cell_type": "code",
   "execution_count": null,
   "metadata": {},
   "outputs": [],
   "source": [
    "class EventLoop(Queue):\n",
    "    def start(self):\n",
    "        while True:\n",
    "            function= self.get()\n",
    "            function()\n",
    "    "
   ]
  },
  {
   "cell_type": "code",
   "execution_count": 7,
   "metadata": {},
   "outputs": [],
   "source": [
    "def do_hello():\n",
    "    global eventloop\n",
    "    print(\"Hello\")\n",
    "    eventloop.put(do_world)"
   ]
  },
  {
   "cell_type": "code",
   "execution_count": null,
   "metadata": {},
   "outputs": [],
   "source": []
  }
 ],
 "metadata": {
  "kernelspec": {
   "display_name": "Python 3",
   "language": "python",
   "name": "python3"
  },
  "language_info": {
   "codemirror_mode": {
    "name": "ipython",
    "version": 3
   },
   "file_extension": ".py",
   "mimetype": "text/x-python",
   "name": "python",
   "nbconvert_exporter": "python",
   "pygments_lexer": "ipython3",
   "version": "3.6.4"
  }
 },
 "nbformat": 4,
 "nbformat_minor": 2
}
